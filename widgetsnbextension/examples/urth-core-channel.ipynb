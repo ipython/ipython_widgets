{
 "cells": [
  {
   "cell_type": "markdown",
   "metadata": {},
   "source": [
    "### urth-core-channel Examples"
   ]
  },
  {
   "cell_type": "markdown",
   "metadata": {},
   "source": [
    "### Install Dependencies"
   ]
  },
  {
   "cell_type": "code",
   "execution_count": null,
   "metadata": {
    "collapsed": false
   },
   "outputs": [],
   "source": [
    "%%html\n",
    "<link rel='import' href='urth_components/paper-slider/paper-slider.html'\n",
    "        is='urth-core-import' package='PolymerElements/paper-slider'>"
   ]
  },
  {
   "cell_type": "markdown",
   "metadata": {},
   "source": [
    "### Example 1: Default channel\n",
    "\n",
    "`urth-core-channel` provides a mechanism to store shared data. Property values can be stored with the `set` API and retrieved with the `get` API. If a channel name is not specified, a `default` channel is used"
   ]
  },
  {
   "cell_type": "code",
   "execution_count": null,
   "metadata": {
    "collapsed": false
   },
   "outputs": [],
   "source": [
    "%%html\n",
    "<urth-core-channel id='defaultChannel'></urth-core-channel>"
   ]
  },
  {
   "cell_type": "code",
   "execution_count": null,
   "metadata": {
    "collapsed": false
   },
   "outputs": [],
   "source": [
    "%%javascript\n",
    "var defaultChannel = document.getElementById('defaultChannel');\n",
    "defaultChannel.set('foo', 'bar');\n",
    "var val = defaultChannel.get('foo');\n",
    "element.append('value of foo is: ' + val);"
   ]
  },
  {
   "cell_type": "markdown",
   "metadata": {},
   "source": [
    "### Example 2: Multiple instances\n",
    "\n",
    "Multiple instances of the same channel name share data. Setting a property value on one instance is accessible from the other instance."
   ]
  },
  {
   "cell_type": "code",
   "execution_count": null,
   "metadata": {
    "collapsed": false
   },
   "outputs": [],
   "source": [
    "%%html\n",
    "<urth-core-channel id='aChannelOne' name='a'></urth-core-channel>\n",
    "<urth-core-channel id='aChannelTwo' name='a'></urth-core-channel>"
   ]
  },
  {
   "cell_type": "code",
   "execution_count": null,
   "metadata": {
    "collapsed": false
   },
   "outputs": [],
   "source": [
    "%%javascript\n",
    "var aChannelOne = document.getElementById('aChannelOne');\n",
    "var aChannelTwo = document.getElementById('aChannelTwo');\n",
    "\n",
    "aChannelOne.set('color', 'blue');\n",
    "var color = aChannelTwo.get('color');\n",
    "\n",
    "aChannelTwo.set('size', 'large');\n",
    "var size = aChannelOne.get('size');\n",
    "\n",
    "element.append('color of a is: ' + color + '<br>size of a is: ' + size);"
   ]
  },
  {
   "cell_type": "markdown",
   "metadata": {},
   "source": [
    "### Example 3: Multiple channels\n",
    "\n",
    "Uniquely named channels are independent. Setting the value for a property in one channel does not affect the value of the property in other channels."
   ]
  },
  {
   "cell_type": "code",
   "execution_count": null,
   "metadata": {
    "collapsed": false
   },
   "outputs": [],
   "source": [
    "%%html\n",
    "<urth-core-channel id='bChannel' name='b'></urth-core-channel>\n",
    "<urth-core-channel id='cChannel' name='c'></urth-core-channel>"
   ]
  },
  {
   "cell_type": "code",
   "execution_count": null,
   "metadata": {
    "collapsed": false
   },
   "outputs": [],
   "source": [
    "%%javascript\n",
    "var bChannel = document.getElementById('bChannel');\n",
    "var cChannel = document.getElementById('cChannel');\n",
    "\n",
    "bChannel.set('type', 'car');\n",
    "cChannel.set('type', 'van');\n",
    "var bType = bChannel.get('type');\n",
    "var cType = cChannel.get('type');\n",
    "\n",
    "element.append('type of b is: ' + bType + '<br>type of c is: ' + cType);"
   ]
  },
  {
   "cell_type": "markdown",
   "metadata": {},
   "source": [
    "### Example 4: Registering elements\n",
    "\n",
    "Elements can be registered with a data channel to be notified of property changes."
   ]
  },
  {
   "cell_type": "code",
   "execution_count": null,
   "metadata": {
    "collapsed": false
   },
   "outputs": [],
   "source": [
    "%%html\n",
    "<urth-core-channel id='dChannel' name='d'></urth-core-channel>\n",
    "<template is='dom-bind' id='theforce'>\n",
    "    <div><span>{{user}}</span>, may the force be with you</div>\n",
    "</template>\n",
    "\n",
    "<script>\n",
    "    var dChannel = document.getElementById('dChannel');\n",
    "    var theforce = document.getElementById('theforce');\n",
    "    dChannel.register(theforce);\n",
    "    dChannel.set('user', 'Luke');\n",
    "</script>"
   ]
  },
  {
   "cell_type": "markdown",
   "metadata": {},
   "source": [
    "### Example 5: Switch channel\n",
    "\n",
    "Changing the specified channel, changes the data associated with the element."
   ]
  },
  {
   "cell_type": "code",
   "execution_count": null,
   "metadata": {
    "collapsed": false
   },
   "outputs": [],
   "source": [
    "%%html\n",
    "<urth-core-channel id='eChannel' name='e'></urth-core-channel>\n",
    "<urth-core-channel id='fChannel' name='f'></urth-core-channel>"
   ]
  },
  {
   "cell_type": "code",
   "execution_count": null,
   "metadata": {
    "collapsed": false
   },
   "outputs": [],
   "source": [
    "%%javascript\n",
    "var eChannel = document.getElementById('eChannel');\n",
    "var fChannel = document.getElementById('fChannel');\n",
    "\n",
    "eChannel.set('planet', 'earth');\n",
    "fChannel.set('planet', 'saturn');\n",
    "element.append('<div>planet before switch: ' + eChannel.get('planet') + '</div>');\n",
    "\n",
    "eChannel.name = 'f';\n",
    "\n",
    "element.append('<div>planet after switch: ' + eChannel.get('planet') + '</div>');"
   ]
  },
  {
   "cell_type": "markdown",
   "metadata": {},
   "source": [
    "### Example 6: Initializing the channel\n",
    "\n",
    "Channel data can be initialized by nesting `urth-core-channel-item` elements inside of the `urth-core-channel`."
   ]
  },
  {
   "cell_type": "code",
   "execution_count": null,
   "metadata": {
    "collapsed": false
   },
   "outputs": [],
   "source": [
    "%%html\n",
    "<urth-core-channel id='itemChannel' name='initialized'>\n",
    "    <urth-core-channel-item key='myvar' value='awesome'></urth-core-channel-item>\n",
    "    <urth-core-channel-item key='isAwesome' value=true></urth-core-channel-item>\n",
    "    <urth-core-channel-item key='otherStuff' value='{ \"json\": true, \"foo\": \"bar\"}'></urth-core-channel-item>\n",
    "</urth-core-channel>\n",
    "<template is='urth-core-bind' channel='initialized'>\n",
    "    <div>myvar is <span>[[myvar]]</span></div>\n",
    "    <div>isAwesome is <span>[[isAwesome]]</span></div>\n",
    "    <div>otherStuff.json is <span>[[otherStuff.json]]</span></div>\n",
    "</template>"
   ]
  },
  {
   "cell_type": "markdown",
   "metadata": {},
   "source": [
    "### Example 7: Variable Watching API\n",
    "\n",
    "Using the following API, you can `watch` a bound variable for changes and register a handler function to run on the when a change occurs.\n",
    "\n",
    "The handler function should take two arguments, `old` and `new` representing the old value and the new value of the variable after a change occurs.\n",
    "\n",
    "In the following example, the `handler` will set the value of `{{msg}}` when the watched `x` variable changes. First, execute the following cells:"
   ]
  },
  {
   "cell_type": "code",
   "execution_count": null,
   "metadata": {
    "collapsed": false
   },
   "outputs": [],
   "source": [
    "%%html\n",
    "<urth-core-channel id='dChannel' name='d'></urth-core-channel>"
   ]
  },
  {
   "cell_type": "code",
   "execution_count": null,
   "metadata": {
    "collapsed": false
   },
   "outputs": [],
   "source": [
    "%%html\n",
    "<template is='urth-core-bind' channel='d'>\n",
    "    <span>{{x}}</span><paper-slider min=\"0\" max=\"100\" step=\"1\" value=\"{{x}}\"></paper-slider>\n",
    "    <div>{{msgFromJS}}</div>\n",
    "    <div>{{msgFromPy}}</div>\n",
    "</template>"
   ]
  },
  {
   "cell_type": "markdown",
   "metadata": {},
   "source": [
    "##### JavaScript API"
   ]
  },
  {
   "cell_type": "code",
   "execution_count": null,
   "metadata": {
    "collapsed": false
   },
   "outputs": [],
   "source": [
    "%%javascript\n",
    "var dChannel = document.getElementById('dChannel');\n",
    "var handler = function(name, oldVal, newVal) {\n",
    "    element.append('<div>Watched ' + name + ' change from ' + oldVal + ' to ' + newVal + '</div>');\n",
    "    dChannel.set('msgFromJS', 'JS Changed from ' + oldVal + ' to ' + newVal);\n",
    "};\n",
    "\n",
    "dChannel.watch('x', handler);"
   ]
  },
  {
   "cell_type": "markdown",
   "metadata": {},
   "source": [
    "##### Python API"
   ]
  },
  {
   "cell_type": "code",
   "execution_count": null,
   "metadata": {
    "collapsed": true
   },
   "outputs": [],
   "source": [
    "from urth.widgets.widget_channels import channel"
   ]
  },
  {
   "cell_type": "code",
   "execution_count": null,
   "metadata": {
    "collapsed": false
   },
   "outputs": [],
   "source": [
    "history = []\n",
    "\n",
    "def handler(old, new):\n",
    "    msg = \"Hello from the kernel! Old: {} New: {}\".format(old, new)\n",
    "    history.append(msg)\n",
    "    channel('d').set('msgFromPy', msg)"
   ]
  },
  {
   "cell_type": "code",
   "execution_count": null,
   "metadata": {
    "collapsed": true
   },
   "outputs": [],
   "source": [
    "channel('d').watch('x', handler)"
   ]
  },
  {
   "cell_type": "markdown",
   "metadata": {},
   "source": [
    "Now move the slider, which changes `x` and in turn triggers `handler`. You should see the `msg` set in `handler` printed next to the slider.\n",
    "\n",
    "`handler` also modifies the `history` variable:"
   ]
  },
  {
   "cell_type": "code",
   "execution_count": null,
   "metadata": {
    "collapsed": false
   },
   "outputs": [],
   "source": [
    "history"
   ]
  },
  {
   "cell_type": "markdown",
   "metadata": {
    "collapsed": true
   },
   "source": [
    "### Example 8: Saving, reloading and clearing state\n",
    "\n",
    "The data in a channel can be saved through the `save` API and a previously loaded state restored through the `reload` API. Data in the channel can be cleared with the `clear` API.\n",
    "\n",
    "Note that all channels on the page are automatically saved when the notebook is saved and saved channel data automatically restored on reload of the page."
   ]
  },
  {
   "cell_type": "code",
   "execution_count": null,
   "metadata": {
    "collapsed": false
   },
   "outputs": [],
   "source": [
    "%%html\n",
    "<urth-core-channel id='stateChannel' name='state'></urth-core-channel>\n",
    "<template is='urth-core-bind' channel='state'>\n",
    "    <paper-slider min='0' max='100' step='1' value='{{x}}'></paper-slider>\n",
    "    <div>The value of x is <span>[[x]]</span></div>\n",
    "</template>\n",
    "<button id='saveButton'>Save</button>\n",
    "<button id='reloadButton'>Reload</button>\n",
    "<button id='clearButton'>Clear</button>\n",
    "\n",
    "<script>\n",
    "    var stateChannel = document.getElementById('stateChannel');\n",
    "    var saveButton = document.getElementById('saveButton');\n",
    "    var reloadButton = document.getElementById('reloadButton');\n",
    "    var clearButton = document.getElementById('clearButton');\n",
    "\n",
    "    saveButton.onclick = function() {\n",
    "        stateChannel.save();\n",
    "    }\n",
    "    reloadButton.onclick = function() {\n",
    "        stateChannel.reload();\n",
    "    }\n",
    "    clearButton.onclick = function() {\n",
    "        stateChannel.clear();\n",
    "    }\n",
    "</script>"
   ]
  },
  {
   "cell_type": "markdown",
   "metadata": {},
   "source": [
    "### Example 9: Debugging the content of a channel\n",
    "\n",
    "The `urth-core-channel` element can also be used to debug a channel. Just set the `debug` flag."
   ]
  },
  {
   "cell_type": "code",
   "execution_count": null,
   "metadata": {
    "collapsed": false
   },
   "outputs": [],
   "source": [
    "%%html\n",
    "<urth-core-channel debug></urth-core-channel>\n",
    "<urth-core-channel name=\"a\" debug></urth-core-channel>\n",
    "<urth-core-channel name=\"b\" debug></urth-core-channel>\n",
    "<urth-core-channel name=\"c\" debug></urth-core-channel>"
   ]
  },
  {
   "cell_type": "markdown",
   "metadata": {},
   "source": [
    "Editing data gets reflected right away"
   ]
  },
  {
   "cell_type": "code",
   "execution_count": null,
   "metadata": {
    "collapsed": false
   },
   "outputs": [],
   "source": [
    "%%html\n",
    "<template is='urth-core-bind' channel='default'>\n",
    "    <input value=\"{{foo::input}}\"></input>\n",
    "</template>"
   ]
  },
  {
   "cell_type": "code",
   "execution_count": null,
   "metadata": {
    "collapsed": true
   },
   "outputs": [],
   "source": [
    "channel('a').set('aDict', dict(a=1, b=2, c='abc'))\n",
    "channel('a').set('aList', [\"a\",\"b\",\"c\"])"
   ]
  }
 ],
 "metadata": {
  "kernelspec": {
   "display_name": "Python 3",
   "language": "python",
   "name": "python3"
  },
  "language_info": {
   "codemirror_mode": {
    "name": "ipython",
    "version": 3
   },
   "file_extension": ".py",
   "mimetype": "text/x-python",
   "name": "python",
   "nbconvert_exporter": "python",
   "pygments_lexer": "ipython3",
   "version": "3.4.4"
  }
 },
 "nbformat": 4,
 "nbformat_minor": 0
}
