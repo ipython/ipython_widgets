{
 "cells": [
  {
   "cell_type": "markdown",
   "metadata": {},
   "source": [
    "### urth-core-function Examples"
   ]
  },
  {
   "cell_type": "markdown",
   "metadata": {},
   "source": [
    "#### Import dependencies"
   ]
  },
  {
   "cell_type": "code",
   "execution_count": null,
   "metadata": {
    "collapsed": false
   },
   "outputs": [],
   "source": [
    "%%html\n",
    "<link rel='import' href='urth_components/paper-slider/paper-slider.html'\n",
    "        is='urth-core-import' package='PolymerElements/paper-slider'>\n",
    "<link rel='import' href='urth_components/paper-toggle-button/paper-toggle-button.html'\n",
    "        is='urth-core-import' package='PolymerElements/paper-toggle-button'>\n",
    "<link rel=\"import\" href=\"urth_components/paper-menu/paper-menu.html\" \n",
    "        is='urth-core-import' package='PolymerElements/paper-menu'>\n",
    "<link rel=\"import\" href=\"urth_components/paper-item/paper-item.html\" \n",
    "        is='urth-core-import' package='PolymerElements/paper-item'>"
   ]
  },
  {
   "cell_type": "code",
   "execution_count": null,
   "metadata": {
    "collapsed": false
   },
   "outputs": [],
   "source": [
    "%matplotlib inline\n",
    "from __future__ import print_function # For py 2.7 compat\n",
    "\n",
    "from ipywidgets import widgets # Widget definitions\n",
    "from IPython.display import display # Used to display widgets in the notebook\n",
    "\n",
    "import matplotlib.pyplot as plt\n",
    "import numpy as np\n",
    "import base64\n",
    "from io import BytesIO\n",
    "from IPython.core.display import display_png\n",
    "import pandas as pd"
   ]
  },
  {
   "cell_type": "markdown",
   "metadata": {},
   "source": [
    "### Example 1a: Single parameter function"
   ]
  },
  {
   "cell_type": "markdown",
   "metadata": {},
   "source": [
    "Note that since all of the function's arguments are set and `auto` is set, the function will automatically invoke after the ```<urth-core-function>``` element is created, using the value held by the ```<paper-slider>```."
   ]
  },
  {
   "cell_type": "code",
   "execution_count": null,
   "metadata": {
    "collapsed": true
   },
   "outputs": [],
   "source": [
    "w = widgets.FloatSlider(value=0,min=0,max=200,step=1)\n",
    "display(w)"
   ]
  },
  {
   "cell_type": "code",
   "execution_count": null,
   "metadata": {
    "collapsed": false
   },
   "outputs": [],
   "source": [
    "def aFunction(x=50):\n",
    "    print(\"Hello World\")\n",
    "    w.value = x"
   ]
  },
  {
   "cell_type": "code",
   "execution_count": null,
   "metadata": {
    "collapsed": false
   },
   "outputs": [],
   "source": [
    "%%html\n",
    "<template is=\"dom-bind\">\n",
    "    <urth-core-function id=\"f1a\" ref=\"aFunction\" arg-x=\"{{x}}\" auto></urth-core-function>\n",
    "    \n",
    "    <form onSubmit=\"return false;\">\n",
    "        <label>x:</label>\n",
    "        <input type=\"text\" value=\"{{x::change}}\"></input>\n",
    "    </form>\n",
    "    <paper-slider min=\"10\" max=\"100\" step=\"1\" value=\"{{x}}\"></paper-slider><span>{{x}}</span>\n",
    "</template>"
   ]
  },
  {
   "cell_type": "markdown",
   "metadata": {},
   "source": [
    "### Example 1b: Multi parameter function"
   ]
  },
  {
   "cell_type": "code",
   "execution_count": null,
   "metadata": {
    "collapsed": false
   },
   "outputs": [],
   "source": [
    "w1 = widgets.FloatSlider(value=0, min=0, max=10, step=0.1)\n",
    "w2 = widgets.FloatSlider(value=0, min=0, max=10, step=0.1)\n",
    "\n",
    "display(w1)\n",
    "display(w2)"
   ]
  },
  {
   "cell_type": "code",
   "execution_count": null,
   "metadata": {
    "collapsed": false
   },
   "outputs": [],
   "source": [
    "def aFunctionWithTwoArgs(x, y):\n",
    "    print (\"x: {}\".format(x))\n",
    "    w1.value = x\n",
    "    print (\"y: {}\".format(y))\n",
    "    w2.value = y"
   ]
  },
  {
   "cell_type": "code",
   "execution_count": null,
   "metadata": {
    "collapsed": false
   },
   "outputs": [],
   "source": [
    "%%html\n",
    "<urth-core-function id=\"f1b\" ref=\"aFunctionWithTwoArgs\" arg-x=\"0.5\" arg-y=\"4\"></urth-core-function>\n",
    "<button onClick=\"f1b.invoke()\">invoke</button>"
   ]
  },
  {
   "cell_type": "markdown",
   "metadata": {},
   "source": [
    "### Example 1c: Function with optional argument"
   ]
  },
  {
   "cell_type": "code",
   "execution_count": null,
   "metadata": {
    "collapsed": false
   },
   "outputs": [],
   "source": [
    "w3 = widgets.FloatSlider(value=0, min=0, max=10, step=0.1)\n",
    "w4 = widgets.FloatSlider(value=0, min=0, max=10, step=0.1)\n",
    "\n",
    "display(w3)\n",
    "display(w4)"
   ]
  },
  {
   "cell_type": "code",
   "execution_count": null,
   "metadata": {
    "collapsed": false
   },
   "outputs": [],
   "source": [
    "def aFunctionWithOptionalArgs(x, y=4):\n",
    "    print (\"x: {}\".format(x))\n",
    "    w3.value = x\n",
    "    print (\"y: {}\".format(y))\n",
    "    w4.value = y"
   ]
  },
  {
   "cell_type": "code",
   "execution_count": null,
   "metadata": {
    "collapsed": false
   },
   "outputs": [],
   "source": [
    "%%html\n",
    "<urth-core-function id=\"f1c\" ref=\"aFunctionWithOptionalArgs\" arg-x=\"0.5\"></urth-core-function>\n",
    "<button onClick=\"f1c.invoke()\">invoke</button>"
   ]
  },
  {
   "cell_type": "markdown",
   "metadata": {},
   "source": [
    "### Example 1d Function with boolean parameter"
   ]
  },
  {
   "cell_type": "code",
   "execution_count": null,
   "metadata": {
    "collapsed": true
   },
   "outputs": [],
   "source": [
    "def aFunctionWithBoolean(b=True):\n",
    "    return 'Hello' if b else 'Goodbye'"
   ]
  },
  {
   "cell_type": "code",
   "execution_count": null,
   "metadata": {
    "collapsed": false
   },
   "outputs": [],
   "source": [
    "%%html\n",
    "<template is=\"dom-bind\">\n",
    "    <urth-core-function id=\"f1d\" ref=\"aFunctionWithBoolean\" arg-b=\"{{checked}}\" result=\"{{res}}\" auto></urth-core-function>\n",
    "    <paper-toggle-button checked=\"{{checked}}\"></paper-toggle-button>\n",
    "    <span>{{res}}</span> World\n",
    "</template>"
   ]
  },
  {
   "cell_type": "markdown",
   "metadata": {},
   "source": [
    "### Example 1e Function with List parameter\n",
    "This function will be invoked when the elements of the lists are changed. Change the elements in the list by selecting from the list below."
   ]
  },
  {
   "cell_type": "code",
   "execution_count": null,
   "metadata": {
    "collapsed": true
   },
   "outputs": [],
   "source": [
    "def aFunctionWithList(items:list):\n",
    "    return items"
   ]
  },
  {
   "cell_type": "code",
   "execution_count": null,
   "metadata": {
    "collapsed": false
   },
   "outputs": [],
   "source": [
    "%%html\n",
    "<template is=\"dom-bind\">\n",
    "    <urth-core-function ref=\"aFunctionWithList\" arg-items=\"[[selections]]\" result=\"{{theResult}}\" auto></urth-core-function>\n",
    "    <paper-menu attr-for-selected=\"label\" multi selected-values=\"{{selections}}\">\n",
    "        <paper-item label=\"1\">Item 1</paper-item>\n",
    "        <paper-item label=\"2\">Item 2</paper-item>\n",
    "        <paper-item label=\"3\">Item 3</paper-item>\n",
    "    </paper-menu>\n",
    "    The function got a list with <span>{{theResult}}</span><br/>\n",
    "</template>"
   ]
  },
  {
   "cell_type": "markdown",
   "metadata": {},
   "source": [
    "### Example 2a: Explicitly invoking a function\n",
    "Changing the values in the input boxes with not invoke the function. Must click `invoke` button to call the function. The button calls the `invoke` function of `urth-core-function`. Notice also that the button will not work unless the function is ready to invoke. This is `true` when the signature of the function is known and all required parameters are set."
   ]
  },
  {
   "cell_type": "code",
   "execution_count": null,
   "metadata": {
    "collapsed": true
   },
   "outputs": [],
   "source": [
    "w5 = widgets.FloatSlider(value=0, min=0, max=10, step=0.1)\n",
    "w6 = widgets.FloatSlider(value=0, min=0, max=10, step=0.1)\n",
    "\n",
    "display(w5)\n",
    "display(w6)"
   ]
  },
  {
   "cell_type": "code",
   "execution_count": null,
   "metadata": {
    "collapsed": false
   },
   "outputs": [],
   "source": [
    "def aFunctionWithOptionalArgs2(x, y=4):\n",
    "    print (\"x: {}\".format(x))\n",
    "    w5.value = x\n",
    "    print (\"y: {}\".format(y))\n",
    "    w6.value = y"
   ]
  },
  {
   "cell_type": "code",
   "execution_count": null,
   "metadata": {
    "collapsed": false
   },
   "outputs": [],
   "source": [
    "%%html\n",
    "<template is=\"dom-bind\">\n",
    "    <urth-core-function id=\"f2a\" ref=\"aFunctionWithOptionalArgs2\" is-ready=\"{{isready}}\" args=\"{{args}}\"></urth-core-function>\n",
    "    x: <input type=\"text\" value=\"{{args.x::change}}\"></input>\n",
    "    y: <input type=\"text\" value=\"{{args.y::change}}\"></input>\n",
    "    <button disabled={{!isready}} onClick=\"f2a.invoke()\">invoke</button>\n",
    "    Ready: <span>{{isready}}</span>\n",
    "</template>"
   ]
  },
  {
   "cell_type": "markdown",
   "metadata": {},
   "source": [
    "### Example 2b: Automatically invoking function\n",
    "Changing the values on the input boxes and pressing enter or focusing out, will invoke the function automatically. This is enabled by the `auto` property. Once the `urth-core-function` detects that all the parameters are properly set, it will invoke itself. Changes to any of the parameters will also cause an invocation."
   ]
  },
  {
   "cell_type": "code",
   "execution_count": null,
   "metadata": {
    "collapsed": false
   },
   "outputs": [],
   "source": [
    "%%html\n",
    "<template is=\"dom-bind\">\n",
    "    <urth-core-function id=\"f2b\" ref=\"aFunctionWithOptionalArgs2\" args=\"{{args}}\" auto></urth-core-function>\n",
    "    x: <input type=\"text\" value=\"{{args.x::change}}\"></input>\n",
    "    y: <input type=\"text\" value=\"{{args.y::change}}\"></input>\n",
    "</template>"
   ]
  },
  {
   "cell_type": "markdown",
   "metadata": {},
   "source": [
    "### Example 2c: Handling onclick events of children\n",
    "If an element that fires an `onclick` event is places inside the `urth-core-function` element, it will trigger an invocation."
   ]
  },
  {
   "cell_type": "markdown",
   "metadata": {},
   "source": [
    "<div class=\"alert alert-info\" role=\"alert\" style=\"margin-top: 10px\">\n",
    "<p><strong>Note:</strong> When using this approach, a click on any child will trigger an invocation.</p>\n",
    "</div>"
   ]
  },
  {
   "cell_type": "code",
   "execution_count": null,
   "metadata": {
    "collapsed": false
   },
   "outputs": [],
   "source": [
    "%%html\n",
    "<template is=\"dom-bind\">\n",
    "    x: <input type=\"text\" value=\"{{args.x::change}}\"></input>\n",
    "    y: <input type=\"text\" value=\"{{args.y::change}}\"></input>\n",
    "    <urth-core-function id=\"f2c\" ref=\"aFunctionWithOptionalArgs2\" args=\"{{args}}\">\n",
    "        <button>invoke</button>\n",
    "    </urth-core-function>\n",
    "</template>"
   ]
  },
  {
   "cell_type": "markdown",
   "metadata": {},
   "source": [
    "### Example 3a: Using a function's return value"
   ]
  },
  {
   "cell_type": "code",
   "execution_count": null,
   "metadata": {
    "collapsed": false
   },
   "outputs": [],
   "source": [
    "def aMathFunction(x=0):\n",
    "    return \"hello: \" + str(x*200)"
   ]
  },
  {
   "cell_type": "code",
   "execution_count": null,
   "metadata": {
    "collapsed": false
   },
   "outputs": [],
   "source": [
    "%%html\n",
    "<template is=\"dom-bind\">\n",
    "    <urth-core-function id=\"f3a\" ref=\"aMathFunction\" arg-x=\"{{x}}\" result=\"{{y}}\" auto></urth-core-function>\n",
    "    <paper-slider min=\"0\" max=\"100\" step=\"1\" value=\"{{x}}\"></paper-slider>\n",
    "    <span>{{y}}</span>\n",
    "</template>"
   ]
  },
  {
   "cell_type": "markdown",
   "metadata": {
    "collapsed": true
   },
   "source": [
    "### Example 3b: Function returning a Plot\n",
    "\n",
    "The `matplotlib.pyplot.Figure` object returned by the plot function will get automatically serialized into a base64 image string.\n",
    "\n",
    "Note the call to `plt.close()`, which prevents an extra plot from being displayed each time the function is invoked."
   ]
  },
  {
   "cell_type": "markdown",
   "metadata": {},
   "source": [
    "<div class=\"alert alert-info\" role=\"alert\" style=\"margin-top: 10px\">\n",
    "<p><strong>Note:</strong> This example requires Python 3+.</p>\n",
    "</div>"
   ]
  },
  {
   "cell_type": "code",
   "execution_count": null,
   "metadata": {
    "collapsed": false
   },
   "outputs": [],
   "source": [
    "def aPlotFunction(noise=2.5):  \n",
    "    fig = plt.figure()\n",
    "    plt.scatter(\n",
    "        np.arange(0, 10, 0.1), \n",
    "        [y + np.random.normal(scale=1e-10+float(noise)) for y in np.arange(0, 10, 0.1)]\n",
    "    )\n",
    "    plt.close()\n",
    "    return fig"
   ]
  },
  {
   "cell_type": "code",
   "execution_count": null,
   "metadata": {
    "collapsed": false
   },
   "outputs": [],
   "source": [
    "%%html\n",
    "<template is=\"dom-bind\">\n",
    "    <urth-core-function id=\"f3b\" ref=\"aPlotFunction\" arg-noise=\"{{noise}}\" result=\"{{plot}}\" auto></urth-core-function>\n",
    "    \n",
    "    noise<paper-slider min=\"0\" max=\"5\" step=\"0.5\" value=\"{{noise}}\"></paper-slider>\n",
    "    \n",
    "    <img src={{plot}}>\n",
    "</template>"
   ]
  },
  {
   "cell_type": "markdown",
   "metadata": {},
   "source": [
    "### Example 3c: Function returning a pandas Series"
   ]
  },
  {
   "cell_type": "code",
   "execution_count": null,
   "metadata": {
    "collapsed": false
   },
   "outputs": [],
   "source": [
    "import pandas as pd\n",
    "import numpy as np\n",
    "import string\n",
    "\n",
    "def aPandasSeriesFunction(n):\n",
    "    data = np.random.randn(n)\n",
    "    index = [c for c in string.ascii_lowercase[:n]]\n",
    "    return pd.Series(data=data, index=index)\n",
    "\n",
    "aPandasSeriesFunction(3)"
   ]
  },
  {
   "cell_type": "code",
   "execution_count": null,
   "metadata": {
    "collapsed": false
   },
   "outputs": [],
   "source": [
    "%%html\n",
    "<template is=\"dom-bind\">\n",
    "    <urth-core-function id=\"f3c\" ref=\"aPandasSeriesFunction\" arg-n=\"{{n}}\" result=\"{{s}}\"></urth-core-function>\n",
    "    \n",
    "    n<paper-slider min=\"1\" max=\"3\" step=\"1\" value=\"{{n}}\"></paper-slider>\n",
    "    <button onClick=\"f3c.invoke()\">invoke</button>\n",
    "    \n",
    "    <p>a: <span>{{s.a}}</span></p>\n",
    "    <p>b: <span>{{s.b}}</span></p>\n",
    "    <p>c: <span>{{s.c}}</span></p>\n",
    "</template>"
   ]
  },
  {
   "cell_type": "markdown",
   "metadata": {},
   "source": [
    "### Example 3d: Function returning a pandas DataFrame"
   ]
  },
  {
   "cell_type": "code",
   "execution_count": null,
   "metadata": {
    "collapsed": false
   },
   "outputs": [],
   "source": [
    "import pandas as pd\n",
    "import numpy as np\n",
    "\n",
    "def aDataFrameFunction(rows, cols):  \n",
    "    data = [np.arange(0, int(cols), 1) for x in range(int(rows))]\n",
    "    return pd.DataFrame(data)"
   ]
  },
  {
   "cell_type": "code",
   "execution_count": null,
   "metadata": {
    "collapsed": false
   },
   "outputs": [],
   "source": [
    "%%html\n",
    "<template is=\"dom-bind\">\n",
    "    <urth-core-function id=\"f3d\" ref=\"aDataFrameFunction\" arg-rows=\"{{rows}}\" arg-cols=\"{{cols}}\" result=\"{{df}}\"></urth-core-function>\n",
    "    \n",
    "    rows<paper-slider min=\"1\" max=\"10\" step=\"1\" value=\"{{rows}}\"></paper-slider>\n",
    "    cols<paper-slider min=\"1\" max=\"10\" step=\"1\" value=\"{{cols}}\"></paper-slider>\n",
    "    <button onClick=\"f3d.invoke()\">invoke</button>\n",
    "    \n",
    "    <p>columns: <span>{{df.columns}}</span></p>\n",
    "    <p>index: <span>{{df.index}}</span></p>\n",
    "    <p>data: <span>{{df.data}}</span></p>\n",
    "</template>"
   ]
  },
  {
   "cell_type": "markdown",
   "metadata": {},
   "source": [
    "### Example 3e: Function returning a Spark Dataframe"
   ]
  },
  {
   "cell_type": "code",
   "execution_count": null,
   "metadata": {
    "collapsed": false
   },
   "outputs": [],
   "source": [
    "import pyspark\n",
    "sc = pyspark.SparkContext('local[*]')\n",
    "sqlContext = pyspark.SQLContext(sc)"
   ]
  },
  {
   "cell_type": "code",
   "execution_count": null,
   "metadata": {
    "collapsed": false
   },
   "outputs": [],
   "source": [
    "def aSparkDataFrameFunction(rows, cols):  \n",
    "    data = [np.arange(0, int(cols), 1) for x in range(int(rows))]\n",
    "    df = pd.DataFrame(data)\n",
    "    return sqlContext.createDataFrame(df)"
   ]
  },
  {
   "cell_type": "code",
   "execution_count": null,
   "metadata": {
    "collapsed": false
   },
   "outputs": [],
   "source": [
    "%%html\n",
    "<template is=\"dom-bind\">\n",
    "    <urth-core-function id=\"f3e\" ref=\"aSparkDataFrameFunction\" limit=\"3\" arg-rows=\"{{rows}}\" arg-cols=\"{{cols}}\" result=\"{{df}}\"></urth-core-function>\n",
    "    \n",
    "    rows<paper-slider min=\"1\" max=\"10\" step=\"1\" value=\"{{rows}}\"></paper-slider>\n",
    "    cols<paper-slider min=\"1\" max=\"10\" step=\"1\" value=\"{{cols}}\"></paper-slider>\n",
    "    <button onClick=\"f3e.invoke()\">invoke</button>\n",
    "    \n",
    "    <p>columns: <span>{{df.columns}}</span></p>\n",
    "    <p>index: <span>{{df.index}}</span></p>\n",
    "    <p>data: <span>{{df.data}}</span></p>\n",
    "</template>"
   ]
  },
  {
   "cell_type": "markdown",
   "metadata": {},
   "source": [
    "### Example 3f: Function returning a custom class. Defining a custom serializer\n",
    "\n",
    "In this example, we have a function that returns a custom type `Foo`. We would like to serialize the `Foo` that's returned so that the value is useful for other widgets."
   ]
  },
  {
   "cell_type": "code",
   "execution_count": null,
   "metadata": {
    "collapsed": false
   },
   "outputs": [],
   "source": [
    "class Foo:\n",
    "    def foo(self):\n",
    "        return \"This is a Foo.\""
   ]
  },
  {
   "cell_type": "markdown",
   "metadata": {},
   "source": [
    "Now define the custom serializer for Foo by implementing the BaseSerializer methods.\n",
    "\n",
    "For our `serialize` method, we'll call `foo()`:"
   ]
  },
  {
   "cell_type": "code",
   "execution_count": null,
   "metadata": {
    "collapsed": false
   },
   "outputs": [],
   "source": [
    "import urth.util.serializers"
   ]
  },
  {
   "cell_type": "code",
   "execution_count": null,
   "metadata": {
    "collapsed": true
   },
   "outputs": [],
   "source": [
    "class FooSerializer(urth.util.serializers.BaseSerializer):\n",
    "    @staticmethod\n",
    "    def klass():\n",
    "        return Foo\n",
    "\n",
    "    @staticmethod\n",
    "    def serialize(obj, **kwargs):\n",
    "        return obj.foo()\n",
    "\n",
    "    @staticmethod\n",
    "    def check_packages():\n",
    "        return True"
   ]
  },
  {
   "cell_type": "code",
   "execution_count": null,
   "metadata": {
    "collapsed": false
   },
   "outputs": [],
   "source": [
    "def aFooFunction():\n",
    "    f = Foo()\n",
    "    return f"
   ]
  },
  {
   "cell_type": "markdown",
   "metadata": {},
   "source": [
    "Now when we invoke, the function will return the `Foo` instance, and we'll see the serialized return value:"
   ]
  },
  {
   "cell_type": "code",
   "execution_count": null,
   "metadata": {
    "collapsed": false
   },
   "outputs": [],
   "source": [
    "%%html\n",
    "<template is=\"dom-bind\">\n",
    "    <urth-core-function id=\"f3f\" ref=\"aFooFunction\" result=\"{{r}}\"></urth-core-function>\n",
    "    <button onClick=\"f3f.invoke()\">invoke</button>    \n",
    "    <span>{{r}}</span>\n",
    "</template>"
   ]
  },
  {
   "cell_type": "markdown",
   "metadata": {},
   "source": [
    "### Example 3g: Function returning an object consisting of non-serializeable types\n",
    "\n",
    "If you invoke a function that returns a Python object, then the object must be JSON serializable, which means that the object and it attributes or items must be reduced to basic Python types such as list, dict, int, float, str, etc.  The function below returns a dict whose item values are _not_ JSON serializable."
   ]
  },
  {
   "cell_type": "code",
   "execution_count": null,
   "metadata": {
    "collapsed": false
   },
   "outputs": [],
   "source": [
    "import pandas as pd\n",
    "from pandas.tslib import NaT\n",
    "import numpy as np\n",
    "from datetime import datetime, date\n",
    "\n",
    "def nonSerializeableTypes():\n",
    "    return dict(\n",
    "        nat=NaT,\n",
    "        ndarray=np.linspace(0, 1, 5),\n",
    "        npscalar=np.int64(1),\n",
    "        date=date(2015,12,8),\n",
    "        datetime=datetime.now()\n",
    "    )"
   ]
  },
  {
   "cell_type": "code",
   "execution_count": null,
   "metadata": {
    "collapsed": false
   },
   "outputs": [],
   "source": [
    "ns_types = nonSerializeableTypes()\n",
    "ns_types"
   ]
  },
  {
   "cell_type": "code",
   "execution_count": null,
   "metadata": {
    "collapsed": false
   },
   "outputs": [],
   "source": [
    "[type(v) for k,v in ns_types.items()]"
   ]
  },
  {
   "cell_type": "markdown",
   "metadata": {},
   "source": [
    "Attempting to invoke this function from a widget will result in a serialization error."
   ]
  },
  {
   "cell_type": "code",
   "execution_count": null,
   "metadata": {
    "collapsed": false
   },
   "outputs": [],
   "source": [
    "%%html\n",
    "<template is=\"dom-bind\">\n",
    "    <urth-core-function id=\"f3g\" ref=\"nonSerializeableTypes\" result=\"{{d}}\"></urth-core-function>\n",
    "    <button onClick=\"f3g.invoke()\">invoke</button>    \n",
    "    <span>{{d}}</span>\n",
    "</template>"
   ]
  },
  {
   "cell_type": "markdown",
   "metadata": {},
   "source": [
    "To pass this object to and from widgets, you must convert the non-serializable object types to basic Python types.  The method of conversion will depend on the object.  For example, you can convert python `date` and `datetime` objects to their string representations using the built-in `str` function, or the `datetime.strftime` function if you want to pass dates in a specific format.  Numpy provides functions to convert numpy `ndarray` and scalar objects to Python types.\n",
    "\n",
    "The `make_serializable` function below handles conversion of all of the above non-serializable object types to python objects."
   ]
  },
  {
   "cell_type": "code",
   "execution_count": null,
   "metadata": {
    "collapsed": false
   },
   "outputs": [],
   "source": [
    "def make_serializable(obj):\n",
    "    if isinstance(obj, dict):\n",
    "        return {k:make_serializable(v) for k,v in obj.items()}\n",
    "    elif isinstance(obj, np.ndarray):\n",
    "        return obj.tolist()\n",
    "    elif isinstance(obj, np.generic):\n",
    "        return np.asscalar(obj)\n",
    "    elif isinstance(obj, date) or isinstance(obj, datetime):\n",
    "        return str(obj)\n",
    "    return obj\n",
    "\n",
    "def serializableTypes():\n",
    "    return make_serializable(nonSerializeableTypes())"
   ]
  },
  {
   "cell_type": "code",
   "execution_count": null,
   "metadata": {
    "collapsed": false
   },
   "outputs": [],
   "source": [
    "s_types = serializableTypes()\n",
    "s_types"
   ]
  },
  {
   "cell_type": "code",
   "execution_count": null,
   "metadata": {
    "collapsed": false
   },
   "outputs": [],
   "source": [
    "[type(v) for k,v in s_types.items()]"
   ]
  },
  {
   "cell_type": "markdown",
   "metadata": {},
   "source": [
    "Now you can invoke the `serializableTypes` function from a widget."
   ]
  },
  {
   "cell_type": "code",
   "execution_count": null,
   "metadata": {
    "collapsed": false
   },
   "outputs": [],
   "source": [
    "%%html\n",
    "<template is=\"dom-bind\">\n",
    "    <urth-core-function id=\"f3gs\" ref=\"serializableTypes\" result=\"{{d}}\"></urth-core-function>\n",
    "    <button onClick=\"f3gs.invoke()\">invoke</button>    \n",
    "    <p>date: <span>{{d.date}}</span></p>\n",
    "    <p>datetime: <span>{{d.datetime}}</span></p>\n",
    "    <p>nat: <span>{{d.nat}}</span></p>\n",
    "    <p>ndarray: <span>{{d.ndarray}}</span></p>\n",
    "    <p>npscalar: <span>{{d.npscalar}}</span></p>\n",
    "</template>"
   ]
  },
  {
   "cell_type": "markdown",
   "metadata": {
    "collapsed": true
   },
   "source": [
    "### Example 4: Automatically converting arguments to correct types\n",
    "\n",
    "The frontend sends argument values as strings. The backend will convert the\n",
    "arguments to their proper types if possible. Argument types can be indicated by:\n",
    "1. Providing a **default argument**. The argument type will then be the type of the default argument. \n",
    "2. Providing an **annotation** that evaluates to the argument type"
   ]
  },
  {
   "cell_type": "markdown",
   "metadata": {},
   "source": [
    "#### Example 4a: Default Argument\n",
    "\n",
    "`iters` will be considered an `int` and `x` will be considered a `float` based on the default arguments. Since there is no default or annotation for `msg`, it will not be converted."
   ]
  },
  {
   "cell_type": "code",
   "execution_count": null,
   "metadata": {
    "collapsed": true
   },
   "outputs": [],
   "source": [
    "def aMathFunction2(msg, iters=5, x=0.50):\n",
    "    total = 0.0\n",
    "    for i in range(iters):\n",
    "        total = total + (x * 3.14159) #no longer need to convert x\n",
    "    return \"{}: {}\".format(msg, total)"
   ]
  },
  {
   "cell_type": "code",
   "execution_count": null,
   "metadata": {
    "collapsed": false
   },
   "outputs": [],
   "source": [
    "%%html\n",
    "<template is=\"dom-bind\">\n",
    "    <urth-core-function id=\"f4a\" ref=\"aMathFunction2\" arg-msg=\"the output is\" arg-iters=\"{{iters}}\" arg-x=\"{{x}}\" result=\"{{y}}\" auto></urth-core-function>\n",
    "    iters: <paper-slider min=\"0\" max=\"10\" step=\"1\" value=\"{{iters}}\"></paper-slider>\n",
    "    x: <paper-slider min=\"0\" max=\"10\" step=\"0.1\" value=\"{{x}}\"></paper-slider>\n",
    "    <p>{{y}}</p>\n",
    "</template>"
   ]
  },
  {
   "cell_type": "markdown",
   "metadata": {},
   "source": [
    "#### Example 4b: Annotation\n",
    "\n",
    "`iters` will be considered an int and `x` will be considered a `float` based on annotations"
   ]
  },
  {
   "cell_type": "markdown",
   "metadata": {},
   "source": [
    "<div class=\"alert alert-info\" role=\"alert\" style=\"margin-top: 10px\">\n",
    "<p><strong>Note:</strong> This example requires Python 3+.</p>\n",
    "</div>"
   ]
  },
  {
   "cell_type": "code",
   "execution_count": null,
   "metadata": {
    "collapsed": true
   },
   "outputs": [],
   "source": [
    "def aMathFunction3(iters: int, x: float):\n",
    "    total = 0.0\n",
    "    for i in range(iters):\n",
    "        total = total + (x * 3.14159)\n",
    "    return total"
   ]
  },
  {
   "cell_type": "code",
   "execution_count": null,
   "metadata": {
    "collapsed": false
   },
   "outputs": [],
   "source": [
    "%%html\n",
    "<template is=\"dom-bind\">\n",
    "    <urth-core-function id=\"f4b\" ref=\"aMathFunction3\" arg-iters=\"{{iters}}\" arg-x=\"{{x}}\" result=\"{{y}}\" auto></urth-core-function>\n",
    "    iters: <paper-slider min=\"0\" max=\"10\" step=\"1\" value=\"{{iters}}\"></paper-slider>\n",
    "    x: <paper-slider min=\"0\" max=\"10\" step=\"0.1\" value=\"{{x}}\"></paper-slider>\n",
    "    <p>{{y}}</p>\n",
    "</template>"
   ]
  },
  {
   "cell_type": "markdown",
   "metadata": {
    "collapsed": true
   },
   "source": [
    "### Example 5: Debounce function invocation\n",
    "When using auto, there may be the need to debounce the invocation of a function. This can facilitate waiting for users to complete input or protect against multiple accidental/malicious invocations in a short time frame. \n",
    "\n",
    "The example below has a function which will return the number of times it is invoked. The `urth-core-function` element has a debounce time of `2000` milliseconds which will prevent multiple invocations when rapidly pressing the _Invoke Function_ button."
   ]
  },
  {
   "cell_type": "code",
   "execution_count": null,
   "metadata": {
    "collapsed": false
   },
   "outputs": [],
   "source": [
    "def aDebouncedFunction1():\n",
    "    aDebouncedFunction1.counter += 1\n",
    "    return aDebouncedFunction1.counter\n",
    "\n",
    "aDebouncedFunction1.counter = 0"
   ]
  },
  {
   "cell_type": "code",
   "execution_count": null,
   "metadata": {
    "collapsed": false
   },
   "outputs": [],
   "source": [
    "%%html\n",
    "<template is=\"dom-bind\">\n",
    "    <urth-core-function id=\"f5\" ref=\"aDebouncedFunction1\" delay='2000' result=\"{{invocations}}\" auto></urth-core-function>\n",
    "    <button onclick='f5.invoke()'>Invoke Function</button>\n",
    "    <p>Invocations: <span>{{invocations}}</span></p>\n",
    "</template>"
   ]
  },
  {
   "cell_type": "code",
   "execution_count": null,
   "metadata": {
    "collapsed": true
   },
   "outputs": [],
   "source": []
  }
 ],
 "metadata": {
  "cell_tags": [
   [
    "<None>",
    null
   ]
  ],
  "kernelspec": {
   "display_name": "Python 3",
   "language": "python",
   "name": "python3"
  },
  "language_info": {
   "codemirror_mode": {
    "name": "ipython",
    "version": 3
   },
   "file_extension": ".py",
   "mimetype": "text/x-python",
   "name": "python",
   "nbconvert_exporter": "python",
   "pygments_lexer": "ipython3",
   "version": "3.5.1"
  }
 },
 "nbformat": 4,
 "nbformat_minor": 0
}
