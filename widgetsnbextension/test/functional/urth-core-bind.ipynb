{
 "cells": [
  {
   "cell_type": "markdown",
   "metadata": {},
   "source": [
    "### This test is used to verify that the `urth-core-bind` template waits for the dependency to load.\n",
    "\n",
    "This is a known scenario that fails if `urth-core-bind` does not wait for dependencies to load with shadow dom enabled (Chrome). Entering text into the `paper-input` should be duplicated in the `span`. If `urth-core-bind` does not wait for dependencies the `span` won't be updated."
   ]
  },
  {
   "cell_type": "code",
   "execution_count": null,
   "metadata": {
    "collapsed": false
   },
   "outputs": [],
   "source": [
    "%%HTML\n",
    "<link rel='import' href='urth_components/paper-input/paper-input.html' \n",
    "        is='urth-core-import' package='PolymerElements/paper-input'>\n",
    "<template id='bindtemplate' is='urth-core-bind'>    \n",
    "    <span id='titleSpan'>[[title]]</span>\n",
    "    <paper-input id='titleInput' label='Title' value='{{title}}'></paper-input>\n",
    "</template>"
   ]
  },
  {
   "cell_type": "markdown",
   "metadata": {},
   "source": [
    "### Validate that changes made to array items properly flow between cells\n",
    "\n",
    "When input is updated in the second cell, the first cell content should update."
   ]
  },
  {
   "cell_type": "code",
   "execution_count": null,
   "metadata": {
    "collapsed": false
   },
   "outputs": [],
   "source": [
    "%%html\n",
    "<!-- Prepopulate the channel with data -->\n",
    "<urth-core-channel name='arraybind'>\n",
    "    <urth-core-channel-item key='people' value='[{\"name\": \"luke\"}]'></urth-core-channel-item>\n",
    "</urth-core-channel>\n",
    "\n",
    "<template id='tb' is='urth-core-bind' channel='arraybind'>\n",
    "  First template\n",
    "  <template id='t1' is='dom-repeat' items='{{people}}'>\n",
    "    <div>\n",
    "      <input id='t1Person' value='{{item.name::input}}'></input>\n",
    "    </div>\n",
    "  </template>\n",
    "</template>"
   ]
  },
  {
   "cell_type": "code",
   "execution_count": null,
   "metadata": {
    "collapsed": false
   },
   "outputs": [],
   "source": [
    "%%html\n",
    "<template id='tc' is='urth-core-bind' channel='arraybind'>\n",
    "  Second template\n",
    "  <template id='t2' is='dom-repeat' items='{{people}}'>\n",
    "    <div>\n",
    "      <input id='t2Person' value='{{item.name::input}}'></input>\n",
    "    </div>\n",
    "  </template>\n",
    "\n",
    "  Third template\n",
    "  <template id='t3' is='dom-repeat' items='{{people}}'>\n",
    "    <div>\n",
    "      <span id='t3Person'>{{item.name::input}}</span>\n",
    "    </div>\n",
    "  </template>\n",
    "</template>"
   ]
  }
 ],
 "metadata": {
  "kernelspec": {
   "display_name": "Python 3",
   "language": "python",
   "name": "python3"
  },
  "language_info": {
   "codemirror_mode": {
    "name": "ipython",
    "version": 3
   },
   "file_extension": ".py",
   "mimetype": "text/x-python",
   "name": "python",
   "nbconvert_exporter": "python",
   "pygments_lexer": "ipython3",
   "version": "3.4.4"
  }
 },
 "nbformat": 4,
 "nbformat_minor": 0
}
