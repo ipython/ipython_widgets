{
 "cells": [
  {
   "cell_type": "code",
   "execution_count": null,
   "metadata": {},
   "outputs": [],
   "source": [
    "from ipywidgets import *\n",
    "from ipyevents import Event"
   ]
  },
  {
   "cell_type": "code",
   "execution_count": null,
   "metadata": {},
   "outputs": [],
   "source": [
    "e = HTMLElement('p')\n",
    "e.value = \"<p>ok</p>\"\n",
    "e.layout.border = \"1px solid red\"\n",
    "e.__dict__\n",
    "e"
   ]
  },
  {
   "cell_type": "code",
   "execution_count": null,
   "metadata": {},
   "outputs": [],
   "source": [
    "l1 = Label(\"l1 lllllllllllllllllllllll\")\n",
    "l2 = Label(\"l2\")\n",
    "b1 = Button(description=\"Button\")\n",
    "h2 = HTML('Event info')\n",
    "i = Image()\n",
    "i.value=open(\"magician-penguin-hi.png\", 'rb').read()\n",
    "evt1 = Event(source=l1, watched_events=['click'])\n",
    "evt2 = Event(source=b1, watched_events=['click'])\n",
    "def handle_evt(e):\n",
    "    l2.value = str(e['offsetX'])\n",
    "    h2.value = str(e['offsetY'])\n",
    "evt1.on_dom_event(handle_evt)\n",
    "evt2.on_dom_event(handle_evt)\n",
    "HBox((l1,l2,h2,b1,i))"
   ]
  },
  {
   "cell_type": "code",
   "execution_count": null,
   "metadata": {},
   "outputs": [],
   "source": [
    "b = Button()\n",
    "h = HTML()\n",
    "def handle_click(b,content,buffers):\n",
    "    h.value = str(content)\n",
    "b.on_msg(handle_click)\n",
    "HBox((b,h))"
   ]
  },
  {
   "cell_type": "code",
   "execution_count": null,
   "metadata": {},
   "outputs": [],
   "source": [
    "a1 = MapArea(name=\"a1\", shape=\"rect\", coords=\"0,0,50,50\")\n",
    "a2 = MapArea(name=\"a2\", shape=\"rect\", coords=\"50,50,100,100\")\n",
    "mi = MappedImage(map_name=\"Magician\", areas=(a1, a2))\n",
    "mi.value=open(\"magician-penguin-hi.png\", 'rb').read()\n",
    "mi.layout.border = \"1px solid red\"\n",
    "mi"
   ]
  }
 ],
 "metadata": {
  "kernelspec": {
   "display_name": "Python 3",
   "language": "python",
   "name": "python3"
  },
  "language_info": {
   "codemirror_mode": {
    "name": "ipython",
    "version": 3
   },
   "file_extension": ".py",
   "mimetype": "text/x-python",
   "name": "python",
   "nbconvert_exporter": "python",
   "pygments_lexer": "ipython3",
   "version": "3.7.3"
  }
 },
 "nbformat": 4,
 "nbformat_minor": 2
}
