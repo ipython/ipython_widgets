{
 "cells": [
  {
   "cell_type": "code",
   "execution_count": null,
   "metadata": {},
   "outputs": [],
   "source": [
    "from ipywidgets import *\n",
    "from ipyevents import Event"
   ]
  },
  {
   "cell_type": "code",
   "execution_count": null,
   "metadata": {},
   "outputs": [],
   "source": [
    "l1 = Label(\"l1 lllllllllllllllllllllll\")\n",
    "l2 = Label(\"l2\")\n",
    "b1 = Button(description=\"Button\")\n",
    "h2 = HTML('Event info')\n",
    "evt1 = Event(source=l1, watched_events=['click'])\n",
    "evt2 = Event(source=b1, watched_events=['click'])\n",
    "def handle_evt(e):\n",
    "    l2.value = str(e['offsetX'])\n",
    "    h2.value = str(e['offsetY'])\n",
    "evt1.on_dom_event(handle_evt)\n",
    "evt2.on_dom_event(handle_evt)\n",
    "HBox((l1,l2,h2,b1))"
   ]
  },
  {
   "cell_type": "code",
   "execution_count": null,
   "metadata": {},
   "outputs": [],
   "source": [
    "b = Button()\n",
    "h = HTML()\n",
    "i = Image()\n",
    "i.value=open(\"magician-penguin-hi.png\", 'rb').read()\n",
    "def handle_click(w,content,buffers):\n",
    "    h.value = \"%s: %s\" % (w._view_name[:-4],str(content))\n",
    "b.on_msg(handle_click)\n",
    "i.on_msg(handle_click)\n",
    "HBox((VBox((b,h)),i))"
   ]
  },
  {
   "cell_type": "code",
   "execution_count": null,
   "metadata": {},
   "outputs": [],
   "source": [
    "a0 = MapArea(name=\"a0\", shape='default', coords=\"\", href=\"http://www.fluidinfo.fr\")\n",
    "a1 = MapArea(name=\"a1\", shape=\"rect\", coords=\"150,50,400,250\", href=\"http://www.aful.org\")\n",
    "a2 = MapArea(name=\"a2\", shape=\"circle\", coords=\"250,400,100\", href=\"http://www.april.org\")\n",
    "a0.value, a1.value, a2.value"
   ]
  },
  {
   "cell_type": "code",
   "execution_count": null,
   "metadata": {},
   "outputs": [],
   "source": [
    "mi = MappedImage(areas=(a1, a2))\n",
    "mi.value=open(\"magician-penguin-hi.png\", 'rb').read()\n",
    "mi"
   ]
  }
 ],
 "metadata": {
  "kernelspec": {
   "display_name": "Python 3",
   "language": "python",
   "name": "python3"
  },
  "language_info": {
   "codemirror_mode": {
    "name": "ipython",
    "version": 3
   },
   "file_extension": ".py",
   "mimetype": "text/x-python",
   "name": "python",
   "nbconvert_exporter": "python",
   "pygments_lexer": "ipython3",
   "version": "3.7.3"
  }
 },
 "nbformat": 4,
 "nbformat_minor": 2
}
