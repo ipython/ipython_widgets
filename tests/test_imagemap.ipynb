{
 "cells": [
  {
   "cell_type": "code",
   "execution_count": null,
   "metadata": {},
   "outputs": [],
   "source": [
    "from ipywidgets import *\n",
    "from ipyevents import Event"
   ]
  },
  {
   "cell_type": "code",
   "execution_count": null,
   "metadata": {},
   "outputs": [],
   "source": [
    "l1 = Label(\"l1 lllllllllllllllllllllll\")\n",
    "l2 = Label(\"l2\")\n",
    "b1 = Button(description=\"Button\")\n",
    "h2 = HTML('Event info')\n",
    "i = Image()\n",
    "i.value=open(\"flocon.png\", 'rb').read()\n",
    "evt1 = Event(source=l1, watched_events=['click'])\n",
    "evt2 = Event(source=b1, watched_events=['click'])\n",
    "def handle_evt(e):\n",
    "    l2.value = str(e['offsetX'])\n",
    "    h2.value = str(e['offsetY'])\n",
    "evt1.on_dom_event(handle_evt)\n",
    "evt2.on_dom_event(handle_evt)\n",
    "HBox((l1,l2,h2,b1,i))"
   ]
  },
  {
   "cell_type": "code",
   "execution_count": null,
   "metadata": {},
   "outputs": [],
   "source": [
    "b = Button()\n",
    "h = HTML()\n",
    "def handle_click(b,content,buffers):\n",
    "    h.value = str(content)\n",
    "b.on_msg(handle_click)\n",
    "HBox((b,h))"
   ]
  }
 ],
 "metadata": {
  "kernelspec": {
   "display_name": "Python 3",
   "language": "python",
   "name": "python3"
  },
  "language_info": {
   "codemirror_mode": {
    "name": "ipython",
    "version": 3
   },
   "file_extension": ".py",
   "mimetype": "text/x-python",
   "name": "python",
   "nbconvert_exporter": "python",
   "pygments_lexer": "ipython3",
   "version": "3.7.3"
  }
 },
 "nbformat": 4,
 "nbformat_minor": 2
}
