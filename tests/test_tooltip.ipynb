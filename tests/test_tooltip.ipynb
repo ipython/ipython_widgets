{
 "cells": [
  {
   "cell_type": "code",
   "execution_count": null,
   "metadata": {},
   "outputs": [],
   "source": [
    "from ipywidgets import *"
   ]
  },
  {
   "cell_type": "code",
   "execution_count": null,
   "metadata": {},
   "outputs": [],
   "source": [
    "w = DOMWidget()\n",
    "w.set_tooltip(\"This is a Dom Widget\")\n",
    "w._tooltip"
   ]
  },
  {
   "cell_type": "code",
   "execution_count": null,
   "metadata": {},
   "outputs": [],
   "source": [
    "b = Button()\n",
    "tb = ToggleButton()\n",
    "ta = Textarea()\n",
    "d = Dropdown(options=['First', 'Second'])\n",
    "t = Text()\n",
    "c = Combobox()"
   ]
  },
  {
   "cell_type": "code",
   "execution_count": null,
   "metadata": {},
   "outputs": [],
   "source": [
    "b.set_tooltip(\"This is a regular button\")\n",
    "tb.set_tooltip(\"This is a toggle button\")\n",
    "ta.set_tooltip(\"This is a text area\")\n",
    "d.set_tooltip(\"This is a dropdown\")\n",
    "t.set_tooltip(\"This is a text input\")\n",
    "c.set_tooltip(\"This is a combobox\")"
   ]
  },
  {
   "cell_type": "code",
   "execution_count": null,
   "metadata": {},
   "outputs": [],
   "source": [
    "HBox((t, b, tb, ta, d, c))"
   ]
  },
  {
   "cell_type": "code",
   "execution_count": null,
   "metadata": {},
   "outputs": [],
   "source": [
    "t._tooltip, b._tooltip, tb.tooltip, ta._tooltip, d._tooltip, c._tooltip"
   ]
  }
 ],
 "metadata": {
  "kernelspec": {
   "display_name": "Python 2",
   "language": "python",
   "name": "python2"
  },
  "language_info": {
   "codemirror_mode": {
    "name": "ipython",
    "version": 2
   },
   "file_extension": ".py",
   "mimetype": "text/x-python",
   "name": "python",
   "nbconvert_exporter": "python",
   "pygments_lexer": "ipython2",
   "version": "2.7.16"
  }
 },
 "nbformat": 4,
 "nbformat_minor": 2
}
