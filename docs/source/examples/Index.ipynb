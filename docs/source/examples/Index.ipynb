{
 "cells": [
  {
   "cell_type": "markdown",
   "metadata": {},
   "source": [
    "Back to the main [Index](../Index.ipynb)"
   ]
  },
  {
   "cell_type": "markdown",
   "metadata": {},
   "source": [
    "# Interactive Widgets"
   ]
  },
  {
   "cell_type": "markdown",
   "metadata": {},
   "source": [
    "IPython includes an architecture for interactive widgets that tie together Python code running in the kernel and JavaScript/HTML/CSS  running in the browser. These widgets enable users to explore their code and data interactively."
   ]
  },
  {
   "cell_type": "markdown",
   "metadata": {},
   "source": [
    "## Tutorials"
   ]
  },
  {
   "cell_type": "markdown",
   "metadata": {},
   "source": [
    "- [Using Interact](https://github.com/ipython/ipywidgets/blob/master/docs/source/examples/Using%20Interact.ipynb)\n",
    "- [Widget Basics](https://github.com/ipython/ipywidgets/blob/master/docs/source/examples/Widget%20Basics.ipynb)  \n",
    "- [Widget Events](https://github.com/ipython/ipywidgets/blob/master/docs/source/examples/Widget%20Events.ipynb)  \n",
    "- [Widget List](https://github.com/ipython/ipywidgets/blob/master/docs/source/examples/Widget%20List.ipynb)  \n",
    "- [Widget Styling](https://github.com/ipython/ipywidgets/blob/master/docs/source/examples/Widget%20Styling.ipynb)    \n",
    "- [Custom Widget](https://github.com/ipython/ipywidgets/blob/master/docs/source/examples/Custom%20Widget%20-%20Hello%20World.ipynb)"
   ]
  },
  {
   "cell_type": "markdown",
   "metadata": {},
   "source": [
    "## Examples of custom widgets"
   ]
  },
  {
   "cell_type": "markdown",
   "metadata": {},
   "source": [
    "- [Variable Inspector](https://github.com/ipython/ipywidgets/blob/master/docs/source/examples/Variable%20Inspector.ipynb)  \n",
    "- [Export As (nbconvert)](https://github.com/ipython/ipywidgets/blob/master/docs/source/examples/Export%20As%20(nbconvert).ipynb)  \n",
    "- [File Upload Widget](https://github.com/ipython/ipywidgets/blob/master/docs/source/examples/File%20Upload%20Widget.ipynb)"
   ]
  },
  {
   "cell_type": "markdown",
   "metadata": {},
   "source": [
    "## Examples using `interact`/`interactive`"
   ]
  },
  {
   "cell_type": "markdown",
   "metadata": {},
   "source": [
    "* [Beat Frequencies](https://github.com/ipython/ipywidgets/blob/master/docs/source/examples/Beat%20Frequencies.ipynb)\n",
    "* [Exploring Graphs](https://github.com/ipython/ipywidgets/blob/master/docs/source/examples/Exploring%20Graphs.ipynb)\n",
    "* [Factoring](https://github.com/ipython/ipywidgets/blob/master/docs/source/examples/Factoring.ipynb)\n",
    "* [Image Browser](https://github.com/ipython/ipywidgets/blob/master/docs/source/examples/Image%20Browser.ipynb)\n",
    "* [Image Processing](https://github.com/ipython/ipywidgets/blob/master/docs/source/examples/Image%20Processing.ipynb)\n",
    "* [Lorenz Differential Equations](https://github.com/ipython/ipywidgets/blob/master/docs/source/examples/Lorenz%20Differential%20Equations.ipynb)"
   ]
  }
 ],
 "metadata": {
  "kernelspec": {
   "display_name": "Python 3",
   "language": "python",
   "name": "python3"
  },
  "language_info": {
   "codemirror_mode": {
    "name": "ipython",
    "version": 3
   },
   "file_extension": ".py",
   "mimetype": "text/x-python",
   "name": "python",
   "nbconvert_exporter": "python",
   "pygments_lexer": "ipython3",
   "version": "3.4.3"
  }
 },
 "nbformat": 4,
 "nbformat_minor": 0
}
