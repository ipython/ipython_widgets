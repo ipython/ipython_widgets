{
 "cells": [
  {
   "cell_type": "markdown",
   "metadata": {},
   "source": [
    "# Layout and Styling of Jupyter widgets\n",
    "\n",
    "This notebook presents how to layout and style Jupyter interactive widgets to build rich and *reactive* widget-based applications."
   ]
  },
  {
   "cell_type": "markdown",
   "metadata": {},
   "source": [
    "## The `layout` attribute.\n",
    "\n",
    "Jupyter interactive widgets have a `layout` attribute exposing a number of CSS properties that impact how widgets are laid out.\n",
    "\n",
    "### Exposed CSS properties\n",
    "\n",
    "<div class=\"alert alert-info\" style=\"margin: 20px\">\n",
    "The following properties map to the values of the CSS properties of the same name (underscores being replaced with dashes), applied to the top DOM elements of the corresponding widget.\n",
    "</div>\n",
    "\n",
    "\n",
    "#### Sizes\n",
    "\n",
    "- `height`\n",
    "- `width`\n",
    "- `max_height`\n",
    "- `max_width`\n",
    "- `min_height`\n",
    "- `min_width`\n",
    "\n",
    "#### Display\n",
    "\n",
    "- `visibility`\n",
    "- `display`\n",
    "- `overflow`\n",
    "- `overflow_x`\n",
    "- `overflow_y`\n",
    "\n",
    "#### Box model\n",
    "\n",
    "- `border` \n",
    "- `margin`\n",
    "- `padding`\n",
    "\n",
    "#### Positioning\n",
    "\n",
    "- `top`\n",
    "- `left`\n",
    "- `bottom`\n",
    "- `right`\n",
    "\n",
    "#### Flexbox\n",
    "\n",
    "- `order`\n",
    "- `flex_flow`\n",
    "- `align_items`\n",
    "- `flex`\n",
    "- `align_self`\n",
    "- `align_content`\n",
    "- `justify_content`\n",
    "\n",
    "\n",
    "### Shorthand CSS properties\n",
    "\n",
    "You may have noticed that certain CSS properties such as `margin-[top/right/bottom/left]` seem to be missing. The same holds for `padding-[top/right/bottom/left]` etc.\n",
    "\n",
    "In fact, you can atomically specify `[top/right/bottom/left]` margins via the `margin` attribute alone by passing the string `'100px 150px 100px 80px'` for a respectively `top`, `right`, `bottom` and `left` margins of  `100`, `150`, `100` and `80` pixels.\n",
    "\n",
    "Similarly, the `flex` attribute can hold values for `flex-grow`, `flex-shrink` and `flex-basis`. The `border` attribute is a shorthand property for `border-width`, `border-style (required)`, and `border-color`."
   ]
  },
  {
   "cell_type": "markdown",
   "metadata": {},
   "source": [
    "### Simple examples"
   ]
  },
  {
   "cell_type": "markdown",
   "metadata": {},
   "source": [
    "The following example shows how to resize a `Button` so that its views have a height of `80px` and a width of `50%` of the available space:"
   ]
  },
  {
   "cell_type": "code",
   "execution_count": 30,
   "metadata": {},
   "outputs": [
    {
     "data": {
      "application/vnd.jupyter.widget-view+json": {
       "model_id": "7c3d9c449da149a3ab1108f23004524a",
       "version_major": 2,
       "version_minor": 0
      },
      "text/html": [
       "<p>Failed to display Jupyter Widget of type <code>Button</code>.</p>\n",
       "<p>\n",
       "  If you're reading this message in the Jupyter Notebook or JupyterLab Notebook, it may mean\n",
       "  that the widgets JavaScript is still loading. If this message persists, it\n",
       "  likely means that the widgets JavaScript library is either not installed or\n",
       "  not enabled. See the <a href=\"https://ipywidgets.readthedocs.io/en/stable/user_install.html\">Jupyter\n",
       "  Widgets Documentation</a> for setup instructions.\n",
       "</p>\n",
       "<p>\n",
       "  If you're reading this message in another frontend (for example, a static\n",
       "  rendering on GitHub or <a href=\"https://nbviewer.jupyter.org/\">NBViewer</a>),\n",
       "  it may mean that your frontend doesn't currently support widgets.\n",
       "</p>\n"
      ],
      "text/plain": [
       "Button(description='(50% width, 80px height) button', layout=Layout(height='80px', width='50%'), style=ButtonStyle())"
      ]
     },
     "metadata": {},
     "output_type": "display_data"
    }
   ],
   "source": [
    "from ipywidgets import Button, Layout\n",
    "\n",
    "b = Button(description='(50% width, 80px height) button',\n",
    "           layout=Layout(width='50%', height='80px'))\n",
    "b"
   ]
  },
  {
   "cell_type": "markdown",
   "metadata": {},
   "source": [
    "The `layout` property can be shared between multiple widgets and assigned directly."
   ]
  },
  {
   "cell_type": "code",
   "execution_count": 31,
   "metadata": {},
   "outputs": [
    {
     "data": {
      "application/vnd.jupyter.widget-view+json": {
       "model_id": "e5a794c3ac074137b3c996fa4fa25651",
       "version_major": 2,
       "version_minor": 0
      },
      "text/html": [
       "<p>Failed to display Jupyter Widget of type <code>Button</code>.</p>\n",
       "<p>\n",
       "  If you're reading this message in the Jupyter Notebook or JupyterLab Notebook, it may mean\n",
       "  that the widgets JavaScript is still loading. If this message persists, it\n",
       "  likely means that the widgets JavaScript library is either not installed or\n",
       "  not enabled. See the <a href=\"https://ipywidgets.readthedocs.io/en/stable/user_install.html\">Jupyter\n",
       "  Widgets Documentation</a> for setup instructions.\n",
       "</p>\n",
       "<p>\n",
       "  If you're reading this message in another frontend (for example, a static\n",
       "  rendering on GitHub or <a href=\"https://nbviewer.jupyter.org/\">NBViewer</a>),\n",
       "  it may mean that your frontend doesn't currently support widgets.\n",
       "</p>\n"
      ],
      "text/plain": [
       "Button(description='Another button with the same layout', layout=Layout(height='80px', width='50%'), style=ButtonStyle())"
      ]
     },
     "metadata": {},
     "output_type": "display_data"
    }
   ],
   "source": [
    "Button(description='Another button with the same layout', layout=b.layout)"
   ]
  },
  {
   "cell_type": "markdown",
   "metadata": {},
   "source": [
    "### Description"
   ]
  },
  {
   "cell_type": "markdown",
   "metadata": {},
   "source": [
    "You may have noticed that long descriptions are truncated. This is because the description length is, by default, fixed."
   ]
  },
  {
   "cell_type": "code",
   "execution_count": 32,
   "metadata": {},
   "outputs": [
    {
     "data": {
      "application/vnd.jupyter.widget-view+json": {
       "model_id": "b2d21e636a1142e9bb60187378421257",
       "version_major": 2,
       "version_minor": 0
      },
      "text/html": [
       "<p>Failed to display Jupyter Widget of type <code>IntSlider</code>.</p>\n",
       "<p>\n",
       "  If you're reading this message in the Jupyter Notebook or JupyterLab Notebook, it may mean\n",
       "  that the widgets JavaScript is still loading. If this message persists, it\n",
       "  likely means that the widgets JavaScript library is either not installed or\n",
       "  not enabled. See the <a href=\"https://ipywidgets.readthedocs.io/en/stable/user_install.html\">Jupyter\n",
       "  Widgets Documentation</a> for setup instructions.\n",
       "</p>\n",
       "<p>\n",
       "  If you're reading this message in another frontend (for example, a static\n",
       "  rendering on GitHub or <a href=\"https://nbviewer.jupyter.org/\">NBViewer</a>),\n",
       "  it may mean that your frontend doesn't currently support widgets.\n",
       "</p>\n"
      ],
      "text/plain": [
       "IntSlider(value=0, description='A too long description')"
      ]
     },
     "metadata": {},
     "output_type": "display_data"
    }
   ],
   "source": [
    "from ipywidgets import IntSlider\n",
    "\n",
    "IntSlider(description='A too long description')"
   ]
  },
  {
   "cell_type": "markdown",
   "metadata": {},
   "source": [
    "You can change the length of the description to fit the description text. However, this will make the widget itself shorter. You can change both by adjusting the description width and the widget width using the widget's style."
   ]
  },
  {
   "cell_type": "code",
   "execution_count": 33,
   "metadata": {},
   "outputs": [
    {
     "data": {
      "application/vnd.jupyter.widget-view+json": {
       "model_id": "1a91c92d744d41e1b3b637f6bade2ac5",
       "version_major": 2,
       "version_minor": 0
      },
      "text/html": [
       "<p>Failed to display Jupyter Widget of type <code>IntSlider</code>.</p>\n",
       "<p>\n",
       "  If you're reading this message in the Jupyter Notebook or JupyterLab Notebook, it may mean\n",
       "  that the widgets JavaScript is still loading. If this message persists, it\n",
       "  likely means that the widgets JavaScript library is either not installed or\n",
       "  not enabled. See the <a href=\"https://ipywidgets.readthedocs.io/en/stable/user_install.html\">Jupyter\n",
       "  Widgets Documentation</a> for setup instructions.\n",
       "</p>\n",
       "<p>\n",
       "  If you're reading this message in another frontend (for example, a static\n",
       "  rendering on GitHub or <a href=\"https://nbviewer.jupyter.org/\">NBViewer</a>),\n",
       "  it may mean that your frontend doesn't currently support widgets.\n",
       "</p>\n"
      ],
      "text/plain": [
       "IntSlider(value=0, description='A too long description', style=SliderStyle(description_width='initial'))"
      ]
     },
     "metadata": {},
     "output_type": "display_data"
    }
   ],
   "source": [
    "style = {'description_width': 'initial'}\n",
    "IntSlider(description='A too long description', style=style)"
   ]
  },
  {
   "cell_type": "markdown",
   "metadata": {},
   "source": [
    "If you need more flexibility to lay out widgets and descriptions, you can use Label widgets directly."
   ]
  },
  {
   "cell_type": "code",
   "execution_count": 34,
   "metadata": {},
   "outputs": [
    {
     "data": {
      "application/vnd.jupyter.widget-view+json": {
       "model_id": "71b319873f0a4a2fb464db84d72867af",
       "version_major": 2,
       "version_minor": 0
      },
      "text/html": [
       "<p>Failed to display Jupyter Widget of type <code>HBox</code>.</p>\n",
       "<p>\n",
       "  If you're reading this message in the Jupyter Notebook or JupyterLab Notebook, it may mean\n",
       "  that the widgets JavaScript is still loading. If this message persists, it\n",
       "  likely means that the widgets JavaScript library is either not installed or\n",
       "  not enabled. See the <a href=\"https://ipywidgets.readthedocs.io/en/stable/user_install.html\">Jupyter\n",
       "  Widgets Documentation</a> for setup instructions.\n",
       "</p>\n",
       "<p>\n",
       "  If you're reading this message in another frontend (for example, a static\n",
       "  rendering on GitHub or <a href=\"https://nbviewer.jupyter.org/\">NBViewer</a>),\n",
       "  it may mean that your frontend doesn't currently support widgets.\n",
       "</p>\n"
      ],
      "text/plain": [
       "HBox(children=(Label(value='A too long description'), IntSlider(value=0)))"
      ]
     },
     "metadata": {},
     "output_type": "display_data"
    }
   ],
   "source": [
    "from ipywidgets import HBox, Label\n",
    "\n",
    "HBox([Label('A too long description'), IntSlider()])"
   ]
  },
  {
   "cell_type": "markdown",
   "metadata": {},
   "source": [
    "### Natural sizes, and arrangements using HBox and VBox\n",
    "\n",
    "Most of the core-widgets have default heights and widths that tile well together. This allows simple layouts based on the `HBox` and `VBox` helper functions to align naturally:"
   ]
  },
  {
   "cell_type": "code",
   "execution_count": 35,
   "metadata": {},
   "outputs": [
    {
     "data": {
      "application/vnd.jupyter.widget-view+json": {
       "model_id": "3b9fbeed8a4841a79e9259ef3aee971c",
       "version_major": 2,
       "version_minor": 0
      },
      "text/html": [
       "<p>Failed to display Jupyter Widget of type <code>HBox</code>.</p>\n",
       "<p>\n",
       "  If you're reading this message in the Jupyter Notebook or JupyterLab Notebook, it may mean\n",
       "  that the widgets JavaScript is still loading. If this message persists, it\n",
       "  likely means that the widgets JavaScript library is either not installed or\n",
       "  not enabled. See the <a href=\"https://ipywidgets.readthedocs.io/en/stable/user_install.html\">Jupyter\n",
       "  Widgets Documentation</a> for setup instructions.\n",
       "</p>\n",
       "<p>\n",
       "  If you're reading this message in another frontend (for example, a static\n",
       "  rendering on GitHub or <a href=\"https://nbviewer.jupyter.org/\">NBViewer</a>),\n",
       "  it may mean that your frontend doesn't currently support widgets.\n",
       "</p>\n"
      ],
      "text/plain": [
       "HBox(children=(VBox(children=(Button(description='correct', style=ButtonStyle()), Button(description='horse', style=ButtonStyle()))), VBox(children=(Button(description='battery', style=ButtonStyle()), Button(description='staple', style=ButtonStyle())))))"
      ]
     },
     "metadata": {},
     "output_type": "display_data"
    }
   ],
   "source": [
    "from ipywidgets import Button, HBox, VBox\n",
    "\n",
    "words = ['correct', 'horse', 'battery', 'staple']\n",
    "items = [Button(description=w) for w in words]\n",
    "left_box = VBox([items[0], items[1]])\n",
    "right_box = VBox([items[2], items[3]])\n",
    "HBox([left_box, right_box])"
   ]
  },
  {
   "cell_type": "markdown",
   "metadata": {},
   "source": [
    "### Latex"
   ]
  },
  {
   "cell_type": "markdown",
   "metadata": {},
   "source": [
    "Widgets such as sliders and text inputs have a description attribute that can render Latex Equations. The `Label` widget also renders Latex equations."
   ]
  },
  {
   "cell_type": "code",
   "execution_count": 36,
   "metadata": {},
   "outputs": [],
   "source": [
    "from ipywidgets import IntSlider, Label"
   ]
  },
  {
   "cell_type": "code",
   "execution_count": 37,
   "metadata": {},
   "outputs": [
    {
     "data": {
      "application/vnd.jupyter.widget-view+json": {
       "model_id": "84e54383887b4e9fa0d20dc10b0f9b86",
       "version_major": 2,
       "version_minor": 0
      },
      "text/html": [
       "<p>Failed to display Jupyter Widget of type <code>IntSlider</code>.</p>\n",
       "<p>\n",
       "  If you're reading this message in the Jupyter Notebook or JupyterLab Notebook, it may mean\n",
       "  that the widgets JavaScript is still loading. If this message persists, it\n",
       "  likely means that the widgets JavaScript library is either not installed or\n",
       "  not enabled. See the <a href=\"https://ipywidgets.readthedocs.io/en/stable/user_install.html\">Jupyter\n",
       "  Widgets Documentation</a> for setup instructions.\n",
       "</p>\n",
       "<p>\n",
       "  If you're reading this message in another frontend (for example, a static\n",
       "  rendering on GitHub or <a href=\"https://nbviewer.jupyter.org/\">NBViewer</a>),\n",
       "  it may mean that your frontend doesn't currently support widgets.\n",
       "</p>\n"
      ],
      "text/plain": [
       "IntSlider(value=0, description='\\\\(\\\\int_0^t f\\\\)')"
      ]
     },
     "metadata": {},
     "output_type": "display_data"
    }
   ],
   "source": [
    "IntSlider(description=r'\\(\\int_0^t f\\)')"
   ]
  },
  {
   "cell_type": "code",
   "execution_count": 38,
   "metadata": {},
   "outputs": [
    {
     "data": {
      "application/vnd.jupyter.widget-view+json": {
       "model_id": "74bc1b1d71f94728a90f6d86ef154a84",
       "version_major": 2,
       "version_minor": 0
      },
      "text/html": [
       "<p>Failed to display Jupyter Widget of type <code>Label</code>.</p>\n",
       "<p>\n",
       "  If you're reading this message in the Jupyter Notebook or JupyterLab Notebook, it may mean\n",
       "  that the widgets JavaScript is still loading. If this message persists, it\n",
       "  likely means that the widgets JavaScript library is either not installed or\n",
       "  not enabled. See the <a href=\"https://ipywidgets.readthedocs.io/en/stable/user_install.html\">Jupyter\n",
       "  Widgets Documentation</a> for setup instructions.\n",
       "</p>\n",
       "<p>\n",
       "  If you're reading this message in another frontend (for example, a static\n",
       "  rendering on GitHub or <a href=\"https://nbviewer.jupyter.org/\">NBViewer</a>),\n",
       "  it may mean that your frontend doesn't currently support widgets.\n",
       "</p>\n"
      ],
      "text/plain": [
       "Label(value='\\\\(e=mc^2\\\\)')"
      ]
     },
     "metadata": {},
     "output_type": "display_data"
    }
   ],
   "source": [
    "Label(value=r'\\(e=mc^2\\)')"
   ]
  },
  {
   "cell_type": "markdown",
   "metadata": {},
   "source": [
    "### Number formatting\n",
    "\n",
    "Sliders have a readout field which can be formatted using Python's [Format Specification Mini-Language](https://docs.python.org/3/library/string.html#format-specification-mini-language). If the space available for the readout is too narrow for the string representation of the slider value, a different styling is applied to show that not all digits are visible."
   ]
  },
  {
   "cell_type": "markdown",
   "metadata": {},
   "source": [
    "## The Flexbox layout\n",
    "\n",
    "The `HBox` and `VBox` classes above are special cases of the `Box` widget.\n",
    "\n",
    "The `Box` widget enables the entire CSS flexbox spec, enabling rich reactive layouts in the Jupyter notebook. It aims at providing an efficient way to lay out, align and distribute space among items in a container.\n",
    "\n",
    "Again, the whole flexbox spec is exposed via the `layout` attribute of the container widget (`Box`) and the contained items. One may share the same `layout` attribute among all the contained items.\n",
    "\n",
    "\n",
    "### Acknowledgement\n",
    "\n",
    "The following flexbox tutorial on the flexbox layout follows the lines of the article [A Complete Guide to Flexbox](https://css-tricks.com/snippets/css/a-guide-to-flexbox/) by Chris Coyier, and uses text and various images from the article [with permission](https://css-tricks.com/license/).\n",
    "\n",
    "### Basics and terminology\n",
    "\n",
    "Since flexbox is a whole module and not a single property, it involves a lot of things including its whole set of properties. Some of them are meant to be set on the container (parent element, known as \"flex container\") whereas the others are meant to be set on the children (known as \"flex items\").\n",
    "\n",
    "If regular layout is based on both block and inline flow directions, the flex layout is based on \"flex-flow directions\". Please have a look at this figure from the specification, explaining the main idea behind the flex layout.\n",
    "\n",
    "![Flexbox](./images/flexbox.png)\n",
    "\n",
    "Basically, items will be laid out following either the `main axis` (from `main-start` to `main-end`) or the `cross axis` (from `cross-start` to `cross-end`).\n",
    "\n",
    "- `main axis` - The main axis of a flex container is the primary axis along which flex items are laid out. Beware, it is not necessarily horizontal; it depends on the flex-direction property (see below).\n",
    "- `main-start | main-end` - The flex items are placed within the container starting from main-start and going to main-end.\n",
    "- `main size` - A flex item's width or height, whichever is in the main dimension, is the item's main size. The flex item's main size property is either the ‘width’ or ‘height’ property, whichever is in the main dimension.\n",
    "cross axis - The axis perpendicular to the main axis is called the cross axis. Its direction depends on the main axis direction.\n",
    "- `cross-start | cross-end` - Flex lines are filled with items and placed into the container starting on the cross-start side of the flex container and going toward the cross-end side.\n",
    "- `cross size` - The width or height of a flex item, whichever is in the cross dimension, is the item's cross size. The cross size property is whichever of ‘width’ or ‘height’ that is in the cross dimension.\n",
    "\n",
    "### Properties of the parent\n",
    "\n",
    "![Container](./images/flex-container.svg)\n",
    "\n",
    "#### display\n",
    "\n",
    "`display` can be `flex` or `inline-flex`. This defines a flex container (block or inline).\n",
    "\n",
    "#### flex-flow\n",
    "\n",
    "`flex-flow` is a shorthand for the `flex-direction` and `flex-wrap` properties, which together define the flex container's main and cross axes. Default is `row nowrap`.\n",
    "\n",
    "- `flex-direction` (column-reverse | column | row | row-reverse )\n",
    "\n",
    "  This establishes the main-axis, thus defining the direction flex items are placed in the flex container. Flexbox is (aside from optional wrapping) a single-direction layout concept. Think of flex items as primarily laying out either in horizontal rows or vertical columns.\n",
    "![Direction](./images/flex-direction1.svg)\n",
    "\n",
    "- `flex-wrap` (nowrap | wrap | wrap-reverse)\n",
    "\n",
    "  By default, flex items will all try to fit onto one line. You can change that and allow the items to wrap as needed with this property. Direction also plays a role here, determining the direction new lines are stacked in.\n",
    "![Wrap](./images/flex-wrap.svg)\n",
    "\n",
    "#### justify-content\n",
    "\n",
    "`justify-content` can be one of `flex-start`, `flex-end`, `center`, `space-between`, `space-around`. This defines the alignment along the main axis. It helps distribute extra free space left over when either all the flex items on a line are inflexible, or are flexible but have reached their maximum size. It also exerts some control over the alignment of items when they overflow the line.\n",
    "  ![Justify](./images/justify-content.svg)\n",
    "\n",
    "#### align-items\n",
    "\n",
    "`align-items` can be one of `flex-start`, `flex-end`, `center`, `baseline`, `stretch`. This defines the default behaviour for how flex items are laid out along the cross axis on the current line. Think of it as the justify-content version for the cross-axis (perpendicular to the main-axis).\n",
    "   ![Items](./images/align-items.svg)\n",
    "   \n",
    "#### align-content\n",
    "`align-content` can be one of `flex-start`, `flex-end`, `center`, `baseline`, `stretch`. This aligns a flex container's lines within when there is extra space in the cross-axis, similar to how justify-content aligns individual items within the main-axis.\n",
    "![Items](./images/align-content.svg)\n",
    "\n",
    "**Note**: this property has no effect when there is only one line of flex items.\n",
    "\n",
    "### Properties of the items\n",
    "\n",
    "![Item](./images/flex-items.svg)\n",
    "\n",
    "The flexbox-related CSS properties of the items have no impact if the parent element is not a flexbox container (i.e. has a `display` attribute equal to `flex` or `inline-flex`).\n",
    "\n",
    "#### order\n",
    "By default, flex items are laid out in the source order. However, the `order` property controls the order in which they appear in the flex container.\n",
    "<img src=\"./images/order-2.svg\" alt=\"Order\" style=\"width: 500px;\"/>\n",
    "   \n",
    "#### flex\n",
    "`flex` is shorthand for three properties, `flex-grow`, `flex-shrink` and `flex-basis` combined. The second and third parameters (`flex-shrink` and `flex-basis`) are optional. Default is `0 1 auto`.\n",
    "   \n",
    "  - `flex-grow`\n",
    "\n",
    "    This defines the ability for a flex item to grow if necessary. It accepts a unitless value that serves as a proportion. It dictates what amount of the available space inside the flex container the item should take up.\n",
    "\n",
    "    If all items have flex-grow set to 1, the remaining space in the container will be distributed equally to all children. If one of the children a value of 2, the remaining space would take up twice as much space as the others (or it will try to, at least).\n",
    "      ![Grow](./images/flex-grow.svg)\n",
    "\n",
    "  - `flex-shrink`\n",
    "\n",
    "    This defines the ability for a flex item to shrink if necessary.\n",
    "\n",
    "  - `flex-basis`\n",
    "\n",
    "    This defines the default size of an element before the remaining space is distributed. It can be a length (e.g. `20%`, `5rem`, etc.) or a keyword. The `auto` keyword means *\"look at my width or height property\"*.\n",
    " \n",
    "#### align-self\n",
    "\n",
    "`align-self` allows the default alignment (or the one specified by align-items) to be overridden for individual flex items.\n",
    "\n",
    "![Align](./images/align-self.svg)\n",
    "\n",
    "### The VBox and HBox helpers\n",
    "\n",
    "The `VBox` and `HBox` helper classes provide simple defaults to arrange child widgets in vertical and horizontal boxes. They are roughly equivalent to:\n",
    "\n",
    "```Python\n",
    "def VBox(*pargs, **kwargs):\n",
    "    \"\"\"Displays multiple widgets vertically using the flexible box model.\"\"\"\n",
    "    box = Box(*pargs, **kwargs)\n",
    "    box.layout.display = 'flex'\n",
    "    box.layout.flex_flow = 'column'\n",
    "    box.layout.align_items = 'stretch'\n",
    "    return box\n",
    "\n",
    "def HBox(*pargs, **kwargs):\n",
    "    \"\"\"Displays multiple widgets horizontally using the flexible box model.\"\"\"\n",
    "    box = Box(*pargs, **kwargs)\n",
    "    box.layout.display = 'flex'\n",
    "    box.layout.align_items = 'stretch'\n",
    "    return box\n",
    "```\n",
    "\n",
    "\n",
    "### Examples"
   ]
  },
  {
   "cell_type": "markdown",
   "metadata": {},
   "source": [
    "**Four buttons in a VBox. Items stretch to the maximum width, in a vertical box taking `50%` of the available space.**"
   ]
  },
  {
   "cell_type": "code",
   "execution_count": 39,
   "metadata": {},
   "outputs": [
    {
     "data": {
      "application/vnd.jupyter.widget-view+json": {
       "model_id": "a7d12749e0d149069b9bf4b01487dfb1",
       "version_major": 2,
       "version_minor": 0
      },
      "text/html": [
       "<p>Failed to display Jupyter Widget of type <code>Box</code>.</p>\n",
       "<p>\n",
       "  If you're reading this message in the Jupyter Notebook or JupyterLab Notebook, it may mean\n",
       "  that the widgets JavaScript is still loading. If this message persists, it\n",
       "  likely means that the widgets JavaScript library is either not installed or\n",
       "  not enabled. See the <a href=\"https://ipywidgets.readthedocs.io/en/stable/user_install.html\">Jupyter\n",
       "  Widgets Documentation</a> for setup instructions.\n",
       "</p>\n",
       "<p>\n",
       "  If you're reading this message in another frontend (for example, a static\n",
       "  rendering on GitHub or <a href=\"https://nbviewer.jupyter.org/\">NBViewer</a>),\n",
       "  it may mean that your frontend doesn't currently support widgets.\n",
       "</p>\n"
      ],
      "text/plain": [
       "Box(children=(Button(button_style='danger', description='correct', layout=Layout(width='auto'), style=ButtonStyle()), Button(button_style='danger', description='horse', layout=Layout(width='auto'), style=ButtonStyle()), Button(button_style='danger', description='battery', layout=Layout(width='auto'), style=ButtonStyle()), Button(button_style='danger', description='staple', layout=Layout(width='auto'), style=ButtonStyle())), layout=Layout(align_items='stretch', border='solid', display='flex', flex_flow='column', width='50%'))"
      ]
     },
     "metadata": {},
     "output_type": "display_data"
    }
   ],
   "source": [
    "from ipywidgets import Layout, Button, Box\n",
    "\n",
    "items_layout = Layout( width='auto')     # override the default width of the button to 'auto' to let the button grow\n",
    "\n",
    "box_layout = Layout(display='flex',\n",
    "                    flex_flow='column', \n",
    "                    align_items='stretch', \n",
    "                    border='solid',\n",
    "                    width='50%')\n",
    "\n",
    "words = ['correct', 'horse', 'battery', 'staple']\n",
    "items = [Button(description=word, layout=items_layout, button_style='danger') for word in words]\n",
    "box = Box(children=items, layout=box_layout)\n",
    "box"
   ]
  },
  {
   "cell_type": "markdown",
   "metadata": {},
   "source": [
    "**Three buttons in an HBox. Items flex proportionaly to their weight.**"
   ]
  },
  {
   "cell_type": "code",
   "execution_count": 40,
   "metadata": {},
   "outputs": [
    {
     "data": {
      "application/vnd.jupyter.widget-view+json": {
       "model_id": "cc7885ab4f914e6f9efcda258c920e68",
       "version_major": 2,
       "version_minor": 0
      },
      "text/html": [
       "<p>Failed to display Jupyter Widget of type <code>VBox</code>.</p>\n",
       "<p>\n",
       "  If you're reading this message in the Jupyter Notebook or JupyterLab Notebook, it may mean\n",
       "  that the widgets JavaScript is still loading. If this message persists, it\n",
       "  likely means that the widgets JavaScript library is either not installed or\n",
       "  not enabled. See the <a href=\"https://ipywidgets.readthedocs.io/en/stable/user_install.html\">Jupyter\n",
       "  Widgets Documentation</a> for setup instructions.\n",
       "</p>\n",
       "<p>\n",
       "  If you're reading this message in another frontend (for example, a static\n",
       "  rendering on GitHub or <a href=\"https://nbviewer.jupyter.org/\">NBViewer</a>),\n",
       "  it may mean that your frontend doesn't currently support widgets.\n",
       "</p>\n"
      ],
      "text/plain": [
       "VBox(children=(Box(children=(Button(button_style='danger', description='weight=1, auto', layout=Layout(flex='1 1 auto', width='auto'), style=ButtonStyle()), Button(button_style='danger', description='weight=3, auto', layout=Layout(flex='3 1 auto', width='auto'), style=ButtonStyle()), Button(button_style='danger', description='weight=1, auto', layout=Layout(flex='1 1 auto', width='auto'), style=ButtonStyle())), layout=Layout(align_items='stretch', display='flex', flex_flow='row', width='70%')), Box(children=(Button(button_style='danger', description='weight=1, . 0%', layout=Layout(flex='1 1 0%', width='auto'), style=ButtonStyle()), Button(button_style='danger', description='weight=3, . 0%', layout=Layout(flex='3 1 0%', width='auto'), style=ButtonStyle()), Button(button_style='danger', description='weight=1, . 0%', layout=Layout(flex='1 1 0%', width='auto'), style=ButtonStyle())), layout=Layout(align_items='stretch', display='flex', flex_flow='row', width='70%'))))"
      ]
     },
     "metadata": {},
     "output_type": "display_data"
    }
   ],
   "source": [
    "from ipywidgets import Layout, Button, Box, VBox\n",
    "\n",
    "# Items flex proportionallly to the weight and the left-over space around the text \n",
    "items_auto = [\n",
    "    Button(description='weight=1, auto', layout=Layout(flex='1 1 auto', width='auto'), button_style='danger'),\n",
    "    Button(description='weight=3, auto', layout=Layout(flex='3 1 auto', width='auto'), button_style='danger'),\n",
    "    Button(description='weight=1, auto', layout=Layout(flex='1 1 auto', width='auto'), button_style='danger'),\n",
    " ]\n",
    "\n",
    "# Items flex proportionallly to the weight \n",
    "items_0 = [\n",
    "    Button(description='weight=1, . 0%', layout=Layout(flex='1 1 0%', width='auto'), button_style='danger'),\n",
    "    Button(description='weight=3, . 0%', layout=Layout(flex='3 1 0%', width='auto'), button_style='danger'),\n",
    "    Button(description='weight=1, . 0%', layout=Layout(flex='1 1 0%', width='auto'), button_style='danger'),\n",
    " ]\n",
    "box_layout = Layout(display='flex',\n",
    "                    flex_flow='row', \n",
    "                    align_items='stretch', \n",
    "                    width='70%')\n",
    "box_auto = Box(children=items_auto, layout=box_layout)\n",
    "box_0 = Box(children=items_0, layout=box_layout)\n",
    "VBox([box_auto, box_0])"
   ]
  },
  {
   "cell_type": "markdown",
   "metadata": {},
   "source": [
    "**A more advanced example: a reactive form.**\n",
    "\n",
    "The form is a `VBox` of width '50%'. Each row in the VBox is an HBox, that justifies the content with space between.."
   ]
  },
  {
   "cell_type": "code",
   "execution_count": 41,
   "metadata": {},
   "outputs": [
    {
     "data": {
      "application/vnd.jupyter.widget-view+json": {
       "model_id": "f068d4e0d2ff4022897b8009048cbe7b",
       "version_major": 2,
       "version_minor": 0
      },
      "text/html": [
       "<p>Failed to display Jupyter Widget of type <code>Box</code>.</p>\n",
       "<p>\n",
       "  If you're reading this message in the Jupyter Notebook or JupyterLab Notebook, it may mean\n",
       "  that the widgets JavaScript is still loading. If this message persists, it\n",
       "  likely means that the widgets JavaScript library is either not installed or\n",
       "  not enabled. See the <a href=\"https://ipywidgets.readthedocs.io/en/stable/user_install.html\">Jupyter\n",
       "  Widgets Documentation</a> for setup instructions.\n",
       "</p>\n",
       "<p>\n",
       "  If you're reading this message in another frontend (for example, a static\n",
       "  rendering on GitHub or <a href=\"https://nbviewer.jupyter.org/\">NBViewer</a>),\n",
       "  it may mean that your frontend doesn't currently support widgets.\n",
       "</p>\n"
      ],
      "text/plain": [
       "Box(children=(Box(children=(Label(value='Age of the captain'), IntSlider(value=40, max=60, min=40)), layout=Layout(display='flex', flex_flow='row', justify_content='space-between')), Box(children=(Label(value='Egg style'), Dropdown(options=('Scrambled', 'Sunny side up', 'Over easy'), value='Scrambled')), layout=Layout(display='flex', flex_flow='row', justify_content='space-between')), Box(children=(Label(value='Ship size'), FloatText(value=0.0)), layout=Layout(display='flex', flex_flow='row', justify_content='space-between')), Box(children=(Label(value='Information'), Textarea(value='')), layout=Layout(display='flex', flex_flow='row', justify_content='space-between'))), layout=Layout(align_items='stretch', border='solid 2px', display='flex', flex_flow='column', width='50%'))"
      ]
     },
     "metadata": {},
     "output_type": "display_data"
    }
   ],
   "source": [
    "from ipywidgets import Layout, Button, Box, FloatText, Textarea, Dropdown, Label, IntSlider\n",
    "\n",
    "form_item_layout = Layout(\n",
    "    display='flex',\n",
    "    flex_flow='row',\n",
    "    justify_content='space-between'\n",
    ")\n",
    "\n",
    "form_items = [\n",
    "    Box([Label(value='Age of the captain'), IntSlider(min=40, max=60)], layout=form_item_layout),\n",
    "    Box([Label(value='Egg style'), \n",
    "         Dropdown(options=['Scrambled', 'Sunny side up', 'Over easy'])], layout=form_item_layout),\n",
    "    Box([Label(value='Ship size'), \n",
    "         FloatText()], layout=form_item_layout),\n",
    "    Box([Label(value='Information'), \n",
    "         Textarea()], layout=form_item_layout)\n",
    "]\n",
    "\n",
    "form = Box(form_items, layout=Layout(\n",
    "    display='flex',\n",
    "    flex_flow='column',\n",
    "    border='solid 2px',\n",
    "    align_items='stretch',\n",
    "    width='50%'\n",
    "))\n",
    "form"
   ]
  },
  {
   "cell_type": "markdown",
   "metadata": {},
   "source": [
    "**A more advanced example: a carousel.**"
   ]
  },
  {
   "cell_type": "code",
   "execution_count": 42,
   "metadata": {},
   "outputs": [
    {
     "data": {
      "application/vnd.jupyter.widget-view+json": {
       "model_id": "c3a0f5e100d342ada7979000a57bf232",
       "version_major": 2,
       "version_minor": 0
      },
      "text/html": [
       "<p>Failed to display Jupyter Widget of type <code>VBox</code>.</p>\n",
       "<p>\n",
       "  If you're reading this message in the Jupyter Notebook or JupyterLab Notebook, it may mean\n",
       "  that the widgets JavaScript is still loading. If this message persists, it\n",
       "  likely means that the widgets JavaScript library is either not installed or\n",
       "  not enabled. See the <a href=\"https://ipywidgets.readthedocs.io/en/stable/user_install.html\">Jupyter\n",
       "  Widgets Documentation</a> for setup instructions.\n",
       "</p>\n",
       "<p>\n",
       "  If you're reading this message in another frontend (for example, a static\n",
       "  rendering on GitHub or <a href=\"https://nbviewer.jupyter.org/\">NBViewer</a>),\n",
       "  it may mean that your frontend doesn't currently support widgets.\n",
       "</p>\n"
      ],
      "text/plain": [
       "VBox(children=(Label(value='Scroll horizontally:'), Box(children=(Button(button_style='warning', description='0', layout=Layout(height='100px', min_width='40px'), style=ButtonStyle()), Button(button_style='warning', description='1', layout=Layout(height='100px', min_width='40px'), style=ButtonStyle()), Button(button_style='warning', description='2', layout=Layout(height='100px', min_width='40px'), style=ButtonStyle()), Button(button_style='warning', description='3', layout=Layout(height='100px', min_width='40px'), style=ButtonStyle()), Button(button_style='warning', description='4', layout=Layout(height='100px', min_width='40px'), style=ButtonStyle()), Button(button_style='warning', description='5', layout=Layout(height='100px', min_width='40px'), style=ButtonStyle()), Button(button_style='warning', description='6', layout=Layout(height='100px', min_width='40px'), style=ButtonStyle()), Button(button_style='warning', description='7', layout=Layout(height='100px', min_width='40px'), style=ButtonStyle()), Button(button_style='warning', description='8', layout=Layout(height='100px', min_width='40px'), style=ButtonStyle()), Button(button_style='warning', description='9', layout=Layout(height='100px', min_width='40px'), style=ButtonStyle()), Button(button_style='warning', description='10', layout=Layout(height='100px', min_width='40px'), style=ButtonStyle()), Button(button_style='warning', description='11', layout=Layout(height='100px', min_width='40px'), style=ButtonStyle()), Button(button_style='warning', description='12', layout=Layout(height='100px', min_width='40px'), style=ButtonStyle()), Button(button_style='warning', description='13', layout=Layout(height='100px', min_width='40px'), style=ButtonStyle()), Button(button_style='warning', description='14', layout=Layout(height='100px', min_width='40px'), style=ButtonStyle()), Button(button_style='warning', description='15', layout=Layout(height='100px', min_width='40px'), style=ButtonStyle()), Button(button_style='warning', description='16', layout=Layout(height='100px', min_width='40px'), style=ButtonStyle()), Button(button_style='warning', description='17', layout=Layout(height='100px', min_width='40px'), style=ButtonStyle()), Button(button_style='warning', description='18', layout=Layout(height='100px', min_width='40px'), style=ButtonStyle()), Button(button_style='warning', description='19', layout=Layout(height='100px', min_width='40px'), style=ButtonStyle()), Button(button_style='warning', description='20', layout=Layout(height='100px', min_width='40px'), style=ButtonStyle()), Button(button_style='warning', description='21', layout=Layout(height='100px', min_width='40px'), style=ButtonStyle()), Button(button_style='warning', description='22', layout=Layout(height='100px', min_width='40px'), style=ButtonStyle()), Button(button_style='warning', description='23', layout=Layout(height='100px', min_width='40px'), style=ButtonStyle()), Button(button_style='warning', description='24', layout=Layout(height='100px', min_width='40px'), style=ButtonStyle()), Button(button_style='warning', description='25', layout=Layout(height='100px', min_width='40px'), style=ButtonStyle()), Button(button_style='warning', description='26', layout=Layout(height='100px', min_width='40px'), style=ButtonStyle()), Button(button_style='warning', description='27', layout=Layout(height='100px', min_width='40px'), style=ButtonStyle()), Button(button_style='warning', description='28', layout=Layout(height='100px', min_width='40px'), style=ButtonStyle()), Button(button_style='warning', description='29', layout=Layout(height='100px', min_width='40px'), style=ButtonStyle()), Button(button_style='warning', description='30', layout=Layout(height='100px', min_width='40px'), style=ButtonStyle()), Button(button_style='warning', description='31', layout=Layout(height='100px', min_width='40px'), style=ButtonStyle()), Button(button_style='warning', description='32', layout=Layout(height='100px', min_width='40px'), style=ButtonStyle()), Button(button_style='warning', description='33', layout=Layout(height='100px', min_width='40px'), style=ButtonStyle()), Button(button_style='warning', description='34', layout=Layout(height='100px', min_width='40px'), style=ButtonStyle()), Button(button_style='warning', description='35', layout=Layout(height='100px', min_width='40px'), style=ButtonStyle()), Button(button_style='warning', description='36', layout=Layout(height='100px', min_width='40px'), style=ButtonStyle()), Button(button_style='warning', description='37', layout=Layout(height='100px', min_width='40px'), style=ButtonStyle()), Button(button_style='warning', description='38', layout=Layout(height='100px', min_width='40px'), style=ButtonStyle()), Button(button_style='warning', description='39', layout=Layout(height='100px', min_width='40px'), style=ButtonStyle())), layout=Layout(border='3px solid black', display='flex', flex_flow='row', height='', overflow_x='scroll', width='500px'))))"
      ]
     },
     "metadata": {},
     "output_type": "display_data"
    }
   ],
   "source": [
    "from ipywidgets import Layout, Button, Box\n",
    "\n",
    "item_layout = Layout(height='100px', min_width='40px')\n",
    "items = [Button(layout=item_layout, description=str(i), button_style='warning') for i in range(40)]\n",
    "box_layout = Layout(overflow_x='scroll',\n",
    "                    border='3px solid black',\n",
    "                    width='500px',\n",
    "                    height='',\n",
    "                    flex_flow='row',\n",
    "                    display='flex')\n",
    "carousel = Box(children=items, layout=box_layout)\n",
    "VBox([Label('Scroll horizontally:'), carousel])"
   ]
  },
  {
   "cell_type": "markdown",
   "metadata": {},
   "source": [
    "## Predefined styles\n",
    "\n",
    "If you wish the styling of widgets to make use of colors and styles defined by the environment (to be consistent with e.g. a notebook theme), many widgets enable choosing in a list of pre-defined styles.\n",
    "\n",
    "For example, the `Button` widget has a `button_style` attribute that may take 5 different values:\n",
    "\n",
    " - `'primary'`\n",
    " - `'success'`\n",
    " - `'info'`\n",
    " - `'warning'`\n",
    " - `'danger'`\n",
    "\n",
    "besides the default empty string ''."
   ]
  },
  {
   "cell_type": "code",
   "execution_count": 43,
   "metadata": {},
   "outputs": [
    {
     "data": {
      "application/vnd.jupyter.widget-view+json": {
       "model_id": "6e604ceb8ca14b69ac2f120ab237f0bb",
       "version_major": 2,
       "version_minor": 0
      },
      "text/html": [
       "<p>Failed to display Jupyter Widget of type <code>Button</code>.</p>\n",
       "<p>\n",
       "  If you're reading this message in the Jupyter Notebook or JupyterLab Notebook, it may mean\n",
       "  that the widgets JavaScript is still loading. If this message persists, it\n",
       "  likely means that the widgets JavaScript library is either not installed or\n",
       "  not enabled. See the <a href=\"https://ipywidgets.readthedocs.io/en/stable/user_install.html\">Jupyter\n",
       "  Widgets Documentation</a> for setup instructions.\n",
       "</p>\n",
       "<p>\n",
       "  If you're reading this message in another frontend (for example, a static\n",
       "  rendering on GitHub or <a href=\"https://nbviewer.jupyter.org/\">NBViewer</a>),\n",
       "  it may mean that your frontend doesn't currently support widgets.\n",
       "</p>\n"
      ],
      "text/plain": [
       "Button(button_style='danger', description='Danger Button', style=ButtonStyle())"
      ]
     },
     "metadata": {},
     "output_type": "display_data"
    }
   ],
   "source": [
    "from ipywidgets import Button\n",
    "\n",
    "Button(description='Danger Button', button_style='danger')"
   ]
  },
  {
   "cell_type": "markdown",
   "metadata": {},
   "source": [
    "## The `style` attribute\n",
    "\n",
    "While the `layout` attribute only exposes layout-related CSS properties for the top-level DOM element of widgets, the  \n",
    "`style` attribute is used to expose non-layout related styling attributes of widgets.\n",
    "\n",
    "However, the properties of the `style` atribute are specific to each widget type."
   ]
  },
  {
   "cell_type": "code",
   "execution_count": 44,
   "metadata": {},
   "outputs": [
    {
     "data": {
      "application/vnd.jupyter.widget-view+json": {
       "model_id": "ca9a8952cc79427a939b108c7652c7e0",
       "version_major": 2,
       "version_minor": 0
      },
      "text/html": [
       "<p>Failed to display Jupyter Widget of type <code>Button</code>.</p>\n",
       "<p>\n",
       "  If you're reading this message in the Jupyter Notebook or JupyterLab Notebook, it may mean\n",
       "  that the widgets JavaScript is still loading. If this message persists, it\n",
       "  likely means that the widgets JavaScript library is either not installed or\n",
       "  not enabled. See the <a href=\"https://ipywidgets.readthedocs.io/en/stable/user_install.html\">Jupyter\n",
       "  Widgets Documentation</a> for setup instructions.\n",
       "</p>\n",
       "<p>\n",
       "  If you're reading this message in another frontend (for example, a static\n",
       "  rendering on GitHub or <a href=\"https://nbviewer.jupyter.org/\">NBViewer</a>),\n",
       "  it may mean that your frontend doesn't currently support widgets.\n",
       "</p>\n"
      ],
      "text/plain": [
       "Button(description='Custom color', style=ButtonStyle(button_color='lightgreen'))"
      ]
     },
     "metadata": {},
     "output_type": "display_data"
    }
   ],
   "source": [
    "b1 = Button(description='Custom color')\n",
    "b1.style.button_color = 'lightgreen'\n",
    "b1"
   ]
  },
  {
   "cell_type": "markdown",
   "metadata": {},
   "source": [
    "You can get a list of the style attributes for a widget with the `keys` property."
   ]
  },
  {
   "cell_type": "code",
   "execution_count": 45,
   "metadata": {},
   "outputs": [
    {
     "data": {
      "text/plain": [
       "['_model_module',\n",
       " '_model_module_version',\n",
       " '_model_name',\n",
       " '_view_count',\n",
       " '_view_module',\n",
       " '_view_module_version',\n",
       " '_view_name',\n",
       " 'button_color',\n",
       " 'font_weight']"
      ]
     },
     "execution_count": 45,
     "metadata": {},
     "output_type": "execute_result"
    }
   ],
   "source": [
    "b1.style.keys"
   ]
  },
  {
   "cell_type": "markdown",
   "metadata": {},
   "source": [
    "Just like the `layout` attribute, widget styles can be assigned to other widgets."
   ]
  },
  {
   "cell_type": "code",
   "execution_count": 46,
   "metadata": {},
   "outputs": [
    {
     "data": {
      "application/vnd.jupyter.widget-view+json": {
       "model_id": "639999da2a92460289230f0bca6d239f",
       "version_major": 2,
       "version_minor": 0
      },
      "text/html": [
       "<p>Failed to display Jupyter Widget of type <code>Button</code>.</p>\n",
       "<p>\n",
       "  If you're reading this message in the Jupyter Notebook or JupyterLab Notebook, it may mean\n",
       "  that the widgets JavaScript is still loading. If this message persists, it\n",
       "  likely means that the widgets JavaScript library is either not installed or\n",
       "  not enabled. See the <a href=\"https://ipywidgets.readthedocs.io/en/stable/user_install.html\">Jupyter\n",
       "  Widgets Documentation</a> for setup instructions.\n",
       "</p>\n",
       "<p>\n",
       "  If you're reading this message in another frontend (for example, a static\n",
       "  rendering on GitHub or <a href=\"https://nbviewer.jupyter.org/\">NBViewer</a>),\n",
       "  it may mean that your frontend doesn't currently support widgets.\n",
       "</p>\n"
      ],
      "text/plain": [
       "Button(style=ButtonStyle(button_color='lightgreen'))"
      ]
     },
     "metadata": {},
     "output_type": "display_data"
    }
   ],
   "source": [
    "b2 = Button()\n",
    "b2.style = b1.style\n",
    "b2"
   ]
  },
  {
   "cell_type": "markdown",
   "metadata": {},
   "source": [
    "Widget styling attributes are specific to each widget type."
   ]
  },
  {
   "cell_type": "code",
   "execution_count": 47,
   "metadata": {},
   "outputs": [
    {
     "data": {
      "application/vnd.jupyter.widget-view+json": {
       "model_id": "a986d0640d0b44bb89226c42fb101024",
       "version_major": 2,
       "version_minor": 0
      },
      "text/html": [
       "<p>Failed to display Jupyter Widget of type <code>IntSlider</code>.</p>\n",
       "<p>\n",
       "  If you're reading this message in the Jupyter Notebook or JupyterLab Notebook, it may mean\n",
       "  that the widgets JavaScript is still loading. If this message persists, it\n",
       "  likely means that the widgets JavaScript library is either not installed or\n",
       "  not enabled. See the <a href=\"https://ipywidgets.readthedocs.io/en/stable/user_install.html\">Jupyter\n",
       "  Widgets Documentation</a> for setup instructions.\n",
       "</p>\n",
       "<p>\n",
       "  If you're reading this message in another frontend (for example, a static\n",
       "  rendering on GitHub or <a href=\"https://nbviewer.jupyter.org/\">NBViewer</a>),\n",
       "  it may mean that your frontend doesn't currently support widgets.\n",
       "</p>\n"
      ],
      "text/plain": [
       "IntSlider(value=0, description='Blue handle', style=SliderStyle(handle_color='lightblue'))"
      ]
     },
     "metadata": {},
     "output_type": "display_data"
    }
   ],
   "source": [
    "s1 = IntSlider(description='Blue handle')\n",
    "s1.style.handle_color = 'lightblue'\n",
    "s1"
   ]
  }
 ],
 "metadata": {
  "hide_input": false,
  "kernelspec": {
   "display_name": "Python 3",
   "language": "python",
   "name": "python3"
  },
  "language_info": {
   "codemirror_mode": {
    "name": "ipython",
    "version": 3
   },
   "file_extension": ".py",
   "mimetype": "text/x-python",
   "name": "python",
   "nbconvert_exporter": "python",
   "pygments_lexer": "ipython3",
   "version": "3.6.4"
  },
  "varInspector": {
   "cols": {
    "lenName": 16,
    "lenType": 16,
    "lenVar": 40
   },
   "kernels_config": {
    "python": {
     "delete_cmd_postfix": "",
     "delete_cmd_prefix": "del ",
     "library": "var_list.py",
     "varRefreshCmd": "print(var_dic_list())"
    },
    "r": {
     "delete_cmd_postfix": ") ",
     "delete_cmd_prefix": "rm(",
     "library": "var_list.r",
     "varRefreshCmd": "cat(var_dic_list()) "
    }
   },
   "types_to_exclude": [
    "module",
    "function",
    "builtin_function_or_method",
    "instance",
    "_Feature"
   ],
   "window_display": false
  },
  "widgets": {
   "application/vnd.jupyter.widget-state+json": {
    "state": {
     "00d3def43dc549c588e1517925eb5d41": {
      "model_module": "@jupyter-widgets/controls",
      "model_module_version": "1.1.0",
      "model_name": "LabelModel",
      "state": {
       "layout": "IPY_MODEL_e1d03038a4b3423dba4b3573fcccc4d3",
       "style": "IPY_MODEL_ef4052d5cfd24fa5a6958d42311988d5",
       "value": "Scroll horizontally:"
      }
     },
     "00e9ec16d7d84326b4cde4c3d0ae5b47": {
      "model_module": "@jupyter-widgets/base",
      "model_module_version": "1.0.0",
      "model_name": "LayoutModel",
      "state": {
       "flex": "3 1 auto",
       "width": "auto"
      }
     },
     "011bc826aa2e4c22a3d36524d6bdc91c": {
      "model_module": "@jupyter-widgets/controls",
      "model_module_version": "1.1.0",
      "model_name": "BoxModel",
      "state": {
       "children": [
        "IPY_MODEL_c5eb1ffd8f28488b9bfca78fa69cf4fe",
        "IPY_MODEL_465d638d9bbe4351b22af994a060d933",
        "IPY_MODEL_5222417098c54a64a1fdeed6df6a606a"
       ],
       "layout": "IPY_MODEL_c6440ab3a3ed457f96adf6d72e36fe55"
      }
     },
     "013b0126d2604091a4ce991f50a5997a": {
      "model_module": "@jupyter-widgets/base",
      "model_module_version": "1.0.0",
      "model_name": "LayoutModel",
      "state": {}
     },
     "01488e2efec84e5898e782c31007d015": {
      "model_module": "@jupyter-widgets/base",
      "model_module_version": "1.0.0",
      "model_name": "LayoutModel",
      "state": {
       "align_items": "stretch",
       "border": "solid 2px",
       "display": "flex",
       "flex_flow": "column",
       "width": "50%"
      }
     },
     "015b4651f4404b6eaee18bdc71fee564": {
      "model_module": "@jupyter-widgets/base",
      "model_module_version": "1.0.0",
      "model_name": "LayoutModel",
      "state": {
       "flex": "1 1 0%",
       "width": "auto"
      }
     },
     "01694d224a7240f49bc0853d78ab812c": {
      "model_module": "@jupyter-widgets/controls",
      "model_module_version": "1.1.0",
      "model_name": "ButtonModel",
      "state": {
       "button_style": "danger",
       "description": "weight=1, auto",
       "layout": "IPY_MODEL_17ed65800d8641349eb768ce59e0a543",
       "style": "IPY_MODEL_c9e2344df6094fda820bb2f8082c68da"
      }
     },
     "018d697b47634ba5bf9c51bc72262084": {
      "model_module": "@jupyter-widgets/controls",
      "model_module_version": "1.1.0",
      "model_name": "ButtonStyleModel",
      "state": {}
     },
     "01ddfc3332a5498791ce816a12d3c2f1": {
      "model_module": "@jupyter-widgets/controls",
      "model_module_version": "1.1.0",
      "model_name": "ButtonStyleModel",
      "state": {}
     },
     "02340b87ee0a498db566a21bc5754310": {
      "model_module": "@jupyter-widgets/controls",
      "model_module_version": "1.1.0",
      "model_name": "ButtonModel",
      "state": {
       "button_style": "warning",
       "description": "6",
       "layout": "IPY_MODEL_0bed125e73a54bc88289042ff2c91375",
       "style": "IPY_MODEL_70b49ec4fca643dca9bf683bf8bd705b"
      }
     },
     "0244912ad75d404c919c386ff61952bb": {
      "model_module": "@jupyter-widgets/controls",
      "model_module_version": "1.1.0",
      "model_name": "ButtonModel",
      "state": {
       "button_style": "danger",
       "description": "weight=3, . 0%",
       "layout": "IPY_MODEL_5570ad7fd54e4c4d8ca69a9ad5948ba6",
       "style": "IPY_MODEL_69c86865e68f471395c658ae9e6c71f2"
      }
     },
     "02c3f89054774377abaac819d626ba4c": {
      "model_module": "@jupyter-widgets/base",
      "model_module_version": "1.0.0",
      "model_name": "LayoutModel",
      "state": {
       "flex": "1 1 0%",
       "width": "auto"
      }
     },
     "02d180af64114e84892a0098ead75054": {
      "model_module": "@jupyter-widgets/controls",
      "model_module_version": "1.1.0",
      "model_name": "ButtonStyleModel",
      "state": {}
     },
     "02ff6e2ffeee41a0a75e4b0c8230066c": {
      "model_module": "@jupyter-widgets/controls",
      "model_module_version": "1.1.0",
      "model_name": "ButtonModel",
      "state": {
       "description": "(50% width, 80px height) button",
       "layout": "IPY_MODEL_78f597e050054a95b6c204a4d5c5ba12",
       "style": "IPY_MODEL_c9b52da5c53a4b69ba7d1f2804145b2e"
      }
     },
     "03aef42ca0d140b284742725e332789d": {
      "model_module": "@jupyter-widgets/controls",
      "model_module_version": "1.1.0",
      "model_name": "ButtonStyleModel",
      "state": {}
     },
     "03d2f10cca034a13962696fbf2ce6d4d": {
      "model_module": "@jupyter-widgets/controls",
      "model_module_version": "1.1.0",
      "model_name": "ButtonModel",
      "state": {
       "button_style": "warning",
       "description": "11",
       "layout": "IPY_MODEL_86c93170059349499a5f76156cbd8cdf",
       "style": "IPY_MODEL_26809c04c3aa4cd3954680cef6271da3"
      }
     },
     "03e8db257bc445b79d2bbd0914c8a0de": {
      "model_module": "@jupyter-widgets/controls",
      "model_module_version": "1.1.0",
      "model_name": "ButtonStyleModel",
      "state": {}
     },
     "046a0b4ece8248e1b3b710bdf6a7b3ea": {
      "model_module": "@jupyter-widgets/controls",
      "model_module_version": "1.1.0",
      "model_name": "ButtonStyleModel",
      "state": {}
     },
     "0474bebc718a4d479893258403ee6d98": {
      "model_module": "@jupyter-widgets/controls",
      "model_module_version": "1.1.0",
      "model_name": "BoxModel",
      "state": {
       "children": [
        "IPY_MODEL_ff83abaf008e428cb7ea0ebc26e3b22a",
        "IPY_MODEL_3f7bc0f4ffbb4072b8c559319289a99c"
       ],
       "layout": "IPY_MODEL_9cec86147f73446a81e86fe6e7ee1f15"
      }
     },
     "0495d268740a478fb417a9353429380e": {
      "model_module": "@jupyter-widgets/controls",
      "model_module_version": "1.1.0",
      "model_name": "ButtonStyleModel",
      "state": {}
     },
     "04c7f9d1a4b74b5abdcee1171333cc96": {
      "model_module": "@jupyter-widgets/controls",
      "model_module_version": "1.1.0",
      "model_name": "BoxModel",
      "state": {
       "children": [
        "IPY_MODEL_e7c6c536b6074213b2e1c004e3f23180",
        "IPY_MODEL_968fa3494150462e96e12fd69a3a9814",
        "IPY_MODEL_491b59c1be6740f392a46d1d110b7547"
       ],
       "layout": "IPY_MODEL_65c2d2c3566b4e88867ccbe36b262f8c"
      }
     },
     "04e471f5df84465ea59b9a5b11f4bf23": {
      "model_module": "@jupyter-widgets/base",
      "model_module_version": "1.0.0",
      "model_name": "LayoutModel",
      "state": {}
     },
     "04fc6233d4ce4c3397f84b2b47803f3f": {
      "model_module": "@jupyter-widgets/controls",
      "model_module_version": "1.1.0",
      "model_name": "BoxModel",
      "state": {
       "children": [
        "IPY_MODEL_5af5a36524ba4c579f746b52e1a1df2a",
        "IPY_MODEL_0f578c19362a4dbab0356b424651bb7d",
        "IPY_MODEL_23e94f31e70d4b5fbd7162d22b6dfef8"
       ],
       "layout": "IPY_MODEL_3d2b12dd839341d29e20c26a0c1e09af"
      }
     },
     "06181f317c114c798f759ee857d3f190": {
      "model_module": "@jupyter-widgets/controls",
      "model_module_version": "1.1.0",
      "model_name": "ButtonStyleModel",
      "state": {}
     },
     "064bcdedc66840d69c61ad3a0d23e585": {
      "model_module": "@jupyter-widgets/controls",
      "model_module_version": "1.1.0",
      "model_name": "ButtonStyleModel",
      "state": {}
     },
     "068098de804041e281ea697d7ec634bd": {
      "model_module": "@jupyter-widgets/base",
      "model_module_version": "1.0.0",
      "model_name": "LayoutModel",
      "state": {}
     },
     "06d37f5f828a4504a78626b31b3184da": {
      "model_module": "@jupyter-widgets/controls",
      "model_module_version": "1.1.0",
      "model_name": "ButtonModel",
      "state": {
       "button_style": "warning",
       "description": "28",
       "layout": "IPY_MODEL_0bed125e73a54bc88289042ff2c91375",
       "style": "IPY_MODEL_fa1b0d9fc48a4b7ca4bc7dbc8448e96b"
      }
     },
     "06e68e0903ea440c82aa8cb86d51c14a": {
      "model_module": "@jupyter-widgets/controls",
      "model_module_version": "1.1.0",
      "model_name": "ButtonModel",
      "state": {
       "button_style": "warning",
       "description": "31",
       "layout": "IPY_MODEL_fd517e8255c04a5e8c946d6b492d3086",
       "style": "IPY_MODEL_a0acbabc51d84d14b7c2423bc4911983"
      }
     },
     "06f47ff951b14910b8ae41e1dbf8f4e3": {
      "model_module": "@jupyter-widgets/base",
      "model_module_version": "1.0.0",
      "model_name": "LayoutModel",
      "state": {}
     },
     "081e254dcb45444fb1d727a7569da754": {
      "model_module": "@jupyter-widgets/controls",
      "model_module_version": "1.1.0",
      "model_name": "ButtonModel",
      "state": {
       "button_style": "warning",
       "description": "32",
       "layout": "IPY_MODEL_0bed125e73a54bc88289042ff2c91375",
       "style": "IPY_MODEL_4af702ae153c410dba3d7d5a022122d2"
      }
     },
     "084767ec12244bb382ac5c5d82498d2e": {
      "model_module": "@jupyter-widgets/controls",
      "model_module_version": "1.1.0",
      "model_name": "ButtonStyleModel",
      "state": {}
     },
     "0868ac75096e4313ae843c73e951083c": {
      "model_module": "@jupyter-widgets/base",
      "model_module_version": "1.0.0",
      "model_name": "LayoutModel",
      "state": {}
     },
     "0884f5fe9f044e3bb6a858ee0c9ed354": {
      "model_module": "@jupyter-widgets/base",
      "model_module_version": "1.0.0",
      "model_name": "LayoutModel",
      "state": {}
     },
     "08b41d0e21414d7ea1b69954c5d8ccd1": {
      "model_module": "@jupyter-widgets/controls",
      "model_module_version": "1.1.0",
      "model_name": "ButtonStyleModel",
      "state": {}
     },
     "08f619c739dc4cb39aeeb08e2eae90dc": {
      "model_module": "@jupyter-widgets/base",
      "model_module_version": "1.0.0",
      "model_name": "LayoutModel",
      "state": {}
     },
     "0909dd3c366f464d8d087092ae83fb00": {
      "model_module": "@jupyter-widgets/controls",
      "model_module_version": "1.1.0",
      "model_name": "ButtonModel",
      "state": {
       "button_style": "warning",
       "description": "1",
       "layout": "IPY_MODEL_86c93170059349499a5f76156cbd8cdf",
       "style": "IPY_MODEL_f17377771f7049e190a14b5c5eceb10d"
      }
     },
     "090acda252c346d0b63701445c79c601": {
      "model_module": "@jupyter-widgets/controls",
      "model_module_version": "1.1.0",
      "model_name": "ButtonStyleModel",
      "state": {}
     },
     "0951adc347ce4785b1ca5044c793a8dc": {
      "model_module": "@jupyter-widgets/controls",
      "model_module_version": "1.1.0",
      "model_name": "ButtonStyleModel",
      "state": {}
     },
     "0965c2cf8add4341be15f1fbe8049ea7": {
      "model_module": "@jupyter-widgets/controls",
      "model_module_version": "1.1.0",
      "model_name": "ButtonModel",
      "state": {
       "description": "(50% width, 80px height) button",
       "layout": "IPY_MODEL_d66fd38c6a0149a98cd3361ae379bbf0",
       "style": "IPY_MODEL_ce8478405f8345668bbeacd6deae0224"
      }
     },
     "09b28be91da641078ee0d01807722a98": {
      "model_module": "@jupyter-widgets/controls",
      "model_module_version": "1.1.0",
      "model_name": "ButtonModel",
      "state": {
       "button_style": "warning",
       "description": "8",
       "layout": "IPY_MODEL_0bed125e73a54bc88289042ff2c91375",
       "style": "IPY_MODEL_ebddc045a795434888c3dbe362f361e8"
      }
     },
     "0a079dd297d84492a71af01cf92d10a8": {
      "model_module": "@jupyter-widgets/controls",
      "model_module_version": "1.1.0",
      "model_name": "ButtonModel",
      "state": {
       "description": "battery",
       "layout": "IPY_MODEL_8fdafeaf7f77494b937377f79f3d527c",
       "style": "IPY_MODEL_a9290642048c4999819a1d4e177a60f4"
      }
     },
     "0abac824f64f4de080e4f3bf9d19a3aa": {
      "model_module": "@jupyter-widgets/controls",
      "model_module_version": "1.1.0",
      "model_name": "ButtonModel",
      "state": {
       "button_style": "danger",
       "description": "Danger Button",
       "layout": "IPY_MODEL_2aa917f6da45476d91d52f08c93cee50",
       "style": "IPY_MODEL_e97b5a0afdcd4da5acdea782e5f27e71"
      }
     },
     "0ace049e703d4b3791d6f4e69084427b": {
      "model_module": "@jupyter-widgets/controls",
      "model_module_version": "1.1.0",
      "model_name": "ButtonStyleModel",
      "state": {}
     },
     "0b1b2f0cccc54b3a8312dbbc9a746df6": {
      "model_module": "@jupyter-widgets/base",
      "model_module_version": "1.0.0",
      "model_name": "LayoutModel",
      "state": {
       "flex": "1 1 auto",
       "width": "auto"
      }
     },
     "0b24fc39831441a9b6941a82edfbaaf1": {
      "model_module": "@jupyter-widgets/controls",
      "model_module_version": "1.1.0",
      "model_name": "BoxModel",
      "state": {
       "children": [
        "IPY_MODEL_9be60ad4ef5b4282a97125f138ad132b",
        "IPY_MODEL_c4cde0fc628c460397f664c2cd761f86"
       ],
       "layout": "IPY_MODEL_9cec86147f73446a81e86fe6e7ee1f15"
      }
     },
     "0bd3ef68f81141859b6fb4fe529cd47c": {
      "model_module": "@jupyter-widgets/controls",
      "model_module_version": "1.1.0",
      "model_name": "BoxModel",
      "state": {
       "children": [
        "IPY_MODEL_6f75f0851b4c40599d7d88100d52be88",
        "IPY_MODEL_c5d70bcfed9a4fabb59ad583a585726c",
        "IPY_MODEL_5af7ad0112994392818b1cee40ff5364",
        "IPY_MODEL_9629717020df48c5a34b08201c90d2c4"
       ],
       "layout": "IPY_MODEL_afa401374e3e4bdaa3c3048f6cebfd9e"
      }
     },
     "0be2f867389449eba56d3b1e10f03440": {
      "model_module": "@jupyter-widgets/base",
      "model_module_version": "1.0.0",
      "model_name": "LayoutModel",
      "state": {
       "flex": "1 1 0%",
       "width": "auto"
      }
     },
     "0bed125e73a54bc88289042ff2c91375": {
      "model_module": "@jupyter-widgets/base",
      "model_module_version": "1.0.0",
      "model_name": "LayoutModel",
      "state": {
       "height": "100px",
       "min_width": "40px"
      }
     },
     "0bfdfc7e1cc047f392733010ca26bfb5": {
      "model_module": "@jupyter-widgets/controls",
      "model_module_version": "1.1.0",
      "model_name": "ButtonModel",
      "state": {
       "description": "Custom color",
       "layout": "IPY_MODEL_d87741c2d4ee455d8360e382ae57ee64",
       "style": "IPY_MODEL_de2208827b4f48c68915e881ca794115"
      }
     },
     "0c3f8543279a4ebe8ec269ead2b465a9": {
      "model_module": "@jupyter-widgets/controls",
      "model_module_version": "1.1.0",
      "model_name": "ButtonStyleModel",
      "state": {}
     },
     "0c5023dba6be4bb59bc83c615107dc2f": {
      "model_module": "@jupyter-widgets/controls",
      "model_module_version": "1.1.0",
      "model_name": "LabelModel",
      "state": {
       "layout": "IPY_MODEL_e87e6f77fb0b4cce9f6dd7e55356a539",
       "style": "IPY_MODEL_7f8e87f4d63847fb99afcd0109a41550",
       "value": "A too long description"
      }
     },
     "0c77439d99134b369caca19a25d2d3f2": {
      "model_module": "@jupyter-widgets/controls",
      "model_module_version": "1.1.0",
      "model_name": "ButtonStyleModel",
      "state": {}
     },
     "0c79b3f721e8448a9ce4f3ee085b657d": {
      "model_module": "@jupyter-widgets/controls",
      "model_module_version": "1.1.0",
      "model_name": "ButtonModel",
      "state": {
       "button_style": "danger",
       "description": "correct",
       "layout": "IPY_MODEL_a6b94d05bfd147d89200feca71cf15b5",
       "style": "IPY_MODEL_eecad158d11e4ef393ffedbe589193d0"
      }
     },
     "0da17df2857140809605f302cd8fa998": {
      "model_module": "@jupyter-widgets/controls",
      "model_module_version": "1.1.0",
      "model_name": "BoxModel",
      "state": {
       "children": [
        "IPY_MODEL_110a3a070d534f9fafd63b6b8e536ab5",
        "IPY_MODEL_c244b4c92e614670ab9ad69f78ea1b38"
       ],
       "layout": "IPY_MODEL_9cec86147f73446a81e86fe6e7ee1f15"
      }
     },
     "0dabf4f326cd45b387ea53df67ecf9ff": {
      "model_module": "@jupyter-widgets/controls",
      "model_module_version": "1.1.0",
      "model_name": "ButtonStyleModel",
      "state": {}
     },
     "0de0a4ede1704419991adbf8320b84f9": {
      "model_module": "@jupyter-widgets/controls",
      "model_module_version": "1.1.0",
      "model_name": "ButtonStyleModel",
      "state": {}
     },
     "0dfd4464f2f649f3a2a9ad3428cd8227": {
      "model_module": "@jupyter-widgets/controls",
      "model_module_version": "1.1.0",
      "model_name": "BoxModel",
      "state": {
       "children": [
        "IPY_MODEL_fc913b2e21d0436292d9a6db9d8aae88",
        "IPY_MODEL_bace7b6260cb420481ebf818e1262496",
        "IPY_MODEL_9b78cc946f3f41f0a6850fc87dba8a77"
       ],
       "layout": "IPY_MODEL_9e1da5f90e3f48b4843f989e9ebeb220"
      }
     },
     "0e1a8ec26c144da2b9073b9c7bfb4942": {
      "model_module": "@jupyter-widgets/base",
      "model_module_version": "1.0.0",
      "model_name": "LayoutModel",
      "state": {
       "flex": "3 1 0%",
       "width": "auto"
      }
     },
     "0e33752dac53455da281e2af86893b03": {
      "model_module": "@jupyter-widgets/base",
      "model_module_version": "1.0.0",
      "model_name": "LayoutModel",
      "state": {
       "flex": "1 1 auto",
       "width": "auto"
      }
     },
     "0e5afcffed4e47e18d97bd2dc561877f": {
      "model_module": "@jupyter-widgets/controls",
      "model_module_version": "1.1.0",
      "model_name": "DescriptionStyleModel",
      "state": {
       "description_width": ""
      }
     },
     "0ea13892a47b4c2396ec2bba153d0c11": {
      "model_module": "@jupyter-widgets/base",
      "model_module_version": "1.0.0",
      "model_name": "LayoutModel",
      "state": {}
     },
     "0ea1638d4e4a4984a6e769ccdf98194e": {
      "model_module": "@jupyter-widgets/controls",
      "model_module_version": "1.1.0",
      "model_name": "ButtonStyleModel",
      "state": {}
     },
     "0f578c19362a4dbab0356b424651bb7d": {
      "model_module": "@jupyter-widgets/controls",
      "model_module_version": "1.1.0",
      "model_name": "ButtonModel",
      "state": {
       "button_style": "danger",
       "description": "weight=3, auto",
       "layout": "IPY_MODEL_7bf5882ca56f40fa914ad8ca215ee5b0",
       "style": "IPY_MODEL_454d96670ab0482a9909c8f7b2bb4d43"
      }
     },
     "0f8fce6f014b4771a02f3f1fda56ca44": {
      "model_module": "@jupyter-widgets/base",
      "model_module_version": "1.0.0",
      "model_name": "LayoutModel",
      "state": {
       "flex": "1 1 0%",
       "width": "auto"
      }
     },
     "0f95b95be3fc4aac9ac61c55e04691e7": {
      "model_module": "@jupyter-widgets/controls",
      "model_module_version": "1.1.0",
      "model_name": "ButtonModel",
      "state": {
       "button_style": "warning",
       "description": "7",
       "layout": "IPY_MODEL_fd517e8255c04a5e8c946d6b492d3086",
       "style": "IPY_MODEL_0fae4387c2e94adbb7c49d7f4efe61a3"
      }
     },
     "0fae4387c2e94adbb7c49d7f4efe61a3": {
      "model_module": "@jupyter-widgets/controls",
      "model_module_version": "1.1.0",
      "model_name": "ButtonStyleModel",
      "state": {}
     },
     "0fc7c651304b41e0b042d5c096c4d6ab": {
      "model_module": "@jupyter-widgets/base",
      "model_module_version": "1.0.0",
      "model_name": "LayoutModel",
      "state": {
       "align_items": "stretch",
       "display": "flex",
       "flex_flow": "row",
       "width": "70%"
      }
     },
     "0fecc7f087534f0684035c9d69d033a9": {
      "model_module": "@jupyter-widgets/controls",
      "model_module_version": "1.1.0",
      "model_name": "ButtonStyleModel",
      "state": {}
     },
     "100c47f7688442f2a3b009387067c8ed": {
      "model_module": "@jupyter-widgets/controls",
      "model_module_version": "1.1.0",
      "model_name": "ButtonModel",
      "state": {
       "button_style": "danger",
       "description": "weight=1, auto",
       "layout": "IPY_MODEL_67701eb3011646e8b515e76841d45a51",
       "style": "IPY_MODEL_9e2b6455cd1f43a8a7b139fc2c74bc5a"
      }
     },
     "106bea6662f34b60b9f5aa1e8aac5021": {
      "model_module": "@jupyter-widgets/controls",
      "model_module_version": "1.1.0",
      "model_name": "LabelModel",
      "state": {
       "layout": "IPY_MODEL_91d11360b1f54da0a62d8c4d524b6d3e",
       "style": "IPY_MODEL_78fd03fe180d485e843d1d0a02aeab2c",
       "value": "Egg style"
      }
     },
     "10efb154252045eab676fc357f71490a": {
      "model_module": "@jupyter-widgets/controls",
      "model_module_version": "1.1.0",
      "model_name": "IntSliderModel",
      "state": {
       "layout": "IPY_MODEL_4e78e99b94624044961f9a2aff616578",
       "max": 60,
       "min": 40,
       "style": "IPY_MODEL_7e3080c262864925b5208347c7bfe115",
       "value": 40
      }
     },
     "110a3a070d534f9fafd63b6b8e536ab5": {
      "model_module": "@jupyter-widgets/controls",
      "model_module_version": "1.1.0",
      "model_name": "LabelModel",
      "state": {
       "layout": "IPY_MODEL_384591c27dba454a8167ec6a914f3d4c",
       "style": "IPY_MODEL_b0ca8a293663460e8b7d9f3e10f3575e",
       "value": "Egg style"
      }
     },
     "1293c82fd4e04b448aebaa6ee19e1ab8": {
      "model_module": "@jupyter-widgets/controls",
      "model_module_version": "1.1.0",
      "model_name": "ButtonStyleModel",
      "state": {}
     },
     "139c88e3bd85485e9579c70e8a377618": {
      "model_module": "@jupyter-widgets/controls",
      "model_module_version": "1.1.0",
      "model_name": "ButtonModel",
      "state": {
       "button_style": "warning",
       "description": "12",
       "layout": "IPY_MODEL_fd517e8255c04a5e8c946d6b492d3086",
       "style": "IPY_MODEL_9433e387782f45cbbbb9c65e2b7d1625"
      }
     },
     "13af18f71e7349c7b08ccbf7e8f150ab": {
      "model_module": "@jupyter-widgets/controls",
      "model_module_version": "1.1.0",
      "model_name": "ButtonStyleModel",
      "state": {}
     },
     "14abb9e540c344cc8db3506d8b741de7": {
      "model_module": "@jupyter-widgets/controls",
      "model_module_version": "1.1.0",
      "model_name": "ButtonModel",
      "state": {
       "button_style": "warning",
       "description": "11",
       "layout": "IPY_MODEL_fd517e8255c04a5e8c946d6b492d3086",
       "style": "IPY_MODEL_58e0fbeafb8e400281d238e3bf1b9449"
      }
     },
     "14af3452480f458297990e6dc0e4feca": {
      "model_module": "@jupyter-widgets/controls",
      "model_module_version": "1.1.0",
      "model_name": "ButtonModel",
      "state": {
       "button_style": "warning",
       "description": "31",
       "layout": "IPY_MODEL_86c93170059349499a5f76156cbd8cdf",
       "style": "IPY_MODEL_67620e6a5449490a8b2ecb27586a04c1"
      }
     },
     "14db7e88103b449d93118284622d871a": {
      "model_module": "@jupyter-widgets/controls",
      "model_module_version": "1.1.0",
      "model_name": "ButtonStyleModel",
      "state": {}
     },
     "16a97e9607e54ecf93f015c88345ffb0": {
      "model_module": "@jupyter-widgets/controls",
      "model_module_version": "1.1.0",
      "model_name": "ButtonModel",
      "state": {
       "button_style": "warning",
       "description": "6",
       "layout": "IPY_MODEL_fd517e8255c04a5e8c946d6b492d3086",
       "style": "IPY_MODEL_f9c8eca4d7d94baf851505350a2822c0"
      }
     },
     "16dca3eb4959495bb182d69a6aa4f6c3": {
      "model_module": "@jupyter-widgets/controls",
      "model_module_version": "1.1.0",
      "model_name": "HBoxModel",
      "state": {
       "children": [
        "IPY_MODEL_0c5023dba6be4bb59bc83c615107dc2f",
        "IPY_MODEL_382602d550da4c60a7c0c77ac2c77b2c"
       ],
       "layout": "IPY_MODEL_b5d0887241094bd09973c9e896f2f14a"
      }
     },
     "17272b9fa6fe4a3488c4ffc64353a49c": {
      "model_module": "@jupyter-widgets/base",
      "model_module_version": "1.0.0",
      "model_name": "LayoutModel",
      "state": {
       "flex": "3 1 0%",
       "width": "auto"
      }
     },
     "176a617ae6374b4a8ec8878f5c77d687": {
      "model_module": "@jupyter-widgets/base",
      "model_module_version": "1.0.0",
      "model_name": "LayoutModel",
      "state": {
       "flex": "3 1 0%",
       "width": "auto"
      }
     },
     "179348c5f5c048e69bf87dee9ddf78b7": {
      "model_module": "@jupyter-widgets/controls",
      "model_module_version": "1.1.0",
      "model_name": "ButtonStyleModel",
      "state": {}
     },
     "17ed65800d8641349eb768ce59e0a543": {
      "model_module": "@jupyter-widgets/base",
      "model_module_version": "1.0.0",
      "model_name": "LayoutModel",
      "state": {
       "flex": "1 1 auto",
       "width": "auto"
      }
     },
     "184cff29bebe4b699e0054c798e7cd00": {
      "model_module": "@jupyter-widgets/base",
      "model_module_version": "1.0.0",
      "model_name": "LayoutModel",
      "state": {
       "align_items": "stretch",
       "display": "flex",
       "flex_flow": "row",
       "width": "70%"
      }
     },
     "1863d6da57324a43bd1669e03a0af7d7": {
      "model_module": "@jupyter-widgets/controls",
      "model_module_version": "1.1.0",
      "model_name": "ButtonStyleModel",
      "state": {}
     },
     "186bcbff1a0a4da8af51dd701626ca1d": {
      "model_module": "@jupyter-widgets/controls",
      "model_module_version": "1.1.0",
      "model_name": "ButtonModel",
      "state": {
       "button_style": "danger",
       "description": "battery",
       "layout": "IPY_MODEL_bcd253e9de8744b5aa2d301120481c38",
       "style": "IPY_MODEL_37eda4e583f3455fb7810d145b9aa1fd"
      }
     },
     "189d91e31b8f432a95dd0a271a86dfa4": {
      "model_module": "@jupyter-widgets/controls",
      "model_module_version": "1.1.0",
      "model_name": "ButtonStyleModel",
      "state": {}
     },
     "1906db4c233a45928717748000b4e50b": {
      "model_module": "@jupyter-widgets/controls",
      "model_module_version": "1.1.0",
      "model_name": "VBoxModel",
      "state": {
       "children": [
        "IPY_MODEL_7b98c57b57e345adb595fe9668a5a505",
        "IPY_MODEL_2c31538ca3aa4526badcd73c407e1c63"
       ],
       "layout": "IPY_MODEL_0868ac75096e4313ae843c73e951083c"
      }
     },
     "19334b76b10a45e6b06c3de0f9649173": {
      "model_module": "@jupyter-widgets/controls",
      "model_module_version": "1.1.0",
      "model_name": "ButtonStyleModel",
      "state": {}
     },
     "19e52b73f471464bbf22bcc3296ec004": {
      "model_module": "@jupyter-widgets/base",
      "model_module_version": "1.0.0",
      "model_name": "LayoutModel",
      "state": {}
     },
     "19e9c1bfab484107a9dc706db4db9fb6": {
      "model_module": "@jupyter-widgets/controls",
      "model_module_version": "1.1.0",
      "model_name": "ButtonStyleModel",
      "state": {}
     },
     "1a23f155631a4393b5cf51028b267023": {
      "model_module": "@jupyter-widgets/controls",
      "model_module_version": "1.1.0",
      "model_name": "ButtonModel",
      "state": {
       "button_style": "warning",
       "description": "25",
       "layout": "IPY_MODEL_86c93170059349499a5f76156cbd8cdf",
       "style": "IPY_MODEL_e97288a6d58c4c96999ac775891f8048"
      }
     },
     "1a91c92d744d41e1b3b637f6bade2ac5": {
      "model_module": "@jupyter-widgets/controls",
      "model_module_version": "1.1.0",
      "model_name": "IntSliderModel",
      "state": {
       "description": "A too long description",
       "layout": "IPY_MODEL_6b2935c107e942d8a4da88104b7c8541",
       "style": "IPY_MODEL_e2733f7b3d5345d3a6edf1eff8f25a4a"
      }
     },
     "1af478e67d014876a35642a64d1a718e": {
      "model_module": "@jupyter-widgets/base",
      "model_module_version": "1.0.0",
      "model_name": "LayoutModel",
      "state": {
       "flex": "3 1 auto",
       "width": "auto"
      }
     },
     "1b10e11355894fccbf5893210688c88a": {
      "model_module": "@jupyter-widgets/controls",
      "model_module_version": "1.1.0",
      "model_name": "ButtonStyleModel",
      "state": {}
     },
     "1b969a5a33434407ac600334c65b44bd": {
      "model_module": "@jupyter-widgets/controls",
      "model_module_version": "1.1.0",
      "model_name": "ButtonStyleModel",
      "state": {}
     },
     "1c531a2a3c6f4d299df32f5a9b5e0058": {
      "model_module": "@jupyter-widgets/controls",
      "model_module_version": "1.1.0",
      "model_name": "ButtonStyleModel",
      "state": {}
     },
     "1d623c3c991a4ca29386030ebd49b23a": {
      "model_module": "@jupyter-widgets/controls",
      "model_module_version": "1.1.0",
      "model_name": "IntSliderModel",
      "state": {
       "description": "\\(\\int_0^t f\\)",
       "layout": "IPY_MODEL_7124c76bb4aa4441b3d187dfc0b8b423",
       "style": "IPY_MODEL_ca7985d3abca46adb4fef796e2fe7220"
      }
     },
     "1d6904f1fa024244ad9766e8b4c0aa42": {
      "model_module": "@jupyter-widgets/base",
      "model_module_version": "1.0.0",
      "model_name": "LayoutModel",
      "state": {
       "flex": "3 1 auto",
       "width": "auto"
      }
     },
     "1da12b6063f148839fe2986d6a939ec9": {
      "model_module": "@jupyter-widgets/controls",
      "model_module_version": "1.1.0",
      "model_name": "ButtonModel",
      "state": {
       "description": "Another button with the same layout",
       "layout": "IPY_MODEL_d66fd38c6a0149a98cd3361ae379bbf0",
       "style": "IPY_MODEL_af64e5b832e0403e898b0554ddf5ed18"
      }
     },
     "1db3bcd4cdec48a69cc3901928263b6c": {
      "model_module": "@jupyter-widgets/base",
      "model_module_version": "1.0.0",
      "model_name": "LayoutModel",
      "state": {
       "flex": "1 1 auto",
       "width": "auto"
      }
     },
     "1e0ffccdcfea44e1a0993267c91d9cc9": {
      "model_module": "@jupyter-widgets/controls",
      "model_module_version": "1.1.0",
      "model_name": "DescriptionStyleModel",
      "state": {
       "description_width": ""
      }
     },
     "1e40d2bfaae0400385ffcb4152575777": {
      "model_module": "@jupyter-widgets/controls",
      "model_module_version": "1.1.0",
      "model_name": "ButtonModel",
      "state": {
       "button_style": "warning",
       "description": "38",
       "layout": "IPY_MODEL_0bed125e73a54bc88289042ff2c91375",
       "style": "IPY_MODEL_b2b0d4baa3ef4c8ba2a3e6ea29365195"
      }
     },
     "1f44e487b9e4410db5b36dfe1736cc4e": {
      "model_module": "@jupyter-widgets/controls",
      "model_module_version": "1.1.0",
      "model_name": "ButtonStyleModel",
      "state": {}
     },
     "1fc2ea30966b4f49bfe795c0ccb6347e": {
      "model_module": "@jupyter-widgets/base",
      "model_module_version": "1.0.0",
      "model_name": "LayoutModel",
      "state": {
       "flex": "1 1 auto",
       "width": "auto"
      }
     },
     "2016c0ec48904458bf2693bde22e35fb": {
      "model_module": "@jupyter-widgets/controls",
      "model_module_version": "1.1.0",
      "model_name": "HBoxModel",
      "state": {
       "children": [
        "IPY_MODEL_4142d55aad464e39822b7f70d9d49b39",
        "IPY_MODEL_6e1d632d7347464090b7473164d6ed84"
       ],
       "layout": "IPY_MODEL_6d54d28ad21a4cf0864a0845b5c61582"
      }
     },
     "209999af6f1d4967808b17983cee11c7": {
      "model_module": "@jupyter-widgets/base",
      "model_module_version": "1.0.0",
      "model_name": "LayoutModel",
      "state": {
       "flex": "1 1 auto",
       "width": "auto"
      }
     },
     "2106c4adc6f34134b823c84543e99bed": {
      "model_module": "@jupyter-widgets/controls",
      "model_module_version": "1.1.0",
      "model_name": "ButtonStyleModel",
      "state": {}
     },
     "21534eb86d9a4ee7ad7745e2f1a6ebbf": {
      "model_module": "@jupyter-widgets/controls",
      "model_module_version": "1.1.0",
      "model_name": "IntSliderModel",
      "state": {
       "description": "A too long description",
       "layout": "IPY_MODEL_606ec890c8af482da7531a6c8d74d29e",
       "style": "IPY_MODEL_9ec49c8dadb94340b4c49b006a2bafff"
      }
     },
     "2177d33a862f49738a1f9b74bdd97b0d": {
      "model_module": "@jupyter-widgets/base",
      "model_module_version": "1.0.0",
      "model_name": "LayoutModel",
      "state": {}
     },
     "21a29e5e8d02451a8f1b97922b0c1368": {
      "model_module": "@jupyter-widgets/controls",
      "model_module_version": "1.1.0",
      "model_name": "ButtonModel",
      "state": {
       "button_style": "danger",
       "description": "weight=3, auto",
       "layout": "IPY_MODEL_e9788b114ab94a5fad25a69828e15fcb",
       "style": "IPY_MODEL_dce360f484374cf796746559b9fcd0d9"
      }
     },
     "21abe44b358c433491f9e028953c5a2f": {
      "model_module": "@jupyter-widgets/base",
      "model_module_version": "1.0.0",
      "model_name": "LayoutModel",
      "state": {
       "align_items": "stretch",
       "border": "solid",
       "display": "flex",
       "flex_flow": "column",
       "width": "50%"
      }
     },
     "21ee2201002d402ba7524a76c392c281": {
      "model_module": "@jupyter-widgets/controls",
      "model_module_version": "1.1.0",
      "model_name": "ButtonModel",
      "state": {
       "button_style": "danger",
       "description": "correct",
       "layout": "IPY_MODEL_bcd253e9de8744b5aa2d301120481c38",
       "style": "IPY_MODEL_2bfd1478782d4e7aa0229b9da75d4f68"
      }
     },
     "21fe4ddb707b4d89a5c0cb187b7db377": {
      "model_module": "@jupyter-widgets/controls",
      "model_module_version": "1.1.0",
      "model_name": "SliderStyleModel",
      "state": {
       "description_width": ""
      }
     },
     "22bd7d63bb5d46a1a6b5d36e0df7e0b3": {
      "model_module": "@jupyter-widgets/controls",
      "model_module_version": "1.1.0",
      "model_name": "ButtonModel",
      "state": {
       "button_style": "warning",
       "description": "24",
       "layout": "IPY_MODEL_fd517e8255c04a5e8c946d6b492d3086",
       "style": "IPY_MODEL_02d180af64114e84892a0098ead75054"
      }
     },
     "236e8e823cbc465d9306ab7c1a74b7c8": {
      "model_module": "@jupyter-widgets/controls",
      "model_module_version": "1.1.0",
      "model_name": "ButtonModel",
      "state": {
       "button_style": "danger",
       "description": "weight=1, auto",
       "layout": "IPY_MODEL_ee9ba3f050b54caeb9cace538ea30f70",
       "style": "IPY_MODEL_69bbac212a3d4a0b8a7c3693e29a69e6"
      }
     },
     "23e94f31e70d4b5fbd7162d22b6dfef8": {
      "model_module": "@jupyter-widgets/controls",
      "model_module_version": "1.1.0",
      "model_name": "ButtonModel",
      "state": {
       "button_style": "danger",
       "description": "weight=1, auto",
       "layout": "IPY_MODEL_1db3bcd4cdec48a69cc3901928263b6c",
       "style": "IPY_MODEL_9a51496d736b4817b9262d2826bc0583"
      }
     },
     "2485bebfc7fb475089ce8d1226076bc2": {
      "model_module": "@jupyter-widgets/controls",
      "model_module_version": "1.1.0",
      "model_name": "ButtonStyleModel",
      "state": {}
     },
     "24a0ca13ad804948bbe56b68eabca5dc": {
      "model_module": "@jupyter-widgets/base",
      "model_module_version": "1.0.0",
      "model_name": "LayoutModel",
      "state": {
       "flex": "1 1 0%",
       "width": "auto"
      }
     },
     "2566f02da31d41c2b1ef0c7992da58cd": {
      "model_module": "@jupyter-widgets/controls",
      "model_module_version": "1.1.0",
      "model_name": "ButtonModel",
      "state": {
       "button_style": "danger",
       "description": "weight=3, auto",
       "layout": "IPY_MODEL_1af478e67d014876a35642a64d1a718e",
       "style": "IPY_MODEL_d21bea193ef54c6296816838bda5c801"
      }
     },
     "25f92d56adbf4b87a196c221a0b31dcd": {
      "model_module": "@jupyter-widgets/controls",
      "model_module_version": "1.1.0",
      "model_name": "ButtonStyleModel",
      "state": {}
     },
     "260add120ab84282b77af5d4b994ed3c": {
      "model_module": "@jupyter-widgets/controls",
      "model_module_version": "1.1.0",
      "model_name": "DescriptionStyleModel",
      "state": {
       "description_width": ""
      }
     },
     "266efae4a6144a01a622001aad39c189": {
      "model_module": "@jupyter-widgets/controls",
      "model_module_version": "1.1.0",
      "model_name": "ButtonStyleModel",
      "state": {}
     },
     "26809c04c3aa4cd3954680cef6271da3": {
      "model_module": "@jupyter-widgets/controls",
      "model_module_version": "1.1.0",
      "model_name": "ButtonStyleModel",
      "state": {}
     },
     "26951065e7a743c6965ae614a8cfcfd3": {
      "model_module": "@jupyter-widgets/base",
      "model_module_version": "1.0.0",
      "model_name": "LayoutModel",
      "state": {}
     },
     "26da586629ff4cba96bbac3c3bfa2913": {
      "model_module": "@jupyter-widgets/controls",
      "model_module_version": "1.1.0",
      "model_name": "ButtonStyleModel",
      "state": {}
     },
     "27f2a0e93f2647f39243c862fe9c7509": {
      "model_module": "@jupyter-widgets/controls",
      "model_module_version": "1.1.0",
      "model_name": "ButtonModel",
      "state": {
       "button_style": "danger",
       "description": "weight=1, auto",
       "layout": "IPY_MODEL_4972030f51454d14b85fa48753405776",
       "style": "IPY_MODEL_1293c82fd4e04b448aebaa6ee19e1ab8"
      }
     },
     "28280f150ef848ff9708fff7b4a3501f": {
      "model_module": "@jupyter-widgets/controls",
      "model_module_version": "1.1.0",
      "model_name": "BoxModel",
      "state": {
       "children": [
        "IPY_MODEL_45a73142a7f34f4daa0937afe5c7e5a7",
        "IPY_MODEL_b96514654aa04030bd84b8729d79f4c9"
       ],
       "layout": "IPY_MODEL_35e8631bf75b43d8998f73af71d66bee"
      }
     },
     "283b641507764067a844f1e83c515d0b": {
      "model_module": "@jupyter-widgets/controls",
      "model_module_version": "1.1.0",
      "model_name": "ButtonModel",
      "state": {
       "button_style": "warning",
       "description": "0",
       "layout": "IPY_MODEL_fd517e8255c04a5e8c946d6b492d3086",
       "style": "IPY_MODEL_5d55723e6d6b4fddae5091137d262c7c"
      }
     },
     "28511392cb774ca9be0508dc9f01d8e4": {
      "model_module": "@jupyter-widgets/base",
      "model_module_version": "1.0.0",
      "model_name": "LayoutModel",
      "state": {}
     },
     "28644a21964441f4986bde27379ce02b": {
      "model_module": "@jupyter-widgets/base",
      "model_module_version": "1.0.0",
      "model_name": "LayoutModel",
      "state": {}
     },
     "287006c856694fb096d94ecf36da90a9": {
      "model_module": "@jupyter-widgets/controls",
      "model_module_version": "1.1.0",
      "model_name": "ButtonStyleModel",
      "state": {}
     },
     "288b32cc3d5e45249dd303175b21d9ff": {
      "model_module": "@jupyter-widgets/controls",
      "model_module_version": "1.1.0",
      "model_name": "SliderStyleModel",
      "state": {
       "description_width": ""
      }
     },
     "28998aeb35f74feca1c6aba5dd697927": {
      "model_module": "@jupyter-widgets/base",
      "model_module_version": "1.0.0",
      "model_name": "LayoutModel",
      "state": {}
     },
     "29814439e9144be3aacdb2bfdd7a5349": {
      "model_module": "@jupyter-widgets/controls",
      "model_module_version": "1.1.0",
      "model_name": "ButtonModel",
      "state": {
       "button_style": "warning",
       "description": "27",
       "layout": "IPY_MODEL_86c93170059349499a5f76156cbd8cdf",
       "style": "IPY_MODEL_f79b7ab5630e4514b4b76e9700d1c127"
      }
     },
     "299c3dd0d01849af9a514fa35747f40a": {
      "model_module": "@jupyter-widgets/controls",
      "model_module_version": "1.1.0",
      "model_name": "ButtonModel",
      "state": {
       "button_style": "warning",
       "description": "36",
       "layout": "IPY_MODEL_86c93170059349499a5f76156cbd8cdf",
       "style": "IPY_MODEL_0de0a4ede1704419991adbf8320b84f9"
      }
     },
     "29fa7d3297a3420b9feffc839ea3cfb2": {
      "model_module": "@jupyter-widgets/controls",
      "model_module_version": "1.1.0",
      "model_name": "SliderStyleModel",
      "state": {
       "description_width": "initial"
      }
     },
     "2a53caa939244194a1c2d9549f579067": {
      "model_module": "@jupyter-widgets/base",
      "model_module_version": "1.0.0",
      "model_name": "LayoutModel",
      "state": {
       "flex": "1 1 0%",
       "width": "auto"
      }
     },
     "2a930140bcea421d8d09fcf63f00632e": {
      "model_module": "@jupyter-widgets/base",
      "model_module_version": "1.0.0",
      "model_name": "LayoutModel",
      "state": {}
     },
     "2aa917f6da45476d91d52f08c93cee50": {
      "model_module": "@jupyter-widgets/base",
      "model_module_version": "1.0.0",
      "model_name": "LayoutModel",
      "state": {}
     },
     "2ab29a84dd4d4dc8be9dbfcc766e152c": {
      "model_module": "@jupyter-widgets/controls",
      "model_module_version": "1.1.0",
      "model_name": "ButtonModel",
      "state": {
       "button_style": "danger",
       "description": "weight=1, auto",
       "layout": "IPY_MODEL_67856e7ac0ed456fa667dceab9ae3e79",
       "style": "IPY_MODEL_ca0a8455150d4356a58f826c2b0523b5"
      }
     },
     "2adeb1226af14019b73c4de8a28a23cf": {
      "model_module": "@jupyter-widgets/controls",
      "model_module_version": "1.1.0",
      "model_name": "ButtonStyleModel",
      "state": {}
     },
     "2af15aa4a87a4cadb238d43128227c77": {
      "model_module": "@jupyter-widgets/base",
      "model_module_version": "1.0.0",
      "model_name": "LayoutModel",
      "state": {
       "flex": "1 1 0%",
       "width": "auto"
      }
     },
     "2b0539103d3d46c5ac76d9f4886f5931": {
      "model_module": "@jupyter-widgets/base",
      "model_module_version": "1.0.0",
      "model_name": "LayoutModel",
      "state": {}
     },
     "2b903589a535484b80cf02e0d3c6650c": {
      "model_module": "@jupyter-widgets/base",
      "model_module_version": "1.0.0",
      "model_name": "LayoutModel",
      "state": {
       "flex": "3 1 0%",
       "width": "auto"
      }
     },
     "2bfd1478782d4e7aa0229b9da75d4f68": {
      "model_module": "@jupyter-widgets/controls",
      "model_module_version": "1.1.0",
      "model_name": "ButtonStyleModel",
      "state": {}
     },
     "2c31538ca3aa4526badcd73c407e1c63": {
      "model_module": "@jupyter-widgets/controls",
      "model_module_version": "1.1.0",
      "model_name": "BoxModel",
      "state": {
       "children": [
        "IPY_MODEL_785564e5d6394c42a4c7b4e8e4cf332c",
        "IPY_MODEL_5f35958bc1aa4a799d26f33dd76cff24",
        "IPY_MODEL_66791945a8bc4aedbbd3989097f144ed"
       ],
       "layout": "IPY_MODEL_f9e253f804314d6386cfe7c91326f02b"
      }
     },
     "2c8167fcc8754075be58af50164e2f64": {
      "model_module": "@jupyter-widgets/controls",
      "model_module_version": "1.1.0",
      "model_name": "BoxModel",
      "state": {
       "children": [
        "IPY_MODEL_9173d77663b347bebad7b0671e41668b",
        "IPY_MODEL_cce3125aeb7c4e7baac6d9049d70373d",
        "IPY_MODEL_b4ba553a71424456bca46dc303149219",
        "IPY_MODEL_3c2e250aebcc4bc986d2a6b5b691e922",
        "IPY_MODEL_d12b30dcb53349a89d582030dc000153",
        "IPY_MODEL_3472408f97354424ada55d03cbe6cac2",
        "IPY_MODEL_02340b87ee0a498db566a21bc5754310",
        "IPY_MODEL_7d532ed51e454ea3a176edf1cff86f59",
        "IPY_MODEL_09b28be91da641078ee0d01807722a98",
        "IPY_MODEL_e2042921f4964b69a9673c67f2fd43bd",
        "IPY_MODEL_4442993481334c17bad2f4ee690b2d90",
        "IPY_MODEL_3ed1e5dd11a142449004ee3367031281",
        "IPY_MODEL_acd2043215734b5d9fb850bb6c5a89a6",
        "IPY_MODEL_dd9c011aec164099bc9cc78a06751743",
        "IPY_MODEL_b865b20d730d4ccb823e139fc177042d",
        "IPY_MODEL_9705bfee420b49c6a9cf1d33eef9e86d",
        "IPY_MODEL_8b30b8c9e5224ac29171085269fafff7",
        "IPY_MODEL_5e8898c21eba4c89a9d5c54b00ad61a2",
        "IPY_MODEL_3827a35f000b4ed8ba8d64d9346b99f2",
        "IPY_MODEL_352d3cc6d66a4e7084882211b13a29a9",
        "IPY_MODEL_955742b09cbd457e9a6fcf281ff8cc5b",
        "IPY_MODEL_c470a433108e4e73ab0269f8382e4cb1",
        "IPY_MODEL_3ed9908d8c0744459287bb87528c45fd",
        "IPY_MODEL_bd7ce397c7df4ac7a06c42a52763909b",
        "IPY_MODEL_9d9f6522db4a4098b9a1cdd4f721dbfa",
        "IPY_MODEL_349e147bfd5248fab5dec83f0ce4989f",
        "IPY_MODEL_c121ef17da3147d9a7eb51a4ba6c70d6",
        "IPY_MODEL_d7501ec0387b4fe684398d4939a66396",
        "IPY_MODEL_06d37f5f828a4504a78626b31b3184da",
        "IPY_MODEL_aef25569ab604955a7ccf4bdbca15020",
        "IPY_MODEL_57fa16b731e544179d96130de599a949",
        "IPY_MODEL_aaf8f446eebd475fbedfb6ffad1550e4",
        "IPY_MODEL_081e254dcb45444fb1d727a7569da754",
        "IPY_MODEL_930b2b235c464c53aab096c622b7331e",
        "IPY_MODEL_652c776e3f3c4720a12aed820a8de305",
        "IPY_MODEL_fb53ead72855483e9eb02557567d5fc8",
        "IPY_MODEL_d26f1cbde67e481093c429f87afe727b",
        "IPY_MODEL_d09997804b194ea59d198fbc60029120",
        "IPY_MODEL_1e40d2bfaae0400385ffcb4152575777",
        "IPY_MODEL_8cd9bd3004e345a1805756c25792345b"
       ],
       "layout": "IPY_MODEL_a76217b727e7489c9033bdb1a5fad9fd"
      }
     },
     "2cb621fbacc74976b23ce11629c9e7ac": {
      "model_module": "@jupyter-widgets/controls",
      "model_module_version": "1.1.0",
      "model_name": "ButtonStyleModel",
      "state": {}
     },
     "2d04b0cbe7a8459ead5825ad63b7d1cb": {
      "model_module": "@jupyter-widgets/controls",
      "model_module_version": "1.1.0",
      "model_name": "ButtonStyleModel",
      "state": {}
     },
     "2dbc5b27b5a84121af55dee0f1d248f6": {
      "model_module": "@jupyter-widgets/controls",
      "model_module_version": "1.1.0",
      "model_name": "ButtonModel",
      "state": {
       "button_style": "warning",
       "description": "33",
       "layout": "IPY_MODEL_86c93170059349499a5f76156cbd8cdf",
       "style": "IPY_MODEL_acd1c1b8563348fba435e7bbe312e87a"
      }
     },
     "2dcf0bbf8ec84a799c1594eade6a79d2": {
      "model_module": "@jupyter-widgets/base",
      "model_module_version": "1.0.0",
      "model_name": "LayoutModel",
      "state": {
       "flex": "1 1 0%",
       "width": "auto"
      }
     },
     "2e64a40c083245f4a6d52f92aedcd346": {
      "model_module": "@jupyter-widgets/base",
      "model_module_version": "1.0.0",
      "model_name": "LayoutModel",
      "state": {}
     },
     "2e7d5587673b42ff981bea38d4a1f472": {
      "model_module": "@jupyter-widgets/controls",
      "model_module_version": "1.1.0",
      "model_name": "ButtonStyleModel",
      "state": {}
     },
     "2e901d77659c4408b208e6cca3097bfa": {
      "model_module": "@jupyter-widgets/controls",
      "model_module_version": "1.1.0",
      "model_name": "ButtonStyleModel",
      "state": {}
     },
     "2ea0a5ee70fe45129870d62f733cffc7": {
      "model_module": "@jupyter-widgets/controls",
      "model_module_version": "1.1.0",
      "model_name": "ButtonStyleModel",
      "state": {}
     },
     "2eb44a8f0575421b9722b176795021c2": {
      "model_module": "@jupyter-widgets/base",
      "model_module_version": "1.0.0",
      "model_name": "LayoutModel",
      "state": {
       "flex": "3 1 0%",
       "width": "auto"
      }
     },
     "2ee044ea88a84236a2490288522683ab": {
      "model_module": "@jupyter-widgets/controls",
      "model_module_version": "1.1.0",
      "model_name": "DescriptionStyleModel",
      "state": {
       "description_width": ""
      }
     },
     "2f11079449b44e678d9a76784bde87d8": {
      "model_module": "@jupyter-widgets/controls",
      "model_module_version": "1.1.0",
      "model_name": "ButtonModel",
      "state": {
       "button_style": "warning",
       "description": "19",
       "layout": "IPY_MODEL_fd517e8255c04a5e8c946d6b492d3086",
       "style": "IPY_MODEL_1f44e487b9e4410db5b36dfe1736cc4e"
      }
     },
     "2f6130ec3648437889bafd4a762e7a02": {
      "model_module": "@jupyter-widgets/base",
      "model_module_version": "1.0.0",
      "model_name": "LayoutModel",
      "state": {}
     },
     "2f65966be1d2480fa60e34fc61858b2f": {
      "model_module": "@jupyter-widgets/base",
      "model_module_version": "1.0.0",
      "model_name": "LayoutModel",
      "state": {}
     },
     "304598698c8e4e7ebce33c4be6781cbd": {
      "model_module": "@jupyter-widgets/controls",
      "model_module_version": "1.1.0",
      "model_name": "VBoxModel",
      "state": {
       "children": [
        "IPY_MODEL_51e5cec5371e47e2ab485f3db2663746",
        "IPY_MODEL_790293074759457b9c8191ada009ab71"
       ],
       "layout": "IPY_MODEL_973acfc711e84afea688845077be0bd7"
      }
     },
     "30b2a822ca85475c88fbc6628065d2df": {
      "model_module": "@jupyter-widgets/controls",
      "model_module_version": "1.1.0",
      "model_name": "ButtonStyleModel",
      "state": {}
     },
     "30fd6f9b53ed4103b4ba7233c2d881ac": {
      "model_module": "@jupyter-widgets/controls",
      "model_module_version": "1.1.0",
      "model_name": "ButtonStyleModel",
      "state": {}
     },
     "3168e8996b9646438c3da41646163b95": {
      "model_module": "@jupyter-widgets/controls",
      "model_module_version": "1.1.0",
      "model_name": "ButtonModel",
      "state": {
       "button_style": "warning",
       "description": "2",
       "layout": "IPY_MODEL_86c93170059349499a5f76156cbd8cdf",
       "style": "IPY_MODEL_eb519ea549d74d80a53b7fde8954f646"
      }
     },
     "31ec868c7d1b475b9eb5b5b9f5706da9": {
      "model_module": "@jupyter-widgets/base",
      "model_module_version": "1.0.0",
      "model_name": "LayoutModel",
      "state": {}
     },
     "3245b9e93a9e411a950d348a7b1024ca": {
      "model_module": "@jupyter-widgets/controls",
      "model_module_version": "1.1.0",
      "model_name": "ButtonStyleModel",
      "state": {}
     },
     "326f1c48b8564933a0525493c531ed8b": {
      "model_module": "@jupyter-widgets/controls",
      "model_module_version": "1.1.0",
      "model_name": "IntSliderModel",
      "state": {
       "description": "Blue handle",
       "layout": "IPY_MODEL_db113de302124b64936465823e38c6f2",
       "style": "IPY_MODEL_e4f1acc6185842578441f810de49be48"
      }
     },
     "32f6b3bf53824707b5caacc04c54d7b5": {
      "model_module": "@jupyter-widgets/controls",
      "model_module_version": "1.1.0",
      "model_name": "ButtonStyleModel",
      "state": {}
     },
     "331c83e196dd4f1fb7aeccf503aba102": {
      "model_module": "@jupyter-widgets/base",
      "model_module_version": "1.0.0",
      "model_name": "LayoutModel",
      "state": {
       "flex": "3 1 auto",
       "width": "auto"
      }
     },
     "342c3bbc119446b59897417b3b85aed9": {
      "model_module": "@jupyter-widgets/base",
      "model_module_version": "1.0.0",
      "model_name": "LayoutModel",
      "state": {}
     },
     "343f3fdb93d8441d804a56d7a3a79ac3": {
      "model_module": "@jupyter-widgets/controls",
      "model_module_version": "1.1.0",
      "model_name": "ButtonStyleModel",
      "state": {}
     },
     "3472408f97354424ada55d03cbe6cac2": {
      "model_module": "@jupyter-widgets/controls",
      "model_module_version": "1.1.0",
      "model_name": "ButtonModel",
      "state": {
       "button_style": "warning",
       "description": "5",
       "layout": "IPY_MODEL_0bed125e73a54bc88289042ff2c91375",
       "style": "IPY_MODEL_d6ef7a1fdb7546fab1f9418c45ec1fee"
      }
     },
     "349e147bfd5248fab5dec83f0ce4989f": {
      "model_module": "@jupyter-widgets/controls",
      "model_module_version": "1.1.0",
      "model_name": "ButtonModel",
      "state": {
       "button_style": "warning",
       "description": "25",
       "layout": "IPY_MODEL_0bed125e73a54bc88289042ff2c91375",
       "style": "IPY_MODEL_491155fcf80245b8a2a04a20397e878e"
      }
     },
     "34f1918e583848ebaa4a55ec450d5d05": {
      "model_module": "@jupyter-widgets/controls",
      "model_module_version": "1.1.0",
      "model_name": "ButtonStyleModel",
      "state": {}
     },
     "352321561c5a4966bac48900025a6bc7": {
      "model_module": "@jupyter-widgets/controls",
      "model_module_version": "1.1.0",
      "model_name": "ButtonModel",
      "state": {
       "button_style": "danger",
       "description": "weight=3, auto",
       "layout": "IPY_MODEL_adfab91c0b404a63b6080c92ec28134e",
       "style": "IPY_MODEL_71ec5f585b694ad0bf06dbc60e93c9a0"
      }
     },
     "352d3cc6d66a4e7084882211b13a29a9": {
      "model_module": "@jupyter-widgets/controls",
      "model_module_version": "1.1.0",
      "model_name": "ButtonModel",
      "state": {
       "button_style": "warning",
       "description": "19",
       "layout": "IPY_MODEL_0bed125e73a54bc88289042ff2c91375",
       "style": "IPY_MODEL_7c51e28db6f246148488698481edbda2"
      }
     },
     "35a8a87db9ce4ffdbe9170a841a17248": {
      "model_module": "@jupyter-widgets/controls",
      "model_module_version": "1.1.0",
      "model_name": "ButtonModel",
      "state": {
       "button_style": "danger",
       "description": "weight=1, _0%",
       "layout": "IPY_MODEL_892a09bc10834af289d5579182c2c849",
       "style": "IPY_MODEL_73dfe9ba838a4c0cb9e775761e99e3ff"
      }
     },
     "35e8631bf75b43d8998f73af71d66bee": {
      "model_module": "@jupyter-widgets/base",
      "model_module_version": "1.0.0",
      "model_name": "LayoutModel",
      "state": {
       "display": "flex",
       "flex_flow": "row",
       "justify_content": "space-between"
      }
     },
     "3614723fabfe46d9af33152b30efbcdd": {
      "model_module": "@jupyter-widgets/controls",
      "model_module_version": "1.1.0",
      "model_name": "DescriptionStyleModel",
      "state": {
       "description_width": ""
      }
     },
     "361cf5f5d5b249ecab67772a92357b70": {
      "model_module": "@jupyter-widgets/controls",
      "model_module_version": "1.1.0",
      "model_name": "BoxModel",
      "state": {
       "children": [
        "IPY_MODEL_604a6a384f0d4dfd853864819ec7e185",
        "IPY_MODEL_e9fc15c97c8e4990ad45d0265fc2eb43",
        "IPY_MODEL_74e9d9b443564016a04f66cd9316b2c0"
       ],
       "layout": "IPY_MODEL_0fc7c651304b41e0b042d5c096c4d6ab"
      }
     },
     "363d1e0bdecb482ebf4513e71dd97076": {
      "model_module": "@jupyter-widgets/controls",
      "model_module_version": "1.1.0",
      "model_name": "ButtonStyleModel",
      "state": {}
     },
     "3692fd149d7b4b7993f4215dc144b7d4": {
      "model_module": "@jupyter-widgets/base",
      "model_module_version": "1.0.0",
      "model_name": "LayoutModel",
      "state": {}
     },
     "36fd4ad8839c4208af2e75ec74575f67": {
      "model_module": "@jupyter-widgets/base",
      "model_module_version": "1.0.0",
      "model_name": "LayoutModel",
      "state": {}
     },
     "376612e7ff904a688647c0abb83bd071": {
      "model_module": "@jupyter-widgets/controls",
      "model_module_version": "1.1.0",
      "model_name": "ButtonStyleModel",
      "state": {}
     },
     "37d9f71b9ed043e48cd9318ee5133779": {
      "model_module": "@jupyter-widgets/controls",
      "model_module_version": "1.1.0",
      "model_name": "LabelModel",
      "state": {
       "layout": "IPY_MODEL_4a282fe84af443ddbc18638f25f1b2aa",
       "style": "IPY_MODEL_f1ea935c68574f75a7be4e1548c1065e",
       "value": "\\(e=mc^2\\)"
      }
     },
     "37eda4e583f3455fb7810d145b9aa1fd": {
      "model_module": "@jupyter-widgets/controls",
      "model_module_version": "1.1.0",
      "model_name": "ButtonStyleModel",
      "state": {}
     },
     "382602d550da4c60a7c0c77ac2c77b2c": {
      "model_module": "@jupyter-widgets/controls",
      "model_module_version": "1.1.0",
      "model_name": "IntSliderModel",
      "state": {
       "layout": "IPY_MODEL_342c3bbc119446b59897417b3b85aed9",
       "style": "IPY_MODEL_8b15b98f23694901975ce882ff94c2ae"
      }
     },
     "3827a35f000b4ed8ba8d64d9346b99f2": {
      "model_module": "@jupyter-widgets/controls",
      "model_module_version": "1.1.0",
      "model_name": "ButtonModel",
      "state": {
       "button_style": "warning",
       "description": "18",
       "layout": "IPY_MODEL_0bed125e73a54bc88289042ff2c91375",
       "style": "IPY_MODEL_3b3ad0a880424ace818ab9090e3e5ce1"
      }
     },
     "384591c27dba454a8167ec6a914f3d4c": {
      "model_module": "@jupyter-widgets/base",
      "model_module_version": "1.0.0",
      "model_name": "LayoutModel",
      "state": {}
     },
     "386ba40f1dd847568beb6e7b7c81599b": {
      "model_module": "@jupyter-widgets/base",
      "model_module_version": "1.0.0",
      "model_name": "LayoutModel",
      "state": {}
     },
     "38e605f60ee24d778110f3ec8289d4c2": {
      "model_module": "@jupyter-widgets/controls",
      "model_module_version": "1.1.0",
      "model_name": "ButtonModel",
      "state": {
       "button_style": "warning",
       "description": "5",
       "layout": "IPY_MODEL_86c93170059349499a5f76156cbd8cdf",
       "style": "IPY_MODEL_519d2b391cb344eba7ccbfd9febfecc3"
      }
     },
     "39c79500c9c64f5fbfe7a908c3d1a05a": {
      "model_module": "@jupyter-widgets/controls",
      "model_module_version": "1.1.0",
      "model_name": "BoxModel",
      "state": {
       "children": [
        "IPY_MODEL_6386579a8fe54020b4b78f743cc10062",
        "IPY_MODEL_4a8fbf9f4dc347ec93f6792ea868f02a",
        "IPY_MODEL_4ee47aea078c44f08bf16d2f1ca44db8"
       ],
       "layout": "IPY_MODEL_0fc7c651304b41e0b042d5c096c4d6ab"
      }
     },
     "3ad0cbfd365a431787af4b15cd2f423f": {
      "model_module": "@jupyter-widgets/controls",
      "model_module_version": "1.1.0",
      "model_name": "ButtonModel",
      "state": {
       "description": "staple",
       "layout": "IPY_MODEL_a89a3fa8e69f47d7ac2ee4df32f48e99",
       "style": "IPY_MODEL_6977ab1dfb394ffea855230d6b789a5f"
      }
     },
     "3b3ad0a880424ace818ab9090e3e5ce1": {
      "model_module": "@jupyter-widgets/controls",
      "model_module_version": "1.1.0",
      "model_name": "ButtonStyleModel",
      "state": {}
     },
     "3b4760fef7ae4dca8cc38e5b02279db8": {
      "model_module": "@jupyter-widgets/controls",
      "model_module_version": "1.1.0",
      "model_name": "ButtonStyleModel",
      "state": {}
     },
     "3b7f5e20ce554af08175c2403419a2f8": {
      "model_module": "@jupyter-widgets/base",
      "model_module_version": "1.0.0",
      "model_name": "LayoutModel",
      "state": {}
     },
     "3b8919e3fde04d2f9efdabcc05e716a9": {
      "model_module": "@jupyter-widgets/base",
      "model_module_version": "1.0.0",
      "model_name": "LayoutModel",
      "state": {}
     },
     "3b9fbeed8a4841a79e9259ef3aee971c": {
      "model_module": "@jupyter-widgets/controls",
      "model_module_version": "1.1.0",
      "model_name": "HBoxModel",
      "state": {
       "children": [
        "IPY_MODEL_4a828ef9d8a74b51ae154bcac6e70f61",
        "IPY_MODEL_41ba30cdc9c849e1bb58e811108bb9f9"
       ],
       "layout": "IPY_MODEL_f92e38beace94df081e26bd31452964f"
      }
     },
     "3c2e250aebcc4bc986d2a6b5b691e922": {
      "model_module": "@jupyter-widgets/controls",
      "model_module_version": "1.1.0",
      "model_name": "ButtonModel",
      "state": {
       "button_style": "warning",
       "description": "3",
       "layout": "IPY_MODEL_0bed125e73a54bc88289042ff2c91375",
       "style": "IPY_MODEL_2ea0a5ee70fe45129870d62f733cffc7"
      }
     },
     "3c3b2e39f9774a7f9bfd3961f6bffe23": {
      "model_module": "@jupyter-widgets/controls",
      "model_module_version": "1.1.0",
      "model_name": "LabelModel",
      "state": {
       "layout": "IPY_MODEL_6ee4ab689ea0463cbc4dc1d8688f39c2",
       "style": "IPY_MODEL_475d84e7f5ce47b3a4256351b25d909d",
       "value": "Information"
      }
     },
     "3cc1b9924d9c4c188ce04e760fb7a38a": {
      "model_module": "@jupyter-widgets/controls",
      "model_module_version": "1.1.0",
      "model_name": "ButtonStyleModel",
      "state": {}
     },
     "3ce1f09913cf4233ae448e8cc62e1b7c": {
      "model_module": "@jupyter-widgets/controls",
      "model_module_version": "1.1.0",
      "model_name": "ButtonModel",
      "state": {
       "button_style": "danger",
       "description": "weight=3, auto",
       "layout": "IPY_MODEL_7d8065b8e3c446d285c70e9a68c1021c",
       "style": "IPY_MODEL_f6508547e752499c8db0cbae4ab8f75a"
      }
     },
     "3d264b36b3f5425fb6a3b18e957699a6": {
      "model_module": "@jupyter-widgets/controls",
      "model_module_version": "1.1.0",
      "model_name": "DropdownModel",
      "state": {
       "_options_labels": [
        "Scrambled",
        "Sunny side up",
        "Over easy"
       ],
       "index": 0,
       "layout": "IPY_MODEL_e2633db0d1fe44459a52d69baa13532b",
       "style": "IPY_MODEL_4c0be0c66c2649d993f4d62e74d364a6"
      }
     },
     "3d2b12dd839341d29e20c26a0c1e09af": {
      "model_module": "@jupyter-widgets/base",
      "model_module_version": "1.0.0",
      "model_name": "LayoutModel",
      "state": {
       "align_items": "stretch",
       "display": "flex",
       "flex_flow": "row",
       "width": "70%"
      }
     },
     "3d4f360c87e94f419a557d63cceeb196": {
      "model_module": "@jupyter-widgets/controls",
      "model_module_version": "1.1.0",
      "model_name": "ButtonStyleModel",
      "state": {}
     },
     "3d6d73b0803c47c99781f8f5bd870104": {
      "model_module": "@jupyter-widgets/controls",
      "model_module_version": "1.1.0",
      "model_name": "ButtonModel",
      "state": {
       "button_style": "warning",
       "description": "30",
       "layout": "IPY_MODEL_86c93170059349499a5f76156cbd8cdf",
       "style": "IPY_MODEL_90fbc727b4564aa390c44ca5e957c356"
      }
     },
     "3dab232b405b43a58483e077e61bdbcc": {
      "model_module": "@jupyter-widgets/controls",
      "model_module_version": "1.1.0",
      "model_name": "HBoxModel",
      "state": {
       "children": [
        "IPY_MODEL_d7d7f989f8b14073b38926ad47009c5a",
        "IPY_MODEL_84447ea46574451f888023d1020d2f9c"
       ],
       "layout": "IPY_MODEL_28644a21964441f4986bde27379ce02b"
      }
     },
     "3dfd668465e440118f1564a33f4c74e4": {
      "model_module": "@jupyter-widgets/controls",
      "model_module_version": "1.1.0",
      "model_name": "ButtonModel",
      "state": {
       "description": "correct",
       "layout": "IPY_MODEL_d8fe3ef1a6a8463bae6d38c429f5ed42",
       "style": "IPY_MODEL_8f652531882e4c85a5394972768d3fbd"
      }
     },
     "3ed1e5dd11a142449004ee3367031281": {
      "model_module": "@jupyter-widgets/controls",
      "model_module_version": "1.1.0",
      "model_name": "ButtonModel",
      "state": {
       "button_style": "warning",
       "description": "11",
       "layout": "IPY_MODEL_0bed125e73a54bc88289042ff2c91375",
       "style": "IPY_MODEL_6902afcc0de84efb92f25271b33ccf48"
      }
     },
     "3ed9908d8c0744459287bb87528c45fd": {
      "model_module": "@jupyter-widgets/controls",
      "model_module_version": "1.1.0",
      "model_name": "ButtonModel",
      "state": {
       "button_style": "warning",
       "description": "22",
       "layout": "IPY_MODEL_0bed125e73a54bc88289042ff2c91375",
       "style": "IPY_MODEL_478d8026df574725972ab36546582549"
      }
     },
     "3f0316571089498c95476f14ff65c25a": {
      "model_module": "@jupyter-widgets/controls",
      "model_module_version": "1.1.0",
      "model_name": "ButtonModel",
      "state": {
       "button_style": "danger",
       "description": "weight=1, _0%",
       "layout": "IPY_MODEL_adda95e48f584812963dd3f44136138c",
       "style": "IPY_MODEL_eec04dbdbada431ea99c6f0aaff474ab"
      }
     },
     "3f7bc0f4ffbb4072b8c559319289a99c": {
      "model_module": "@jupyter-widgets/controls",
      "model_module_version": "1.1.0",
      "model_name": "FloatTextModel",
      "state": {
       "layout": "IPY_MODEL_93ca3bf8f5bb4a0596eab63c0b600680",
       "step": null,
       "style": "IPY_MODEL_a0ca0c36e11c4ed2a8f822ac774437cf"
      }
     },
     "3fbcd19465604353b48d42fb2ecbfa3f": {
      "model_module": "@jupyter-widgets/controls",
      "model_module_version": "1.1.0",
      "model_name": "ButtonModel",
      "state": {
       "button_style": "danger",
       "description": "weight=1, auto",
       "layout": "IPY_MODEL_910730341f114fc090250b0b1fe265da",
       "style": "IPY_MODEL_46203476fd4c44558cb3ccf76c1bd526"
      }
     },
     "3ffd808336cf411d9064cca6ea91d1ef": {
      "model_module": "@jupyter-widgets/controls",
      "model_module_version": "1.1.0",
      "model_name": "ButtonModel",
      "state": {
       "button_style": "danger",
       "description": "weight=3,      0%",
       "layout": "IPY_MODEL_65b716a481924258a6db42ac1f097883",
       "style": "IPY_MODEL_0c3f8543279a4ebe8ec269ead2b465a9"
      }
     },
     "405d3b5b20894d78b9291a57bbfb90d0": {
      "model_module": "@jupyter-widgets/controls",
      "model_module_version": "1.1.0",
      "model_name": "ButtonStyleModel",
      "state": {}
     },
     "40d42bf8f78e4f8c8e6028315a78f16c": {
      "model_module": "@jupyter-widgets/controls",
      "model_module_version": "1.1.0",
      "model_name": "ButtonStyleModel",
      "state": {}
     },
     "40ffc9f6574749b1b8de840437770d2f": {
      "model_module": "@jupyter-widgets/controls",
      "model_module_version": "1.1.0",
      "model_name": "ButtonModel",
      "state": {
       "button_style": "warning",
       "description": "20",
       "layout": "IPY_MODEL_86c93170059349499a5f76156cbd8cdf",
       "style": "IPY_MODEL_d6cfa902402c4241a698ed4b8771fb74"
      }
     },
     "4142d55aad464e39822b7f70d9d49b39": {
      "model_module": "@jupyter-widgets/controls",
      "model_module_version": "1.1.0",
      "model_name": "VBoxModel",
      "state": {
       "children": [
        "IPY_MODEL_3dfd668465e440118f1564a33f4c74e4",
        "IPY_MODEL_531d416473434c0eaaa629aeabb005be"
       ],
       "layout": "IPY_MODEL_9757263eee1d4c3eb491103197390828"
      }
     },
     "41b39b93b67b4ec0af171f1c0823ebcb": {
      "model_module": "@jupyter-widgets/controls",
      "model_module_version": "1.1.0",
      "model_name": "ButtonStyleModel",
      "state": {}
     },
     "41ba30cdc9c849e1bb58e811108bb9f9": {
      "model_module": "@jupyter-widgets/controls",
      "model_module_version": "1.1.0",
      "model_name": "VBoxModel",
      "state": {
       "children": [
        "IPY_MODEL_0a079dd297d84492a71af01cf92d10a8",
        "IPY_MODEL_96cfb06f216e4aee836f764ba3569162"
       ],
       "layout": "IPY_MODEL_6b420290abab40dd83213e17567585de"
      }
     },
     "41dbb613cefd418fb20a17ebddf9db0e": {
      "model_module": "@jupyter-widgets/base",
      "model_module_version": "1.0.0",
      "model_name": "LayoutModel",
      "state": {
       "flex": "1 1 auto",
       "width": "auto"
      }
     },
     "4263b6f63d1948dc8a4d6ac8de41a03d": {
      "model_module": "@jupyter-widgets/controls",
      "model_module_version": "1.1.0",
      "model_name": "DescriptionStyleModel",
      "state": {
       "description_width": ""
      }
     },
     "42c5b4a9bec94fb5bbd57ce69e7c59f8": {
      "model_module": "@jupyter-widgets/controls",
      "model_module_version": "1.1.0",
      "model_name": "DescriptionStyleModel",
      "state": {
       "description_width": ""
      }
     },
     "42ca44f73ad044ea9e844dca608a5feb": {
      "model_module": "@jupyter-widgets/controls",
      "model_module_version": "1.1.0",
      "model_name": "ButtonModel",
      "state": {
       "button_style": "warning",
       "description": "37",
       "layout": "IPY_MODEL_fd517e8255c04a5e8c946d6b492d3086",
       "style": "IPY_MODEL_c8922cf8a65547c4bfe7f6434de8bfe3"
      }
     },
     "43f39dcd411e4101a7da276ebef70d16": {
      "model_module": "@jupyter-widgets/controls",
      "model_module_version": "1.1.0",
      "model_name": "ButtonStyleModel",
      "state": {}
     },
     "4426d123defb4888850b04db81ecb260": {
      "model_module": "@jupyter-widgets/controls",
      "model_module_version": "1.1.0",
      "model_name": "ButtonStyleModel",
      "state": {}
     },
     "4442993481334c17bad2f4ee690b2d90": {
      "model_module": "@jupyter-widgets/controls",
      "model_module_version": "1.1.0",
      "model_name": "ButtonModel",
      "state": {
       "button_style": "warning",
       "description": "10",
       "layout": "IPY_MODEL_0bed125e73a54bc88289042ff2c91375",
       "style": "IPY_MODEL_d33df8152aff4551a068fcbf4de708c5"
      }
     },
     "445e6697c10648978ad4c1189179808d": {
      "model_module": "@jupyter-widgets/controls",
      "model_module_version": "1.1.0",
      "model_name": "ButtonModel",
      "state": {
       "button_style": "warning",
       "description": "23",
       "layout": "IPY_MODEL_fd517e8255c04a5e8c946d6b492d3086",
       "style": "IPY_MODEL_cd758f48d82e436a8849c3bb3a0197d4"
      }
     },
     "4466fdd2b55d488cb404abc7092bf7d2": {
      "model_module": "@jupyter-widgets/controls",
      "model_module_version": "1.1.0",
      "model_name": "ButtonStyleModel",
      "state": {}
     },
     "454d96670ab0482a9909c8f7b2bb4d43": {
      "model_module": "@jupyter-widgets/controls",
      "model_module_version": "1.1.0",
      "model_name": "ButtonStyleModel",
      "state": {}
     },
     "458fdda8429449f58e4fc55b637020a0": {
      "model_module": "@jupyter-widgets/controls",
      "model_module_version": "1.1.0",
      "model_name": "ButtonModel",
      "state": {
       "button_style": "danger",
       "description": "horse",
       "layout": "IPY_MODEL_a6b94d05bfd147d89200feca71cf15b5",
       "style": "IPY_MODEL_a180bc59eded4ca4adf03dc005bd9403"
      }
     },
     "45a18b30135545d59ad3638c8cc2775f": {
      "model_module": "@jupyter-widgets/base",
      "model_module_version": "1.0.0",
      "model_name": "LayoutModel",
      "state": {
       "align_items": "stretch",
       "border": "solid",
       "display": "flex",
       "flex_flow": "column",
       "width": "50%"
      }
     },
     "45a73142a7f34f4daa0937afe5c7e5a7": {
      "model_module": "@jupyter-widgets/controls",
      "model_module_version": "1.1.0",
      "model_name": "LabelModel",
      "state": {
       "layout": "IPY_MODEL_a8a13859ac5146d6bd746945078615a9",
       "style": "IPY_MODEL_260add120ab84282b77af5d4b994ed3c",
       "value": "Age of the captain"
      }
     },
     "45a7c0fe0a0d494c8ead55063cd5930d": {
      "model_module": "@jupyter-widgets/base",
      "model_module_version": "1.0.0",
      "model_name": "LayoutModel",
      "state": {
       "flex": "1 1 auto",
       "width": "auto"
      }
     },
     "46203476fd4c44558cb3ccf76c1bd526": {
      "model_module": "@jupyter-widgets/controls",
      "model_module_version": "1.1.0",
      "model_name": "ButtonStyleModel",
      "state": {}
     },
     "465d638d9bbe4351b22af994a060d933": {
      "model_module": "@jupyter-widgets/controls",
      "model_module_version": "1.1.0",
      "model_name": "ButtonModel",
      "state": {
       "button_style": "danger",
       "description": "weight=3, auto",
       "layout": "IPY_MODEL_00e9ec16d7d84326b4cde4c3d0ae5b47",
       "style": "IPY_MODEL_9c3552d52c7b4f95b62a5e89ee6a1602"
      }
     },
     "46f208bac32a43c48abe32c5f7d8d9f6": {
      "model_module": "@jupyter-widgets/controls",
      "model_module_version": "1.1.0",
      "model_name": "SliderStyleModel",
      "state": {
       "description_width": ""
      }
     },
     "47265459bee64e5c9279549d290a693e": {
      "model_module": "@jupyter-widgets/base",
      "model_module_version": "1.0.0",
      "model_name": "LayoutModel",
      "state": {
       "flex": "1 1 0%",
       "width": "auto"
      }
     },
     "475d84e7f5ce47b3a4256351b25d909d": {
      "model_module": "@jupyter-widgets/controls",
      "model_module_version": "1.1.0",
      "model_name": "DescriptionStyleModel",
      "state": {
       "description_width": ""
      }
     },
     "478d8026df574725972ab36546582549": {
      "model_module": "@jupyter-widgets/controls",
      "model_module_version": "1.1.0",
      "model_name": "ButtonStyleModel",
      "state": {}
     },
     "488ee290cffb481d89e6530e1258dced": {
      "model_module": "@jupyter-widgets/controls",
      "model_module_version": "1.1.0",
      "model_name": "ButtonStyleModel",
      "state": {}
     },
     "491155fcf80245b8a2a04a20397e878e": {
      "model_module": "@jupyter-widgets/controls",
      "model_module_version": "1.1.0",
      "model_name": "ButtonStyleModel",
      "state": {}
     },
     "491b59c1be6740f392a46d1d110b7547": {
      "model_module": "@jupyter-widgets/controls",
      "model_module_version": "1.1.0",
      "model_name": "ButtonModel",
      "state": {
       "button_style": "danger",
       "description": "weight=1, _0%",
       "layout": "IPY_MODEL_6aa09bc55f334a1abdf181c6b085bbbb",
       "style": "IPY_MODEL_65eef500891b4203885383e58aa64095"
      }
     },
     "4972030f51454d14b85fa48753405776": {
      "model_module": "@jupyter-widgets/base",
      "model_module_version": "1.0.0",
      "model_name": "LayoutModel",
      "state": {
       "flex": "1 1 auto",
       "width": "auto"
      }
     },
     "4a007ab00e20499a8a467428ea51a7d6": {
      "model_module": "@jupyter-widgets/controls",
      "model_module_version": "1.1.0",
      "model_name": "LabelModel",
      "state": {
       "layout": "IPY_MODEL_87f7b1cb972f4626934459e4180d6590",
       "style": "IPY_MODEL_6fd762f820b94038904142d368841123",
       "value": "Ship size"
      }
     },
     "4a16075f176342a291372d4c317da9d3": {
      "model_module": "@jupyter-widgets/base",
      "model_module_version": "1.0.0",
      "model_name": "LayoutModel",
      "state": {
       "flex": "2 1 auto",
       "width": "auto"
      }
     },
     "4a282fe84af443ddbc18638f25f1b2aa": {
      "model_module": "@jupyter-widgets/base",
      "model_module_version": "1.0.0",
      "model_name": "LayoutModel",
      "state": {}
     },
     "4a5974309e0044c38232bf61223ac702": {
      "model_module": "@jupyter-widgets/controls",
      "model_module_version": "1.1.0",
      "model_name": "ButtonStyleModel",
      "state": {}
     },
     "4a828ef9d8a74b51ae154bcac6e70f61": {
      "model_module": "@jupyter-widgets/controls",
      "model_module_version": "1.1.0",
      "model_name": "VBoxModel",
      "state": {
       "children": [
        "IPY_MODEL_fa664e8e6f6042ca8fb0f44882506354",
        "IPY_MODEL_f2e7ca24b4dc40a8b734105f38943213"
       ],
       "layout": "IPY_MODEL_2e64a40c083245f4a6d52f92aedcd346"
      }
     },
     "4a8fbf9f4dc347ec93f6792ea868f02a": {
      "model_module": "@jupyter-widgets/controls",
      "model_module_version": "1.1.0",
      "model_name": "ButtonModel",
      "state": {
       "button_style": "danger",
       "description": "weight=3, auto",
       "layout": "IPY_MODEL_331c83e196dd4f1fb7aeccf503aba102",
       "style": "IPY_MODEL_3b4760fef7ae4dca8cc38e5b02279db8"
      }
     },
     "4af702ae153c410dba3d7d5a022122d2": {
      "model_module": "@jupyter-widgets/controls",
      "model_module_version": "1.1.0",
      "model_name": "ButtonStyleModel",
      "state": {}
     },
     "4afdcb76413d431db6a5966e8c02e6f5": {
      "model_module": "@jupyter-widgets/base",
      "model_module_version": "1.0.0",
      "model_name": "LayoutModel",
      "state": {
       "flex": "3 1 0%",
       "width": "auto"
      }
     },
     "4bc0dad70cd24a1cade038f08bd08f92": {
      "model_module": "@jupyter-widgets/base",
      "model_module_version": "1.0.0",
      "model_name": "LayoutModel",
      "state": {
       "flex": "3 1 auto",
       "width": "auto"
      }
     },
     "4c0be0c66c2649d993f4d62e74d364a6": {
      "model_module": "@jupyter-widgets/controls",
      "model_module_version": "1.1.0",
      "model_name": "DescriptionStyleModel",
      "state": {
       "description_width": ""
      }
     },
     "4c2d4e2e91e94249a69392f92533b5c7": {
      "model_module": "@jupyter-widgets/base",
      "model_module_version": "1.0.0",
      "model_name": "LayoutModel",
      "state": {}
     },
     "4c2d648a95f94248ab2a0e3c1c1baabe": {
      "model_module": "@jupyter-widgets/controls",
      "model_module_version": "1.1.0",
      "model_name": "ButtonModel",
      "state": {
       "button_style": "warning",
       "description": "9",
       "layout": "IPY_MODEL_86c93170059349499a5f76156cbd8cdf",
       "style": "IPY_MODEL_1b969a5a33434407ac600334c65b44bd"
      }
     },
     "4cc2a1b550e44583b875556daaec1ba9": {
      "model_module": "@jupyter-widgets/controls",
      "model_module_version": "1.1.0",
      "model_name": "ButtonModel",
      "state": {
       "button_style": "warning",
       "description": "8",
       "layout": "IPY_MODEL_fd517e8255c04a5e8c946d6b492d3086",
       "style": "IPY_MODEL_30fd6f9b53ed4103b4ba7233c2d881ac"
      }
     },
     "4cc2c5d68369416fa1e0c69092aef7f0": {
      "model_module": "@jupyter-widgets/controls",
      "model_module_version": "1.1.0",
      "model_name": "ButtonStyleModel",
      "state": {}
     },
     "4d3d352366ea41dd8f7dad84f8e13038": {
      "model_module": "@jupyter-widgets/controls",
      "model_module_version": "1.1.0",
      "model_name": "HBoxModel",
      "state": {
       "children": [
        "IPY_MODEL_75e09abad9274b76b77775d32df0961b",
        "IPY_MODEL_7f0cd238b8bd4bceb5cf7a80d9708443"
       ],
       "layout": "IPY_MODEL_937f63b6249547e590f294b2ab70dc8b"
      }
     },
     "4e1e7db8dda84c78ad4f549f581c888c": {
      "model_module": "@jupyter-widgets/controls",
      "model_module_version": "1.1.0",
      "model_name": "ButtonStyleModel",
      "state": {}
     },
     "4e6a91179f2749ffbb811f237feb7980": {
      "model_module": "@jupyter-widgets/controls",
      "model_module_version": "1.1.0",
      "model_name": "ButtonStyleModel",
      "state": {}
     },
     "4e78e99b94624044961f9a2aff616578": {
      "model_module": "@jupyter-widgets/base",
      "model_module_version": "1.0.0",
      "model_name": "LayoutModel",
      "state": {}
     },
     "4eb11aba0aa046d09ce542e8da041085": {
      "model_module": "@jupyter-widgets/controls",
      "model_module_version": "1.1.0",
      "model_name": "TextareaModel",
      "state": {
       "layout": "IPY_MODEL_50a9f25a5b584df3b3395d2cf5c6b0e3",
       "style": "IPY_MODEL_b2f3bd39915841d08a1911899bd3fc29"
      }
     },
     "4ed86549c73c4e9aa2dd9a5afeb4fba8": {
      "model_module": "@jupyter-widgets/controls",
      "model_module_version": "1.1.0",
      "model_name": "ButtonStyleModel",
      "state": {}
     },
     "4ee47aea078c44f08bf16d2f1ca44db8": {
      "model_module": "@jupyter-widgets/controls",
      "model_module_version": "1.1.0",
      "model_name": "ButtonModel",
      "state": {
       "button_style": "danger",
       "description": "weight=1, auto",
       "layout": "IPY_MODEL_a223c449154e4ea2ace7674ad3b26404",
       "style": "IPY_MODEL_59c749bf17934b0c8f439c71ec1d8c93"
      }
     },
     "500c90f70e2c4d02a3c3bdb1f1421a6e": {
      "model_module": "@jupyter-widgets/controls",
      "model_module_version": "1.1.0",
      "model_name": "ButtonModel",
      "state": {
       "button_style": "warning",
       "description": "9",
       "layout": "IPY_MODEL_fd517e8255c04a5e8c946d6b492d3086",
       "style": "IPY_MODEL_dd769854419b405da4916e80cf692698"
      }
     },
     "508ff4a7ef3749a4998251ac85ea84fe": {
      "model_module": "@jupyter-widgets/controls",
      "model_module_version": "1.1.0",
      "model_name": "BoxModel",
      "state": {
       "children": [
        "IPY_MODEL_93baa6ec719c47e39cc50a7196ce524b",
        "IPY_MODEL_352321561c5a4966bac48900025a6bc7",
        "IPY_MODEL_dbdb962f8323472ca7bfa9e3d897dd19"
       ],
       "layout": "IPY_MODEL_af4993a030164d78ae003483b61e1118"
      }
     },
     "50a9f25a5b584df3b3395d2cf5c6b0e3": {
      "model_module": "@jupyter-widgets/base",
      "model_module_version": "1.0.0",
      "model_name": "LayoutModel",
      "state": {}
     },
     "51597460f6c1414da59502a69a90879c": {
      "model_module": "@jupyter-widgets/controls",
      "model_module_version": "1.1.0",
      "model_name": "ButtonStyleModel",
      "state": {}
     },
     "519d2b391cb344eba7ccbfd9febfecc3": {
      "model_module": "@jupyter-widgets/controls",
      "model_module_version": "1.1.0",
      "model_name": "ButtonStyleModel",
      "state": {}
     },
     "51e5cec5371e47e2ab485f3db2663746": {
      "model_module": "@jupyter-widgets/controls",
      "model_module_version": "1.1.0",
      "model_name": "BoxModel",
      "state": {
       "children": [
        "IPY_MODEL_ac47315181bd493eb1027d80989e0305",
        "IPY_MODEL_6a332e9cd81543bcab5baae0c513e097",
        "IPY_MODEL_da9f7669d14a443ea9e0cd3f29623e65"
       ],
       "layout": "IPY_MODEL_b499494f92d648d29c0185fa97aa9ff2"
      }
     },
     "5222417098c54a64a1fdeed6df6a606a": {
      "model_module": "@jupyter-widgets/controls",
      "model_module_version": "1.1.0",
      "model_name": "ButtonModel",
      "state": {
       "button_style": "danger",
       "description": "weight=1, auto",
       "layout": "IPY_MODEL_0b1b2f0cccc54b3a8312dbbc9a746df6",
       "style": "IPY_MODEL_4a5974309e0044c38232bf61223ac702"
      }
     },
     "52f8bb66598b4437a43f84857ecaed9d": {
      "model_module": "@jupyter-widgets/controls",
      "model_module_version": "1.1.0",
      "model_name": "SliderStyleModel",
      "state": {
       "description_width": "initial"
      }
     },
     "53003d44c16c424b9108b5a18475bb40": {
      "model_module": "@jupyter-widgets/base",
      "model_module_version": "1.0.0",
      "model_name": "LayoutModel",
      "state": {
       "height": "80px",
       "width": "50%"
      }
     },
     "531d416473434c0eaaa629aeabb005be": {
      "model_module": "@jupyter-widgets/controls",
      "model_module_version": "1.1.0",
      "model_name": "ButtonModel",
      "state": {
       "description": "horse",
       "layout": "IPY_MODEL_36fd4ad8839c4208af2e75ec74575f67",
       "style": "IPY_MODEL_609e05ed848845838e3199c0ac7bbcf1"
      }
     },
     "53b69338854040b390ca8845efe52a3e": {
      "model_module": "@jupyter-widgets/controls",
      "model_module_version": "1.1.0",
      "model_name": "ButtonStyleModel",
      "state": {}
     },
     "54050f0aaec84eea9ff4bf4a9c325b07": {
      "model_module": "@jupyter-widgets/controls",
      "model_module_version": "1.1.0",
      "model_name": "ButtonModel",
      "state": {
       "button_style": "warning",
       "description": "18",
       "layout": "IPY_MODEL_86c93170059349499a5f76156cbd8cdf",
       "style": "IPY_MODEL_99dba6072ddf4bbaa966422e7097d49d"
      }
     },
     "544e7279c5374ba698672ab68dabdd29": {
      "model_module": "@jupyter-widgets/controls",
      "model_module_version": "1.1.0",
      "model_name": "ButtonModel",
      "state": {
       "button_style": "danger",
       "description": "weight=1, auto",
       "layout": "IPY_MODEL_6b2ff7d8021e463582e3f79b29c014b2",
       "style": "IPY_MODEL_3d4f360c87e94f419a557d63cceeb196"
      }
     },
     "5471018df5a94fbc80ebfb86c2a9c7ba": {
      "model_module": "@jupyter-widgets/base",
      "model_module_version": "1.0.0",
      "model_name": "LayoutModel",
      "state": {}
     },
     "5485f6a5b84d4fbf9425c19995c82f97": {
      "model_module": "@jupyter-widgets/base",
      "model_module_version": "1.0.0",
      "model_name": "LayoutModel",
      "state": {}
     },
     "54cc79a2a4824cfe8002ccecfe0295e3": {
      "model_module": "@jupyter-widgets/base",
      "model_module_version": "1.0.0",
      "model_name": "LayoutModel",
      "state": {}
     },
     "55655054b5ec48379b189402df4dad2b": {
      "model_module": "@jupyter-widgets/controls",
      "model_module_version": "1.1.0",
      "model_name": "BoxModel",
      "state": {
       "children": [
        "IPY_MODEL_01694d224a7240f49bc0853d78ab812c",
        "IPY_MODEL_2566f02da31d41c2b1ef0c7992da58cd",
        "IPY_MODEL_d4856b57b2de43a2b2ec2f432878afb3"
       ],
       "layout": "IPY_MODEL_184cff29bebe4b699e0054c798e7cd00"
      }
     },
     "5570ad7fd54e4c4d8ca69a9ad5948ba6": {
      "model_module": "@jupyter-widgets/base",
      "model_module_version": "1.0.0",
      "model_name": "LayoutModel",
      "state": {
       "flex": "3 1 0%",
       "width": "auto"
      }
     },
     "55a0bf76461b47b6b9f92c89d9e96f05": {
      "model_module": "@jupyter-widgets/controls",
      "model_module_version": "1.1.0",
      "model_name": "ButtonModel",
      "state": {
       "button_style": "danger",
       "description": "weight=3, . 0%",
       "layout": "IPY_MODEL_bc6a42ff97e04a0fbdbef1469f778f1c",
       "style": "IPY_MODEL_03e8db257bc445b79d2bbd0914c8a0de"
      }
     },
     "569382461c5e41028e186185b17341b4": {
      "model_module": "@jupyter-widgets/controls",
      "model_module_version": "1.1.0",
      "model_name": "ButtonModel",
      "state": {
       "button_style": "warning",
       "description": "29",
       "layout": "IPY_MODEL_fd517e8255c04a5e8c946d6b492d3086",
       "style": "IPY_MODEL_cbc247354f254ffebce340fb09e767d6"
      }
     },
     "569fa330ac764d58a766617eef52f5a0": {
      "model_module": "@jupyter-widgets/base",
      "model_module_version": "1.0.0",
      "model_name": "LayoutModel",
      "state": {
       "flex": "3 1 auto",
       "width": "auto"
      }
     },
     "56cf2681135b478dbe078042782362f1": {
      "model_module": "@jupyter-widgets/base",
      "model_module_version": "1.0.0",
      "model_name": "LayoutModel",
      "state": {
       "flex": "1 1 0%",
       "width": "auto"
      }
     },
     "5738b81eeb9744d4ad36d4c7302238e3": {
      "model_module": "@jupyter-widgets/controls",
      "model_module_version": "1.1.0",
      "model_name": "ButtonModel",
      "state": {
       "button_style": "danger",
       "description": "weight=1, _0%",
       "layout": "IPY_MODEL_b6a54574d6c04f059a2cfaae4cef4bde",
       "style": "IPY_MODEL_753e89898b554f30821fdc7de0536315"
      }
     },
     "578737f76d53421083c1516351b21aa8": {
      "model_module": "@jupyter-widgets/controls",
      "model_module_version": "1.1.0",
      "model_name": "ButtonStyleModel",
      "state": {
       "button_color": "lightgreen"
      }
     },
     "57fa16b731e544179d96130de599a949": {
      "model_module": "@jupyter-widgets/controls",
      "model_module_version": "1.1.0",
      "model_name": "ButtonModel",
      "state": {
       "button_style": "warning",
       "description": "30",
       "layout": "IPY_MODEL_0bed125e73a54bc88289042ff2c91375",
       "style": "IPY_MODEL_fcdab66cf5a94a10a47b67e11f653c07"
      }
     },
     "58e0fbeafb8e400281d238e3bf1b9449": {
      "model_module": "@jupyter-widgets/controls",
      "model_module_version": "1.1.0",
      "model_name": "ButtonStyleModel",
      "state": {}
     },
     "58e99414af5044afb27f9413cd0e28a8": {
      "model_module": "@jupyter-widgets/controls",
      "model_module_version": "1.1.0",
      "model_name": "ButtonStyleModel",
      "state": {}
     },
     "59c749bf17934b0c8f439c71ec1d8c93": {
      "model_module": "@jupyter-widgets/controls",
      "model_module_version": "1.1.0",
      "model_name": "ButtonStyleModel",
      "state": {}
     },
     "59f22ac0f15346b78af2970b049a4bcc": {
      "model_module": "@jupyter-widgets/controls",
      "model_module_version": "1.1.0",
      "model_name": "ButtonModel",
      "state": {
       "button_style": "warning",
       "description": "38",
       "layout": "IPY_MODEL_86c93170059349499a5f76156cbd8cdf",
       "style": "IPY_MODEL_fc77ce3cd6e342e2b28131ff8f6a3d2d"
      }
     },
     "5a3ec24bf2ef42a0ae6aa3aeff56abb8": {
      "model_module": "@jupyter-widgets/controls",
      "model_module_version": "1.1.0",
      "model_name": "BoxModel",
      "state": {
       "children": [
        "IPY_MODEL_d434bcdfbf6d4157851b3d80bb01d406",
        "IPY_MODEL_3d264b36b3f5425fb6a3b18e957699a6"
       ],
       "layout": "IPY_MODEL_35e8631bf75b43d8998f73af71d66bee"
      }
     },
     "5af5a36524ba4c579f746b52e1a1df2a": {
      "model_module": "@jupyter-widgets/controls",
      "model_module_version": "1.1.0",
      "model_name": "ButtonModel",
      "state": {
       "button_style": "danger",
       "description": "weight=1, auto",
       "layout": "IPY_MODEL_1fc2ea30966b4f49bfe795c0ccb6347e",
       "style": "IPY_MODEL_efce83d9a0de486fa37fc3a283b7620b"
      }
     },
     "5af7ad0112994392818b1cee40ff5364": {
      "model_module": "@jupyter-widgets/controls",
      "model_module_version": "1.1.0",
      "model_name": "ButtonModel",
      "state": {
       "button_style": "danger",
       "description": "battery",
       "layout": "IPY_MODEL_7ff80e764e2745d9800eae1f025f64e0",
       "style": "IPY_MODEL_909124d321c64999b1ac340990e7d691"
      }
     },
     "5c3b7e5ecd9145698d2ee04ee7034cea": {
      "model_module": "@jupyter-widgets/base",
      "model_module_version": "1.0.0",
      "model_name": "LayoutModel",
      "state": {
       "align_items": "stretch",
       "border": "solid 2px",
       "display": "flex",
       "flex_flow": "column",
       "width": "50%"
      }
     },
     "5d3cd6de2c3d4d3fbfc90aeff77ba2d9": {
      "model_module": "@jupyter-widgets/controls",
      "model_module_version": "1.1.0",
      "model_name": "ButtonModel",
      "state": {
       "button_style": "warning",
       "description": "0",
       "layout": "IPY_MODEL_86c93170059349499a5f76156cbd8cdf",
       "style": "IPY_MODEL_4e6a91179f2749ffbb811f237feb7980"
      }
     },
     "5d55723e6d6b4fddae5091137d262c7c": {
      "model_module": "@jupyter-widgets/controls",
      "model_module_version": "1.1.0",
      "model_name": "ButtonStyleModel",
      "state": {}
     },
     "5e8898c21eba4c89a9d5c54b00ad61a2": {
      "model_module": "@jupyter-widgets/controls",
      "model_module_version": "1.1.0",
      "model_name": "ButtonModel",
      "state": {
       "button_style": "warning",
       "description": "17",
       "layout": "IPY_MODEL_0bed125e73a54bc88289042ff2c91375",
       "style": "IPY_MODEL_343f3fdb93d8441d804a56d7a3a79ac3"
      }
     },
     "5ec6d242f6ae477799052754eca9eabd": {
      "model_module": "@jupyter-widgets/controls",
      "model_module_version": "1.1.0",
      "model_name": "DropdownModel",
      "state": {
       "_options_labels": [
        "Scrambled",
        "Sunny side up",
        "Over easy"
       ],
       "index": 0,
       "layout": "IPY_MODEL_9ded1280e65f4b05aa9a297fd54c868d",
       "style": "IPY_MODEL_ec0cc9066d5f4031813562496d3c9d9e"
      }
     },
     "5ecf928b13b94f418d1f6fce46ccabfa": {
      "model_module": "@jupyter-widgets/base",
      "model_module_version": "1.0.0",
      "model_name": "LayoutModel",
      "state": {}
     },
     "5ed9df4210aa49a0910430556b8af791": {
      "model_module": "@jupyter-widgets/base",
      "model_module_version": "1.0.0",
      "model_name": "LayoutModel",
      "state": {}
     },
     "5f2be1d15cf542f19761cde89771d65b": {
      "model_module": "@jupyter-widgets/controls",
      "model_module_version": "1.1.0",
      "model_name": "ButtonStyleModel",
      "state": {}
     },
     "5f35958bc1aa4a799d26f33dd76cff24": {
      "model_module": "@jupyter-widgets/controls",
      "model_module_version": "1.1.0",
      "model_name": "ButtonModel",
      "state": {
       "button_style": "danger",
       "description": "weight=3, _0%",
       "layout": "IPY_MODEL_733efc6327dd48f1b3fd62cff910ea4f",
       "style": "IPY_MODEL_dcda4cb1848441aca9b4bbfd8f0414f3"
      }
     },
     "5fcb056a8b084c66af590e02edbcb499": {
      "model_module": "@jupyter-widgets/controls",
      "model_module_version": "1.1.0",
      "model_name": "ButtonModel",
      "state": {
       "button_style": "danger",
       "description": "weight=1, . 0%",
       "layout": "IPY_MODEL_c59c4d5d02ad4f86bb9eebcc28a5eb36",
       "style": "IPY_MODEL_30b2a822ca85475c88fbc6628065d2df"
      }
     },
     "5fd25f05abe24b3088f715b1e558c64d": {
      "model_module": "@jupyter-widgets/controls",
      "model_module_version": "1.1.0",
      "model_name": "ButtonStyleModel",
      "state": {}
     },
     "5ff63c0e7e2a40a8b5130396adc2c0a7": {
      "model_module": "@jupyter-widgets/controls",
      "model_module_version": "1.1.0",
      "model_name": "ButtonStyleModel",
      "state": {}
     },
     "604a6a384f0d4dfd853864819ec7e185": {
      "model_module": "@jupyter-widgets/controls",
      "model_module_version": "1.1.0",
      "model_name": "ButtonModel",
      "state": {
       "button_style": "danger",
       "description": "weight=1, . 0%",
       "layout": "IPY_MODEL_2af15aa4a87a4cadb238d43128227c77",
       "style": "IPY_MODEL_4426d123defb4888850b04db81ecb260"
      }
     },
     "606ec890c8af482da7531a6c8d74d29e": {
      "model_module": "@jupyter-widgets/base",
      "model_module_version": "1.0.0",
      "model_name": "LayoutModel",
      "state": {}
     },
     "609e05ed848845838e3199c0ac7bbcf1": {
      "model_module": "@jupyter-widgets/controls",
      "model_module_version": "1.1.0",
      "model_name": "ButtonStyleModel",
      "state": {}
     },
     "60ca9b3e54f942f9b4ddf0c6dfb111d2": {
      "model_module": "@jupyter-widgets/base",
      "model_module_version": "1.0.0",
      "model_name": "LayoutModel",
      "state": {}
     },
     "613c48ceeafb47bb84ef052016575068": {
      "model_module": "@jupyter-widgets/base",
      "model_module_version": "1.0.0",
      "model_name": "LayoutModel",
      "state": {}
     },
     "618bd2954e244dfb94856fe027b0f97b": {
      "model_module": "@jupyter-widgets/base",
      "model_module_version": "1.0.0",
      "model_name": "LayoutModel",
      "state": {}
     },
     "61bd8b2b6747489dab70db900f8169fd": {
      "model_module": "@jupyter-widgets/controls",
      "model_module_version": "1.1.0",
      "model_name": "ButtonStyleModel",
      "state": {}
     },
     "61efcfc5691f46d083db87490b141d06": {
      "model_module": "@jupyter-widgets/controls",
      "model_module_version": "1.1.0",
      "model_name": "ButtonModel",
      "state": {
       "button_style": "warning",
       "description": "34",
       "layout": "IPY_MODEL_fd517e8255c04a5e8c946d6b492d3086",
       "style": "IPY_MODEL_95e8be7592fe43d18b1ecff64f275ddb"
      }
     },
     "62299ce93f094d8eb68c5a6a166ea071": {
      "model_module": "@jupyter-widgets/base",
      "model_module_version": "1.0.0",
      "model_name": "LayoutModel",
      "state": {}
     },
     "622d979c08c649a18250cae3c3a0495a": {
      "model_module": "@jupyter-widgets/controls",
      "model_module_version": "1.1.0",
      "model_name": "ButtonStyleModel",
      "state": {}
     },
     "6386579a8fe54020b4b78f743cc10062": {
      "model_module": "@jupyter-widgets/controls",
      "model_module_version": "1.1.0",
      "model_name": "ButtonModel",
      "state": {
       "button_style": "danger",
       "description": "weight=1, auto",
       "layout": "IPY_MODEL_91b0496eb984460b92004ef851451715",
       "style": "IPY_MODEL_edaa594a55764d1ab7a277f6bce68a40"
      }
     },
     "639999da2a92460289230f0bca6d239f": {
      "model_module": "@jupyter-widgets/controls",
      "model_module_version": "1.1.0",
      "model_name": "ButtonModel",
      "state": {
       "layout": "IPY_MODEL_ecdf7ffaf11047a6be92b924bed2f8d7",
       "style": "IPY_MODEL_578737f76d53421083c1516351b21aa8"
      }
     },
     "63b587dadfcd4ba8b37be6b23b3764a5": {
      "model_module": "@jupyter-widgets/base",
      "model_module_version": "1.0.0",
      "model_name": "LayoutModel",
      "state": {}
     },
     "63f498b564004735bca50829b6b17c86": {
      "model_module": "@jupyter-widgets/base",
      "model_module_version": "1.0.0",
      "model_name": "LayoutModel",
      "state": {
       "align_items": "stretch",
       "border": "solid 2px",
       "display": "flex",
       "flex_flow": "column",
       "width": "50%"
      }
     },
     "652c776e3f3c4720a12aed820a8de305": {
      "model_module": "@jupyter-widgets/controls",
      "model_module_version": "1.1.0",
      "model_name": "ButtonModel",
      "state": {
       "button_style": "warning",
       "description": "34",
       "layout": "IPY_MODEL_0bed125e73a54bc88289042ff2c91375",
       "style": "IPY_MODEL_5f2be1d15cf542f19761cde89771d65b"
      }
     },
     "65b716a481924258a6db42ac1f097883": {
      "model_module": "@jupyter-widgets/base",
      "model_module_version": "1.0.0",
      "model_name": "LayoutModel",
      "state": {
       "flex": "3 1 0%",
       "width": "auto"
      }
     },
     "65c2d2c3566b4e88867ccbe36b262f8c": {
      "model_module": "@jupyter-widgets/base",
      "model_module_version": "1.0.0",
      "model_name": "LayoutModel",
      "state": {
       "align_items": "stretch",
       "display": "flex",
       "flex_flow": "row",
       "width": "70%"
      }
     },
     "65eef500891b4203885383e58aa64095": {
      "model_module": "@jupyter-widgets/controls",
      "model_module_version": "1.1.0",
      "model_name": "ButtonStyleModel",
      "state": {}
     },
     "6635d791f8b4401190cd678dd2b12389": {
      "model_module": "@jupyter-widgets/controls",
      "model_module_version": "1.1.0",
      "model_name": "ButtonModel",
      "state": {
       "button_style": "warning",
       "description": "10",
       "layout": "IPY_MODEL_fd517e8255c04a5e8c946d6b492d3086",
       "style": "IPY_MODEL_d7eb666a179345d9851ca443fc25a81d"
      }
     },
     "66791945a8bc4aedbbd3989097f144ed": {
      "model_module": "@jupyter-widgets/controls",
      "model_module_version": "1.1.0",
      "model_name": "ButtonModel",
      "state": {
       "button_style": "danger",
       "description": "weight=1, _0%",
       "layout": "IPY_MODEL_a010d1cca14f4f8ca81b8a04eb7099bf",
       "style": "IPY_MODEL_d58b3e7ef49f45f7a78c50c7fd130bbe"
      }
     },
     "674a173d4c7a4ad298c7f677e7f8999c": {
      "model_module": "@jupyter-widgets/base",
      "model_module_version": "1.0.0",
      "model_name": "LayoutModel",
      "state": {
       "flex": "1 1 0%",
       "width": "auto"
      }
     },
     "67620e6a5449490a8b2ecb27586a04c1": {
      "model_module": "@jupyter-widgets/controls",
      "model_module_version": "1.1.0",
      "model_name": "ButtonStyleModel",
      "state": {}
     },
     "67701eb3011646e8b515e76841d45a51": {
      "model_module": "@jupyter-widgets/base",
      "model_module_version": "1.0.0",
      "model_name": "LayoutModel",
      "state": {
       "flex": "1 1 auto",
       "width": "auto"
      }
     },
     "67856e7ac0ed456fa667dceab9ae3e79": {
      "model_module": "@jupyter-widgets/base",
      "model_module_version": "1.0.0",
      "model_name": "LayoutModel",
      "state": {
       "flex": "1 1 auto",
       "width": "auto"
      }
     },
     "67d6c9c1a118475493d766a14da5de84": {
      "model_module": "@jupyter-widgets/controls",
      "model_module_version": "1.1.0",
      "model_name": "DescriptionStyleModel",
      "state": {
       "description_width": ""
      }
     },
     "68114fa6666e429d9b8a6beb76973041": {
      "model_module": "@jupyter-widgets/base",
      "model_module_version": "1.0.0",
      "model_name": "LayoutModel",
      "state": {
       "display": "flex",
       "flex_flow": "row",
       "justify_content": "space-between"
      }
     },
     "68141d1fa2e043098c10e238dda73b5b": {
      "model_module": "@jupyter-widgets/controls",
      "model_module_version": "1.1.0",
      "model_name": "SliderStyleModel",
      "state": {
       "description_width": ""
      }
     },
     "683afcb317f64994ab05721daec06f1e": {
      "model_module": "@jupyter-widgets/controls",
      "model_module_version": "1.1.0",
      "model_name": "VBoxModel",
      "state": {
       "children": [
        "IPY_MODEL_0dfd4464f2f649f3a2a9ad3428cd8227",
        "IPY_MODEL_fec4dc244ff24a55ba20299721521c6a"
       ],
       "layout": "IPY_MODEL_3b7f5e20ce554af08175c2403419a2f8"
      }
     },
     "6902afcc0de84efb92f25271b33ccf48": {
      "model_module": "@jupyter-widgets/controls",
      "model_module_version": "1.1.0",
      "model_name": "ButtonStyleModel",
      "state": {}
     },
     "6977ab1dfb394ffea855230d6b789a5f": {
      "model_module": "@jupyter-widgets/controls",
      "model_module_version": "1.1.0",
      "model_name": "ButtonStyleModel",
      "state": {}
     },
     "698089f28ae74a5081fce2970e2f6d55": {
      "model_module": "@jupyter-widgets/controls",
      "model_module_version": "1.1.0",
      "model_name": "ButtonModel",
      "state": {
       "button_style": "danger",
       "description": "weight=1, _0%",
       "layout": "IPY_MODEL_2a53caa939244194a1c2d9549f579067",
       "style": "IPY_MODEL_2485bebfc7fb475089ce8d1226076bc2"
      }
     },
     "69bbac212a3d4a0b8a7c3693e29a69e6": {
      "model_module": "@jupyter-widgets/controls",
      "model_module_version": "1.1.0",
      "model_name": "ButtonStyleModel",
      "state": {}
     },
     "69c86865e68f471395c658ae9e6c71f2": {
      "model_module": "@jupyter-widgets/controls",
      "model_module_version": "1.1.0",
      "model_name": "ButtonStyleModel",
      "state": {}
     },
     "6a28aab88ef94006b526ff66fce68f90": {
      "model_module": "@jupyter-widgets/base",
      "model_module_version": "1.0.0",
      "model_name": "LayoutModel",
      "state": {
       "border": "3px solid black",
       "display": "flex",
       "height": "",
       "overflow_x": "scroll",
       "width": "500px"
      }
     },
     "6a2aa79dc58246cd93ec759c5100ea46": {
      "model_module": "@jupyter-widgets/controls",
      "model_module_version": "1.1.0",
      "model_name": "ButtonStyleModel",
      "state": {}
     },
     "6a332e9cd81543bcab5baae0c513e097": {
      "model_module": "@jupyter-widgets/controls",
      "model_module_version": "1.1.0",
      "model_name": "ButtonModel",
      "state": {
       "button_style": "danger",
       "description": "weight=3, auto",
       "layout": "IPY_MODEL_4bc0dad70cd24a1cade038f08bd08f92",
       "style": "IPY_MODEL_6c52a1c8e4794e5eb429d2f5e0012a27"
      }
     },
     "6a7ad13a1274459894e1e47f10830557": {
      "model_module": "@jupyter-widgets/controls",
      "model_module_version": "1.1.0",
      "model_name": "VBoxModel",
      "state": {
       "children": [
        "IPY_MODEL_04fc6233d4ce4c3397f84b2b47803f3f",
        "IPY_MODEL_80d145f52d104a4b9d452438edeac5b0"
       ],
       "layout": "IPY_MODEL_8db2bf43c1154ac7b774030dc531376c"
      }
     },
     "6aa09bc55f334a1abdf181c6b085bbbb": {
      "model_module": "@jupyter-widgets/base",
      "model_module_version": "1.0.0",
      "model_name": "LayoutModel",
      "state": {
       "flex": "1 1 0%",
       "width": "auto"
      }
     },
     "6ab986af3d744b8b8c10354bbf2bc8c2": {
      "model_module": "@jupyter-widgets/controls",
      "model_module_version": "1.1.0",
      "model_name": "ButtonStyleModel",
      "state": {}
     },
     "6aecdf799a0541e6b83da844a34eba59": {
      "model_module": "@jupyter-widgets/controls",
      "model_module_version": "1.1.0",
      "model_name": "ButtonStyleModel",
      "state": {}
     },
     "6b2935c107e942d8a4da88104b7c8541": {
      "model_module": "@jupyter-widgets/base",
      "model_module_version": "1.0.0",
      "model_name": "LayoutModel",
      "state": {}
     },
     "6b2ff7d8021e463582e3f79b29c014b2": {
      "model_module": "@jupyter-widgets/base",
      "model_module_version": "1.0.0",
      "model_name": "LayoutModel",
      "state": {
       "flex": "1 1 auto",
       "width": "auto"
      }
     },
     "6b420290abab40dd83213e17567585de": {
      "model_module": "@jupyter-widgets/base",
      "model_module_version": "1.0.0",
      "model_name": "LayoutModel",
      "state": {}
     },
     "6b7a016812d2442da327e895a8f4738b": {
      "model_module": "@jupyter-widgets/controls",
      "model_module_version": "1.1.0",
      "model_name": "ButtonModel",
      "state": {
       "button_style": "danger",
       "description": "weight=3, 0.0%",
       "layout": "IPY_MODEL_17272b9fa6fe4a3488c4ffc64353a49c",
       "style": "IPY_MODEL_d3401142114745649eefd014e276271f"
      }
     },
     "6c3400e4f92e462fa5c59878807ad414": {
      "model_module": "@jupyter-widgets/controls",
      "model_module_version": "1.1.0",
      "model_name": "DescriptionStyleModel",
      "state": {
       "description_width": ""
      }
     },
     "6c52a1c8e4794e5eb429d2f5e0012a27": {
      "model_module": "@jupyter-widgets/controls",
      "model_module_version": "1.1.0",
      "model_name": "ButtonStyleModel",
      "state": {}
     },
     "6d06309ef84242af8feab43b84d41494": {
      "model_module": "@jupyter-widgets/controls",
      "model_module_version": "1.1.0",
      "model_name": "ButtonStyleModel",
      "state": {}
     },
     "6d54d28ad21a4cf0864a0845b5c61582": {
      "model_module": "@jupyter-widgets/base",
      "model_module_version": "1.0.0",
      "model_name": "LayoutModel",
      "state": {}
     },
     "6d68e1a2ffc24b7b9e6d33d56d5d6191": {
      "model_module": "@jupyter-widgets/controls",
      "model_module_version": "1.1.0",
      "model_name": "ButtonModel",
      "state": {
       "button_style": "warning",
       "description": "19",
       "layout": "IPY_MODEL_86c93170059349499a5f76156cbd8cdf",
       "style": "IPY_MODEL_2e7d5587673b42ff981bea38d4a1f472"
      }
     },
     "6e1d632d7347464090b7473164d6ed84": {
      "model_module": "@jupyter-widgets/controls",
      "model_module_version": "1.1.0",
      "model_name": "VBoxModel",
      "state": {
       "children": [
        "IPY_MODEL_a805481e4e2943dea6eccd126b4c30c8",
        "IPY_MODEL_3ad0cbfd365a431787af4b15cd2f423f"
       ],
       "layout": "IPY_MODEL_e080244dd9f74b548cc3d910ac8391c9"
      }
     },
     "6e604ceb8ca14b69ac2f120ab237f0bb": {
      "model_module": "@jupyter-widgets/controls",
      "model_module_version": "1.1.0",
      "model_name": "ButtonModel",
      "state": {
       "button_style": "danger",
       "description": "Danger Button",
       "layout": "IPY_MODEL_7f5372c8f2444bb0a21b1c85fb5ffcba",
       "style": "IPY_MODEL_26da586629ff4cba96bbac3c3bfa2913"
      }
     },
     "6e7a62e2fe8b440a9b2a057c84d0976c": {
      "model_module": "@jupyter-widgets/controls",
      "model_module_version": "1.1.0",
      "model_name": "ButtonStyleModel",
      "state": {}
     },
     "6e9b275836ba455ab483ba1991df794b": {
      "model_module": "@jupyter-widgets/controls",
      "model_module_version": "1.1.0",
      "model_name": "ButtonStyleModel",
      "state": {}
     },
     "6eacd173a8fb40938e5f76e5973323cf": {
      "model_module": "@jupyter-widgets/controls",
      "model_module_version": "1.1.0",
      "model_name": "ButtonModel",
      "state": {
       "button_style": "warning",
       "description": "15",
       "layout": "IPY_MODEL_fd517e8255c04a5e8c946d6b492d3086",
       "style": "IPY_MODEL_2106c4adc6f34134b823c84543e99bed"
      }
     },
     "6ee4ab689ea0463cbc4dc1d8688f39c2": {
      "model_module": "@jupyter-widgets/base",
      "model_module_version": "1.0.0",
      "model_name": "LayoutModel",
      "state": {}
     },
     "6ee5a7aa044746c08ed70fb01b131531": {
      "model_module": "@jupyter-widgets/base",
      "model_module_version": "1.0.0",
      "model_name": "LayoutModel",
      "state": {}
     },
     "6f75f0851b4c40599d7d88100d52be88": {
      "model_module": "@jupyter-widgets/controls",
      "model_module_version": "1.1.0",
      "model_name": "ButtonModel",
      "state": {
       "button_style": "danger",
       "description": "correct",
       "layout": "IPY_MODEL_7ff80e764e2745d9800eae1f025f64e0",
       "style": "IPY_MODEL_06181f317c114c798f759ee857d3f190"
      }
     },
     "6fd762f820b94038904142d368841123": {
      "model_module": "@jupyter-widgets/controls",
      "model_module_version": "1.1.0",
      "model_name": "DescriptionStyleModel",
      "state": {
       "description_width": ""
      }
     },
     "6fe928030f9c478db354b230c14f362b": {
      "model_module": "@jupyter-widgets/controls",
      "model_module_version": "1.1.0",
      "model_name": "ButtonStyleModel",
      "state": {}
     },
     "70b49ec4fca643dca9bf683bf8bd705b": {
      "model_module": "@jupyter-widgets/controls",
      "model_module_version": "1.1.0",
      "model_name": "ButtonStyleModel",
      "state": {}
     },
     "70b781554f0d4f84986cc1af0ac90541": {
      "model_module": "@jupyter-widgets/controls",
      "model_module_version": "1.1.0",
      "model_name": "LabelModel",
      "state": {
       "layout": "IPY_MODEL_4c2d4e2e91e94249a69392f92533b5c7",
       "style": "IPY_MODEL_c4a4d1c895364c8aa4d78ab55d50aec0",
       "value": "Ship size"
      }
     },
     "7112f32ded2f4045a51f9a0cda2ec572": {
      "model_module": "@jupyter-widgets/controls",
      "model_module_version": "1.1.0",
      "model_name": "ButtonStyleModel",
      "state": {}
     },
     "7124c76bb4aa4441b3d187dfc0b8b423": {
      "model_module": "@jupyter-widgets/base",
      "model_module_version": "1.0.0",
      "model_name": "LayoutModel",
      "state": {}
     },
     "712f64c7b3804cbf85c5d137a2a2846c": {
      "model_module": "@jupyter-widgets/controls",
      "model_module_version": "1.1.0",
      "model_name": "VBoxModel",
      "state": {
       "children": [
        "IPY_MODEL_b507e7af2dfa48b89178ef02703da78f",
        "IPY_MODEL_04c7f9d1a4b74b5abdcee1171333cc96"
       ],
       "layout": "IPY_MODEL_31ec868c7d1b475b9eb5b5b9f5706da9"
      }
     },
     "71541a2d5a2841deae8c08b3b2928a5b": {
      "model_module": "@jupyter-widgets/controls",
      "model_module_version": "1.1.0",
      "model_name": "SliderStyleModel",
      "state": {
       "description_width": "",
       "handle_color": "lightblue"
      }
     },
     "71b319873f0a4a2fb464db84d72867af": {
      "model_module": "@jupyter-widgets/controls",
      "model_module_version": "1.1.0",
      "model_name": "HBoxModel",
      "state": {
       "children": [
        "IPY_MODEL_d104e2051ab14af395fc11a138b78789",
        "IPY_MODEL_e1de034706914065a57531932f2348f2"
       ],
       "layout": "IPY_MODEL_b2a0f429e4ba4868bc84d6c27cc3e03d"
      }
     },
     "71ec5f585b694ad0bf06dbc60e93c9a0": {
      "model_module": "@jupyter-widgets/controls",
      "model_module_version": "1.1.0",
      "model_name": "ButtonStyleModel",
      "state": {}
     },
     "722c967a87304adb931d320f03ae1dd6": {
      "model_module": "@jupyter-widgets/controls",
      "model_module_version": "1.1.0",
      "model_name": "BoxModel",
      "state": {
       "children": [
        "IPY_MODEL_70b781554f0d4f84986cc1af0ac90541",
        "IPY_MODEL_9dcf59fe18a74afba9b4f924dc0b80f5"
       ],
       "layout": "IPY_MODEL_68114fa6666e429d9b8a6beb76973041"
      }
     },
     "72967da788c243dca2ac2f9ae0d742b6": {
      "model_module": "@jupyter-widgets/controls",
      "model_module_version": "1.1.0",
      "model_name": "ButtonModel",
      "state": {
       "button_style": "warning",
       "description": "35",
       "layout": "IPY_MODEL_fd517e8255c04a5e8c946d6b492d3086",
       "style": "IPY_MODEL_7cdaa7ef468a4527be57cb133b567699"
      }
     },
     "730990d028c04f0ca8c267311a0c3f39": {
      "model_module": "@jupyter-widgets/controls",
      "model_module_version": "1.1.0",
      "model_name": "ButtonStyleModel",
      "state": {}
     },
     "733efc6327dd48f1b3fd62cff910ea4f": {
      "model_module": "@jupyter-widgets/base",
      "model_module_version": "1.0.0",
      "model_name": "LayoutModel",
      "state": {
       "flex": "3 1 0%",
       "width": "auto"
      }
     },
     "73dfe9ba838a4c0cb9e775761e99e3ff": {
      "model_module": "@jupyter-widgets/controls",
      "model_module_version": "1.1.0",
      "model_name": "ButtonStyleModel",
      "state": {}
     },
     "74bc1b1d71f94728a90f6d86ef154a84": {
      "model_module": "@jupyter-widgets/controls",
      "model_module_version": "1.1.0",
      "model_name": "LabelModel",
      "state": {
       "layout": "IPY_MODEL_5ecf928b13b94f418d1f6fce46ccabfa",
       "style": "IPY_MODEL_9000aeeaa7da482992002774c09369e2",
       "value": "\\(e=mc^2\\)"
      }
     },
     "74e9d9b443564016a04f66cd9316b2c0": {
      "model_module": "@jupyter-widgets/controls",
      "model_module_version": "1.1.0",
      "model_name": "ButtonModel",
      "state": {
       "button_style": "danger",
       "description": "weight=1, . 0%",
       "layout": "IPY_MODEL_24a0ca13ad804948bbe56b68eabca5dc",
       "style": "IPY_MODEL_9081e20b206e40cc9a0270de543ffeb5"
      }
     },
     "753e89898b554f30821fdc7de0536315": {
      "model_module": "@jupyter-widgets/controls",
      "model_module_version": "1.1.0",
      "model_name": "ButtonStyleModel",
      "state": {}
     },
     "75e09abad9274b76b77775d32df0961b": {
      "model_module": "@jupyter-widgets/controls",
      "model_module_version": "1.1.0",
      "model_name": "VBoxModel",
      "state": {
       "children": [
        "IPY_MODEL_a09fc80111ea433eb8f2bd43ba72efcc",
        "IPY_MODEL_d1caf30a05df471ea5c5712e8ab9bb3c"
       ],
       "layout": "IPY_MODEL_98ebc9cea78e44a89d73a4fcc31f5104"
      }
     },
     "776fa7f8a04742a9a95b7c5ef8e0ba6e": {
      "model_module": "@jupyter-widgets/controls",
      "model_module_version": "1.1.0",
      "model_name": "ButtonStyleModel",
      "state": {}
     },
     "7803a31b133b4fb19dd4145f1b39efa0": {
      "model_module": "@jupyter-widgets/controls",
      "model_module_version": "1.1.0",
      "model_name": "ButtonStyleModel",
      "state": {}
     },
     "7818315b273941f38743228f380dc1b7": {
      "model_module": "@jupyter-widgets/base",
      "model_module_version": "1.0.0",
      "model_name": "LayoutModel",
      "state": {
       "flex": "1 1 0%",
       "width": "auto"
      }
     },
     "785564e5d6394c42a4c7b4e8e4cf332c": {
      "model_module": "@jupyter-widgets/controls",
      "model_module_version": "1.1.0",
      "model_name": "ButtonModel",
      "state": {
       "button_style": "danger",
       "description": "weight=1, _0%",
       "layout": "IPY_MODEL_87e58039b80242b1b0e2344e03d99787",
       "style": "IPY_MODEL_090acda252c346d0b63701445c79c601"
      }
     },
     "78f597e050054a95b6c204a4d5c5ba12": {
      "model_module": "@jupyter-widgets/base",
      "model_module_version": "1.0.0",
      "model_name": "LayoutModel",
      "state": {
       "height": "80px",
       "width": "50%"
      }
     },
     "78fd03fe180d485e843d1d0a02aeab2c": {
      "model_module": "@jupyter-widgets/controls",
      "model_module_version": "1.1.0",
      "model_name": "DescriptionStyleModel",
      "state": {
       "description_width": ""
      }
     },
     "790293074759457b9c8191ada009ab71": {
      "model_module": "@jupyter-widgets/controls",
      "model_module_version": "1.1.0",
      "model_name": "BoxModel",
      "state": {
       "children": [
        "IPY_MODEL_8f1a780d5ad04f9c8df8b6179d3f30a3",
        "IPY_MODEL_6b7a016812d2442da327e895a8f4738b",
        "IPY_MODEL_35a8a87db9ce4ffdbe9170a841a17248"
       ],
       "layout": "IPY_MODEL_b499494f92d648d29c0185fa97aa9ff2"
      }
     },
     "794a7d1595f34b6db1c0860b2942ec84": {
      "model_module": "@jupyter-widgets/controls",
      "model_module_version": "1.1.0",
      "model_name": "ButtonModel",
      "state": {
       "button_style": "danger",
       "description": "weight=3,    0%",
       "layout": "IPY_MODEL_4afdcb76413d431db6a5966e8c02e6f5",
       "style": "IPY_MODEL_9a811d0c126f47ffa98d9d7ea3e263a8"
      }
     },
     "796e2945aae9464f8d78b272288cf457": {
      "model_module": "@jupyter-widgets/controls",
      "model_module_version": "1.1.0",
      "model_name": "BoxModel",
      "state": {
       "children": [
        "IPY_MODEL_b1f70528f11c4e50be3734fc766b5d4d",
        "IPY_MODEL_4eb11aba0aa046d09ce542e8da041085"
       ],
       "layout": "IPY_MODEL_35e8631bf75b43d8998f73af71d66bee"
      }
     },
     "7a9b70351e244c1da4cad458938c1b7d": {
      "model_module": "@jupyter-widgets/controls",
      "model_module_version": "1.1.0",
      "model_name": "ButtonModel",
      "state": {
       "button_style": "danger",
       "description": "weight=1, _0%",
       "layout": "IPY_MODEL_a227526e0b6947688be1cb9dab73fc7e",
       "style": "IPY_MODEL_ea2eaa55a4d742f9960db77ebd815689"
      }
     },
     "7b961fbd62ad4409baa32a8f7d7d397f": {
      "model_module": "@jupyter-widgets/base",
      "model_module_version": "1.0.0",
      "model_name": "LayoutModel",
      "state": {}
     },
     "7b98c57b57e345adb595fe9668a5a505": {
      "model_module": "@jupyter-widgets/controls",
      "model_module_version": "1.1.0",
      "model_name": "BoxModel",
      "state": {
       "children": [
        "IPY_MODEL_3fbcd19465604353b48d42fb2ecbfa3f",
        "IPY_MODEL_f91d59d4c2ab46db98b66760f5547af3",
        "IPY_MODEL_91543072d97f404f8ae2ef8f2f30fd42"
       ],
       "layout": "IPY_MODEL_f9e253f804314d6386cfe7c91326f02b"
      }
     },
     "7bdcc0ec0dbd4392b2771b2035f8e0aa": {
      "model_module": "@jupyter-widgets/controls",
      "model_module_version": "1.1.0",
      "model_name": "ButtonModel",
      "state": {
       "button_style": "warning",
       "description": "5",
       "layout": "IPY_MODEL_fd517e8255c04a5e8c946d6b492d3086",
       "style": "IPY_MODEL_884825bf6d7042629509933b14487052"
      }
     },
     "7bed1122df2d4d3195fe0d579cc1d1a1": {
      "model_module": "@jupyter-widgets/base",
      "model_module_version": "1.0.0",
      "model_name": "LayoutModel",
      "state": {
       "flex": "3 1 0%",
       "width": "auto"
      }
     },
     "7bf5882ca56f40fa914ad8ca215ee5b0": {
      "model_module": "@jupyter-widgets/base",
      "model_module_version": "1.0.0",
      "model_name": "LayoutModel",
      "state": {
       "flex": "3 1 auto",
       "width": "auto"
      }
     },
     "7c34f927b9d44519b83e88f894da44ec": {
      "model_module": "@jupyter-widgets/controls",
      "model_module_version": "1.1.0",
      "model_name": "ButtonStyleModel",
      "state": {}
     },
     "7c3d9c449da149a3ab1108f23004524a": {
      "model_module": "@jupyter-widgets/controls",
      "model_module_version": "1.1.0",
      "model_name": "ButtonModel",
      "state": {
       "description": "(50% width, 80px height) button",
       "layout": "IPY_MODEL_53003d44c16c424b9108b5a18475bb40",
       "style": "IPY_MODEL_94384b443f5e45c4bec1f75007167c86"
      }
     },
     "7c51e28db6f246148488698481edbda2": {
      "model_module": "@jupyter-widgets/controls",
      "model_module_version": "1.1.0",
      "model_name": "ButtonStyleModel",
      "state": {}
     },
     "7c76431092da44e9a3e703c17d72fa1e": {
      "model_module": "@jupyter-widgets/base",
      "model_module_version": "1.0.0",
      "model_name": "LayoutModel",
      "state": {}
     },
     "7c7a43ee01614fb8898c0ef377847c1b": {
      "model_module": "@jupyter-widgets/controls",
      "model_module_version": "1.1.0",
      "model_name": "BoxModel",
      "state": {
       "children": [
        "IPY_MODEL_4a007ab00e20499a8a467428ea51a7d6",
        "IPY_MODEL_f40463777fa744ae80222a0a37a81478"
       ],
       "layout": "IPY_MODEL_35e8631bf75b43d8998f73af71d66bee"
      }
     },
     "7c7ddb3e194245e0a0312939ce8c7082": {
      "model_module": "@jupyter-widgets/base",
      "model_module_version": "1.0.0",
      "model_name": "LayoutModel",
      "state": {
       "flex": "1 1 auto",
       "width": "auto"
      }
     },
     "7cdaa7ef468a4527be57cb133b567699": {
      "model_module": "@jupyter-widgets/controls",
      "model_module_version": "1.1.0",
      "model_name": "ButtonStyleModel",
      "state": {}
     },
     "7d30ebcb99b14db087b58ad76bfd8a75": {
      "model_module": "@jupyter-widgets/controls",
      "model_module_version": "1.1.0",
      "model_name": "ButtonModel",
      "state": {
       "button_style": "danger",
       "description": "weight=1, _0%",
       "layout": "IPY_MODEL_7818315b273941f38743228f380dc1b7",
       "style": "IPY_MODEL_1b10e11355894fccbf5893210688c88a"
      }
     },
     "7d532ed51e454ea3a176edf1cff86f59": {
      "model_module": "@jupyter-widgets/controls",
      "model_module_version": "1.1.0",
      "model_name": "ButtonModel",
      "state": {
       "button_style": "warning",
       "description": "7",
       "layout": "IPY_MODEL_0bed125e73a54bc88289042ff2c91375",
       "style": "IPY_MODEL_4e1e7db8dda84c78ad4f549f581c888c"
      }
     },
     "7d8065b8e3c446d285c70e9a68c1021c": {
      "model_module": "@jupyter-widgets/base",
      "model_module_version": "1.0.0",
      "model_name": "LayoutModel",
      "state": {
       "flex": "3 1 auto",
       "width": "auto"
      }
     },
     "7e3080c262864925b5208347c7bfe115": {
      "model_module": "@jupyter-widgets/controls",
      "model_module_version": "1.1.0",
      "model_name": "SliderStyleModel",
      "state": {
       "description_width": ""
      }
     },
     "7ed9df3219074970979bac6607c43bc5": {
      "model_module": "@jupyter-widgets/controls",
      "model_module_version": "1.1.0",
      "model_name": "ButtonModel",
      "state": {
       "button_style": "danger",
       "description": "battery",
       "layout": "IPY_MODEL_a6b94d05bfd147d89200feca71cf15b5",
       "style": "IPY_MODEL_61bd8b2b6747489dab70db900f8169fd"
      }
     },
     "7f0cd238b8bd4bceb5cf7a80d9708443": {
      "model_module": "@jupyter-widgets/controls",
      "model_module_version": "1.1.0",
      "model_name": "VBoxModel",
      "state": {
       "children": [
        "IPY_MODEL_b1eaae25a6ce4774bb3f96503fd7f852",
        "IPY_MODEL_8230ab8f841149bea94512ded98e483f"
       ],
       "layout": "IPY_MODEL_9da84f69f42e407a82c2d2afed7b2715"
      }
     },
     "7f349e3a0a31402a949016a919076a4a": {
      "model_module": "@jupyter-widgets/base",
      "model_module_version": "1.0.0",
      "model_name": "LayoutModel",
      "state": {}
     },
     "7f5372c8f2444bb0a21b1c85fb5ffcba": {
      "model_module": "@jupyter-widgets/base",
      "model_module_version": "1.0.0",
      "model_name": "LayoutModel",
      "state": {}
     },
     "7f5d3c7e3c79420082005454e2ce5a66": {
      "model_module": "@jupyter-widgets/controls",
      "model_module_version": "1.1.0",
      "model_name": "ButtonModel",
      "state": {
       "button_style": "danger",
       "description": "Danger Button",
       "layout": "IPY_MODEL_f7d793ad8d5f495ea8f7f1f31bd488b0",
       "style": "IPY_MODEL_4466fdd2b55d488cb404abc7092bf7d2"
      }
     },
     "7f8e87f4d63847fb99afcd0109a41550": {
      "model_module": "@jupyter-widgets/controls",
      "model_module_version": "1.1.0",
      "model_name": "DescriptionStyleModel",
      "state": {
       "description_width": ""
      }
     },
     "7fd6bf7ecd064c8a9369691a25a04140": {
      "model_module": "@jupyter-widgets/controls",
      "model_module_version": "1.1.0",
      "model_name": "BoxModel",
      "state": {
       "children": [
        "IPY_MODEL_3c3b2e39f9774a7f9bfd3961f6bffe23",
        "IPY_MODEL_8efbe87055ba4f3ea3021ce05dd44e60"
       ],
       "layout": "IPY_MODEL_68114fa6666e429d9b8a6beb76973041"
      }
     },
     "7ff80e764e2745d9800eae1f025f64e0": {
      "model_module": "@jupyter-widgets/base",
      "model_module_version": "1.0.0",
      "model_name": "LayoutModel",
      "state": {
       "flex": "1 1 auto",
       "width": "auto"
      }
     },
     "804fd581e0a54e0091164b7bbd7f1107": {
      "model_module": "@jupyter-widgets/controls",
      "model_module_version": "1.1.0",
      "model_name": "ButtonStyleModel",
      "state": {}
     },
     "807bc4b157c04f44ac337cdf4511c3be": {
      "model_module": "@jupyter-widgets/controls",
      "model_module_version": "1.1.0",
      "model_name": "ButtonModel",
      "state": {
       "description": "Custom color",
       "layout": "IPY_MODEL_2b0539103d3d46c5ac76d9f4886f5931",
       "style": "IPY_MODEL_ad10eaf9d6104f03b40a5bc4b3906b5c"
      }
     },
     "80d145f52d104a4b9d452438edeac5b0": {
      "model_module": "@jupyter-widgets/controls",
      "model_module_version": "1.1.0",
      "model_name": "BoxModel",
      "state": {
       "children": [
        "IPY_MODEL_c9d22b2eba57433c86ea62d5df52967a",
        "IPY_MODEL_fffad169cef94fffab4422787c515e5b",
        "IPY_MODEL_c100df358a044fcf85ef2fd25fc84880"
       ],
       "layout": "IPY_MODEL_3d2b12dd839341d29e20c26a0c1e09af"
      }
     },
     "81ff60a2ea9c4eedbbe06f1fbc6961cb": {
      "model_module": "@jupyter-widgets/controls",
      "model_module_version": "1.1.0",
      "model_name": "ButtonStyleModel",
      "state": {}
     },
     "8230ab8f841149bea94512ded98e483f": {
      "model_module": "@jupyter-widgets/controls",
      "model_module_version": "1.1.0",
      "model_name": "ButtonModel",
      "state": {
       "description": "staple",
       "layout": "IPY_MODEL_19e52b73f471464bbf22bcc3296ec004",
       "style": "IPY_MODEL_b29d87249be443008ac338a05120560f"
      }
     },
     "82362a1715784aff9154f7dc98bda044": {
      "model_module": "@jupyter-widgets/base",
      "model_module_version": "1.0.0",
      "model_name": "LayoutModel",
      "state": {
       "flex": "1 1 auto",
       "width": "auto"
      }
     },
     "828fb7ca484c42239f0281a9dbacd900": {
      "model_module": "@jupyter-widgets/base",
      "model_module_version": "1.0.0",
      "model_name": "LayoutModel",
      "state": {}
     },
     "8333d69e2f774c1ab8b5fbffec153a25": {
      "model_module": "@jupyter-widgets/controls",
      "model_module_version": "1.1.0",
      "model_name": "ButtonStyleModel",
      "state": {}
     },
     "84447ea46574451f888023d1020d2f9c": {
      "model_module": "@jupyter-widgets/controls",
      "model_module_version": "1.1.0",
      "model_name": "IntSliderModel",
      "state": {
       "layout": "IPY_MODEL_2a930140bcea421d8d09fcf63f00632e",
       "style": "IPY_MODEL_a2867abb1c5043c8a9c90b8f85aed5fc"
      }
     },
     "844e689f4fb5418483d536942a3a0685": {
      "model_module": "@jupyter-widgets/controls",
      "model_module_version": "1.1.0",
      "model_name": "ButtonModel",
      "state": {
       "button_style": "warning",
       "description": "15",
       "layout": "IPY_MODEL_86c93170059349499a5f76156cbd8cdf",
       "style": "IPY_MODEL_0951adc347ce4785b1ca5044c793a8dc"
      }
     },
     "84771c9b46e04292951d04f96efe8c0d": {
      "model_module": "@jupyter-widgets/controls",
      "model_module_version": "1.1.0",
      "model_name": "ButtonModel",
      "state": {
       "button_style": "warning",
       "description": "26",
       "layout": "IPY_MODEL_fd517e8255c04a5e8c946d6b492d3086",
       "style": "IPY_MODEL_6a2aa79dc58246cd93ec759c5100ea46"
      }
     },
     "84e54383887b4e9fa0d20dc10b0f9b86": {
      "model_module": "@jupyter-widgets/controls",
      "model_module_version": "1.1.0",
      "model_name": "IntSliderModel",
      "state": {
       "description": "\\(\\int_0^t f\\)",
       "layout": "IPY_MODEL_0884f5fe9f044e3bb6a858ee0c9ed354",
       "style": "IPY_MODEL_9da8d154bba947c1957a5444646d628e"
      }
     },
     "854847ab33a94f099e25c3da59cc715d": {
      "model_module": "@jupyter-widgets/controls",
      "model_module_version": "1.1.0",
      "model_name": "DescriptionStyleModel",
      "state": {
       "description_width": ""
      }
     },
     "856d693a50a6459283ddcccd45db949a": {
      "model_module": "@jupyter-widgets/controls",
      "model_module_version": "1.1.0",
      "model_name": "ButtonStyleModel",
      "state": {}
     },
     "85e16293e478489f837a306a887c1e61": {
      "model_module": "@jupyter-widgets/controls",
      "model_module_version": "1.1.0",
      "model_name": "BoxModel",
      "state": {
       "children": [
        "IPY_MODEL_21ee2201002d402ba7524a76c392c281",
        "IPY_MODEL_9928fa19114146f3a0ab0efe06e07914",
        "IPY_MODEL_186bcbff1a0a4da8af51dd701626ca1d",
        "IPY_MODEL_d508453fdbc741d3a95cd1c76097b534"
       ],
       "layout": "IPY_MODEL_21abe44b358c433491f9e028953c5a2f"
      }
     },
     "868619fa0b094063b2a9d2654903eab1": {
      "model_module": "@jupyter-widgets/controls",
      "model_module_version": "1.1.0",
      "model_name": "ButtonStyleModel",
      "state": {}
     },
     "86c93170059349499a5f76156cbd8cdf": {
      "model_module": "@jupyter-widgets/base",
      "model_module_version": "1.0.0",
      "model_name": "LayoutModel",
      "state": {
       "height": "100px",
       "min_width": "40px"
      }
     },
     "8737dc9a2684484289f5f03c66e306d3": {
      "model_module": "@jupyter-widgets/controls",
      "model_module_version": "1.1.0",
      "model_name": "ButtonStyleModel",
      "state": {}
     },
     "87cffb66d7ed49cf82da8e38d6a414aa": {
      "model_module": "@jupyter-widgets/controls",
      "model_module_version": "1.1.0",
      "model_name": "ButtonModel",
      "state": {
       "button_style": "warning",
       "description": "26",
       "layout": "IPY_MODEL_86c93170059349499a5f76156cbd8cdf",
       "style": "IPY_MODEL_6fe928030f9c478db354b230c14f362b"
      }
     },
     "87e58039b80242b1b0e2344e03d99787": {
      "model_module": "@jupyter-widgets/base",
      "model_module_version": "1.0.0",
      "model_name": "LayoutModel",
      "state": {
       "flex": "1 1 0%",
       "width": "auto"
      }
     },
     "87f7b1cb972f4626934459e4180d6590": {
      "model_module": "@jupyter-widgets/base",
      "model_module_version": "1.0.0",
      "model_name": "LayoutModel",
      "state": {}
     },
     "88397fd976084419a314462819175611": {
      "model_module": "@jupyter-widgets/base",
      "model_module_version": "1.0.0",
      "model_name": "LayoutModel",
      "state": {
       "flex": "1 1 auto",
       "width": "auto"
      }
     },
     "884825bf6d7042629509933b14487052": {
      "model_module": "@jupyter-widgets/controls",
      "model_module_version": "1.1.0",
      "model_name": "ButtonStyleModel",
      "state": {}
     },
     "88958275d91f4ae99a5ba56971324c1f": {
      "model_module": "@jupyter-widgets/controls",
      "model_module_version": "1.1.0",
      "model_name": "ButtonModel",
      "state": {
       "button_style": "warning",
       "description": "36",
       "layout": "IPY_MODEL_fd517e8255c04a5e8c946d6b492d3086",
       "style": "IPY_MODEL_f7d82a87e6ef42c9af694bde4487b4ce"
      }
     },
     "88cb73243adf41d5b884404cfbe0cb59": {
      "model_module": "@jupyter-widgets/controls",
      "model_module_version": "1.1.0",
      "model_name": "ButtonModel",
      "state": {
       "button_style": "danger",
       "description": "weight=1, _0%",
       "layout": "IPY_MODEL_a2d239f8f54245ad9f2ec623a5f6ae9b",
       "style": "IPY_MODEL_7112f32ded2f4045a51f9a0cda2ec572"
      }
     },
     "89009a151da64843bc371b04ef86c0e1": {
      "model_module": "@jupyter-widgets/base",
      "model_module_version": "1.0.0",
      "model_name": "LayoutModel",
      "state": {
       "align_items": "stretch",
       "border": "solid",
       "display": "flex",
       "flex_flow": "row",
       "width": "50%"
      }
     },
     "89191a6e4fcc45b2b2619c67ae2aa35c": {
      "model_module": "@jupyter-widgets/controls",
      "model_module_version": "1.1.0",
      "model_name": "ButtonModel",
      "state": {
       "button_style": "warning",
       "description": "20",
       "layout": "IPY_MODEL_fd517e8255c04a5e8c946d6b492d3086",
       "style": "IPY_MODEL_51597460f6c1414da59502a69a90879c"
      }
     },
     "892a09bc10834af289d5579182c2c849": {
      "model_module": "@jupyter-widgets/base",
      "model_module_version": "1.0.0",
      "model_name": "LayoutModel",
      "state": {
       "flex": "1 1 0%",
       "width": "auto"
      }
     },
     "893254696fd04e41af41f41e08235610": {
      "model_module": "@jupyter-widgets/controls",
      "model_module_version": "1.1.0",
      "model_name": "ButtonStyleModel",
      "state": {}
     },
     "898619c62ba248b595f7b93cc25d27aa": {
      "model_module": "@jupyter-widgets/controls",
      "model_module_version": "1.1.0",
      "model_name": "ButtonModel",
      "state": {
       "button_style": "warning",
       "description": "28",
       "layout": "IPY_MODEL_fd517e8255c04a5e8c946d6b492d3086",
       "style": "IPY_MODEL_32f6b3bf53824707b5caacc04c54d7b5"
      }
     },
     "8a9bd57b3b9645e1afd52c60799b0fbb": {
      "model_module": "@jupyter-widgets/controls",
      "model_module_version": "1.1.0",
      "model_name": "ButtonModel",
      "state": {
       "button_style": "warning",
       "description": "30",
       "layout": "IPY_MODEL_fd517e8255c04a5e8c946d6b492d3086",
       "style": "IPY_MODEL_be0871a9f7d24f768072f1bcd420b2e7"
      }
     },
     "8b15b98f23694901975ce882ff94c2ae": {
      "model_module": "@jupyter-widgets/controls",
      "model_module_version": "1.1.0",
      "model_name": "SliderStyleModel",
      "state": {
       "description_width": ""
      }
     },
     "8b30b8c9e5224ac29171085269fafff7": {
      "model_module": "@jupyter-widgets/controls",
      "model_module_version": "1.1.0",
      "model_name": "ButtonModel",
      "state": {
       "button_style": "warning",
       "description": "16",
       "layout": "IPY_MODEL_0bed125e73a54bc88289042ff2c91375",
       "style": "IPY_MODEL_bf3ea3210f8646d6ac983d8a73c7d414"
      }
     },
     "8c4edd05ac6345768df24e70b6a32785": {
      "model_module": "@jupyter-widgets/base",
      "model_module_version": "1.0.0",
      "model_name": "LayoutModel",
      "state": {}
     },
     "8c579810fb3c48889b85a67715143893": {
      "model_module": "@jupyter-widgets/controls",
      "model_module_version": "1.1.0",
      "model_name": "ButtonStyleModel",
      "state": {}
     },
     "8c58e1f53ea34df59157694dc664282d": {
      "model_module": "@jupyter-widgets/controls",
      "model_module_version": "1.1.0",
      "model_name": "ButtonStyleModel",
      "state": {}
     },
     "8cd9bd3004e345a1805756c25792345b": {
      "model_module": "@jupyter-widgets/controls",
      "model_module_version": "1.1.0",
      "model_name": "ButtonModel",
      "state": {
       "button_style": "warning",
       "description": "39",
       "layout": "IPY_MODEL_0bed125e73a54bc88289042ff2c91375",
       "style": "IPY_MODEL_c9d16cbcd2d64faba22d93accda2ae23"
      }
     },
     "8db2bf43c1154ac7b774030dc531376c": {
      "model_module": "@jupyter-widgets/base",
      "model_module_version": "1.0.0",
      "model_name": "LayoutModel",
      "state": {}
     },
     "8dfe519c959241f797b47a2dd52a5daa": {
      "model_module": "@jupyter-widgets/controls",
      "model_module_version": "1.1.0",
      "model_name": "BoxModel",
      "state": {
       "children": [
        "IPY_MODEL_106bea6662f34b60b9f5aa1e8aac5021",
        "IPY_MODEL_5ec6d242f6ae477799052754eca9eabd"
       ],
       "layout": "IPY_MODEL_68114fa6666e429d9b8a6beb76973041"
      }
     },
     "8eaea5be7ee14b4f99ba337095fae034": {
      "model_module": "@jupyter-widgets/controls",
      "model_module_version": "1.1.0",
      "model_name": "ButtonStyleModel",
      "state": {}
     },
     "8ef4a9342bd247e58a3fd6d8b7d3d51c": {
      "model_module": "@jupyter-widgets/controls",
      "model_module_version": "1.1.0",
      "model_name": "ButtonStyleModel",
      "state": {}
     },
     "8efbe87055ba4f3ea3021ce05dd44e60": {
      "model_module": "@jupyter-widgets/controls",
      "model_module_version": "1.1.0",
      "model_name": "TextareaModel",
      "state": {
       "layout": "IPY_MODEL_decf2525ea644818b78c381e3472b5a5",
       "style": "IPY_MODEL_b6c9cf46fd2c44e7b8334b2d2f344cf5"
      }
     },
     "8f1a780d5ad04f9c8df8b6179d3f30a3": {
      "model_module": "@jupyter-widgets/controls",
      "model_module_version": "1.1.0",
      "model_name": "ButtonModel",
      "state": {
       "button_style": "danger",
       "description": "weight=1, _0%",
       "layout": "IPY_MODEL_56cf2681135b478dbe078042782362f1",
       "style": "IPY_MODEL_99ba4c0a877c4110b88263d08cd9c9ed"
      }
     },
     "8f652531882e4c85a5394972768d3fbd": {
      "model_module": "@jupyter-widgets/controls",
      "model_module_version": "1.1.0",
      "model_name": "ButtonStyleModel",
      "state": {}
     },
     "8f6d1f696c7947e592042e5345526cbb": {
      "model_module": "@jupyter-widgets/controls",
      "model_module_version": "1.1.0",
      "model_name": "DescriptionStyleModel",
      "state": {
       "description_width": ""
      }
     },
     "8fd647758c424eeda026f4a4cc9ab326": {
      "model_module": "@jupyter-widgets/controls",
      "model_module_version": "1.1.0",
      "model_name": "IntSliderModel",
      "state": {
       "description": "A too long description",
       "layout": "IPY_MODEL_7f349e3a0a31402a949016a919076a4a",
       "style": "IPY_MODEL_29fa7d3297a3420b9feffc839ea3cfb2"
      }
     },
     "8fdafeaf7f77494b937377f79f3d527c": {
      "model_module": "@jupyter-widgets/base",
      "model_module_version": "1.0.0",
      "model_name": "LayoutModel",
      "state": {}
     },
     "9000aeeaa7da482992002774c09369e2": {
      "model_module": "@jupyter-widgets/controls",
      "model_module_version": "1.1.0",
      "model_name": "DescriptionStyleModel",
      "state": {
       "description_width": ""
      }
     },
     "90493d85d3fc47bab1c0bdd2e6ba3d5f": {
      "model_module": "@jupyter-widgets/controls",
      "model_module_version": "1.1.0",
      "model_name": "ButtonStyleModel",
      "state": {}
     },
     "9081e20b206e40cc9a0270de543ffeb5": {
      "model_module": "@jupyter-widgets/controls",
      "model_module_version": "1.1.0",
      "model_name": "ButtonStyleModel",
      "state": {}
     },
     "909124d321c64999b1ac340990e7d691": {
      "model_module": "@jupyter-widgets/controls",
      "model_module_version": "1.1.0",
      "model_name": "ButtonStyleModel",
      "state": {}
     },
     "90b46823461a432fbed30c7f3b997658": {
      "model_module": "@jupyter-widgets/base",
      "model_module_version": "1.0.0",
      "model_name": "LayoutModel",
      "state": {
       "align_items": "stretch",
       "display": "flex",
       "flex_flow": "row",
       "width": "70%"
      }
     },
     "90e9d96711af4b69986243879ca082ce": {
      "model_module": "@jupyter-widgets/controls",
      "model_module_version": "1.1.0",
      "model_name": "ButtonModel",
      "state": {
       "button_style": "warning",
       "description": "14",
       "layout": "IPY_MODEL_fd517e8255c04a5e8c946d6b492d3086",
       "style": "IPY_MODEL_8737dc9a2684484289f5f03c66e306d3"
      }
     },
     "90fbc727b4564aa390c44ca5e957c356": {
      "model_module": "@jupyter-widgets/controls",
      "model_module_version": "1.1.0",
      "model_name": "ButtonStyleModel",
      "state": {}
     },
     "910730341f114fc090250b0b1fe265da": {
      "model_module": "@jupyter-widgets/base",
      "model_module_version": "1.0.0",
      "model_name": "LayoutModel",
      "state": {
       "flex": "1 1 auto",
       "width": "auto"
      }
     },
     "91543072d97f404f8ae2ef8f2f30fd42": {
      "model_module": "@jupyter-widgets/controls",
      "model_module_version": "1.1.0",
      "model_name": "ButtonModel",
      "state": {
       "button_style": "danger",
       "description": "weight=1, auto",
       "layout": "IPY_MODEL_ab8f19d786a54a859569f2f7adad8dc8",
       "style": "IPY_MODEL_856d693a50a6459283ddcccd45db949a"
      }
     },
     "9173d77663b347bebad7b0671e41668b": {
      "model_module": "@jupyter-widgets/controls",
      "model_module_version": "1.1.0",
      "model_name": "ButtonModel",
      "state": {
       "button_style": "warning",
       "description": "0",
       "layout": "IPY_MODEL_0bed125e73a54bc88289042ff2c91375",
       "style": "IPY_MODEL_730990d028c04f0ca8c267311a0c3f39"
      }
     },
     "91b0496eb984460b92004ef851451715": {
      "model_module": "@jupyter-widgets/base",
      "model_module_version": "1.0.0",
      "model_name": "LayoutModel",
      "state": {
       "flex": "1 1 auto",
       "width": "auto"
      }
     },
     "91d11360b1f54da0a62d8c4d524b6d3e": {
      "model_module": "@jupyter-widgets/base",
      "model_module_version": "1.0.0",
      "model_name": "LayoutModel",
      "state": {}
     },
     "926715e1f9c445c0987f4440e99ee8aa": {
      "model_module": "@jupyter-widgets/controls",
      "model_module_version": "1.1.0",
      "model_name": "ButtonStyleModel",
      "state": {}
     },
     "930b2b235c464c53aab096c622b7331e": {
      "model_module": "@jupyter-widgets/controls",
      "model_module_version": "1.1.0",
      "model_name": "ButtonModel",
      "state": {
       "button_style": "warning",
       "description": "33",
       "layout": "IPY_MODEL_0bed125e73a54bc88289042ff2c91375",
       "style": "IPY_MODEL_8c579810fb3c48889b85a67715143893"
      }
     },
     "937f63b6249547e590f294b2ab70dc8b": {
      "model_module": "@jupyter-widgets/base",
      "model_module_version": "1.0.0",
      "model_name": "LayoutModel",
      "state": {}
     },
     "93baa6ec719c47e39cc50a7196ce524b": {
      "model_module": "@jupyter-widgets/controls",
      "model_module_version": "1.1.0",
      "model_name": "ButtonModel",
      "state": {
       "button_style": "danger",
       "description": "weight=1, auto",
       "layout": "IPY_MODEL_45a7c0fe0a0d494c8ead55063cd5930d",
       "style": "IPY_MODEL_e54ab7bfed0d47d8894bc32d9b5d01f6"
      }
     },
     "93ca3bf8f5bb4a0596eab63c0b600680": {
      "model_module": "@jupyter-widgets/base",
      "model_module_version": "1.0.0",
      "model_name": "LayoutModel",
      "state": {}
     },
     "9433e387782f45cbbbb9c65e2b7d1625": {
      "model_module": "@jupyter-widgets/controls",
      "model_module_version": "1.1.0",
      "model_name": "ButtonStyleModel",
      "state": {}
     },
     "94384b443f5e45c4bec1f75007167c86": {
      "model_module": "@jupyter-widgets/controls",
      "model_module_version": "1.1.0",
      "model_name": "ButtonStyleModel",
      "state": {}
     },
     "955742b09cbd457e9a6fcf281ff8cc5b": {
      "model_module": "@jupyter-widgets/controls",
      "model_module_version": "1.1.0",
      "model_name": "ButtonModel",
      "state": {
       "button_style": "warning",
       "description": "20",
       "layout": "IPY_MODEL_0bed125e73a54bc88289042ff2c91375",
       "style": "IPY_MODEL_a1a37b3778884f4ea3c0a1c48441b40e"
      }
     },
     "959ffd7488a5488394ac2b86c1a0a9c9": {
      "model_module": "@jupyter-widgets/controls",
      "model_module_version": "1.1.0",
      "model_name": "BoxModel",
      "state": {
       "children": [
        "IPY_MODEL_cc39d4e7a32044d59a1c3975bb34b196",
        "IPY_MODEL_0da17df2857140809605f302cd8fa998",
        "IPY_MODEL_0474bebc718a4d479893258403ee6d98",
        "IPY_MODEL_0b24fc39831441a9b6941a82edfbaaf1"
       ],
       "layout": "IPY_MODEL_5c3b7e5ecd9145698d2ee04ee7034cea"
      }
     },
     "95e8be7592fe43d18b1ecff64f275ddb": {
      "model_module": "@jupyter-widgets/controls",
      "model_module_version": "1.1.0",
      "model_name": "ButtonStyleModel",
      "state": {}
     },
     "95ec9c10e0624c809e27a9ec131a60d9": {
      "model_module": "@jupyter-widgets/base",
      "model_module_version": "1.0.0",
      "model_name": "LayoutModel",
      "state": {}
     },
     "95fd6967319c4e598bee28030f64ac6b": {
      "model_module": "@jupyter-widgets/controls",
      "model_module_version": "1.1.0",
      "model_name": "ButtonStyleModel",
      "state": {}
     },
     "9629717020df48c5a34b08201c90d2c4": {
      "model_module": "@jupyter-widgets/controls",
      "model_module_version": "1.1.0",
      "model_name": "ButtonModel",
      "state": {
       "button_style": "danger",
       "description": "staple",
       "layout": "IPY_MODEL_7ff80e764e2745d9800eae1f025f64e0",
       "style": "IPY_MODEL_2cb621fbacc74976b23ce11629c9e7ac"
      }
     },
     "963623653aa8460c998da836e5a6bf43": {
      "model_module": "@jupyter-widgets/controls",
      "model_module_version": "1.1.0",
      "model_name": "ButtonStyleModel",
      "state": {}
     },
     "967aba77b8cb4e5f94be6d72805eb82e": {
      "model_module": "@jupyter-widgets/base",
      "model_module_version": "1.0.0",
      "model_name": "LayoutModel",
      "state": {
       "flex": "3 1 0%",
       "width": "auto"
      }
     },
     "968fa3494150462e96e12fd69a3a9814": {
      "model_module": "@jupyter-widgets/controls",
      "model_module_version": "1.1.0",
      "model_name": "ButtonModel",
      "state": {
       "button_style": "danger",
       "description": "weight=3, .0%",
       "layout": "IPY_MODEL_2eb44a8f0575421b9722b176795021c2",
       "style": "IPY_MODEL_893254696fd04e41af41f41e08235610"
      }
     },
     "96cfb06f216e4aee836f764ba3569162": {
      "model_module": "@jupyter-widgets/controls",
      "model_module_version": "1.1.0",
      "model_name": "ButtonModel",
      "state": {
       "description": "staple",
       "layout": "IPY_MODEL_3b8919e3fde04d2f9efdabcc05e716a9",
       "style": "IPY_MODEL_6e7a62e2fe8b440a9b2a057c84d0976c"
      }
     },
     "9705bfee420b49c6a9cf1d33eef9e86d": {
      "model_module": "@jupyter-widgets/controls",
      "model_module_version": "1.1.0",
      "model_name": "ButtonModel",
      "state": {
       "button_style": "warning",
       "description": "15",
       "layout": "IPY_MODEL_0bed125e73a54bc88289042ff2c91375",
       "style": "IPY_MODEL_8ef4a9342bd247e58a3fd6d8b7d3d51c"
      }
     },
     "973acfc711e84afea688845077be0bd7": {
      "model_module": "@jupyter-widgets/base",
      "model_module_version": "1.0.0",
      "model_name": "LayoutModel",
      "state": {}
     },
     "9757263eee1d4c3eb491103197390828": {
      "model_module": "@jupyter-widgets/base",
      "model_module_version": "1.0.0",
      "model_name": "LayoutModel",
      "state": {}
     },
     "976c9489e0314894a0a1b01f4adac8a7": {
      "model_module": "@jupyter-widgets/controls",
      "model_module_version": "1.1.0",
      "model_name": "ButtonModel",
      "state": {
       "button_style": "warning",
       "description": "3",
       "layout": "IPY_MODEL_fd517e8255c04a5e8c946d6b492d3086",
       "style": "IPY_MODEL_979407e00f844677b3da08e40a944304"
      }
     },
     "979407e00f844677b3da08e40a944304": {
      "model_module": "@jupyter-widgets/controls",
      "model_module_version": "1.1.0",
      "model_name": "ButtonStyleModel",
      "state": {}
     },
     "98dd81c622b84cda99f7f97af1c2bce3": {
      "model_module": "@jupyter-widgets/controls",
      "model_module_version": "1.1.0",
      "model_name": "ButtonStyleModel",
      "state": {}
     },
     "98ebc9cea78e44a89d73a4fcc31f5104": {
      "model_module": "@jupyter-widgets/base",
      "model_module_version": "1.0.0",
      "model_name": "LayoutModel",
      "state": {}
     },
     "991cb1b30cbd4c828e7ce720bbfcbd83": {
      "model_module": "@jupyter-widgets/controls",
      "model_module_version": "1.1.0",
      "model_name": "ButtonStyleModel",
      "state": {}
     },
     "9928fa19114146f3a0ab0efe06e07914": {
      "model_module": "@jupyter-widgets/controls",
      "model_module_version": "1.1.0",
      "model_name": "ButtonModel",
      "state": {
       "button_style": "danger",
       "description": "horse",
       "layout": "IPY_MODEL_bcd253e9de8744b5aa2d301120481c38",
       "style": "IPY_MODEL_8c58e1f53ea34df59157694dc664282d"
      }
     },
     "996d25940157434387dd30a3e55e3ea9": {
      "model_module": "@jupyter-widgets/controls",
      "model_module_version": "1.1.0",
      "model_name": "LabelModel",
      "state": {
       "layout": "IPY_MODEL_06f47ff951b14910b8ae41e1dbf8f4e3",
       "style": "IPY_MODEL_67d6c9c1a118475493d766a14da5de84",
       "value": "Scroll horizontally:"
      }
     },
     "99ba4c0a877c4110b88263d08cd9c9ed": {
      "model_module": "@jupyter-widgets/controls",
      "model_module_version": "1.1.0",
      "model_name": "ButtonStyleModel",
      "state": {}
     },
     "99dba6072ddf4bbaa966422e7097d49d": {
      "model_module": "@jupyter-widgets/controls",
      "model_module_version": "1.1.0",
      "model_name": "ButtonStyleModel",
      "state": {}
     },
     "99e96e53375b48f594fed5064d6d8150": {
      "model_module": "@jupyter-widgets/controls",
      "model_module_version": "1.1.0",
      "model_name": "ButtonModel",
      "state": {
       "description": "weight=1",
       "layout": "IPY_MODEL_7c76431092da44e9a3e703c17d72fa1e",
       "style": "IPY_MODEL_c26d53b368f14ed1b9c3cd51e20a31b1"
      }
     },
     "9a51496d736b4817b9262d2826bc0583": {
      "model_module": "@jupyter-widgets/controls",
      "model_module_version": "1.1.0",
      "model_name": "ButtonStyleModel",
      "state": {}
     },
     "9a72b9d610004a9c91f7512f804c013d": {
      "model_module": "@jupyter-widgets/controls",
      "model_module_version": "1.1.0",
      "model_name": "ButtonModel",
      "state": {
       "button_style": "danger",
       "description": "staple",
       "layout": "IPY_MODEL_a6b94d05bfd147d89200feca71cf15b5",
       "style": "IPY_MODEL_da835d851c2948b2acda865fc3a2afa6"
      }
     },
     "9a811d0c126f47ffa98d9d7ea3e263a8": {
      "model_module": "@jupyter-widgets/controls",
      "model_module_version": "1.1.0",
      "model_name": "ButtonStyleModel",
      "state": {}
     },
     "9a9fdd69eb3d48b28c0872ff15484389": {
      "model_module": "@jupyter-widgets/controls",
      "model_module_version": "1.1.0",
      "model_name": "ButtonModel",
      "state": {
       "button_style": "warning",
       "description": "10",
       "layout": "IPY_MODEL_86c93170059349499a5f76156cbd8cdf",
       "style": "IPY_MODEL_b3c2fc36803349b69665d29bd9ac5549"
      }
     },
     "9b78cc946f3f41f0a6850fc87dba8a77": {
      "model_module": "@jupyter-widgets/controls",
      "model_module_version": "1.1.0",
      "model_name": "ButtonModel",
      "state": {
       "button_style": "danger",
       "description": "weight=1, auto",
       "layout": "IPY_MODEL_cf74635dc7cd4c6185c27f1161e9c271",
       "style": "IPY_MODEL_0ea1638d4e4a4984a6e769ccdf98194e"
      }
     },
     "9be60ad4ef5b4282a97125f138ad132b": {
      "model_module": "@jupyter-widgets/controls",
      "model_module_version": "1.1.0",
      "model_name": "LabelModel",
      "state": {
       "layout": "IPY_MODEL_386ba40f1dd847568beb6e7b7c81599b",
       "style": "IPY_MODEL_3614723fabfe46d9af33152b30efbcdd",
       "value": "Information"
      }
     },
     "9c3552d52c7b4f95b62a5e89ee6a1602": {
      "model_module": "@jupyter-widgets/controls",
      "model_module_version": "1.1.0",
      "model_name": "ButtonStyleModel",
      "state": {}
     },
     "9cec86147f73446a81e86fe6e7ee1f15": {
      "model_module": "@jupyter-widgets/base",
      "model_module_version": "1.0.0",
      "model_name": "LayoutModel",
      "state": {
       "display": "flex",
       "flex_flow": "row",
       "justify_content": "space-between"
      }
     },
     "9d66000613a04a55b25ce6e5689b0910": {
      "model_module": "@jupyter-widgets/controls",
      "model_module_version": "1.1.0",
      "model_name": "ButtonModel",
      "state": {
       "button_style": "warning",
       "description": "14",
       "layout": "IPY_MODEL_86c93170059349499a5f76156cbd8cdf",
       "style": "IPY_MODEL_13af18f71e7349c7b08ccbf7e8f150ab"
      }
     },
     "9d9a3b6bdd494789bbd673d633cf04d2": {
      "model_module": "@jupyter-widgets/controls",
      "model_module_version": "1.1.0",
      "model_name": "BoxModel",
      "state": {
       "children": [
        "IPY_MODEL_5d3cd6de2c3d4d3fbfc90aeff77ba2d9",
        "IPY_MODEL_0909dd3c366f464d8d087092ae83fb00",
        "IPY_MODEL_3168e8996b9646438c3da41646163b95",
        "IPY_MODEL_ab7ee10a64404f26825beccd859fb613",
        "IPY_MODEL_c47b9d3adf4c4c929df2ec5fc136f4de",
        "IPY_MODEL_38e605f60ee24d778110f3ec8289d4c2",
        "IPY_MODEL_afb16dd3bf9549c3aa282ac1b55699f6",
        "IPY_MODEL_a10f5daa4b894504b5fbd07868504bd3",
        "IPY_MODEL_b6dcd13a9366433a8c4f1fd73ff819d9",
        "IPY_MODEL_4c2d648a95f94248ab2a0e3c1c1baabe",
        "IPY_MODEL_9a9fdd69eb3d48b28c0872ff15484389",
        "IPY_MODEL_03d2f10cca034a13962696fbf2ce6d4d",
        "IPY_MODEL_e77af21d3f76480694434674087d51bf",
        "IPY_MODEL_c6c38d09747f4d2ea8122be4ef834104",
        "IPY_MODEL_9d66000613a04a55b25ce6e5689b0910",
        "IPY_MODEL_844e689f4fb5418483d536942a3a0685",
        "IPY_MODEL_a018f9df0de64a7db88d4760666d2204",
        "IPY_MODEL_9e5ceea5744b4177b5f94f82e231973d",
        "IPY_MODEL_54050f0aaec84eea9ff4bf4a9c325b07",
        "IPY_MODEL_6d68e1a2ffc24b7b9e6d33d56d5d6191",
        "IPY_MODEL_40ffc9f6574749b1b8de840437770d2f",
        "IPY_MODEL_c3eb310789e74ccf913210b1558aee8d",
        "IPY_MODEL_f79ab8504cca44e297791fef4f73d832",
        "IPY_MODEL_e4b4f16bee534374ac503ddb8cefeb2d",
        "IPY_MODEL_a0a87486c6f94523bc1be42f6dbbac65",
        "IPY_MODEL_1a23f155631a4393b5cf51028b267023",
        "IPY_MODEL_87cffb66d7ed49cf82da8e38d6a414aa",
        "IPY_MODEL_29814439e9144be3aacdb2bfdd7a5349",
        "IPY_MODEL_af527d2aa5c24809b32eeb0e329f57ea",
        "IPY_MODEL_b9d0e01c61a6427997967f639a546da2",
        "IPY_MODEL_3d6d73b0803c47c99781f8f5bd870104",
        "IPY_MODEL_14af3452480f458297990e6dc0e4feca",
        "IPY_MODEL_b5a698b60cdf437392f96f8924d2f246",
        "IPY_MODEL_2dbc5b27b5a84121af55dee0f1d248f6",
        "IPY_MODEL_9fe52f750e274fe694f26699d53bb26e",
        "IPY_MODEL_dd37173b5c674f3782a246cab24c85b4",
        "IPY_MODEL_299c3dd0d01849af9a514fa35747f40a",
        "IPY_MODEL_d92aeefa1a0f4b198a849e0b6e2439d5",
        "IPY_MODEL_59f22ac0f15346b78af2970b049a4bcc",
        "IPY_MODEL_d60f94d4c3744344b3a2c95c55b386ae"
       ],
       "layout": "IPY_MODEL_6a28aab88ef94006b526ff66fce68f90"
      }
     },
     "9d9f6522db4a4098b9a1cdd4f721dbfa": {
      "model_module": "@jupyter-widgets/controls",
      "model_module_version": "1.1.0",
      "model_name": "ButtonModel",
      "state": {
       "button_style": "warning",
       "description": "24",
       "layout": "IPY_MODEL_0bed125e73a54bc88289042ff2c91375",
       "style": "IPY_MODEL_d29a994b75384e4089b5483a37c5c550"
      }
     },
     "9da84f69f42e407a82c2d2afed7b2715": {
      "model_module": "@jupyter-widgets/base",
      "model_module_version": "1.0.0",
      "model_name": "LayoutModel",
      "state": {}
     },
     "9da8d154bba947c1957a5444646d628e": {
      "model_module": "@jupyter-widgets/controls",
      "model_module_version": "1.1.0",
      "model_name": "SliderStyleModel",
      "state": {
       "description_width": ""
      }
     },
     "9dcf59fe18a74afba9b4f924dc0b80f5": {
      "model_module": "@jupyter-widgets/controls",
      "model_module_version": "1.1.0",
      "model_name": "FloatTextModel",
      "state": {
       "layout": "IPY_MODEL_28998aeb35f74feca1c6aba5dd697927",
       "step": null,
       "style": "IPY_MODEL_fccece46bc41473a8a8b1d6915ad515f"
      }
     },
     "9ded1280e65f4b05aa9a297fd54c868d": {
      "model_module": "@jupyter-widgets/base",
      "model_module_version": "1.0.0",
      "model_name": "LayoutModel",
      "state": {}
     },
     "9e1da5f90e3f48b4843f989e9ebeb220": {
      "model_module": "@jupyter-widgets/base",
      "model_module_version": "1.0.0",
      "model_name": "LayoutModel",
      "state": {
       "align_items": "stretch",
       "display": "flex",
       "flex_flow": "row",
       "width": "70%"
      }
     },
     "9e2b6455cd1f43a8a7b139fc2c74bc5a": {
      "model_module": "@jupyter-widgets/controls",
      "model_module_version": "1.1.0",
      "model_name": "ButtonStyleModel",
      "state": {}
     },
     "9e5ceea5744b4177b5f94f82e231973d": {
      "model_module": "@jupyter-widgets/controls",
      "model_module_version": "1.1.0",
      "model_name": "ButtonModel",
      "state": {
       "button_style": "warning",
       "description": "17",
       "layout": "IPY_MODEL_86c93170059349499a5f76156cbd8cdf",
       "style": "IPY_MODEL_f3a676438b984f99bc6d451c5e37393f"
      }
     },
     "9ec49c8dadb94340b4c49b006a2bafff": {
      "model_module": "@jupyter-widgets/controls",
      "model_module_version": "1.1.0",
      "model_name": "SliderStyleModel",
      "state": {
       "description_width": ""
      }
     },
     "9f934807f1dd4e2ba4431ee90ed0800c": {
      "model_module": "@jupyter-widgets/controls",
      "model_module_version": "1.1.0",
      "model_name": "ButtonModel",
      "state": {
       "button_style": "danger",
       "description": "weight=3,  0%",
       "layout": "IPY_MODEL_2b903589a535484b80cf02e0d3c6650c",
       "style": "IPY_MODEL_f4ffa455eead491fb0745d9bb79bea51"
      }
     },
     "9fe52f750e274fe694f26699d53bb26e": {
      "model_module": "@jupyter-widgets/controls",
      "model_module_version": "1.1.0",
      "model_name": "ButtonModel",
      "state": {
       "button_style": "warning",
       "description": "34",
       "layout": "IPY_MODEL_86c93170059349499a5f76156cbd8cdf",
       "style": "IPY_MODEL_19334b76b10a45e6b06c3de0f9649173"
      }
     },
     "a010d1cca14f4f8ca81b8a04eb7099bf": {
      "model_module": "@jupyter-widgets/base",
      "model_module_version": "1.0.0",
      "model_name": "LayoutModel",
      "state": {
       "flex": "1 1 0%",
       "width": "auto"
      }
     },
     "a018f9df0de64a7db88d4760666d2204": {
      "model_module": "@jupyter-widgets/controls",
      "model_module_version": "1.1.0",
      "model_name": "ButtonModel",
      "state": {
       "button_style": "warning",
       "description": "16",
       "layout": "IPY_MODEL_86c93170059349499a5f76156cbd8cdf",
       "style": "IPY_MODEL_488ee290cffb481d89e6530e1258dced"
      }
     },
     "a02596e00c4a47babfc1a777820bed4d": {
      "model_module": "@jupyter-widgets/controls",
      "model_module_version": "1.1.0",
      "model_name": "ButtonModel",
      "state": {
       "button_style": "danger",
       "description": "weight=1, _0%",
       "layout": "IPY_MODEL_ecc89b63925f4a9a8bbd39f1b59a7f67",
       "style": "IPY_MODEL_90493d85d3fc47bab1c0bdd2e6ba3d5f"
      }
     },
     "a09968b99a1b43b99dee89187baa11b9": {
      "model_module": "@jupyter-widgets/controls",
      "model_module_version": "1.1.0",
      "model_name": "ButtonStyleModel",
      "state": {}
     },
     "a09fc80111ea433eb8f2bd43ba72efcc": {
      "model_module": "@jupyter-widgets/controls",
      "model_module_version": "1.1.0",
      "model_name": "ButtonModel",
      "state": {
       "description": "correct",
       "layout": "IPY_MODEL_e89bc43ccf51497195b57c876a185791",
       "style": "IPY_MODEL_98dd81c622b84cda99f7f97af1c2bce3"
      }
     },
     "a0a87486c6f94523bc1be42f6dbbac65": {
      "model_module": "@jupyter-widgets/controls",
      "model_module_version": "1.1.0",
      "model_name": "ButtonModel",
      "state": {
       "button_style": "warning",
       "description": "24",
       "layout": "IPY_MODEL_86c93170059349499a5f76156cbd8cdf",
       "style": "IPY_MODEL_2adeb1226af14019b73c4de8a28a23cf"
      }
     },
     "a0acbabc51d84d14b7c2423bc4911983": {
      "model_module": "@jupyter-widgets/controls",
      "model_module_version": "1.1.0",
      "model_name": "ButtonStyleModel",
      "state": {}
     },
     "a0ca0c36e11c4ed2a8f822ac774437cf": {
      "model_module": "@jupyter-widgets/controls",
      "model_module_version": "1.1.0",
      "model_name": "DescriptionStyleModel",
      "state": {
       "description_width": ""
      }
     },
     "a10f5daa4b894504b5fbd07868504bd3": {
      "model_module": "@jupyter-widgets/controls",
      "model_module_version": "1.1.0",
      "model_name": "ButtonModel",
      "state": {
       "button_style": "warning",
       "description": "7",
       "layout": "IPY_MODEL_86c93170059349499a5f76156cbd8cdf",
       "style": "IPY_MODEL_084767ec12244bb382ac5c5d82498d2e"
      }
     },
     "a180bc59eded4ca4adf03dc005bd9403": {
      "model_module": "@jupyter-widgets/controls",
      "model_module_version": "1.1.0",
      "model_name": "ButtonStyleModel",
      "state": {}
     },
     "a19e7f5d62fd4f638a483e1a15310399": {
      "model_module": "@jupyter-widgets/controls",
      "model_module_version": "1.1.0",
      "model_name": "ButtonModel",
      "state": {
       "description": "weight=2",
       "layout": "IPY_MODEL_4a16075f176342a291372d4c317da9d3",
       "style": "IPY_MODEL_4cc2c5d68369416fa1e0c69092aef7f0"
      }
     },
     "a1a37b3778884f4ea3c0a1c48441b40e": {
      "model_module": "@jupyter-widgets/controls",
      "model_module_version": "1.1.0",
      "model_name": "ButtonStyleModel",
      "state": {}
     },
     "a223c449154e4ea2ace7674ad3b26404": {
      "model_module": "@jupyter-widgets/base",
      "model_module_version": "1.0.0",
      "model_name": "LayoutModel",
      "state": {
       "flex": "1 1 auto",
       "width": "auto"
      }
     },
     "a227526e0b6947688be1cb9dab73fc7e": {
      "model_module": "@jupyter-widgets/base",
      "model_module_version": "1.0.0",
      "model_name": "LayoutModel",
      "state": {
       "flex": "1 1 0%",
       "width": "auto"
      }
     },
     "a24fcfcd5b204c51bbd6396415c90dfe": {
      "model_module": "@jupyter-widgets/controls",
      "model_module_version": "1.1.0",
      "model_name": "BoxModel",
      "state": {
       "children": [
        "IPY_MODEL_283b641507764067a844f1e83c515d0b",
        "IPY_MODEL_c492531962004b5385e32eb0c6d695e7",
        "IPY_MODEL_bf454a4ce6c3458a8de6ddcb94d522c2",
        "IPY_MODEL_976c9489e0314894a0a1b01f4adac8a7",
        "IPY_MODEL_abc6eec872414c56b7ebf67dbd9a3adc",
        "IPY_MODEL_7bdcc0ec0dbd4392b2771b2035f8e0aa",
        "IPY_MODEL_16a97e9607e54ecf93f015c88345ffb0",
        "IPY_MODEL_0f95b95be3fc4aac9ac61c55e04691e7",
        "IPY_MODEL_4cc2a1b550e44583b875556daaec1ba9",
        "IPY_MODEL_500c90f70e2c4d02a3c3bdb1f1421a6e",
        "IPY_MODEL_6635d791f8b4401190cd678dd2b12389",
        "IPY_MODEL_14abb9e540c344cc8db3506d8b741de7",
        "IPY_MODEL_139c88e3bd85485e9579c70e8a377618",
        "IPY_MODEL_d802089e555043f3bd77f0a4ecf5e2c7",
        "IPY_MODEL_90e9d96711af4b69986243879ca082ce",
        "IPY_MODEL_6eacd173a8fb40938e5f76e5973323cf",
        "IPY_MODEL_becebde1800747a2981e1c45c6246178",
        "IPY_MODEL_bd23463040b54e5ea0ffc23a62ba4f28",
        "IPY_MODEL_bfdaa3ae348644aa86452ed371f6d368",
        "IPY_MODEL_2f11079449b44e678d9a76784bde87d8",
        "IPY_MODEL_89191a6e4fcc45b2b2619c67ae2aa35c",
        "IPY_MODEL_fbbefcfa175b467e9130e4af4268071f",
        "IPY_MODEL_ab01d5ee5aff42f49adc78f80b799e21",
        "IPY_MODEL_445e6697c10648978ad4c1189179808d",
        "IPY_MODEL_22bd7d63bb5d46a1a6b5d36e0df7e0b3",
        "IPY_MODEL_fb3e8dfb08274a67b776ff3e55a7e7e5",
        "IPY_MODEL_84771c9b46e04292951d04f96efe8c0d",
        "IPY_MODEL_f0e6a02afaf840a7a012c04105be9c68",
        "IPY_MODEL_898619c62ba248b595f7b93cc25d27aa",
        "IPY_MODEL_569382461c5e41028e186185b17341b4",
        "IPY_MODEL_8a9bd57b3b9645e1afd52c60799b0fbb",
        "IPY_MODEL_06e68e0903ea440c82aa8cb86d51c14a",
        "IPY_MODEL_d1b248349a094fc69fe1702abbf77cf9",
        "IPY_MODEL_b81e41bd3cde44978a2197080e590dce",
        "IPY_MODEL_61efcfc5691f46d083db87490b141d06",
        "IPY_MODEL_72967da788c243dca2ac2f9ae0d742b6",
        "IPY_MODEL_88958275d91f4ae99a5ba56971324c1f",
        "IPY_MODEL_42ca44f73ad044ea9e844dca608a5feb",
        "IPY_MODEL_c330dfb519f9440e833d96f6708d876c",
        "IPY_MODEL_c791d806ade34bcf82e5cecf6678e001"
       ],
       "layout": "IPY_MODEL_ae8e7e60d493438eba11658c7f04a526"
      }
     },
     "a259f7c1a98447fd8a6a49be1d4470ac": {
      "model_module": "@jupyter-widgets/base",
      "model_module_version": "1.0.0",
      "model_name": "LayoutModel",
      "state": {
       "flex": "1 1 auto",
       "width": "auto"
      }
     },
     "a2867abb1c5043c8a9c90b8f85aed5fc": {
      "model_module": "@jupyter-widgets/controls",
      "model_module_version": "1.1.0",
      "model_name": "SliderStyleModel",
      "state": {
       "description_width": ""
      }
     },
     "a2d239f8f54245ad9f2ec623a5f6ae9b": {
      "model_module": "@jupyter-widgets/base",
      "model_module_version": "1.0.0",
      "model_name": "LayoutModel",
      "state": {
       "flex": "1 1 0%",
       "width": "auto"
      }
     },
     "a37031a8c321479f802b4eccfe3dac6e": {
      "model_module": "@jupyter-widgets/controls",
      "model_module_version": "1.1.0",
      "model_name": "ButtonModel",
      "state": {
       "description": "Another button with the same layout",
       "layout": "IPY_MODEL_78f597e050054a95b6c204a4d5c5ba12",
       "style": "IPY_MODEL_622d979c08c649a18250cae3c3a0495a"
      }
     },
     "a3de4a25888949f9b3218296c02b0de5": {
      "model_module": "@jupyter-widgets/controls",
      "model_module_version": "1.1.0",
      "model_name": "ButtonStyleModel",
      "state": {}
     },
     "a52cbea163904e819839f3634defeb5f": {
      "model_module": "@jupyter-widgets/controls",
      "model_module_version": "1.1.0",
      "model_name": "DescriptionStyleModel",
      "state": {
       "description_width": ""
      }
     },
     "a55e849c311841559622cb542bdb0d01": {
      "model_module": "@jupyter-widgets/controls",
      "model_module_version": "1.1.0",
      "model_name": "ButtonModel",
      "state": {
       "button_style": "danger",
       "description": "weight=3, auto",
       "layout": "IPY_MODEL_ae4ac0d9712c41c2aaeff33431551db7",
       "style": "IPY_MODEL_d91c8aa2087c407c9420a48799c73247"
      }
     },
     "a56b448fb7764536830e331dd50ecca7": {
      "model_module": "@jupyter-widgets/controls",
      "model_module_version": "1.1.0",
      "model_name": "ButtonStyleModel",
      "state": {}
     },
     "a6257932203847dfa259b9b096a7170b": {
      "model_module": "@jupyter-widgets/controls",
      "model_module_version": "1.1.0",
      "model_name": "BoxModel",
      "state": {
       "children": [
        "IPY_MODEL_d0d7eb7339f6453489751bb59b9432e9",
        "IPY_MODEL_55a0bf76461b47b6b9f92c89d9e96f05",
        "IPY_MODEL_da0ddb4c28134cdd8f63961f6aa61210"
       ],
       "layout": "IPY_MODEL_edd06f2abe524ca8b4a4202af08c5b06"
      }
     },
     "a6b94d05bfd147d89200feca71cf15b5": {
      "model_module": "@jupyter-widgets/base",
      "model_module_version": "1.0.0",
      "model_name": "LayoutModel",
      "state": {
       "width": "auto"
      }
     },
     "a6faf490062244fbb577ba1fba58bfef": {
      "model_module": "@jupyter-widgets/controls",
      "model_module_version": "1.1.0",
      "model_name": "IntSliderModel",
      "state": {
       "description": "A too long description",
       "layout": "IPY_MODEL_da3eac9248c94e98a816fc458bff117b",
       "style": "IPY_MODEL_21fe4ddb707b4d89a5c0cb187b7db377"
      }
     },
     "a745f99947b2421dbe367e256e795903": {
      "model_module": "@jupyter-widgets/controls",
      "model_module_version": "1.1.0",
      "model_name": "ButtonModel",
      "state": {
       "layout": "IPY_MODEL_bdd89e496fe346e49aea166100c855c7",
       "style": "IPY_MODEL_de2208827b4f48c68915e881ca794115"
      }
     },
     "a76217b727e7489c9033bdb1a5fad9fd": {
      "model_module": "@jupyter-widgets/base",
      "model_module_version": "1.0.0",
      "model_name": "LayoutModel",
      "state": {
       "border": "3px solid black",
       "display": "flex",
       "flex_flow": "row",
       "height": "",
       "overflow_x": "scroll",
       "width": "500px"
      }
     },
     "a7d12749e0d149069b9bf4b01487dfb1": {
      "model_module": "@jupyter-widgets/controls",
      "model_module_version": "1.1.0",
      "model_name": "BoxModel",
      "state": {
       "children": [
        "IPY_MODEL_0c79b3f721e8448a9ce4f3ee085b657d",
        "IPY_MODEL_458fdda8429449f58e4fc55b637020a0",
        "IPY_MODEL_7ed9df3219074970979bac6607c43bc5",
        "IPY_MODEL_9a72b9d610004a9c91f7512f804c013d"
       ],
       "layout": "IPY_MODEL_45a18b30135545d59ad3638c8cc2775f"
      }
     },
     "a805481e4e2943dea6eccd126b4c30c8": {
      "model_module": "@jupyter-widgets/controls",
      "model_module_version": "1.1.0",
      "model_name": "ButtonModel",
      "state": {
       "description": "battery",
       "layout": "IPY_MODEL_5471018df5a94fbc80ebfb86c2a9c7ba",
       "style": "IPY_MODEL_5fd25f05abe24b3088f715b1e558c64d"
      }
     },
     "a89a3fa8e69f47d7ac2ee4df32f48e99": {
      "model_module": "@jupyter-widgets/base",
      "model_module_version": "1.0.0",
      "model_name": "LayoutModel",
      "state": {}
     },
     "a8a13859ac5146d6bd746945078615a9": {
      "model_module": "@jupyter-widgets/base",
      "model_module_version": "1.0.0",
      "model_name": "LayoutModel",
      "state": {}
     },
     "a8d33b6946bc4f0ab9eacd28dce1d2fe": {
      "model_module": "@jupyter-widgets/controls",
      "model_module_version": "1.1.0",
      "model_name": "SliderStyleModel",
      "state": {
       "description_width": "",
       "handle_color": "lightblue"
      }
     },
     "a9290642048c4999819a1d4e177a60f4": {
      "model_module": "@jupyter-widgets/controls",
      "model_module_version": "1.1.0",
      "model_name": "ButtonStyleModel",
      "state": {}
     },
     "a986d0640d0b44bb89226c42fb101024": {
      "model_module": "@jupyter-widgets/controls",
      "model_module_version": "1.1.0",
      "model_name": "IntSliderModel",
      "state": {
       "description": "Blue handle",
       "layout": "IPY_MODEL_c9c4529430d14f65ab9f9912f6ebb981",
       "style": "IPY_MODEL_71541a2d5a2841deae8c08b3b2928a5b"
      }
     },
     "aa4057f5580442ebacbcb4bba4737e20": {
      "model_module": "@jupyter-widgets/controls",
      "model_module_version": "1.1.0",
      "model_name": "ButtonStyleModel",
      "state": {}
     },
     "aa9a932aeb8a4477af6312ee5226dddc": {
      "model_module": "@jupyter-widgets/base",
      "model_module_version": "1.0.0",
      "model_name": "LayoutModel",
      "state": {}
     },
     "aa9c35b83a16433db5115e4ec75484f6": {
      "model_module": "@jupyter-widgets/controls",
      "model_module_version": "1.1.0",
      "model_name": "BoxModel",
      "state": {
       "children": [
        "IPY_MODEL_7d30ebcb99b14db087b58ad76bfd8a75",
        "IPY_MODEL_3ffd808336cf411d9064cca6ea91d1ef",
        "IPY_MODEL_5738b81eeb9744d4ad36d4c7302238e3"
       ],
       "layout": "IPY_MODEL_90b46823461a432fbed30c7f3b997658"
      }
     },
     "aaf8f446eebd475fbedfb6ffad1550e4": {
      "model_module": "@jupyter-widgets/controls",
      "model_module_version": "1.1.0",
      "model_name": "ButtonModel",
      "state": {
       "button_style": "warning",
       "description": "31",
       "layout": "IPY_MODEL_0bed125e73a54bc88289042ff2c91375",
       "style": "IPY_MODEL_7c34f927b9d44519b83e88f894da44ec"
      }
     },
     "ab01d5ee5aff42f49adc78f80b799e21": {
      "model_module": "@jupyter-widgets/controls",
      "model_module_version": "1.1.0",
      "model_name": "ButtonModel",
      "state": {
       "button_style": "warning",
       "description": "22",
       "layout": "IPY_MODEL_fd517e8255c04a5e8c946d6b492d3086",
       "style": "IPY_MODEL_868619fa0b094063b2a9d2654903eab1"
      }
     },
     "ab075a3dfaf446dd89e21c9e0027e1ae": {
      "model_module": "@jupyter-widgets/controls",
      "model_module_version": "1.1.0",
      "model_name": "ButtonStyleModel",
      "state": {}
     },
     "ab545db6dea34696aefe3283c96a507c": {
      "model_module": "@jupyter-widgets/controls",
      "model_module_version": "1.1.0",
      "model_name": "SliderStyleModel",
      "state": {
       "description_width": ""
      }
     },
     "ab7ee10a64404f26825beccd859fb613": {
      "model_module": "@jupyter-widgets/controls",
      "model_module_version": "1.1.0",
      "model_name": "ButtonModel",
      "state": {
       "button_style": "warning",
       "description": "3",
       "layout": "IPY_MODEL_86c93170059349499a5f76156cbd8cdf",
       "style": "IPY_MODEL_8eaea5be7ee14b4f99ba337095fae034"
      }
     },
     "ab8f19d786a54a859569f2f7adad8dc8": {
      "model_module": "@jupyter-widgets/base",
      "model_module_version": "1.0.0",
      "model_name": "LayoutModel",
      "state": {
       "flex": "1 1 auto",
       "width": "auto"
      }
     },
     "abc6eec872414c56b7ebf67dbd9a3adc": {
      "model_module": "@jupyter-widgets/controls",
      "model_module_version": "1.1.0",
      "model_name": "ButtonModel",
      "state": {
       "button_style": "warning",
       "description": "4",
       "layout": "IPY_MODEL_fd517e8255c04a5e8c946d6b492d3086",
       "style": "IPY_MODEL_2e901d77659c4408b208e6cca3097bfa"
      }
     },
     "ac47315181bd493eb1027d80989e0305": {
      "model_module": "@jupyter-widgets/controls",
      "model_module_version": "1.1.0",
      "model_name": "ButtonModel",
      "state": {
       "button_style": "danger",
       "description": "weight=1, auto",
       "layout": "IPY_MODEL_a259f7c1a98447fd8a6a49be1d4470ac",
       "style": "IPY_MODEL_40d42bf8f78e4f8c8e6028315a78f16c"
      }
     },
     "acd1c1b8563348fba435e7bbe312e87a": {
      "model_module": "@jupyter-widgets/controls",
      "model_module_version": "1.1.0",
      "model_name": "ButtonStyleModel",
      "state": {}
     },
     "acd2043215734b5d9fb850bb6c5a89a6": {
      "model_module": "@jupyter-widgets/controls",
      "model_module_version": "1.1.0",
      "model_name": "ButtonModel",
      "state": {
       "button_style": "warning",
       "description": "12",
       "layout": "IPY_MODEL_0bed125e73a54bc88289042ff2c91375",
       "style": "IPY_MODEL_8333d69e2f774c1ab8b5fbffec153a25"
      }
     },
     "ad10eaf9d6104f03b40a5bc4b3906b5c": {
      "model_module": "@jupyter-widgets/controls",
      "model_module_version": "1.1.0",
      "model_name": "ButtonStyleModel",
      "state": {
       "button_color": "lightgreen"
      }
     },
     "adda95e48f584812963dd3f44136138c": {
      "model_module": "@jupyter-widgets/base",
      "model_module_version": "1.0.0",
      "model_name": "LayoutModel",
      "state": {
       "flex": "1 1 0%",
       "width": "auto"
      }
     },
     "adfab91c0b404a63b6080c92ec28134e": {
      "model_module": "@jupyter-widgets/base",
      "model_module_version": "1.0.0",
      "model_name": "LayoutModel",
      "state": {
       "flex": "3 1 auto",
       "width": "auto"
      }
     },
     "ae159805978e415196aeaac10d67ae27": {
      "model_module": "@jupyter-widgets/base",
      "model_module_version": "1.0.0",
      "model_name": "LayoutModel",
      "state": {}
     },
     "ae2437c0c6d84401ab2419450390d860": {
      "model_module": "@jupyter-widgets/controls",
      "model_module_version": "1.1.0",
      "model_name": "ButtonStyleModel",
      "state": {}
     },
     "ae45f316355a44919cb232c7eb239fd7": {
      "model_module": "@jupyter-widgets/controls",
      "model_module_version": "1.1.0",
      "model_name": "ButtonModel",
      "state": {
       "button_style": "danger",
       "description": "weight=1, _0%",
       "layout": "IPY_MODEL_0be2f867389449eba56d3b1e10f03440",
       "style": "IPY_MODEL_018d697b47634ba5bf9c51bc72262084"
      }
     },
     "ae4ac0d9712c41c2aaeff33431551db7": {
      "model_module": "@jupyter-widgets/base",
      "model_module_version": "1.0.0",
      "model_name": "LayoutModel",
      "state": {
       "flex": "3 1 auto",
       "width": "auto"
      }
     },
     "ae74c6a2f2b04da3b3c9fc01447c1022": {
      "model_module": "@jupyter-widgets/base",
      "model_module_version": "1.0.0",
      "model_name": "LayoutModel",
      "state": {
       "flex": "1 1 auto",
       "width": "auto"
      }
     },
     "ae8e7e60d493438eba11658c7f04a526": {
      "model_module": "@jupyter-widgets/base",
      "model_module_version": "1.0.0",
      "model_name": "LayoutModel",
      "state": {
       "border": "3px solid black",
       "display": "flex",
       "flex_flow": "row",
       "height": "",
       "overflow_x": "scroll",
       "width": "500px"
      }
     },
     "aef25569ab604955a7ccf4bdbca15020": {
      "model_module": "@jupyter-widgets/controls",
      "model_module_version": "1.1.0",
      "model_name": "ButtonModel",
      "state": {
       "button_style": "warning",
       "description": "29",
       "layout": "IPY_MODEL_0bed125e73a54bc88289042ff2c91375",
       "style": "IPY_MODEL_ca92f0484d344d6ba3218c67701c69e6"
      }
     },
     "af4993a030164d78ae003483b61e1118": {
      "model_module": "@jupyter-widgets/base",
      "model_module_version": "1.0.0",
      "model_name": "LayoutModel",
      "state": {
       "align_items": "stretch",
       "display": "flex",
       "flex_flow": "row",
       "width": "70%"
      }
     },
     "af527d2aa5c24809b32eeb0e329f57ea": {
      "model_module": "@jupyter-widgets/controls",
      "model_module_version": "1.1.0",
      "model_name": "ButtonModel",
      "state": {
       "button_style": "warning",
       "description": "28",
       "layout": "IPY_MODEL_86c93170059349499a5f76156cbd8cdf",
       "style": "IPY_MODEL_0ace049e703d4b3791d6f4e69084427b"
      }
     },
     "af64e5b832e0403e898b0554ddf5ed18": {
      "model_module": "@jupyter-widgets/controls",
      "model_module_version": "1.1.0",
      "model_name": "ButtonStyleModel",
      "state": {}
     },
     "afa401374e3e4bdaa3c3048f6cebfd9e": {
      "model_module": "@jupyter-widgets/base",
      "model_module_version": "1.0.0",
      "model_name": "LayoutModel",
      "state": {
       "align_items": "stretch",
       "border": "solid",
       "display": "flex",
       "flex_flow": "column",
       "width": "50%"
      }
     },
     "afb16dd3bf9549c3aa282ac1b55699f6": {
      "model_module": "@jupyter-widgets/controls",
      "model_module_version": "1.1.0",
      "model_name": "ButtonModel",
      "state": {
       "button_style": "warning",
       "description": "6",
       "layout": "IPY_MODEL_86c93170059349499a5f76156cbd8cdf",
       "style": "IPY_MODEL_e3f7c091d02642edb4be287ca1ad3b8c"
      }
     },
     "b04a460354e144d390998777d793d347": {
      "model_module": "@jupyter-widgets/controls",
      "model_module_version": "1.1.0",
      "model_name": "DescriptionStyleModel",
      "state": {
       "description_width": ""
      }
     },
     "b0ca8a293663460e8b7d9f3e10f3575e": {
      "model_module": "@jupyter-widgets/controls",
      "model_module_version": "1.1.0",
      "model_name": "DescriptionStyleModel",
      "state": {
       "description_width": ""
      }
     },
     "b1eaae25a6ce4774bb3f96503fd7f852": {
      "model_module": "@jupyter-widgets/controls",
      "model_module_version": "1.1.0",
      "model_name": "ButtonModel",
      "state": {
       "description": "battery",
       "layout": "IPY_MODEL_8c4edd05ac6345768df24e70b6a32785",
       "style": "IPY_MODEL_bb37323b12c0449c96e12e6a74893edf"
      }
     },
     "b1f70528f11c4e50be3734fc766b5d4d": {
      "model_module": "@jupyter-widgets/controls",
      "model_module_version": "1.1.0",
      "model_name": "LabelModel",
      "state": {
       "layout": "IPY_MODEL_6ee5a7aa044746c08ed70fb01b131531",
       "style": "IPY_MODEL_2ee044ea88a84236a2490288522683ab",
       "value": "Information"
      }
     },
     "b23e198d2d1041188ca6b78471348930": {
      "model_module": "@jupyter-widgets/controls",
      "model_module_version": "1.1.0",
      "model_name": "IntSliderModel",
      "state": {
       "description": "Blue handle",
       "layout": "IPY_MODEL_62299ce93f094d8eb68c5a6a166ea071",
       "style": "IPY_MODEL_a8d33b6946bc4f0ab9eacd28dce1d2fe"
      }
     },
     "b27084dc1ec441408dc76ec8d76acc44": {
      "model_module": "@jupyter-widgets/base",
      "model_module_version": "1.0.0",
      "model_name": "LayoutModel",
      "state": {}
     },
     "b29d87249be443008ac338a05120560f": {
      "model_module": "@jupyter-widgets/controls",
      "model_module_version": "1.1.0",
      "model_name": "ButtonStyleModel",
      "state": {}
     },
     "b2a0f429e4ba4868bc84d6c27cc3e03d": {
      "model_module": "@jupyter-widgets/base",
      "model_module_version": "1.0.0",
      "model_name": "LayoutModel",
      "state": {}
     },
     "b2b0d4baa3ef4c8ba2a3e6ea29365195": {
      "model_module": "@jupyter-widgets/controls",
      "model_module_version": "1.1.0",
      "model_name": "ButtonStyleModel",
      "state": {}
     },
     "b2d21e636a1142e9bb60187378421257": {
      "model_module": "@jupyter-widgets/controls",
      "model_module_version": "1.1.0",
      "model_name": "IntSliderModel",
      "state": {
       "description": "A too long description",
       "layout": "IPY_MODEL_e5f200ce6bd8491091113b26aba99ee0",
       "style": "IPY_MODEL_288b32cc3d5e45249dd303175b21d9ff"
      }
     },
     "b2f3bd39915841d08a1911899bd3fc29": {
      "model_module": "@jupyter-widgets/controls",
      "model_module_version": "1.1.0",
      "model_name": "DescriptionStyleModel",
      "state": {
       "description_width": ""
      }
     },
     "b35d6b99677d4e4f9b921d24261dcd1b": {
      "model_module": "@jupyter-widgets/controls",
      "model_module_version": "1.1.0",
      "model_name": "ButtonStyleModel",
      "state": {}
     },
     "b3922d8e0a4d4e5fbc661572161098f0": {
      "model_module": "@jupyter-widgets/base",
      "model_module_version": "1.0.0",
      "model_name": "LayoutModel",
      "state": {}
     },
     "b3c2fc36803349b69665d29bd9ac5549": {
      "model_module": "@jupyter-widgets/controls",
      "model_module_version": "1.1.0",
      "model_name": "ButtonStyleModel",
      "state": {}
     },
     "b499494f92d648d29c0185fa97aa9ff2": {
      "model_module": "@jupyter-widgets/base",
      "model_module_version": "1.0.0",
      "model_name": "LayoutModel",
      "state": {
       "align_items": "stretch",
       "display": "flex",
       "flex_flow": "row",
       "width": "70%"
      }
     },
     "b4ba553a71424456bca46dc303149219": {
      "model_module": "@jupyter-widgets/controls",
      "model_module_version": "1.1.0",
      "model_name": "ButtonModel",
      "state": {
       "button_style": "warning",
       "description": "2",
       "layout": "IPY_MODEL_0bed125e73a54bc88289042ff2c91375",
       "style": "IPY_MODEL_eaca8da71db54f0c8be3d24dd7dd045f"
      }
     },
     "b4e8cfb55a6646869b92f2f19cd340f6": {
      "model_module": "@jupyter-widgets/controls",
      "model_module_version": "1.1.0",
      "model_name": "ButtonModel",
      "state": {
       "button_style": "danger",
       "description": "weight=3,   0%",
       "layout": "IPY_MODEL_0e1a8ec26c144da2b9073b9c7bfb4942",
       "style": "IPY_MODEL_81ff60a2ea9c4eedbbe06f1fbc6961cb"
      }
     },
     "b507e7af2dfa48b89178ef02703da78f": {
      "model_module": "@jupyter-widgets/controls",
      "model_module_version": "1.1.0",
      "model_name": "BoxModel",
      "state": {
       "children": [
        "IPY_MODEL_236e8e823cbc465d9306ab7c1a74b7c8",
        "IPY_MODEL_a55e849c311841559622cb542bdb0d01",
        "IPY_MODEL_c0dc4b68700b4e318f07cf78b08afb04"
       ],
       "layout": "IPY_MODEL_65c2d2c3566b4e88867ccbe36b262f8c"
      }
     },
     "b5a698b60cdf437392f96f8924d2f246": {
      "model_module": "@jupyter-widgets/controls",
      "model_module_version": "1.1.0",
      "model_name": "ButtonModel",
      "state": {
       "button_style": "warning",
       "description": "32",
       "layout": "IPY_MODEL_86c93170059349499a5f76156cbd8cdf",
       "style": "IPY_MODEL_0c77439d99134b369caca19a25d2d3f2"
      }
     },
     "b5d0887241094bd09973c9e896f2f14a": {
      "model_module": "@jupyter-widgets/base",
      "model_module_version": "1.0.0",
      "model_name": "LayoutModel",
      "state": {}
     },
     "b677dc51f81e4e9389da4690eeec0080": {
      "model_module": "@jupyter-widgets/controls",
      "model_module_version": "1.1.0",
      "model_name": "VBoxModel",
      "state": {
       "children": [
        "IPY_MODEL_011bc826aa2e4c22a3d36524d6bdc91c",
        "IPY_MODEL_c5aaeb454e134bc6be50d2e177899a4c"
       ],
       "layout": "IPY_MODEL_b3922d8e0a4d4e5fbc661572161098f0"
      }
     },
     "b698e328807e435d9ae45fda6cc1b535": {
      "model_module": "@jupyter-widgets/base",
      "model_module_version": "1.0.0",
      "model_name": "LayoutModel",
      "state": {}
     },
     "b6a54574d6c04f059a2cfaae4cef4bde": {
      "model_module": "@jupyter-widgets/base",
      "model_module_version": "1.0.0",
      "model_name": "LayoutModel",
      "state": {
       "flex": "1 1 0%",
       "width": "auto"
      }
     },
     "b6c27f3f15a04f35afea53b03aff1647": {
      "model_module": "@jupyter-widgets/controls",
      "model_module_version": "1.1.0",
      "model_name": "ButtonStyleModel",
      "state": {}
     },
     "b6c9cf46fd2c44e7b8334b2d2f344cf5": {
      "model_module": "@jupyter-widgets/controls",
      "model_module_version": "1.1.0",
      "model_name": "DescriptionStyleModel",
      "state": {
       "description_width": ""
      }
     },
     "b6dcd13a9366433a8c4f1fd73ff819d9": {
      "model_module": "@jupyter-widgets/controls",
      "model_module_version": "1.1.0",
      "model_name": "ButtonModel",
      "state": {
       "button_style": "warning",
       "description": "8",
       "layout": "IPY_MODEL_86c93170059349499a5f76156cbd8cdf",
       "style": "IPY_MODEL_6ab986af3d744b8b8c10354bbf2bc8c2"
      }
     },
     "b7341366277b4b59b412985529a97102": {
      "model_module": "@jupyter-widgets/controls",
      "model_module_version": "1.1.0",
      "model_name": "VBoxModel",
      "state": {
       "children": [
        "IPY_MODEL_c4b705f8aa574746a0cd4978ab9168fe",
        "IPY_MODEL_c91805d8985d4c6f93dcfbb47105d5ec"
       ],
       "layout": "IPY_MODEL_fc8d451cfd5a496dbc816286ae417480"
      }
     },
     "b7614f404c9043ac9027c1458f0d4e66": {
      "model_module": "@jupyter-widgets/base",
      "model_module_version": "1.0.0",
      "model_name": "LayoutModel",
      "state": {}
     },
     "b81d9ead1d2d4698a48304b76527797f": {
      "model_module": "@jupyter-widgets/controls",
      "model_module_version": "1.1.0",
      "model_name": "ButtonStyleModel",
      "state": {}
     },
     "b81e41bd3cde44978a2197080e590dce": {
      "model_module": "@jupyter-widgets/controls",
      "model_module_version": "1.1.0",
      "model_name": "ButtonModel",
      "state": {
       "button_style": "warning",
       "description": "33",
       "layout": "IPY_MODEL_fd517e8255c04a5e8c946d6b492d3086",
       "style": "IPY_MODEL_14db7e88103b449d93118284622d871a"
      }
     },
     "b865b20d730d4ccb823e139fc177042d": {
      "model_module": "@jupyter-widgets/controls",
      "model_module_version": "1.1.0",
      "model_name": "ButtonModel",
      "state": {
       "button_style": "warning",
       "description": "14",
       "layout": "IPY_MODEL_0bed125e73a54bc88289042ff2c91375",
       "style": "IPY_MODEL_b6c27f3f15a04f35afea53b03aff1647"
      }
     },
     "b94b8754ab7b4127adf424d230e7949b": {
      "model_module": "@jupyter-widgets/controls",
      "model_module_version": "1.1.0",
      "model_name": "ButtonStyleModel",
      "state": {}
     },
     "b96514654aa04030bd84b8729d79f4c9": {
      "model_module": "@jupyter-widgets/controls",
      "model_module_version": "1.1.0",
      "model_name": "IntSliderModel",
      "state": {
       "layout": "IPY_MODEL_b27084dc1ec441408dc76ec8d76acc44",
       "max": 60,
       "min": 40,
       "style": "IPY_MODEL_68141d1fa2e043098c10e238dda73b5b",
       "value": 40
      }
     },
     "b9700717fb8e4284b0be3cbd7eee7a10": {
      "model_module": "@jupyter-widgets/controls",
      "model_module_version": "1.1.0",
      "model_name": "ButtonStyleModel",
      "state": {}
     },
     "b9d0e01c61a6427997967f639a546da2": {
      "model_module": "@jupyter-widgets/controls",
      "model_module_version": "1.1.0",
      "model_name": "ButtonModel",
      "state": {
       "button_style": "warning",
       "description": "29",
       "layout": "IPY_MODEL_86c93170059349499a5f76156cbd8cdf",
       "style": "IPY_MODEL_4ed86549c73c4e9aa2dd9a5afeb4fba8"
      }
     },
     "bace7b6260cb420481ebf818e1262496": {
      "model_module": "@jupyter-widgets/controls",
      "model_module_version": "1.1.0",
      "model_name": "ButtonModel",
      "state": {
       "button_style": "danger",
       "description": "weight=3, auto",
       "layout": "IPY_MODEL_c7c17c3f33f44a2b858c24eb5018638a",
       "style": "IPY_MODEL_41b39b93b67b4ec0af171f1c0823ebcb"
      }
     },
     "bb37323b12c0449c96e12e6a74893edf": {
      "model_module": "@jupyter-widgets/controls",
      "model_module_version": "1.1.0",
      "model_name": "ButtonStyleModel",
      "state": {}
     },
     "bc6a42ff97e04a0fbdbef1469f778f1c": {
      "model_module": "@jupyter-widgets/base",
      "model_module_version": "1.0.0",
      "model_name": "LayoutModel",
      "state": {
       "flex": "3 1 0%",
       "width": "auto"
      }
     },
     "bcd253e9de8744b5aa2d301120481c38": {
      "model_module": "@jupyter-widgets/base",
      "model_module_version": "1.0.0",
      "model_name": "LayoutModel",
      "state": {
       "width": "auto"
      }
     },
     "bd23463040b54e5ea0ffc23a62ba4f28": {
      "model_module": "@jupyter-widgets/controls",
      "model_module_version": "1.1.0",
      "model_name": "ButtonModel",
      "state": {
       "button_style": "warning",
       "description": "17",
       "layout": "IPY_MODEL_fd517e8255c04a5e8c946d6b492d3086",
       "style": "IPY_MODEL_a56b448fb7764536830e331dd50ecca7"
      }
     },
     "bd7ce397c7df4ac7a06c42a52763909b": {
      "model_module": "@jupyter-widgets/controls",
      "model_module_version": "1.1.0",
      "model_name": "ButtonModel",
      "state": {
       "button_style": "warning",
       "description": "23",
       "layout": "IPY_MODEL_0bed125e73a54bc88289042ff2c91375",
       "style": "IPY_MODEL_fbeed897775d4f1c8da078fb4bacf36d"
      }
     },
     "bdd89e496fe346e49aea166100c855c7": {
      "model_module": "@jupyter-widgets/base",
      "model_module_version": "1.0.0",
      "model_name": "LayoutModel",
      "state": {}
     },
     "be0871a9f7d24f768072f1bcd420b2e7": {
      "model_module": "@jupyter-widgets/controls",
      "model_module_version": "1.1.0",
      "model_name": "ButtonStyleModel",
      "state": {}
     },
     "becebde1800747a2981e1c45c6246178": {
      "model_module": "@jupyter-widgets/controls",
      "model_module_version": "1.1.0",
      "model_name": "ButtonModel",
      "state": {
       "button_style": "warning",
       "description": "16",
       "layout": "IPY_MODEL_fd517e8255c04a5e8c946d6b492d3086",
       "style": "IPY_MODEL_a09968b99a1b43b99dee89187baa11b9"
      }
     },
     "bf3ea3210f8646d6ac983d8a73c7d414": {
      "model_module": "@jupyter-widgets/controls",
      "model_module_version": "1.1.0",
      "model_name": "ButtonStyleModel",
      "state": {}
     },
     "bf454a4ce6c3458a8de6ddcb94d522c2": {
      "model_module": "@jupyter-widgets/controls",
      "model_module_version": "1.1.0",
      "model_name": "ButtonModel",
      "state": {
       "button_style": "warning",
       "description": "2",
       "layout": "IPY_MODEL_fd517e8255c04a5e8c946d6b492d3086",
       "style": "IPY_MODEL_58e99414af5044afb27f9413cd0e28a8"
      }
     },
     "bfdaa3ae348644aa86452ed371f6d368": {
      "model_module": "@jupyter-widgets/controls",
      "model_module_version": "1.1.0",
      "model_name": "ButtonModel",
      "state": {
       "button_style": "warning",
       "description": "18",
       "layout": "IPY_MODEL_fd517e8255c04a5e8c946d6b492d3086",
       "style": "IPY_MODEL_03aef42ca0d140b284742725e332789d"
      }
     },
     "bffd0f67d2d749a7894780f062e8f30e": {
      "model_module": "@jupyter-widgets/controls",
      "model_module_version": "1.1.0",
      "model_name": "ButtonStyleModel",
      "state": {}
     },
     "c0dc4b68700b4e318f07cf78b08afb04": {
      "model_module": "@jupyter-widgets/controls",
      "model_module_version": "1.1.0",
      "model_name": "ButtonModel",
      "state": {
       "button_style": "danger",
       "description": "weight=1, auto",
       "layout": "IPY_MODEL_82362a1715784aff9154f7dc98bda044",
       "style": "IPY_MODEL_b35d6b99677d4e4f9b921d24261dcd1b"
      }
     },
     "c100df358a044fcf85ef2fd25fc84880": {
      "model_module": "@jupyter-widgets/controls",
      "model_module_version": "1.1.0",
      "model_name": "ButtonModel",
      "state": {
       "button_style": "danger",
       "description": "weight=1, _0%",
       "layout": "IPY_MODEL_674a173d4c7a4ad298c7f677e7f8999c",
       "style": "IPY_MODEL_b94b8754ab7b4127adf424d230e7949b"
      }
     },
     "c121ef17da3147d9a7eb51a4ba6c70d6": {
      "model_module": "@jupyter-widgets/controls",
      "model_module_version": "1.1.0",
      "model_name": "ButtonModel",
      "state": {
       "button_style": "warning",
       "description": "26",
       "layout": "IPY_MODEL_0bed125e73a54bc88289042ff2c91375",
       "style": "IPY_MODEL_1c531a2a3c6f4d299df32f5a9b5e0058"
      }
     },
     "c244b4c92e614670ab9ad69f78ea1b38": {
      "model_module": "@jupyter-widgets/controls",
      "model_module_version": "1.1.0",
      "model_name": "DropdownModel",
      "state": {
       "_options_labels": [
        "Scrambled",
        "Sunny side up",
        "Over easy"
       ],
       "index": 0,
       "layout": "IPY_MODEL_04e471f5df84465ea59b9a5b11f4bf23",
       "style": "IPY_MODEL_854847ab33a94f099e25c3da59cc715d"
      }
     },
     "c26d53b368f14ed1b9c3cd51e20a31b1": {
      "model_module": "@jupyter-widgets/controls",
      "model_module_version": "1.1.0",
      "model_name": "ButtonStyleModel",
      "state": {}
     },
     "c31104ed4f924f37bac6c988e1e6a60f": {
      "model_module": "@jupyter-widgets/controls",
      "model_module_version": "1.1.0",
      "model_name": "ButtonModel",
      "state": {
       "button_style": "danger",
       "description": "weight=1, _0%",
       "layout": "IPY_MODEL_02c3f89054774377abaac819d626ba4c",
       "style": "IPY_MODEL_179348c5f5c048e69bf87dee9ddf78b7"
      }
     },
     "c330dfb519f9440e833d96f6708d876c": {
      "model_module": "@jupyter-widgets/controls",
      "model_module_version": "1.1.0",
      "model_name": "ButtonModel",
      "state": {
       "button_style": "warning",
       "description": "38",
       "layout": "IPY_MODEL_fd517e8255c04a5e8c946d6b492d3086",
       "style": "IPY_MODEL_963623653aa8460c998da836e5a6bf43"
      }
     },
     "c3a0f5e100d342ada7979000a57bf232": {
      "model_module": "@jupyter-widgets/controls",
      "model_module_version": "1.1.0",
      "model_name": "VBoxModel",
      "state": {
       "children": [
        "IPY_MODEL_00d3def43dc549c588e1517925eb5d41",
        "IPY_MODEL_2c8167fcc8754075be58af50164e2f64"
       ],
       "layout": "IPY_MODEL_ceba4e6eca094a9ab0eb34ce9d501e74"
      }
     },
     "c3eb310789e74ccf913210b1558aee8d": {
      "model_module": "@jupyter-widgets/controls",
      "model_module_version": "1.1.0",
      "model_name": "ButtonModel",
      "state": {
       "button_style": "warning",
       "description": "21",
       "layout": "IPY_MODEL_86c93170059349499a5f76156cbd8cdf",
       "style": "IPY_MODEL_f16528c6763648969048b081e6512640"
      }
     },
     "c3fae98470104b9189982a8f1276f239": {
      "model_module": "@jupyter-widgets/controls",
      "model_module_version": "1.1.0",
      "model_name": "BoxModel",
      "state": {
       "children": [
        "IPY_MODEL_d04f10db99314a9dbef7a8ee63f571d4",
        "IPY_MODEL_a19e7f5d62fd4f638a483e1a15310399",
        "IPY_MODEL_99e96e53375b48f594fed5064d6d8150"
       ],
       "layout": "IPY_MODEL_89009a151da64843bc371b04ef86c0e1"
      }
     },
     "c4016ba0532c4ca9aaa8edcde6c088a6": {
      "model_module": "@jupyter-widgets/controls",
      "model_module_version": "1.1.0",
      "model_name": "ButtonStyleModel",
      "state": {}
     },
     "c44ffa9917da474f8cfa956deee16f59": {
      "model_module": "@jupyter-widgets/controls",
      "model_module_version": "1.1.0",
      "model_name": "BoxModel",
      "state": {
       "children": [
        "IPY_MODEL_28280f150ef848ff9708fff7b4a3501f",
        "IPY_MODEL_5a3ec24bf2ef42a0ae6aa3aeff56abb8",
        "IPY_MODEL_7c7a43ee01614fb8898c0ef377847c1b",
        "IPY_MODEL_796e2945aae9464f8d78b272288cf457"
       ],
       "layout": "IPY_MODEL_63f498b564004735bca50829b6b17c86"
      }
     },
     "c470a433108e4e73ab0269f8382e4cb1": {
      "model_module": "@jupyter-widgets/controls",
      "model_module_version": "1.1.0",
      "model_name": "ButtonModel",
      "state": {
       "button_style": "warning",
       "description": "21",
       "layout": "IPY_MODEL_0bed125e73a54bc88289042ff2c91375",
       "style": "IPY_MODEL_ab075a3dfaf446dd89e21c9e0027e1ae"
      }
     },
     "c47b9d3adf4c4c929df2ec5fc136f4de": {
      "model_module": "@jupyter-widgets/controls",
      "model_module_version": "1.1.0",
      "model_name": "ButtonModel",
      "state": {
       "button_style": "warning",
       "description": "4",
       "layout": "IPY_MODEL_86c93170059349499a5f76156cbd8cdf",
       "style": "IPY_MODEL_cdd6af3e1de24e6594d67e4ef22df208"
      }
     },
     "c483d8dfbc46424f8e7a839825a74158": {
      "model_module": "@jupyter-widgets/controls",
      "model_module_version": "1.1.0",
      "model_name": "ButtonStyleModel",
      "state": {}
     },
     "c492531962004b5385e32eb0c6d695e7": {
      "model_module": "@jupyter-widgets/controls",
      "model_module_version": "1.1.0",
      "model_name": "ButtonModel",
      "state": {
       "button_style": "warning",
       "description": "1",
       "layout": "IPY_MODEL_fd517e8255c04a5e8c946d6b492d3086",
       "style": "IPY_MODEL_c5954f93878e419c8950f596703dec86"
      }
     },
     "c4a4d1c895364c8aa4d78ab55d50aec0": {
      "model_module": "@jupyter-widgets/controls",
      "model_module_version": "1.1.0",
      "model_name": "DescriptionStyleModel",
      "state": {
       "description_width": ""
      }
     },
     "c4b705f8aa574746a0cd4978ab9168fe": {
      "model_module": "@jupyter-widgets/controls",
      "model_module_version": "1.1.0",
      "model_name": "BoxModel",
      "state": {
       "children": [
        "IPY_MODEL_2ab29a84dd4d4dc8be9dbfcc766e152c",
        "IPY_MODEL_3ce1f09913cf4233ae448e8cc62e1b7c",
        "IPY_MODEL_100c47f7688442f2a3b009387067c8ed"
       ],
       "layout": "IPY_MODEL_facbc5178b5f44fe86a4dbf00457958e"
      }
     },
     "c4cde0fc628c460397f664c2cd761f86": {
      "model_module": "@jupyter-widgets/controls",
      "model_module_version": "1.1.0",
      "model_name": "TextareaModel",
      "state": {
       "layout": "IPY_MODEL_fe5df9ccff5d496e914e9074d7640b46",
       "style": "IPY_MODEL_ddc86795151e40c79aa787eb69e17562"
      }
     },
     "c5954f93878e419c8950f596703dec86": {
      "model_module": "@jupyter-widgets/controls",
      "model_module_version": "1.1.0",
      "model_name": "ButtonStyleModel",
      "state": {}
     },
     "c59c4d5d02ad4f86bb9eebcc28a5eb36": {
      "model_module": "@jupyter-widgets/base",
      "model_module_version": "1.0.0",
      "model_name": "LayoutModel",
      "state": {
       "flex": "1 1 0%",
       "width": "auto"
      }
     },
     "c5aaeb454e134bc6be50d2e177899a4c": {
      "model_module": "@jupyter-widgets/controls",
      "model_module_version": "1.1.0",
      "model_name": "BoxModel",
      "state": {
       "children": [
        "IPY_MODEL_88cb73243adf41d5b884404cfbe0cb59",
        "IPY_MODEL_f10b39fd0af24c97a96b6f33b6207c35",
        "IPY_MODEL_3f0316571089498c95476f14ff65c25a"
       ],
       "layout": "IPY_MODEL_c6440ab3a3ed457f96adf6d72e36fe55"
      }
     },
     "c5c957fc5ec24ba4bf38c07957109df5": {
      "model_module": "@jupyter-widgets/base",
      "model_module_version": "1.0.0",
      "model_name": "LayoutModel",
      "state": {
       "flex": "1 1 0%",
       "width": "auto"
      }
     },
     "c5d70bcfed9a4fabb59ad583a585726c": {
      "model_module": "@jupyter-widgets/controls",
      "model_module_version": "1.1.0",
      "model_name": "ButtonModel",
      "state": {
       "button_style": "danger",
       "description": "horse",
       "layout": "IPY_MODEL_7ff80e764e2745d9800eae1f025f64e0",
       "style": "IPY_MODEL_804fd581e0a54e0091164b7bbd7f1107"
      }
     },
     "c5eb1ffd8f28488b9bfca78fa69cf4fe": {
      "model_module": "@jupyter-widgets/controls",
      "model_module_version": "1.1.0",
      "model_name": "ButtonModel",
      "state": {
       "button_style": "danger",
       "description": "weight=1, auto",
       "layout": "IPY_MODEL_ae74c6a2f2b04da3b3c9fc01447c1022",
       "style": "IPY_MODEL_363d1e0bdecb482ebf4513e71dd97076"
      }
     },
     "c6440ab3a3ed457f96adf6d72e36fe55": {
      "model_module": "@jupyter-widgets/base",
      "model_module_version": "1.0.0",
      "model_name": "LayoutModel",
      "state": {
       "align_items": "stretch",
       "display": "flex",
       "flex_flow": "row",
       "width": "70%"
      }
     },
     "c65d556b1b2845e58e88db3f07fcadb4": {
      "model_module": "@jupyter-widgets/controls",
      "model_module_version": "1.1.0",
      "model_name": "BoxModel",
      "state": {
       "children": [
        "IPY_MODEL_e57ce456bf364390858cd99c54e0128f",
        "IPY_MODEL_0244912ad75d404c919c386ff61952bb",
        "IPY_MODEL_5fcb056a8b084c66af590e02edbcb499"
       ],
       "layout": "IPY_MODEL_af4993a030164d78ae003483b61e1118"
      }
     },
     "c6c38d09747f4d2ea8122be4ef834104": {
      "model_module": "@jupyter-widgets/controls",
      "model_module_version": "1.1.0",
      "model_name": "ButtonModel",
      "state": {
       "button_style": "warning",
       "description": "13",
       "layout": "IPY_MODEL_86c93170059349499a5f76156cbd8cdf",
       "style": "IPY_MODEL_b9700717fb8e4284b0be3cbd7eee7a10"
      }
     },
     "c78b674e994944b38b6cfee7c5b5dbab": {
      "model_module": "@jupyter-widgets/controls",
      "model_module_version": "1.1.0",
      "model_name": "ButtonStyleModel",
      "state": {}
     },
     "c791d806ade34bcf82e5cecf6678e001": {
      "model_module": "@jupyter-widgets/controls",
      "model_module_version": "1.1.0",
      "model_name": "ButtonModel",
      "state": {
       "button_style": "warning",
       "description": "39",
       "layout": "IPY_MODEL_fd517e8255c04a5e8c946d6b492d3086",
       "style": "IPY_MODEL_991cb1b30cbd4c828e7ce720bbfcbd83"
      }
     },
     "c7c17c3f33f44a2b858c24eb5018638a": {
      "model_module": "@jupyter-widgets/base",
      "model_module_version": "1.0.0",
      "model_name": "LayoutModel",
      "state": {
       "flex": "3 1 auto",
       "width": "auto"
      }
     },
     "c8922cf8a65547c4bfe7f6434de8bfe3": {
      "model_module": "@jupyter-widgets/controls",
      "model_module_version": "1.1.0",
      "model_name": "ButtonStyleModel",
      "state": {}
     },
     "c90fff818a4e4fc5afcb755283f9cc3f": {
      "model_module": "@jupyter-widgets/controls",
      "model_module_version": "1.1.0",
      "model_name": "VBoxModel",
      "state": {
       "children": [
        "IPY_MODEL_d7713dfd623044c282aa736d4070b484",
        "IPY_MODEL_aa9c35b83a16433db5115e4ec75484f6"
       ],
       "layout": "IPY_MODEL_828fb7ca484c42239f0281a9dbacd900"
      }
     },
     "c91805d8985d4c6f93dcfbb47105d5ec": {
      "model_module": "@jupyter-widgets/controls",
      "model_module_version": "1.1.0",
      "model_name": "BoxModel",
      "state": {
       "children": [
        "IPY_MODEL_ae45f316355a44919cb232c7eb239fd7",
        "IPY_MODEL_794a7d1595f34b6db1c0860b2942ec84",
        "IPY_MODEL_698089f28ae74a5081fce2970e2f6d55"
       ],
       "layout": "IPY_MODEL_facbc5178b5f44fe86a4dbf00457958e"
      }
     },
     "c9b52da5c53a4b69ba7d1f2804145b2e": {
      "model_module": "@jupyter-widgets/controls",
      "model_module_version": "1.1.0",
      "model_name": "ButtonStyleModel",
      "state": {}
     },
     "c9c4529430d14f65ab9f9912f6ebb981": {
      "model_module": "@jupyter-widgets/base",
      "model_module_version": "1.0.0",
      "model_name": "LayoutModel",
      "state": {}
     },
     "c9d16cbcd2d64faba22d93accda2ae23": {
      "model_module": "@jupyter-widgets/controls",
      "model_module_version": "1.1.0",
      "model_name": "ButtonStyleModel",
      "state": {}
     },
     "c9d22b2eba57433c86ea62d5df52967a": {
      "model_module": "@jupyter-widgets/controls",
      "model_module_version": "1.1.0",
      "model_name": "ButtonModel",
      "state": {
       "button_style": "danger",
       "description": "weight=1, _0%",
       "layout": "IPY_MODEL_015b4651f4404b6eaee18bdc71fee564",
       "style": "IPY_MODEL_bffd0f67d2d749a7894780f062e8f30e"
      }
     },
     "c9e2344df6094fda820bb2f8082c68da": {
      "model_module": "@jupyter-widgets/controls",
      "model_module_version": "1.1.0",
      "model_name": "ButtonStyleModel",
      "state": {}
     },
     "ca0a8455150d4356a58f826c2b0523b5": {
      "model_module": "@jupyter-widgets/controls",
      "model_module_version": "1.1.0",
      "model_name": "ButtonStyleModel",
      "state": {}
     },
     "ca7985d3abca46adb4fef796e2fe7220": {
      "model_module": "@jupyter-widgets/controls",
      "model_module_version": "1.1.0",
      "model_name": "SliderStyleModel",
      "state": {
       "description_width": ""
      }
     },
     "ca92f0484d344d6ba3218c67701c69e6": {
      "model_module": "@jupyter-widgets/controls",
      "model_module_version": "1.1.0",
      "model_name": "ButtonStyleModel",
      "state": {}
     },
     "ca9a8952cc79427a939b108c7652c7e0": {
      "model_module": "@jupyter-widgets/controls",
      "model_module_version": "1.1.0",
      "model_name": "ButtonModel",
      "state": {
       "description": "Custom color",
       "layout": "IPY_MODEL_63b587dadfcd4ba8b37be6b23b3764a5",
       "style": "IPY_MODEL_578737f76d53421083c1516351b21aa8"
      }
     },
     "cbc247354f254ffebce340fb09e767d6": {
      "model_module": "@jupyter-widgets/controls",
      "model_module_version": "1.1.0",
      "model_name": "ButtonStyleModel",
      "state": {}
     },
     "cc39d4e7a32044d59a1c3975bb34b196": {
      "model_module": "@jupyter-widgets/controls",
      "model_module_version": "1.1.0",
      "model_name": "BoxModel",
      "state": {
       "children": [
        "IPY_MODEL_efaeb1522f6f4d09ac5b18108e38e438",
        "IPY_MODEL_10efb154252045eab676fc357f71490a"
       ],
       "layout": "IPY_MODEL_9cec86147f73446a81e86fe6e7ee1f15"
      }
     },
     "cc7885ab4f914e6f9efcda258c920e68": {
      "model_module": "@jupyter-widgets/controls",
      "model_module_version": "1.1.0",
      "model_name": "VBoxModel",
      "state": {
       "children": [
        "IPY_MODEL_ccf52a21bcf8432e957e30b7b02f2b6d",
        "IPY_MODEL_a6257932203847dfa259b9b096a7170b"
       ],
       "layout": "IPY_MODEL_013b0126d2604091a4ce991f50a5997a"
      }
     },
     "cc9698b62e144b8ba9eee377a2df5702": {
      "model_module": "@jupyter-widgets/controls",
      "model_module_version": "1.1.0",
      "model_name": "ButtonStyleModel",
      "state": {}
     },
     "cce3125aeb7c4e7baac6d9049d70373d": {
      "model_module": "@jupyter-widgets/controls",
      "model_module_version": "1.1.0",
      "model_name": "ButtonModel",
      "state": {
       "button_style": "warning",
       "description": "1",
       "layout": "IPY_MODEL_0bed125e73a54bc88289042ff2c91375",
       "style": "IPY_MODEL_5ff63c0e7e2a40a8b5130396adc2c0a7"
      }
     },
     "ccf52a21bcf8432e957e30b7b02f2b6d": {
      "model_module": "@jupyter-widgets/controls",
      "model_module_version": "1.1.0",
      "model_name": "BoxModel",
      "state": {
       "children": [
        "IPY_MODEL_544e7279c5374ba698672ab68dabdd29",
        "IPY_MODEL_e9906f216f904d4e8d48c2388c482f44",
        "IPY_MODEL_f942cdd061684c66bd02f9fabc8baa5e"
       ],
       "layout": "IPY_MODEL_edd06f2abe524ca8b4a4202af08c5b06"
      }
     },
     "cd758f48d82e436a8849c3bb3a0197d4": {
      "model_module": "@jupyter-widgets/controls",
      "model_module_version": "1.1.0",
      "model_name": "ButtonStyleModel",
      "state": {}
     },
     "cdd6af3e1de24e6594d67e4ef22df208": {
      "model_module": "@jupyter-widgets/controls",
      "model_module_version": "1.1.0",
      "model_name": "ButtonStyleModel",
      "state": {}
     },
     "ce8478405f8345668bbeacd6deae0224": {
      "model_module": "@jupyter-widgets/controls",
      "model_module_version": "1.1.0",
      "model_name": "ButtonStyleModel",
      "state": {}
     },
     "ceaa447197444fd1a73b8c1a856c9cf8": {
      "model_module": "@jupyter-widgets/controls",
      "model_module_version": "1.1.0",
      "model_name": "LabelModel",
      "state": {
       "layout": "IPY_MODEL_7b961fbd62ad4409baa32a8f7d7d397f",
       "style": "IPY_MODEL_1e0ffccdcfea44e1a0993267c91d9cc9",
       "value": "Age of the captain"
      }
     },
     "ceba4e6eca094a9ab0eb34ce9d501e74": {
      "model_module": "@jupyter-widgets/base",
      "model_module_version": "1.0.0",
      "model_name": "LayoutModel",
      "state": {}
     },
     "cf23baa6337542c596e1431a7ae171c9": {
      "model_module": "@jupyter-widgets/controls",
      "model_module_version": "1.1.0",
      "model_name": "ButtonStyleModel",
      "state": {}
     },
     "cf3fc9cb4c7e4b3894a443db000b18fd": {
      "model_module": "@jupyter-widgets/controls",
      "model_module_version": "1.1.0",
      "model_name": "ButtonModel",
      "state": {
       "button_style": "danger",
       "description": "weight=1, auto",
       "layout": "IPY_MODEL_41dbb613cefd418fb20a17ebddf9db0e",
       "style": "IPY_MODEL_f9766256bcdb409884c244af05c8018e"
      }
     },
     "cf74635dc7cd4c6185c27f1161e9c271": {
      "model_module": "@jupyter-widgets/base",
      "model_module_version": "1.0.0",
      "model_name": "LayoutModel",
      "state": {
       "flex": "1 1 auto",
       "width": "auto"
      }
     },
     "cf7e60e945d541a19034ef72ad64f9bf": {
      "model_module": "@jupyter-widgets/controls",
      "model_module_version": "1.1.0",
      "model_name": "DescriptionStyleModel",
      "state": {
       "description_width": ""
      }
     },
     "cfacba1c3ea8454d830ffbd443920d1f": {
      "model_module": "@jupyter-widgets/controls",
      "model_module_version": "1.1.0",
      "model_name": "VBoxModel",
      "state": {
       "children": [
        "IPY_MODEL_39c79500c9c64f5fbfe7a908c3d1a05a",
        "IPY_MODEL_361cf5f5d5b249ecab67772a92357b70"
       ],
       "layout": "IPY_MODEL_95ec9c10e0624c809e27a9ec131a60d9"
      }
     },
     "cfc4e575bdaf4c8a9b85e1ef2eff6bd2": {
      "model_module": "@jupyter-widgets/controls",
      "model_module_version": "1.1.0",
      "model_name": "LabelModel",
      "state": {
       "layout": "IPY_MODEL_5ed9df4210aa49a0910430556b8af791",
       "style": "IPY_MODEL_42c5b4a9bec94fb5bbd57ce69e7c59f8",
       "value": "Scroll horizontally:"
      }
     },
     "d04f10db99314a9dbef7a8ee63f571d4": {
      "model_module": "@jupyter-widgets/controls",
      "model_module_version": "1.1.0",
      "model_name": "ButtonModel",
      "state": {
       "description": "weight=1",
       "layout": "IPY_MODEL_ae159805978e415196aeaac10d67ae27",
       "style": "IPY_MODEL_064bcdedc66840d69c61ad3a0d23e585"
      }
     },
     "d09997804b194ea59d198fbc60029120": {
      "model_module": "@jupyter-widgets/controls",
      "model_module_version": "1.1.0",
      "model_name": "ButtonModel",
      "state": {
       "button_style": "warning",
       "description": "37",
       "layout": "IPY_MODEL_0bed125e73a54bc88289042ff2c91375",
       "style": "IPY_MODEL_c4016ba0532c4ca9aaa8edcde6c088a6"
      }
     },
     "d0d7eb7339f6453489751bb59b9432e9": {
      "model_module": "@jupyter-widgets/controls",
      "model_module_version": "1.1.0",
      "model_name": "ButtonModel",
      "state": {
       "button_style": "danger",
       "description": "weight=1, . 0%",
       "layout": "IPY_MODEL_0f8fce6f014b4771a02f3f1fda56ca44",
       "style": "IPY_MODEL_046a0b4ece8248e1b3b710bdf6a7b3ea"
      }
     },
     "d104e2051ab14af395fc11a138b78789": {
      "model_module": "@jupyter-widgets/controls",
      "model_module_version": "1.1.0",
      "model_name": "LabelModel",
      "state": {
       "layout": "IPY_MODEL_28511392cb774ca9be0508dc9f01d8e4",
       "style": "IPY_MODEL_6c3400e4f92e462fa5c59878807ad414",
       "value": "A too long description"
      }
     },
     "d12b30dcb53349a89d582030dc000153": {
      "model_module": "@jupyter-widgets/controls",
      "model_module_version": "1.1.0",
      "model_name": "ButtonModel",
      "state": {
       "button_style": "warning",
       "description": "4",
       "layout": "IPY_MODEL_0bed125e73a54bc88289042ff2c91375",
       "style": "IPY_MODEL_25f92d56adbf4b87a196c221a0b31dcd"
      }
     },
     "d1b248349a094fc69fe1702abbf77cf9": {
      "model_module": "@jupyter-widgets/controls",
      "model_module_version": "1.1.0",
      "model_name": "ButtonModel",
      "state": {
       "button_style": "warning",
       "description": "32",
       "layout": "IPY_MODEL_fd517e8255c04a5e8c946d6b492d3086",
       "style": "IPY_MODEL_6aecdf799a0541e6b83da844a34eba59"
      }
     },
     "d1caf30a05df471ea5c5712e8ab9bb3c": {
      "model_module": "@jupyter-widgets/controls",
      "model_module_version": "1.1.0",
      "model_name": "ButtonModel",
      "state": {
       "description": "horse",
       "layout": "IPY_MODEL_618bd2954e244dfb94856fe027b0f97b",
       "style": "IPY_MODEL_53b69338854040b390ca8845efe52a3e"
      }
     },
     "d21bea193ef54c6296816838bda5c801": {
      "model_module": "@jupyter-widgets/controls",
      "model_module_version": "1.1.0",
      "model_name": "ButtonStyleModel",
      "state": {}
     },
     "d26f1cbde67e481093c429f87afe727b": {
      "model_module": "@jupyter-widgets/controls",
      "model_module_version": "1.1.0",
      "model_name": "ButtonModel",
      "state": {
       "button_style": "warning",
       "description": "36",
       "layout": "IPY_MODEL_0bed125e73a54bc88289042ff2c91375",
       "style": "IPY_MODEL_189d91e31b8f432a95dd0a271a86dfa4"
      }
     },
     "d29a994b75384e4089b5483a37c5c550": {
      "model_module": "@jupyter-widgets/controls",
      "model_module_version": "1.1.0",
      "model_name": "ButtonStyleModel",
      "state": {}
     },
     "d33df8152aff4551a068fcbf4de708c5": {
      "model_module": "@jupyter-widgets/controls",
      "model_module_version": "1.1.0",
      "model_name": "ButtonStyleModel",
      "state": {}
     },
     "d3401142114745649eefd014e276271f": {
      "model_module": "@jupyter-widgets/controls",
      "model_module_version": "1.1.0",
      "model_name": "ButtonStyleModel",
      "state": {}
     },
     "d434bcdfbf6d4157851b3d80bb01d406": {
      "model_module": "@jupyter-widgets/controls",
      "model_module_version": "1.1.0",
      "model_name": "LabelModel",
      "state": {
       "layout": "IPY_MODEL_aa9a932aeb8a4477af6312ee5226dddc",
       "style": "IPY_MODEL_cf7e60e945d541a19034ef72ad64f9bf",
       "value": "Egg style"
      }
     },
     "d4856b57b2de43a2b2ec2f432878afb3": {
      "model_module": "@jupyter-widgets/controls",
      "model_module_version": "1.1.0",
      "model_name": "ButtonModel",
      "state": {
       "button_style": "danger",
       "description": "weight=1, auto",
       "layout": "IPY_MODEL_209999af6f1d4967808b17983cee11c7",
       "style": "IPY_MODEL_ea8a3fdbae99481db2f0652d67d034d2"
      }
     },
     "d508453fdbc741d3a95cd1c76097b534": {
      "model_module": "@jupyter-widgets/controls",
      "model_module_version": "1.1.0",
      "model_name": "ButtonModel",
      "state": {
       "button_style": "danger",
       "description": "staple",
       "layout": "IPY_MODEL_bcd253e9de8744b5aa2d301120481c38",
       "style": "IPY_MODEL_c78b674e994944b38b6cfee7c5b5dbab"
      }
     },
     "d543695161954a9ba3ccf10077fe25dc": {
      "model_module": "@jupyter-widgets/controls",
      "model_module_version": "1.1.0",
      "model_name": "SliderStyleModel",
      "state": {
       "description_width": ""
      }
     },
     "d58b3e7ef49f45f7a78c50c7fd130bbe": {
      "model_module": "@jupyter-widgets/controls",
      "model_module_version": "1.1.0",
      "model_name": "ButtonStyleModel",
      "state": {}
     },
     "d5bd8eeb8cdf420db66f315407a4cb48": {
      "model_module": "@jupyter-widgets/controls",
      "model_module_version": "1.1.0",
      "model_name": "LabelModel",
      "state": {
       "layout": "IPY_MODEL_b7614f404c9043ac9027c1458f0d4e66",
       "style": "IPY_MODEL_a52cbea163904e819839f3634defeb5f",
       "value": "\\(e=mc^2\\)"
      }
     },
     "d60f94d4c3744344b3a2c95c55b386ae": {
      "model_module": "@jupyter-widgets/controls",
      "model_module_version": "1.1.0",
      "model_name": "ButtonModel",
      "state": {
       "button_style": "warning",
       "description": "39",
       "layout": "IPY_MODEL_86c93170059349499a5f76156cbd8cdf",
       "style": "IPY_MODEL_266efae4a6144a01a622001aad39c189"
      }
     },
     "d66fd38c6a0149a98cd3361ae379bbf0": {
      "model_module": "@jupyter-widgets/base",
      "model_module_version": "1.0.0",
      "model_name": "LayoutModel",
      "state": {
       "height": "80px",
       "width": "50%"
      }
     },
     "d6cfa902402c4241a698ed4b8771fb74": {
      "model_module": "@jupyter-widgets/controls",
      "model_module_version": "1.1.0",
      "model_name": "ButtonStyleModel",
      "state": {}
     },
     "d6ef7a1fdb7546fab1f9418c45ec1fee": {
      "model_module": "@jupyter-widgets/controls",
      "model_module_version": "1.1.0",
      "model_name": "ButtonStyleModel",
      "state": {}
     },
     "d7501ec0387b4fe684398d4939a66396": {
      "model_module": "@jupyter-widgets/controls",
      "model_module_version": "1.1.0",
      "model_name": "ButtonModel",
      "state": {
       "button_style": "warning",
       "description": "27",
       "layout": "IPY_MODEL_0bed125e73a54bc88289042ff2c91375",
       "style": "IPY_MODEL_6e9b275836ba455ab483ba1991df794b"
      }
     },
     "d7713dfd623044c282aa736d4070b484": {
      "model_module": "@jupyter-widgets/controls",
      "model_module_version": "1.1.0",
      "model_name": "BoxModel",
      "state": {
       "children": [
        "IPY_MODEL_27f2a0e93f2647f39243c862fe9c7509",
        "IPY_MODEL_21a29e5e8d02451a8f1b97922b0c1368",
        "IPY_MODEL_cf3fc9cb4c7e4b3894a443db000b18fd"
       ],
       "layout": "IPY_MODEL_90b46823461a432fbed30c7f3b997658"
      }
     },
     "d7d7f989f8b14073b38926ad47009c5a": {
      "model_module": "@jupyter-widgets/controls",
      "model_module_version": "1.1.0",
      "model_name": "LabelModel",
      "state": {
       "layout": "IPY_MODEL_2f65966be1d2480fa60e34fc61858b2f",
       "style": "IPY_MODEL_4263b6f63d1948dc8a4d6ac8de41a03d",
       "value": "A too long description"
      }
     },
     "d7eb666a179345d9851ca443fc25a81d": {
      "model_module": "@jupyter-widgets/controls",
      "model_module_version": "1.1.0",
      "model_name": "ButtonStyleModel",
      "state": {}
     },
     "d802089e555043f3bd77f0a4ecf5e2c7": {
      "model_module": "@jupyter-widgets/controls",
      "model_module_version": "1.1.0",
      "model_name": "ButtonModel",
      "state": {
       "button_style": "warning",
       "description": "13",
       "layout": "IPY_MODEL_fd517e8255c04a5e8c946d6b492d3086",
       "style": "IPY_MODEL_95fd6967319c4e598bee28030f64ac6b"
      }
     },
     "d87741c2d4ee455d8360e382ae57ee64": {
      "model_module": "@jupyter-widgets/base",
      "model_module_version": "1.0.0",
      "model_name": "LayoutModel",
      "state": {}
     },
     "d8fe3ef1a6a8463bae6d38c429f5ed42": {
      "model_module": "@jupyter-widgets/base",
      "model_module_version": "1.0.0",
      "model_name": "LayoutModel",
      "state": {}
     },
     "d91c8aa2087c407c9420a48799c73247": {
      "model_module": "@jupyter-widgets/controls",
      "model_module_version": "1.1.0",
      "model_name": "ButtonStyleModel",
      "state": {}
     },
     "d92aeefa1a0f4b198a849e0b6e2439d5": {
      "model_module": "@jupyter-widgets/controls",
      "model_module_version": "1.1.0",
      "model_name": "ButtonModel",
      "state": {
       "button_style": "warning",
       "description": "37",
       "layout": "IPY_MODEL_86c93170059349499a5f76156cbd8cdf",
       "style": "IPY_MODEL_287006c856694fb096d94ecf36da90a9"
      }
     },
     "d9c076ba47384cd99565a100c8615174": {
      "model_module": "@jupyter-widgets/controls",
      "model_module_version": "1.1.0",
      "model_name": "ButtonStyleModel",
      "state": {}
     },
     "da0ddb4c28134cdd8f63961f6aa61210": {
      "model_module": "@jupyter-widgets/controls",
      "model_module_version": "1.1.0",
      "model_name": "ButtonModel",
      "state": {
       "button_style": "danger",
       "description": "weight=1, . 0%",
       "layout": "IPY_MODEL_db02afa0065649a5a0c33583e95d0340",
       "style": "IPY_MODEL_0dabf4f326cd45b387ea53df67ecf9ff"
      }
     },
     "da3eac9248c94e98a816fc458bff117b": {
      "model_module": "@jupyter-widgets/base",
      "model_module_version": "1.0.0",
      "model_name": "LayoutModel",
      "state": {}
     },
     "da835d851c2948b2acda865fc3a2afa6": {
      "model_module": "@jupyter-widgets/controls",
      "model_module_version": "1.1.0",
      "model_name": "ButtonStyleModel",
      "state": {}
     },
     "da9f7669d14a443ea9e0cd3f29623e65": {
      "model_module": "@jupyter-widgets/controls",
      "model_module_version": "1.1.0",
      "model_name": "ButtonModel",
      "state": {
       "button_style": "danger",
       "description": "weight=1, auto",
       "layout": "IPY_MODEL_0e33752dac53455da281e2af86893b03",
       "style": "IPY_MODEL_1863d6da57324a43bd1669e03a0af7d7"
      }
     },
     "db02afa0065649a5a0c33583e95d0340": {
      "model_module": "@jupyter-widgets/base",
      "model_module_version": "1.0.0",
      "model_name": "LayoutModel",
      "state": {
       "flex": "1 1 0%",
       "width": "auto"
      }
     },
     "db113de302124b64936465823e38c6f2": {
      "model_module": "@jupyter-widgets/base",
      "model_module_version": "1.0.0",
      "model_name": "LayoutModel",
      "state": {}
     },
     "dbdb962f8323472ca7bfa9e3d897dd19": {
      "model_module": "@jupyter-widgets/controls",
      "model_module_version": "1.1.0",
      "model_name": "ButtonModel",
      "state": {
       "button_style": "danger",
       "description": "weight=1, auto",
       "layout": "IPY_MODEL_88397fd976084419a314462819175611",
       "style": "IPY_MODEL_e696107466484b5d865ffa7cb9524d48"
      }
     },
     "dcda4cb1848441aca9b4bbfd8f0414f3": {
      "model_module": "@jupyter-widgets/controls",
      "model_module_version": "1.1.0",
      "model_name": "ButtonStyleModel",
      "state": {}
     },
     "dce360f484374cf796746559b9fcd0d9": {
      "model_module": "@jupyter-widgets/controls",
      "model_module_version": "1.1.0",
      "model_name": "ButtonStyleModel",
      "state": {}
     },
     "dd37173b5c674f3782a246cab24c85b4": {
      "model_module": "@jupyter-widgets/controls",
      "model_module_version": "1.1.0",
      "model_name": "ButtonModel",
      "state": {
       "button_style": "warning",
       "description": "35",
       "layout": "IPY_MODEL_86c93170059349499a5f76156cbd8cdf",
       "style": "IPY_MODEL_6d06309ef84242af8feab43b84d41494"
      }
     },
     "dd769854419b405da4916e80cf692698": {
      "model_module": "@jupyter-widgets/controls",
      "model_module_version": "1.1.0",
      "model_name": "ButtonStyleModel",
      "state": {}
     },
     "dd9c011aec164099bc9cc78a06751743": {
      "model_module": "@jupyter-widgets/controls",
      "model_module_version": "1.1.0",
      "model_name": "ButtonModel",
      "state": {
       "button_style": "warning",
       "description": "13",
       "layout": "IPY_MODEL_0bed125e73a54bc88289042ff2c91375",
       "style": "IPY_MODEL_0fecc7f087534f0684035c9d69d033a9"
      }
     },
     "ddc86795151e40c79aa787eb69e17562": {
      "model_module": "@jupyter-widgets/controls",
      "model_module_version": "1.1.0",
      "model_name": "DescriptionStyleModel",
      "state": {
       "description_width": ""
      }
     },
     "de2208827b4f48c68915e881ca794115": {
      "model_module": "@jupyter-widgets/controls",
      "model_module_version": "1.1.0",
      "model_name": "ButtonStyleModel",
      "state": {
       "button_color": "lightgreen"
      }
     },
     "decf2525ea644818b78c381e3472b5a5": {
      "model_module": "@jupyter-widgets/base",
      "model_module_version": "1.0.0",
      "model_name": "LayoutModel",
      "state": {}
     },
     "e080244dd9f74b548cc3d910ac8391c9": {
      "model_module": "@jupyter-widgets/base",
      "model_module_version": "1.0.0",
      "model_name": "LayoutModel",
      "state": {}
     },
     "e0e610b5ae0546c7a8da1a4c7047c94c": {
      "model_module": "@jupyter-widgets/controls",
      "model_module_version": "1.1.0",
      "model_name": "VBoxModel",
      "state": {
       "children": [
        "IPY_MODEL_cfc4e575bdaf4c8a9b85e1ef2eff6bd2",
        "IPY_MODEL_9d9a3b6bdd494789bbd673d633cf04d2"
       ],
       "layout": "IPY_MODEL_068098de804041e281ea697d7ec634bd"
      }
     },
     "e1d03038a4b3423dba4b3573fcccc4d3": {
      "model_module": "@jupyter-widgets/base",
      "model_module_version": "1.0.0",
      "model_name": "LayoutModel",
      "state": {}
     },
     "e1de034706914065a57531932f2348f2": {
      "model_module": "@jupyter-widgets/controls",
      "model_module_version": "1.1.0",
      "model_name": "IntSliderModel",
      "state": {
       "layout": "IPY_MODEL_2177d33a862f49738a1f9b74bdd97b0d",
       "style": "IPY_MODEL_ab545db6dea34696aefe3283c96a507c"
      }
     },
     "e2042921f4964b69a9673c67f2fd43bd": {
      "model_module": "@jupyter-widgets/controls",
      "model_module_version": "1.1.0",
      "model_name": "ButtonModel",
      "state": {
       "button_style": "warning",
       "description": "9",
       "layout": "IPY_MODEL_0bed125e73a54bc88289042ff2c91375",
       "style": "IPY_MODEL_34f1918e583848ebaa4a55ec450d5d05"
      }
     },
     "e20de192866c4b78bc7befec8c8cbb6a": {
      "model_module": "@jupyter-widgets/controls",
      "model_module_version": "1.1.0",
      "model_name": "IntSliderModel",
      "state": {
       "description": "A too long description",
       "layout": "IPY_MODEL_b698e328807e435d9ae45fda6cc1b535",
       "style": "IPY_MODEL_52f8bb66598b4437a43f84857ecaed9d"
      }
     },
     "e2633db0d1fe44459a52d69baa13532b": {
      "model_module": "@jupyter-widgets/base",
      "model_module_version": "1.0.0",
      "model_name": "LayoutModel",
      "state": {}
     },
     "e2733f7b3d5345d3a6edf1eff8f25a4a": {
      "model_module": "@jupyter-widgets/controls",
      "model_module_version": "1.1.0",
      "model_name": "SliderStyleModel",
      "state": {
       "description_width": "initial"
      }
     },
     "e307372fc6ac4166bed01cdef90c226c": {
      "model_module": "@jupyter-widgets/controls",
      "model_module_version": "1.1.0",
      "model_name": "VBoxModel",
      "state": {
       "children": [
        "IPY_MODEL_508ff4a7ef3749a4998251ac85ea84fe",
        "IPY_MODEL_c65d556b1b2845e58e88db3f07fcadb4"
       ],
       "layout": "IPY_MODEL_ea5e01580ef142dca2a39f3edefd5e40"
      }
     },
     "e3f7c091d02642edb4be287ca1ad3b8c": {
      "model_module": "@jupyter-widgets/controls",
      "model_module_version": "1.1.0",
      "model_name": "ButtonStyleModel",
      "state": {}
     },
     "e4b4f16bee534374ac503ddb8cefeb2d": {
      "model_module": "@jupyter-widgets/controls",
      "model_module_version": "1.1.0",
      "model_name": "ButtonModel",
      "state": {
       "button_style": "warning",
       "description": "23",
       "layout": "IPY_MODEL_86c93170059349499a5f76156cbd8cdf",
       "style": "IPY_MODEL_776fa7f8a04742a9a95b7c5ef8e0ba6e"
      }
     },
     "e4f1acc6185842578441f810de49be48": {
      "model_module": "@jupyter-widgets/controls",
      "model_module_version": "1.1.0",
      "model_name": "SliderStyleModel",
      "state": {
       "description_width": "",
       "handle_color": "lightblue"
      }
     },
     "e54ab7bfed0d47d8894bc32d9b5d01f6": {
      "model_module": "@jupyter-widgets/controls",
      "model_module_version": "1.1.0",
      "model_name": "ButtonStyleModel",
      "state": {}
     },
     "e57ce456bf364390858cd99c54e0128f": {
      "model_module": "@jupyter-widgets/controls",
      "model_module_version": "1.1.0",
      "model_name": "ButtonModel",
      "state": {
       "button_style": "danger",
       "description": "weight=1, . 0%",
       "layout": "IPY_MODEL_2dcf0bbf8ec84a799c1594eade6a79d2",
       "style": "IPY_MODEL_01ddfc3332a5498791ce816a12d3c2f1"
      }
     },
     "e5a794c3ac074137b3c996fa4fa25651": {
      "model_module": "@jupyter-widgets/controls",
      "model_module_version": "1.1.0",
      "model_name": "ButtonModel",
      "state": {
       "description": "Another button with the same layout",
       "layout": "IPY_MODEL_53003d44c16c424b9108b5a18475bb40",
       "style": "IPY_MODEL_cc9698b62e144b8ba9eee377a2df5702"
      }
     },
     "e5f200ce6bd8491091113b26aba99ee0": {
      "model_module": "@jupyter-widgets/base",
      "model_module_version": "1.0.0",
      "model_name": "LayoutModel",
      "state": {}
     },
     "e696107466484b5d865ffa7cb9524d48": {
      "model_module": "@jupyter-widgets/controls",
      "model_module_version": "1.1.0",
      "model_name": "ButtonStyleModel",
      "state": {}
     },
     "e77af21d3f76480694434674087d51bf": {
      "model_module": "@jupyter-widgets/controls",
      "model_module_version": "1.1.0",
      "model_name": "ButtonModel",
      "state": {
       "button_style": "warning",
       "description": "12",
       "layout": "IPY_MODEL_86c93170059349499a5f76156cbd8cdf",
       "style": "IPY_MODEL_0495d268740a478fb417a9353429380e"
      }
     },
     "e7c6c536b6074213b2e1c004e3f23180": {
      "model_module": "@jupyter-widgets/controls",
      "model_module_version": "1.1.0",
      "model_name": "ButtonModel",
      "state": {
       "button_style": "danger",
       "description": "weight=1, _0%",
       "layout": "IPY_MODEL_c5c957fc5ec24ba4bf38c07957109df5",
       "style": "IPY_MODEL_b81d9ead1d2d4698a48304b76527797f"
      }
     },
     "e821a8a45030457e8df6a4f601104dbf": {
      "model_module": "@jupyter-widgets/base",
      "model_module_version": "1.0.0",
      "model_name": "LayoutModel",
      "state": {}
     },
     "e87e6f77fb0b4cce9f6dd7e55356a539": {
      "model_module": "@jupyter-widgets/base",
      "model_module_version": "1.0.0",
      "model_name": "LayoutModel",
      "state": {}
     },
     "e89bc43ccf51497195b57c876a185791": {
      "model_module": "@jupyter-widgets/base",
      "model_module_version": "1.0.0",
      "model_name": "LayoutModel",
      "state": {}
     },
     "e8d4177b9c4a400f92d8bbfac685938f": {
      "model_module": "@jupyter-widgets/controls",
      "model_module_version": "1.1.0",
      "model_name": "IntSliderModel",
      "state": {
       "layout": "IPY_MODEL_2f6130ec3648437889bafd4a762e7a02",
       "max": 60,
       "min": 40,
       "style": "IPY_MODEL_46f208bac32a43c48abe32c5f7d8d9f6",
       "value": 40
      }
     },
     "e97288a6d58c4c96999ac775891f8048": {
      "model_module": "@jupyter-widgets/controls",
      "model_module_version": "1.1.0",
      "model_name": "ButtonStyleModel",
      "state": {}
     },
     "e9788b114ab94a5fad25a69828e15fcb": {
      "model_module": "@jupyter-widgets/base",
      "model_module_version": "1.0.0",
      "model_name": "LayoutModel",
      "state": {
       "flex": "3 1 auto",
       "width": "auto"
      }
     },
     "e97b5a0afdcd4da5acdea782e5f27e71": {
      "model_module": "@jupyter-widgets/controls",
      "model_module_version": "1.1.0",
      "model_name": "ButtonStyleModel",
      "state": {}
     },
     "e9906f216f904d4e8d48c2388c482f44": {
      "model_module": "@jupyter-widgets/controls",
      "model_module_version": "1.1.0",
      "model_name": "ButtonModel",
      "state": {
       "button_style": "danger",
       "description": "weight=3, auto",
       "layout": "IPY_MODEL_1d6904f1fa024244ad9766e8b4c0aa42",
       "style": "IPY_MODEL_926715e1f9c445c0987f4440e99ee8aa"
      }
     },
     "e9d231286285456f9bcfb5a4141e9113": {
      "model_module": "@jupyter-widgets/controls",
      "model_module_version": "1.1.0",
      "model_name": "ButtonModel",
      "state": {
       "button_style": "danger",
       "description": "weight=1, _0%",
       "layout": "IPY_MODEL_47265459bee64e5c9279549d290a693e",
       "style": "IPY_MODEL_fc1a9974cbc9482491deacdc84cbd430"
      }
     },
     "e9fc15c97c8e4990ad45d0265fc2eb43": {
      "model_module": "@jupyter-widgets/controls",
      "model_module_version": "1.1.0",
      "model_name": "ButtonModel",
      "state": {
       "button_style": "danger",
       "description": "weight=3, . 0%",
       "layout": "IPY_MODEL_7bed1122df2d4d3195fe0d579cc1d1a1",
       "style": "IPY_MODEL_eaf297bd04bb45fd9e86c76c2cbe489f"
      }
     },
     "ea2eaa55a4d742f9960db77ebd815689": {
      "model_module": "@jupyter-widgets/controls",
      "model_module_version": "1.1.0",
      "model_name": "ButtonStyleModel",
      "state": {}
     },
     "ea5e01580ef142dca2a39f3edefd5e40": {
      "model_module": "@jupyter-widgets/base",
      "model_module_version": "1.0.0",
      "model_name": "LayoutModel",
      "state": {}
     },
     "ea8a3fdbae99481db2f0652d67d034d2": {
      "model_module": "@jupyter-widgets/controls",
      "model_module_version": "1.1.0",
      "model_name": "ButtonStyleModel",
      "state": {}
     },
     "eaca8da71db54f0c8be3d24dd7dd045f": {
      "model_module": "@jupyter-widgets/controls",
      "model_module_version": "1.1.0",
      "model_name": "ButtonStyleModel",
      "state": {}
     },
     "eaf297bd04bb45fd9e86c76c2cbe489f": {
      "model_module": "@jupyter-widgets/controls",
      "model_module_version": "1.1.0",
      "model_name": "ButtonStyleModel",
      "state": {}
     },
     "eb519ea549d74d80a53b7fde8954f646": {
      "model_module": "@jupyter-widgets/controls",
      "model_module_version": "1.1.0",
      "model_name": "ButtonStyleModel",
      "state": {}
     },
     "ebddc045a795434888c3dbe362f361e8": {
      "model_module": "@jupyter-widgets/controls",
      "model_module_version": "1.1.0",
      "model_name": "ButtonStyleModel",
      "state": {}
     },
     "ec0cc9066d5f4031813562496d3c9d9e": {
      "model_module": "@jupyter-widgets/controls",
      "model_module_version": "1.1.0",
      "model_name": "DescriptionStyleModel",
      "state": {
       "description_width": ""
      }
     },
     "ecc89b63925f4a9a8bbd39f1b59a7f67": {
      "model_module": "@jupyter-widgets/base",
      "model_module_version": "1.0.0",
      "model_name": "LayoutModel",
      "state": {
       "flex": "1 1 0%",
       "width": "auto"
      }
     },
     "ecdf7ffaf11047a6be92b924bed2f8d7": {
      "model_module": "@jupyter-widgets/base",
      "model_module_version": "1.0.0",
      "model_name": "LayoutModel",
      "state": {}
     },
     "edaa594a55764d1ab7a277f6bce68a40": {
      "model_module": "@jupyter-widgets/controls",
      "model_module_version": "1.1.0",
      "model_name": "ButtonStyleModel",
      "state": {}
     },
     "edd06f2abe524ca8b4a4202af08c5b06": {
      "model_module": "@jupyter-widgets/base",
      "model_module_version": "1.0.0",
      "model_name": "LayoutModel",
      "state": {
       "align_items": "stretch",
       "display": "flex",
       "flex_flow": "row",
       "width": "70%"
      }
     },
     "ee9ba3f050b54caeb9cace538ea30f70": {
      "model_module": "@jupyter-widgets/base",
      "model_module_version": "1.0.0",
      "model_name": "LayoutModel",
      "state": {
       "flex": "1 1 auto",
       "width": "auto"
      }
     },
     "eec04dbdbada431ea99c6f0aaff474ab": {
      "model_module": "@jupyter-widgets/controls",
      "model_module_version": "1.1.0",
      "model_name": "ButtonStyleModel",
      "state": {}
     },
     "eecad158d11e4ef393ffedbe589193d0": {
      "model_module": "@jupyter-widgets/controls",
      "model_module_version": "1.1.0",
      "model_name": "ButtonStyleModel",
      "state": {}
     },
     "ef4052d5cfd24fa5a6958d42311988d5": {
      "model_module": "@jupyter-widgets/controls",
      "model_module_version": "1.1.0",
      "model_name": "DescriptionStyleModel",
      "state": {
       "description_width": ""
      }
     },
     "efaeb1522f6f4d09ac5b18108e38e438": {
      "model_module": "@jupyter-widgets/controls",
      "model_module_version": "1.1.0",
      "model_name": "LabelModel",
      "state": {
       "layout": "IPY_MODEL_5485f6a5b84d4fbf9425c19995c82f97",
       "style": "IPY_MODEL_b04a460354e144d390998777d793d347",
       "value": "Age of the captain"
      }
     },
     "efce83d9a0de486fa37fc3a283b7620b": {
      "model_module": "@jupyter-widgets/controls",
      "model_module_version": "1.1.0",
      "model_name": "ButtonStyleModel",
      "state": {}
     },
     "f05b3be5103c47f0858bc4d935dcd559": {
      "model_module": "@jupyter-widgets/controls",
      "model_module_version": "1.1.0",
      "model_name": "BoxModel",
      "state": {
       "children": [
        "IPY_MODEL_7a9b70351e244c1da4cad458938c1b7d",
        "IPY_MODEL_b4e8cfb55a6646869b92f2f19cd340f6",
        "IPY_MODEL_c31104ed4f924f37bac6c988e1e6a60f"
       ],
       "layout": "IPY_MODEL_184cff29bebe4b699e0054c798e7cd00"
      }
     },
     "f068d4e0d2ff4022897b8009048cbe7b": {
      "model_module": "@jupyter-widgets/controls",
      "model_module_version": "1.1.0",
      "model_name": "BoxModel",
      "state": {
       "children": [
        "IPY_MODEL_fde2fd4a808847ffb9501ab1c9893e8a",
        "IPY_MODEL_8dfe519c959241f797b47a2dd52a5daa",
        "IPY_MODEL_722c967a87304adb931d320f03ae1dd6",
        "IPY_MODEL_7fd6bf7ecd064c8a9369691a25a04140"
       ],
       "layout": "IPY_MODEL_01488e2efec84e5898e782c31007d015"
      }
     },
     "f0e6a02afaf840a7a012c04105be9c68": {
      "model_module": "@jupyter-widgets/controls",
      "model_module_version": "1.1.0",
      "model_name": "ButtonModel",
      "state": {
       "button_style": "warning",
       "description": "27",
       "layout": "IPY_MODEL_fd517e8255c04a5e8c946d6b492d3086",
       "style": "IPY_MODEL_405d3b5b20894d78b9291a57bbfb90d0"
      }
     },
     "f10b39fd0af24c97a96b6f33b6207c35": {
      "model_module": "@jupyter-widgets/controls",
      "model_module_version": "1.1.0",
      "model_name": "ButtonModel",
      "state": {
       "button_style": "danger",
       "description": "weight=3,   0%",
       "layout": "IPY_MODEL_967aba77b8cb4e5f94be6d72805eb82e",
       "style": "IPY_MODEL_376612e7ff904a688647c0abb83bd071"
      }
     },
     "f13c4b480bb347f9956b1c61e3dead0c": {
      "model_module": "@jupyter-widgets/controls",
      "model_module_version": "1.1.0",
      "model_name": "ButtonModel",
      "state": {
       "layout": "IPY_MODEL_e821a8a45030457e8df6a4f601104dbf",
       "style": "IPY_MODEL_ad10eaf9d6104f03b40a5bc4b3906b5c"
      }
     },
     "f16528c6763648969048b081e6512640": {
      "model_module": "@jupyter-widgets/controls",
      "model_module_version": "1.1.0",
      "model_name": "ButtonStyleModel",
      "state": {}
     },
     "f17377771f7049e190a14b5c5eceb10d": {
      "model_module": "@jupyter-widgets/controls",
      "model_module_version": "1.1.0",
      "model_name": "ButtonStyleModel",
      "state": {}
     },
     "f1ea935c68574f75a7be4e1548c1065e": {
      "model_module": "@jupyter-widgets/controls",
      "model_module_version": "1.1.0",
      "model_name": "DescriptionStyleModel",
      "state": {
       "description_width": ""
      }
     },
     "f2e7ca24b4dc40a8b734105f38943213": {
      "model_module": "@jupyter-widgets/controls",
      "model_module_version": "1.1.0",
      "model_name": "ButtonModel",
      "state": {
       "description": "horse",
       "layout": "IPY_MODEL_0ea13892a47b4c2396ec2bba153d0c11",
       "style": "IPY_MODEL_a3de4a25888949f9b3218296c02b0de5"
      }
     },
     "f3a676438b984f99bc6d451c5e37393f": {
      "model_module": "@jupyter-widgets/controls",
      "model_module_version": "1.1.0",
      "model_name": "ButtonStyleModel",
      "state": {}
     },
     "f40463777fa744ae80222a0a37a81478": {
      "model_module": "@jupyter-widgets/controls",
      "model_module_version": "1.1.0",
      "model_name": "FloatTextModel",
      "state": {
       "layout": "IPY_MODEL_60ca9b3e54f942f9b4ddf0c6dfb111d2",
       "step": null,
       "style": "IPY_MODEL_8f6d1f696c7947e592042e5345526cbb"
      }
     },
     "f4c1aea6619d40958c9834c9171e1e0d": {
      "model_module": "@jupyter-widgets/controls",
      "model_module_version": "1.1.0",
      "model_name": "VBoxModel",
      "state": {
       "children": [
        "IPY_MODEL_55655054b5ec48379b189402df4dad2b",
        "IPY_MODEL_f05b3be5103c47f0858bc4d935dcd559"
       ],
       "layout": "IPY_MODEL_08f619c739dc4cb39aeeb08e2eae90dc"
      }
     },
     "f4ffa455eead491fb0745d9bb79bea51": {
      "model_module": "@jupyter-widgets/controls",
      "model_module_version": "1.1.0",
      "model_name": "ButtonStyleModel",
      "state": {}
     },
     "f58465e66c11469e9e9bdcbca59d02f7": {
      "model_module": "@jupyter-widgets/controls",
      "model_module_version": "1.1.0",
      "model_name": "VBoxModel",
      "state": {
       "children": [
        "IPY_MODEL_996d25940157434387dd30a3e55e3ea9",
        "IPY_MODEL_a24fcfcd5b204c51bbd6396415c90dfe"
       ],
       "layout": "IPY_MODEL_26951065e7a743c6965ae614a8cfcfd3"
      }
     },
     "f6508547e752499c8db0cbae4ab8f75a": {
      "model_module": "@jupyter-widgets/controls",
      "model_module_version": "1.1.0",
      "model_name": "ButtonStyleModel",
      "state": {}
     },
     "f6b22a73eab54778ba9a37b46e874eb0": {
      "model_module": "@jupyter-widgets/base",
      "model_module_version": "1.0.0",
      "model_name": "LayoutModel",
      "state": {
       "flex": "1 1 auto",
       "width": "auto"
      }
     },
     "f79ab8504cca44e297791fef4f73d832": {
      "model_module": "@jupyter-widgets/controls",
      "model_module_version": "1.1.0",
      "model_name": "ButtonModel",
      "state": {
       "button_style": "warning",
       "description": "22",
       "layout": "IPY_MODEL_86c93170059349499a5f76156cbd8cdf",
       "style": "IPY_MODEL_3245b9e93a9e411a950d348a7b1024ca"
      }
     },
     "f79b7ab5630e4514b4b76e9700d1c127": {
      "model_module": "@jupyter-widgets/controls",
      "model_module_version": "1.1.0",
      "model_name": "ButtonStyleModel",
      "state": {}
     },
     "f7d793ad8d5f495ea8f7f1f31bd488b0": {
      "model_module": "@jupyter-widgets/base",
      "model_module_version": "1.0.0",
      "model_name": "LayoutModel",
      "state": {}
     },
     "f7d82a87e6ef42c9af694bde4487b4ce": {
      "model_module": "@jupyter-widgets/controls",
      "model_module_version": "1.1.0",
      "model_name": "ButtonStyleModel",
      "state": {}
     },
     "f91d59d4c2ab46db98b66760f5547af3": {
      "model_module": "@jupyter-widgets/controls",
      "model_module_version": "1.1.0",
      "model_name": "ButtonModel",
      "state": {
       "button_style": "danger",
       "description": "weight=3, auto",
       "layout": "IPY_MODEL_569fa330ac764d58a766617eef52f5a0",
       "style": "IPY_MODEL_43f39dcd411e4101a7da276ebef70d16"
      }
     },
     "f92e38beace94df081e26bd31452964f": {
      "model_module": "@jupyter-widgets/base",
      "model_module_version": "1.0.0",
      "model_name": "LayoutModel",
      "state": {}
     },
     "f942cdd061684c66bd02f9fabc8baa5e": {
      "model_module": "@jupyter-widgets/controls",
      "model_module_version": "1.1.0",
      "model_name": "ButtonModel",
      "state": {
       "button_style": "danger",
       "description": "weight=1, auto",
       "layout": "IPY_MODEL_7c7ddb3e194245e0a0312939ce8c7082",
       "style": "IPY_MODEL_c483d8dfbc46424f8e7a839825a74158"
      }
     },
     "f9766256bcdb409884c244af05c8018e": {
      "model_module": "@jupyter-widgets/controls",
      "model_module_version": "1.1.0",
      "model_name": "ButtonStyleModel",
      "state": {}
     },
     "f9c8eca4d7d94baf851505350a2822c0": {
      "model_module": "@jupyter-widgets/controls",
      "model_module_version": "1.1.0",
      "model_name": "ButtonStyleModel",
      "state": {}
     },
     "f9e253f804314d6386cfe7c91326f02b": {
      "model_module": "@jupyter-widgets/base",
      "model_module_version": "1.0.0",
      "model_name": "LayoutModel",
      "state": {
       "align_items": "stretch",
       "display": "flex",
       "flex_flow": "row",
       "width": "70%"
      }
     },
     "fa1b0d9fc48a4b7ca4bc7dbc8448e96b": {
      "model_module": "@jupyter-widgets/controls",
      "model_module_version": "1.1.0",
      "model_name": "ButtonStyleModel",
      "state": {}
     },
     "fa664e8e6f6042ca8fb0f44882506354": {
      "model_module": "@jupyter-widgets/controls",
      "model_module_version": "1.1.0",
      "model_name": "ButtonModel",
      "state": {
       "description": "correct",
       "layout": "IPY_MODEL_613c48ceeafb47bb84ef052016575068",
       "style": "IPY_MODEL_3cc1b9924d9c4c188ce04e760fb7a38a"
      }
     },
     "facbc5178b5f44fe86a4dbf00457958e": {
      "model_module": "@jupyter-widgets/base",
      "model_module_version": "1.0.0",
      "model_name": "LayoutModel",
      "state": {
       "align_items": "stretch",
       "display": "flex",
       "flex_flow": "row",
       "width": "70%"
      }
     },
     "fb3e8dfb08274a67b776ff3e55a7e7e5": {
      "model_module": "@jupyter-widgets/controls",
      "model_module_version": "1.1.0",
      "model_name": "ButtonModel",
      "state": {
       "button_style": "warning",
       "description": "25",
       "layout": "IPY_MODEL_fd517e8255c04a5e8c946d6b492d3086",
       "style": "IPY_MODEL_aa4057f5580442ebacbcb4bba4737e20"
      }
     },
     "fb53ead72855483e9eb02557567d5fc8": {
      "model_module": "@jupyter-widgets/controls",
      "model_module_version": "1.1.0",
      "model_name": "ButtonModel",
      "state": {
       "button_style": "warning",
       "description": "35",
       "layout": "IPY_MODEL_0bed125e73a54bc88289042ff2c91375",
       "style": "IPY_MODEL_ae2437c0c6d84401ab2419450390d860"
      }
     },
     "fbbefcfa175b467e9130e4af4268071f": {
      "model_module": "@jupyter-widgets/controls",
      "model_module_version": "1.1.0",
      "model_name": "ButtonModel",
      "state": {
       "button_style": "warning",
       "description": "21",
       "layout": "IPY_MODEL_fd517e8255c04a5e8c946d6b492d3086",
       "style": "IPY_MODEL_7803a31b133b4fb19dd4145f1b39efa0"
      }
     },
     "fbeed897775d4f1c8da078fb4bacf36d": {
      "model_module": "@jupyter-widgets/controls",
      "model_module_version": "1.1.0",
      "model_name": "ButtonStyleModel",
      "state": {}
     },
     "fc1a9974cbc9482491deacdc84cbd430": {
      "model_module": "@jupyter-widgets/controls",
      "model_module_version": "1.1.0",
      "model_name": "ButtonStyleModel",
      "state": {}
     },
     "fc77ce3cd6e342e2b28131ff8f6a3d2d": {
      "model_module": "@jupyter-widgets/controls",
      "model_module_version": "1.1.0",
      "model_name": "ButtonStyleModel",
      "state": {}
     },
     "fc8d451cfd5a496dbc816286ae417480": {
      "model_module": "@jupyter-widgets/base",
      "model_module_version": "1.0.0",
      "model_name": "LayoutModel",
      "state": {}
     },
     "fc913b2e21d0436292d9a6db9d8aae88": {
      "model_module": "@jupyter-widgets/controls",
      "model_module_version": "1.1.0",
      "model_name": "ButtonModel",
      "state": {
       "button_style": "danger",
       "description": "weight=1, auto",
       "layout": "IPY_MODEL_f6b22a73eab54778ba9a37b46e874eb0",
       "style": "IPY_MODEL_cf23baa6337542c596e1431a7ae171c9"
      }
     },
     "fccece46bc41473a8a8b1d6915ad515f": {
      "model_module": "@jupyter-widgets/controls",
      "model_module_version": "1.1.0",
      "model_name": "DescriptionStyleModel",
      "state": {
       "description_width": ""
      }
     },
     "fcdab66cf5a94a10a47b67e11f653c07": {
      "model_module": "@jupyter-widgets/controls",
      "model_module_version": "1.1.0",
      "model_name": "ButtonStyleModel",
      "state": {}
     },
     "fd4bdf704ec043ac8fa7c9ceeb8e9d11": {
      "model_module": "@jupyter-widgets/controls",
      "model_module_version": "1.1.0",
      "model_name": "IntSliderModel",
      "state": {
       "description": "\\(\\int_0^t f\\)",
       "layout": "IPY_MODEL_54cc79a2a4824cfe8002ccecfe0295e3",
       "style": "IPY_MODEL_d543695161954a9ba3ccf10077fe25dc"
      }
     },
     "fd517e8255c04a5e8c946d6b492d3086": {
      "model_module": "@jupyter-widgets/base",
      "model_module_version": "1.0.0",
      "model_name": "LayoutModel",
      "state": {
       "height": "100px",
       "min_width": "40px"
      }
     },
     "fde2fd4a808847ffb9501ab1c9893e8a": {
      "model_module": "@jupyter-widgets/controls",
      "model_module_version": "1.1.0",
      "model_name": "BoxModel",
      "state": {
       "children": [
        "IPY_MODEL_ceaa447197444fd1a73b8c1a856c9cf8",
        "IPY_MODEL_e8d4177b9c4a400f92d8bbfac685938f"
       ],
       "layout": "IPY_MODEL_68114fa6666e429d9b8a6beb76973041"
      }
     },
     "fe5df9ccff5d496e914e9074d7640b46": {
      "model_module": "@jupyter-widgets/base",
      "model_module_version": "1.0.0",
      "model_name": "LayoutModel",
      "state": {}
     },
     "fec4dc244ff24a55ba20299721521c6a": {
      "model_module": "@jupyter-widgets/controls",
      "model_module_version": "1.1.0",
      "model_name": "BoxModel",
      "state": {
       "children": [
        "IPY_MODEL_a02596e00c4a47babfc1a777820bed4d",
        "IPY_MODEL_9f934807f1dd4e2ba4431ee90ed0800c",
        "IPY_MODEL_e9d231286285456f9bcfb5a4141e9113"
       ],
       "layout": "IPY_MODEL_9e1da5f90e3f48b4843f989e9ebeb220"
      }
     },
     "ff83abaf008e428cb7ea0ebc26e3b22a": {
      "model_module": "@jupyter-widgets/controls",
      "model_module_version": "1.1.0",
      "model_name": "LabelModel",
      "state": {
       "layout": "IPY_MODEL_3692fd149d7b4b7993f4215dc144b7d4",
       "style": "IPY_MODEL_0e5afcffed4e47e18d97bd2dc561877f",
       "value": "Ship size"
      }
     },
     "fffad169cef94fffab4422787c515e5b": {
      "model_module": "@jupyter-widgets/controls",
      "model_module_version": "1.1.0",
      "model_name": "ButtonModel",
      "state": {
       "button_style": "danger",
       "description": "weight=3, . 0%",
       "layout": "IPY_MODEL_176a617ae6374b4a8ec8878f5c77d687",
       "style": "IPY_MODEL_19e9c1bfab484107a9dc706db4db9fb6"
      }
     }
    },
    "version_major": 2,
    "version_minor": 0
   }
  }
 },
 "nbformat": 4,
 "nbformat_minor": 1
}
