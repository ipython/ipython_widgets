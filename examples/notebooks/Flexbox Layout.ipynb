{
 "cells": [
  {
   "cell_type": "code",
   "execution_count": null,
   "metadata": {
    "collapsed": false
   },
   "outputs": [],
   "source": [
    "from ipywidgets import *"
   ]
  },
  {
   "cell_type": "code",
   "execution_count": null,
   "metadata": {
    "collapsed": false
   },
   "outputs": [],
   "source": [
    "words = (\"Lorem ipsum dolor sit amet, consectetur adipiscing elit, sed \" +\n",
    "         \"do eiusmod tempor incididunt ut labore et dolore magna aliqua.\").split(' ')\n",
    "\n",
    "items = [HTML('''\n",
    "<div style=\"background-color: steelblue; \n",
    "            padding: 5px; \n",
    "            color: white; \n",
    "            font-size: large;\n",
    "            min-height: 22px; \n",
    "            text-align: center;\">\n",
    "%s\n",
    "</div>\n",
    "''' % w) for w in words]"
   ]
  },
  {
   "cell_type": "markdown",
   "metadata": {},
   "source": [
    "# Column Layout\n",
    "## Natural width for items"
   ]
  },
  {
   "cell_type": "code",
   "execution_count": null,
   "metadata": {
    "collapsed": false
   },
   "outputs": [],
   "source": [
    "layout = Layout(display='flex', flex_flow='column')\n",
    "box = Box(children=items, layout=layout)\n",
    "box"
   ]
  },
  {
   "cell_type": "markdown",
   "metadata": {},
   "source": [
    "## Align items"
   ]
  },
  {
   "cell_type": "code",
   "execution_count": null,
   "metadata": {
    "collapsed": true
   },
   "outputs": [],
   "source": [
    "# center\n",
    "box.layout.align_items = 'center'"
   ]
  },
  {
   "cell_type": "code",
   "execution_count": null,
   "metadata": {
    "collapsed": true
   },
   "outputs": [],
   "source": [
    "# flex-end\n",
    "box.layout.align_items = 'flex-end'"
   ]
  },
  {
   "cell_type": "code",
   "execution_count": null,
   "metadata": {
    "collapsed": true
   },
   "outputs": [],
   "source": [
    "# stretch\n",
    "box.layout.align_items = 'stretch'"
   ]
  },
  {
   "cell_type": "code",
   "execution_count": null,
   "metadata": {
    "collapsed": true
   },
   "outputs": [],
   "source": [
    "# back to default flex-start\n",
    "box.layout.align_items = 'flex-start'"
   ]
  },
  {
   "cell_type": "code",
   "execution_count": null,
   "metadata": {
    "collapsed": true
   },
   "outputs": [],
   "source": [
    "# back to stretch with smaller width and border\n",
    "box.layout.border = 'solid 4px'\n",
    "box.layout.width = '400px'\n",
    "box.layout.align_items = 'stretch'"
   ]
  },
  {
   "cell_type": "markdown",
   "metadata": {},
   "source": [
    "# Row Layout\n",
    "## No wrap"
   ]
  },
  {
   "cell_type": "code",
   "execution_count": null,
   "metadata": {
    "collapsed": false
   },
   "outputs": [],
   "source": [
    "layout = Layout(display='flex', flex_flow='row', width='50%', overflow='hidden', border='solid')\n",
    "box = Box(children=items, layout=layout)\n",
    "box"
   ]
  },
  {
   "cell_type": "markdown",
   "metadata": {},
   "source": [
    "## Wrapping"
   ]
  },
  {
   "cell_type": "code",
   "execution_count": null,
   "metadata": {
    "collapsed": true
   },
   "outputs": [],
   "source": [
    "box.layout.flex_flow = 'row wrap'"
   ]
  },
  {
   "cell_type": "markdown",
   "metadata": {},
   "source": [
    "## Flex grow"
   ]
  },
  {
   "cell_type": "code",
   "execution_count": null,
   "metadata": {
    "collapsed": false
   },
   "outputs": [],
   "source": [
    "items = [HTML('''\n",
    "<div style=\"background-color: steelblue; \n",
    "            padding: 5px; \n",
    "            color: white; \n",
    "            font-size: large;\n",
    "            height: 50px; \n",
    "            text-align: center;\">\n",
    "%s\n",
    "</div>\n",
    "''' % w) for w in ['left', 'middle', 'right']]\n",
    "\n",
    "for item in items:\n",
    "    item.layout.flex = '1 1 auto'"
   ]
  },
  {
   "cell_type": "code",
   "execution_count": null,
   "metadata": {
    "collapsed": true
   },
   "outputs": [],
   "source": [
    "layout = Layout(display='flex', flex_flow='row', overflow='hidden')\n",
    "box = Box(children=items, layout=layout)\n",
    "box"
   ]
  },
  {
   "cell_type": "code",
   "execution_count": null,
   "metadata": {
    "collapsed": false
   },
   "outputs": [],
   "source": [
    "items[1].layout.flex = '2 1 auto'"
   ]
  }
 ],
 "metadata": {
  "kernelspec": {
   "display_name": "Python 2",
   "language": "python",
   "name": "python2"
  },
  "language_info": {
   "codemirror_mode": {
    "name": "ipython",
    "version": 2
   },
   "file_extension": ".py",
   "mimetype": "text/x-python",
   "name": "python",
   "nbconvert_exporter": "python",
   "pygments_lexer": "ipython2",
   "version": "2.7.10"
  }
 },
 "nbformat": 4,
 "nbformat_minor": 0
}
